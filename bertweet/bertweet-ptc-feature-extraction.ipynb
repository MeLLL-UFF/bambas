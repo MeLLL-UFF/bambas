{
 "cells": [
  {
   "cell_type": "code",
   "execution_count": 124,
   "id": "a58bb227-54cb-46ee-aa86-b4cc5a016e02",
   "metadata": {},
   "outputs": [],
   "source": [
    "import pandas as pd\n",
    "import numpy as np\n",
    "import torch\n",
    "from transformers import AutoModel, AutoTokenizer\n",
    "from emoji import demojize\n",
    "from nltk.tokenize import TweetTokenizer\n",
    "from sklearn.preprocessing import MultiLabelBinarizer\n",
    "from sklearn.neural_network import MLPClassifier\n",
    "from sklearn.metrics import f1_score, accuracy_score, precision_score, recall_score, multilabel_confusion_matrix"
   ]
  },
  {
   "cell_type": "code",
   "execution_count": 125,
   "id": "4764cf4a-6e5b-4ce0-8c0d-3943a345b2ee",
   "metadata": {},
   "outputs": [
    {
     "data": {
      "text/plain": [
       "'/home/lfmatosmelo/Projetos/bambas/bertweet'"
      ]
     },
     "execution_count": 125,
     "metadata": {},
     "output_type": "execute_result"
    }
   ],
   "source": [
    "%pwd"
   ]
  },
  {
   "cell_type": "code",
   "execution_count": 126,
   "id": "d01777c8-c362-4799-8149-7e147be169fb",
   "metadata": {},
   "outputs": [
    {
     "data": {
      "text/html": [
       "<div>\n",
       "<style scoped>\n",
       "    .dataframe tbody tr th:only-of-type {\n",
       "        vertical-align: middle;\n",
       "    }\n",
       "\n",
       "    .dataframe tbody tr th {\n",
       "        vertical-align: top;\n",
       "    }\n",
       "\n",
       "    .dataframe thead th {\n",
       "        text-align: right;\n",
       "    }\n",
       "</style>\n",
       "<table border=\"1\" class=\"dataframe\">\n",
       "  <thead>\n",
       "    <tr style=\"text-align: right;\">\n",
       "      <th></th>\n",
       "      <th>Unnamed: 0</th>\n",
       "      <th>text</th>\n",
       "      <th>label</th>\n",
       "      <th>category</th>\n",
       "    </tr>\n",
       "  </thead>\n",
       "  <tbody>\n",
       "    <tr>\n",
       "      <th>0</th>\n",
       "      <td>0</td>\n",
       "      <td>Stop Islamization of America.\\t</td>\n",
       "      <td>['Slogans']</td>\n",
       "      <td>Call</td>\n",
       "    </tr>\n",
       "    <tr>\n",
       "      <th>1</th>\n",
       "      <td>1</td>\n",
       "      <td>We condemn all those whose behaviours and view...</td>\n",
       "      <td>['Black-and-White_Fallacy']</td>\n",
       "      <td>NaN</td>\n",
       "    </tr>\n",
       "    <tr>\n",
       "      <th>2</th>\n",
       "      <td>2</td>\n",
       "      <td>Defeat Jihad`</td>\n",
       "      <td>['Slogans']</td>\n",
       "      <td>Call</td>\n",
       "    </tr>\n",
       "    <tr>\n",
       "      <th>3</th>\n",
       "      <td>3</td>\n",
       "      <td>the nation that gave the world the Magna Carta...</td>\n",
       "      <td>['Loaded_Language']</td>\n",
       "      <td>Manipulative_wording</td>\n",
       "    </tr>\n",
       "    <tr>\n",
       "      <th>4</th>\n",
       "      <td>4</td>\n",
       "      <td>The UK should never become a stage for inflamm...</td>\n",
       "      <td>['Flag-Waving']</td>\n",
       "      <td>Justification</td>\n",
       "    </tr>\n",
       "    <tr>\n",
       "      <th>...</th>\n",
       "      <td>...</td>\n",
       "      <td>...</td>\n",
       "      <td>...</td>\n",
       "      <td>...</td>\n",
       "    </tr>\n",
       "    <tr>\n",
       "      <th>4945</th>\n",
       "      <td>4945</td>\n",
       "      <td>sham</td>\n",
       "      <td>['Loaded_Language']</td>\n",
       "      <td>Manipulative_wording</td>\n",
       "    </tr>\n",
       "    <tr>\n",
       "      <th>4946</th>\n",
       "      <td>4946</td>\n",
       "      <td>evidently completely false</td>\n",
       "      <td>['Name_Calling_Labeling']</td>\n",
       "      <td>Attack_on_reputation</td>\n",
       "    </tr>\n",
       "    <tr>\n",
       "      <th>4947</th>\n",
       "      <td>4947</td>\n",
       "      <td>Russian collaborators</td>\n",
       "      <td>['Name_Calling_Labeling']</td>\n",
       "      <td>Attack_on_reputation</td>\n",
       "    </tr>\n",
       "    <tr>\n",
       "      <th>4948</th>\n",
       "      <td>4948</td>\n",
       "      <td>We have previously shown that the Guardian eve...</td>\n",
       "      <td>['Reductio_ad_hitlerum']</td>\n",
       "      <td>NaN</td>\n",
       "    </tr>\n",
       "    <tr>\n",
       "      <th>4949</th>\n",
       "      <td>4949</td>\n",
       "      <td>Unfortunately other 'western' media are not mu...</td>\n",
       "      <td>['Whataboutism']</td>\n",
       "      <td>Distraction</td>\n",
       "    </tr>\n",
       "  </tbody>\n",
       "</table>\n",
       "<p>4950 rows × 4 columns</p>\n",
       "</div>"
      ],
      "text/plain": [
       "      Unnamed: 0                                               text  \\\n",
       "0              0                    Stop Islamization of America.\\t   \n",
       "1              1  We condemn all those whose behaviours and view...   \n",
       "2              2                                      Defeat Jihad`   \n",
       "3              3  the nation that gave the world the Magna Carta...   \n",
       "4              4  The UK should never become a stage for inflamm...   \n",
       "...          ...                                                ...   \n",
       "4945        4945                                               sham   \n",
       "4946        4946                         evidently completely false   \n",
       "4947        4947                              Russian collaborators   \n",
       "4948        4948  We have previously shown that the Guardian eve...   \n",
       "4949        4949  Unfortunately other 'western' media are not mu...   \n",
       "\n",
       "                            label              category  \n",
       "0                     ['Slogans']                  Call  \n",
       "1     ['Black-and-White_Fallacy']                   NaN  \n",
       "2                     ['Slogans']                  Call  \n",
       "3             ['Loaded_Language']  Manipulative_wording  \n",
       "4                 ['Flag-Waving']         Justification  \n",
       "...                           ...                   ...  \n",
       "4945          ['Loaded_Language']  Manipulative_wording  \n",
       "4946    ['Name_Calling_Labeling']  Attack_on_reputation  \n",
       "4947    ['Name_Calling_Labeling']  Attack_on_reputation  \n",
       "4948     ['Reductio_ad_hitlerum']                   NaN  \n",
       "4949             ['Whataboutism']           Distraction  \n",
       "\n",
       "[4950 rows x 4 columns]"
      ]
     },
     "execution_count": 126,
     "metadata": {},
     "output_type": "execute_result"
    }
   ],
   "source": [
    "train = pd.read_csv(\"./dataset/ptc_preproc_train.csv\")\n",
    "test = pd.read_csv(\"./dataset/ptc_preproc_test.csv\")\n",
    "train"
   ]
  },
  {
   "cell_type": "code",
   "execution_count": 127,
   "id": "288a3c24-798e-4e83-a128-a87c4fc65786",
   "metadata": {},
   "outputs": [
    {
     "data": {
      "text/html": [
       "<div>\n",
       "<style scoped>\n",
       "    .dataframe tbody tr th:only-of-type {\n",
       "        vertical-align: middle;\n",
       "    }\n",
       "\n",
       "    .dataframe tbody tr th {\n",
       "        vertical-align: top;\n",
       "    }\n",
       "\n",
       "    .dataframe thead th {\n",
       "        text-align: right;\n",
       "    }\n",
       "</style>\n",
       "<table border=\"1\" class=\"dataframe\">\n",
       "  <thead>\n",
       "    <tr style=\"text-align: right;\">\n",
       "      <th></th>\n",
       "      <th>Unnamed: 0</th>\n",
       "      <th>text</th>\n",
       "      <th>label</th>\n",
       "      <th>category</th>\n",
       "    </tr>\n",
       "  </thead>\n",
       "  <tbody>\n",
       "    <tr>\n",
       "      <th>3348</th>\n",
       "      <td>3348</td>\n",
       "      <td>NaN</td>\n",
       "      <td>['Loaded_Language']</td>\n",
       "      <td>Manipulative_wording</td>\n",
       "    </tr>\n",
       "  </tbody>\n",
       "</table>\n",
       "</div>"
      ],
      "text/plain": [
       "      Unnamed: 0 text                label              category\n",
       "3348        3348  NaN  ['Loaded_Language']  Manipulative_wording"
      ]
     },
     "execution_count": 127,
     "metadata": {},
     "output_type": "execute_result"
    }
   ],
   "source": [
    "train[train[\"text\"].isnull()]"
   ]
  },
  {
   "cell_type": "code",
   "execution_count": 128,
   "id": "98a47927-49e7-4889-8fc0-187259a271f4",
   "metadata": {},
   "outputs": [],
   "source": [
    "train.dropna(subset=[\"text\", \"label\"], inplace=True)"
   ]
  },
  {
   "cell_type": "code",
   "execution_count": 129,
   "id": "8021c34c-5017-4a34-b1a0-4ab95f2b0165",
   "metadata": {},
   "outputs": [
    {
     "data": {
      "text/plain": [
       "485"
      ]
     },
     "execution_count": 129,
     "metadata": {},
     "output_type": "execute_result"
    }
   ],
   "source": [
    "train.duplicated(subset=[\"text\"]).sum()"
   ]
  },
  {
   "cell_type": "code",
   "execution_count": 130,
   "id": "06895062-9367-4c40-a009-7f28797431b8",
   "metadata": {},
   "outputs": [],
   "source": [
    "train.drop_duplicates(subset=[\"text\"], inplace=True)"
   ]
  },
  {
   "cell_type": "code",
   "execution_count": 131,
   "id": "52c0a645-ed66-455c-aff2-b10c1dc79447",
   "metadata": {},
   "outputs": [
    {
     "data": {
      "text/html": [
       "<div>\n",
       "<style scoped>\n",
       "    .dataframe tbody tr th:only-of-type {\n",
       "        vertical-align: middle;\n",
       "    }\n",
       "\n",
       "    .dataframe tbody tr th {\n",
       "        vertical-align: top;\n",
       "    }\n",
       "\n",
       "    .dataframe thead th {\n",
       "        text-align: right;\n",
       "    }\n",
       "</style>\n",
       "<table border=\"1\" class=\"dataframe\">\n",
       "  <thead>\n",
       "    <tr style=\"text-align: right;\">\n",
       "      <th></th>\n",
       "      <th>Unnamed: 0</th>\n",
       "      <th>text</th>\n",
       "      <th>label</th>\n",
       "      <th>category</th>\n",
       "    </tr>\n",
       "  </thead>\n",
       "  <tbody>\n",
       "    <tr>\n",
       "      <th>0</th>\n",
       "      <td>0</td>\n",
       "      <td>The next transmission could be more pronounced...</td>\n",
       "      <td>['Appeal_to_Authority']</td>\n",
       "      <td>Justification</td>\n",
       "    </tr>\n",
       "    <tr>\n",
       "      <th>1</th>\n",
       "      <td>1</td>\n",
       "      <td>when (the plague) comes again it starts from m...</td>\n",
       "      <td>['Appeal_to_Authority']</td>\n",
       "      <td>Justification</td>\n",
       "    </tr>\n",
       "    <tr>\n",
       "      <th>2</th>\n",
       "      <td>2</td>\n",
       "      <td>appeared</td>\n",
       "      <td>['Doubt']</td>\n",
       "      <td>Attack_on_reputation</td>\n",
       "    </tr>\n",
       "    <tr>\n",
       "      <th>3</th>\n",
       "      <td>3</td>\n",
       "      <td>a very, very different</td>\n",
       "      <td>['Repetition']</td>\n",
       "      <td>Manipulative_wording</td>\n",
       "    </tr>\n",
       "    <tr>\n",
       "      <th>4</th>\n",
       "      <td>4</td>\n",
       "      <td>He also pointed to the presence of the pneumon...</td>\n",
       "      <td>['Appeal_to_fear-prejudice']</td>\n",
       "      <td>Justification</td>\n",
       "    </tr>\n",
       "    <tr>\n",
       "      <th>...</th>\n",
       "      <td>...</td>\n",
       "      <td>...</td>\n",
       "      <td>...</td>\n",
       "      <td>...</td>\n",
       "    </tr>\n",
       "    <tr>\n",
       "      <th>1376</th>\n",
       "      <td>1376</td>\n",
       "      <td>Trump-hating Republican</td>\n",
       "      <td>['Name_Calling_Labeling']</td>\n",
       "      <td>Attack_on_reputation</td>\n",
       "    </tr>\n",
       "    <tr>\n",
       "      <th>1377</th>\n",
       "      <td>1377</td>\n",
       "      <td>grave hardship</td>\n",
       "      <td>['Loaded_Language']</td>\n",
       "      <td>Manipulative_wording</td>\n",
       "    </tr>\n",
       "    <tr>\n",
       "      <th>1378</th>\n",
       "      <td>1378</td>\n",
       "      <td>unbelievably rude</td>\n",
       "      <td>['Name_Calling_Labeling']</td>\n",
       "      <td>Attack_on_reputation</td>\n",
       "    </tr>\n",
       "    <tr>\n",
       "      <th>1379</th>\n",
       "      <td>1379</td>\n",
       "      <td>wonderful woman</td>\n",
       "      <td>['Name_Calling_Labeling']</td>\n",
       "      <td>Attack_on_reputation</td>\n",
       "    </tr>\n",
       "    <tr>\n",
       "      <th>1380</th>\n",
       "      <td>1380</td>\n",
       "      <td>our Constitution</td>\n",
       "      <td>['Flag-Waving']</td>\n",
       "      <td>Justification</td>\n",
       "    </tr>\n",
       "  </tbody>\n",
       "</table>\n",
       "<p>1381 rows × 4 columns</p>\n",
       "</div>"
      ],
      "text/plain": [
       "      Unnamed: 0                                               text  \\\n",
       "0              0  The next transmission could be more pronounced...   \n",
       "1              1  when (the plague) comes again it starts from m...   \n",
       "2              2                                           appeared   \n",
       "3              3                             a very, very different   \n",
       "4              4  He also pointed to the presence of the pneumon...   \n",
       "...          ...                                                ...   \n",
       "1376        1376                            Trump-hating Republican   \n",
       "1377        1377                                     grave hardship   \n",
       "1378        1378                                  unbelievably rude   \n",
       "1379        1379                                    wonderful woman   \n",
       "1380        1380                                   our Constitution   \n",
       "\n",
       "                             label              category  \n",
       "0          ['Appeal_to_Authority']         Justification  \n",
       "1          ['Appeal_to_Authority']         Justification  \n",
       "2                        ['Doubt']  Attack_on_reputation  \n",
       "3                   ['Repetition']  Manipulative_wording  \n",
       "4     ['Appeal_to_fear-prejudice']         Justification  \n",
       "...                            ...                   ...  \n",
       "1376     ['Name_Calling_Labeling']  Attack_on_reputation  \n",
       "1377           ['Loaded_Language']  Manipulative_wording  \n",
       "1378     ['Name_Calling_Labeling']  Attack_on_reputation  \n",
       "1379     ['Name_Calling_Labeling']  Attack_on_reputation  \n",
       "1380               ['Flag-Waving']         Justification  \n",
       "\n",
       "[1381 rows x 4 columns]"
      ]
     },
     "execution_count": 131,
     "metadata": {},
     "output_type": "execute_result"
    }
   ],
   "source": [
    "test"
   ]
  },
  {
   "cell_type": "code",
   "execution_count": 132,
   "id": "311d9665-8caa-4bfe-afc3-10ecb28705fc",
   "metadata": {},
   "outputs": [
    {
     "data": {
      "text/html": [
       "<div>\n",
       "<style scoped>\n",
       "    .dataframe tbody tr th:only-of-type {\n",
       "        vertical-align: middle;\n",
       "    }\n",
       "\n",
       "    .dataframe tbody tr th {\n",
       "        vertical-align: top;\n",
       "    }\n",
       "\n",
       "    .dataframe thead th {\n",
       "        text-align: right;\n",
       "    }\n",
       "</style>\n",
       "<table border=\"1\" class=\"dataframe\">\n",
       "  <thead>\n",
       "    <tr style=\"text-align: right;\">\n",
       "      <th></th>\n",
       "      <th>Unnamed: 0</th>\n",
       "      <th>text</th>\n",
       "      <th>label</th>\n",
       "      <th>category</th>\n",
       "    </tr>\n",
       "  </thead>\n",
       "  <tbody>\n",
       "  </tbody>\n",
       "</table>\n",
       "</div>"
      ],
      "text/plain": [
       "Empty DataFrame\n",
       "Columns: [Unnamed: 0, text, label, category]\n",
       "Index: []"
      ]
     },
     "execution_count": 132,
     "metadata": {},
     "output_type": "execute_result"
    }
   ],
   "source": [
    "test[test[\"text\"].isnull()]"
   ]
  },
  {
   "cell_type": "code",
   "execution_count": 133,
   "id": "8d1aff7a-0980-48f2-a1b8-a137f0b29a5d",
   "metadata": {},
   "outputs": [
    {
     "data": {
      "text/plain": [
       "171"
      ]
     },
     "execution_count": 133,
     "metadata": {},
     "output_type": "execute_result"
    }
   ],
   "source": [
    "test.duplicated(subset=[\"text\"]).sum()"
   ]
  },
  {
   "cell_type": "code",
   "execution_count": 134,
   "id": "32875a20-57b6-4170-9b90-ba1ec0d8658c",
   "metadata": {},
   "outputs": [],
   "source": [
    "test.drop_duplicates(subset=[\"text\"], inplace=True)"
   ]
  },
  {
   "cell_type": "code",
   "execution_count": 135,
   "id": "d294fb0a-1ab5-4a50-907f-50c1a874290d",
   "metadata": {},
   "outputs": [
    {
     "data": {
      "text/plain": [
       "['Loaded_Language']                                                     1595\n",
       "['Name_Calling_Labeling']                                                824\n",
       "['Doubt']                                                                408\n",
       "['Exaggeration_Minimisation']                                            349\n",
       "['Repetition']                                                           230\n",
       "['Causal_Oversimplification']                                            162\n",
       "['Appeal_to_fear-prejudice']                                             160\n",
       "['Flag-Waving']                                                          144\n",
       "['Slogans']                                                               95\n",
       "['Black-and-White_Fallacy']                                               91\n",
       "['Appeal_to_Authority']                                                   86\n",
       "['Thought-terminating_Cliches']                                           57\n",
       "['Whataboutism']                                                          52\n",
       "['Reductio_ad_hitlerum']                                                  38\n",
       "['Red_Herring']                                                           23\n",
       "['Loaded_Language', 'Repetition']                                         13\n",
       "['Name_Calling_Labeling', 'Repetition']                                   12\n",
       "['Straw_Men']                                                             10\n",
       "['Obfuscation_Intentional_Vagueness_Confusion']                           10\n",
       "['Exaggeration_Minimisation', 'Loaded_Language']                           9\n",
       "['Exaggeration_Minimisation', 'Name_Calling_Labeling']                     8\n",
       "['Bandwagon']                                                              8\n",
       "['Loaded_Language', 'Name_Calling_Labeling']                               7\n",
       "['Loaded_Language', 'Thought-terminating_Cliches']                         7\n",
       "['Flag-Waving', 'Slogans']                                                 6\n",
       "['Doubt', 'Flag-Waving']                                                   6\n",
       "['Appeal_to_fear-prejudice', 'Loaded_Language']                            6\n",
       "['Appeal_to_fear-prejudice', 'Flag-Waving']                                5\n",
       "['Appeal_to_fear-prejudice', 'Reductio_ad_hitlerum']                       3\n",
       "['Flag-Waving', 'Loaded_Language']                                         3\n",
       "['Flag-Waving', 'Repetition']                                              2\n",
       "['Exaggeration_Minimisation', 'Flag-Waving']                               2\n",
       "['Appeal_to_fear-prejudice', 'Slogans']                                    2\n",
       "['Flag-Waving', 'Name_Calling_Labeling']                                   2\n",
       "['Appeal_to_Authority', 'Causal_Oversimplification']                       2\n",
       "['Doubt', 'Loaded_Language']                                               2\n",
       "['Doubt', 'Name_Calling_Labeling']                                         2\n",
       "['Causal_Oversimplification', 'Exaggeration_Minimisation']                 1\n",
       "['Causal_Oversimplification', 'Doubt']                                     1\n",
       "['Bandwagon', 'Exaggeration_Minimisation']                                 1\n",
       "['Appeal_to_fear-prejudice', 'Black-and-White_Fallacy']                    1\n",
       "['Doubt', 'Reductio_ad_hitlerum']                                          1\n",
       "['Causal_Oversimplification', 'Straw_Men']                                 1\n",
       "['Black-and-White_Fallacy', 'Thought-terminating_Cliches']                 1\n",
       "['Appeal_to_fear-prejudice', 'Doubt']                                      1\n",
       "['Repetition', 'Slogans']                                                  1\n",
       "['Appeal_to_fear-prejudice', 'Exaggeration_Minimisation']                  1\n",
       "['Appeal_to_Authority', 'Exaggeration_Minimisation']                       1\n",
       "['Exaggeration_Minimisation', 'Name_Calling_Labeling', 'Repetition']       1\n",
       "['Appeal_to_fear-prejudice', 'Thought-terminating_Cliches']                1\n",
       "['Loaded_Language', 'Slogans']                                             1\n",
       "['Flag-Waving', 'Reductio_ad_hitlerum']                                    1\n",
       "['Appeal_to_Authority', 'Loaded_Language']                                 1\n",
       "['Black-and-White_Fallacy', 'Reductio_ad_hitlerum']                        1\n",
       "['Exaggeration_Minimisation', 'Repetition']                                1\n",
       "['Black-and-White_Fallacy', 'Flag-Waving']                                 1\n",
       "['Appeal_to_Authority', 'Appeal_to_fear-prejudice']                        1\n",
       "['Red_Herring', 'Repetition']                                              1\n",
       "['Loaded_Language', 'Name_Calling_Labeling', 'Repetition']                 1\n",
       "['Doubt', 'Exaggeration_Minimisation']                                     1\n",
       "Name: label, dtype: int64"
      ]
     },
     "execution_count": 135,
     "metadata": {},
     "output_type": "execute_result"
    }
   ],
   "source": [
    "train[\"label\"].value_counts()"
   ]
  },
  {
   "cell_type": "code",
   "execution_count": 136,
   "id": "f2b8eeb0-77ca-4254-a489-c0cdaa184047",
   "metadata": {},
   "outputs": [
    {
     "data": {
      "text/plain": [
       "count                    4464\n",
       "unique                     60\n",
       "top       ['Loaded_Language']\n",
       "freq                     1595\n",
       "Name: label, dtype: object"
      ]
     },
     "execution_count": 136,
     "metadata": {},
     "output_type": "execute_result"
    }
   ],
   "source": [
    "train[\"label\"].describe()"
   ]
  },
  {
   "cell_type": "code",
   "execution_count": 137,
   "id": "1a10665b-6e14-4015-9106-b0d31405097f",
   "metadata": {},
   "outputs": [
    {
     "data": {
      "text/plain": [
       "['Loaded_Language']                                                                               383\n",
       "['Name_Calling_Labeling']                                                                         177\n",
       "['Appeal_to_fear-prejudice']                                                                      110\n",
       "['Repetition']                                                                                     99\n",
       "['Exaggeration_Minimisation']                                                                      71\n",
       "['Flag-Waving']                                                                                    70\n",
       "['Doubt']                                                                                          69\n",
       "['Appeal_to_Authority']                                                                            36\n",
       "['Causal_Oversimplification']                                                                      30\n",
       "['Slogans']                                                                                        30\n",
       "['Black-and-White_Fallacy']                                                                        23\n",
       "['Whataboutism']                                                                                   19\n",
       "['Thought-terminating_Cliches']                                                                    13\n",
       "['Reductio_ad_hitlerum']                                                                           12\n",
       "['Red_Herring']                                                                                    12\n",
       "['Obfuscation_Intentional_Vagueness_Confusion']                                                     6\n",
       "['Appeal_to_fear-prejudice', 'Loaded_Language']                                                     5\n",
       "['Appeal_to_Authority', 'Exaggeration_Minimisation']                                                5\n",
       "['Appeal_to_Authority', 'Repetition']                                                               4\n",
       "['Exaggeration_Minimisation', 'Loaded_Language']                                                    3\n",
       "['Flag-Waving', 'Thought-terminating_Cliches']                                                      3\n",
       "['Bandwagon']                                                                                       3\n",
       "['Appeal_to_fear-prejudice', 'Repetition']                                                          2\n",
       "['Straw_Men']                                                                                       2\n",
       "['Loaded_Language', 'Slogans']                                                                      2\n",
       "['Appeal_to_fear-prejudice', 'Flag-Waving']                                                         2\n",
       "['Doubt', 'Exaggeration_Minimisation']                                                              2\n",
       "['Appeal_to_fear-prejudice', 'Black-and-White_Fallacy']                                             2\n",
       "['Exaggeration_Minimisation', 'Repetition']                                                         2\n",
       "['Appeal_to_Authority', 'Appeal_to_fear-prejudice']                                                 2\n",
       "['Appeal_to_Authority', 'Appeal_to_fear-prejudice', 'Repetition']                                   1\n",
       "['Appeal_to_fear-prejudice', 'Flag-Waving', 'Loaded_Language']                                      1\n",
       "['Appeal_to_Authority', 'Appeal_to_fear-prejudice', 'Exaggeration_Minimisation', 'Repetition']      1\n",
       "['Causal_Oversimplification', 'Exaggeration_Minimisation']                                          1\n",
       "['Name_Calling_Labeling', 'Repetition']                                                             1\n",
       "['Repetition', 'Slogans']                                                                           1\n",
       "['Flag-Waving', 'Slogans']                                                                          1\n",
       "['Flag-Waving', 'Repetition']                                                                       1\n",
       "['Loaded_Language', 'Repetition']                                                                   1\n",
       "['Appeal_to_fear-prejudice', 'Name_Calling_Labeling']                                               1\n",
       "['Appeal_to_fear-prejudice', 'Bandwagon']                                                           1\n",
       "Name: label, dtype: int64"
      ]
     },
     "execution_count": 137,
     "metadata": {},
     "output_type": "execute_result"
    }
   ],
   "source": [
    "test[\"label\"].value_counts()"
   ]
  },
  {
   "cell_type": "code",
   "execution_count": 138,
   "id": "2229bc3f-ecce-42f5-9b35-5234fb9a5429",
   "metadata": {},
   "outputs": [
    {
     "data": {
      "text/plain": [
       "count                    1210\n",
       "unique                     41\n",
       "top       ['Loaded_Language']\n",
       "freq                      383\n",
       "Name: label, dtype: object"
      ]
     },
     "execution_count": 138,
     "metadata": {},
     "output_type": "execute_result"
    }
   ],
   "source": [
    "test[\"label\"].describe()"
   ]
  },
  {
   "cell_type": "code",
   "execution_count": 139,
   "id": "9086992e-d718-41b5-bbc7-be996e049016",
   "metadata": {},
   "outputs": [
    {
     "data": {
      "text/plain": [
       "count    4464.000000\n",
       "mean       52.327285\n",
       "std        66.162997\n",
       "min         3.000000\n",
       "25%        16.000000\n",
       "50%        27.000000\n",
       "75%        60.000000\n",
       "max       799.000000\n",
       "Name: text, dtype: float64"
      ]
     },
     "execution_count": 139,
     "metadata": {},
     "output_type": "execute_result"
    }
   ],
   "source": [
    "train[\"text\"].str.len().describe()"
   ]
  },
  {
   "cell_type": "code",
   "execution_count": 140,
   "id": "5506366a-f596-404f-822d-71ff0f625d18",
   "metadata": {},
   "outputs": [
    {
     "data": {
      "text/plain": [
       "count    4464.000000\n",
       "mean        8.622312\n",
       "std        11.305836\n",
       "min         1.000000\n",
       "25%         2.000000\n",
       "50%         4.000000\n",
       "75%        10.000000\n",
       "max       141.000000\n",
       "Name: tokens_per_text, dtype: float64"
      ]
     },
     "execution_count": 140,
     "metadata": {},
     "output_type": "execute_result"
    }
   ],
   "source": [
    "train[\"tokens_per_text\"] = train[\"text\"].str.split().str.len()\n",
    "train[\"tokens_per_text\"].describe()"
   ]
  },
  {
   "cell_type": "code",
   "execution_count": 141,
   "id": "759ae250-f185-4598-a68d-d6b75efeb9e4",
   "metadata": {},
   "outputs": [
    {
     "data": {
      "text/plain": [
       "count    1210.000000\n",
       "mean        7.338843\n",
       "std         9.341914\n",
       "min         1.000000\n",
       "25%         2.000000\n",
       "50%         4.000000\n",
       "75%         9.000000\n",
       "max        80.000000\n",
       "Name: tokens_per_text, dtype: float64"
      ]
     },
     "execution_count": 141,
     "metadata": {},
     "output_type": "execute_result"
    }
   ],
   "source": [
    "test[\"tokens_per_text\"] = test[\"text\"].str.split().str.len()\n",
    "test[\"tokens_per_text\"].describe()"
   ]
  },
  {
   "cell_type": "code",
   "execution_count": 142,
   "id": "13435cd8-6df1-425d-904b-bcc509900797",
   "metadata": {},
   "outputs": [
    {
     "data": {
      "text/plain": [
       "count    4464.000000\n",
       "mean        8.622312\n",
       "std        11.305836\n",
       "min         1.000000\n",
       "25%         2.000000\n",
       "50%         4.000000\n",
       "75%        10.000000\n",
       "max       141.000000\n",
       "Name: tokens_per_text, dtype: float64"
      ]
     },
     "execution_count": 142,
     "metadata": {},
     "output_type": "execute_result"
    }
   ],
   "source": [
    "train[\"tokens_per_text\"] = train[\"text\"].str.split().str.len()\n",
    "train[\"tokens_per_text\"].describe()"
   ]
  },
  {
   "cell_type": "code",
   "execution_count": 143,
   "id": "a758d52b-89d7-4305-a244-d1b877275dd5",
   "metadata": {},
   "outputs": [],
   "source": [
    "# from https://github.com/VinAIResearch/BERTweet/blob/master/TweetNormalizer.py\n",
    "twitter_tokenizer = TweetTokenizer()\n",
    "\n",
    "def normalizeToken(token):\n",
    "    lowercased_token = token.lower()\n",
    "    if token.startswith(\"@\"):\n",
    "        return \"@USER\"\n",
    "    elif lowercased_token.startswith(\"http\") or lowercased_token.startswith(\"www\"):\n",
    "        return \"HTTPURL\"\n",
    "    elif len(token) == 1:\n",
    "        return demojize(token)\n",
    "    else:\n",
    "        if token == \"’\":\n",
    "            return \"'\"\n",
    "        elif token == \"…\":\n",
    "            return \"...\"\n",
    "        else:\n",
    "            return token\n",
    "\n",
    "\n",
    "def normalizeTweet(tweet):\n",
    "    tokens = twitter_tokenizer.tokenize(tweet.replace(\"’\", \"'\").replace(\"…\", \"...\"))\n",
    "    normTweet = \" \".join([normalizeToken(token) for token in tokens])\n",
    "\n",
    "    normTweet = (\n",
    "        normTweet.replace(\"cannot \", \"can not \")\n",
    "        .replace(\"n't \", \" n't \")\n",
    "        .replace(\"n 't \", \" n't \")\n",
    "        .replace(\"ca n't\", \"can't\")\n",
    "        .replace(\"ai n't\", \"ain't\")\n",
    "    )\n",
    "    normTweet = (\n",
    "        normTweet.replace(\"'m \", \" 'm \")\n",
    "        .replace(\"'re \", \" 're \")\n",
    "        .replace(\"'s \", \" 's \")\n",
    "        .replace(\"'ll \", \" 'll \")\n",
    "        .replace(\"'d \", \" 'd \")\n",
    "        .replace(\"'ve \", \" 've \")\n",
    "    )\n",
    "    normTweet = (\n",
    "        normTweet.replace(\" p . m .\", \"  p.m.\")\n",
    "        .replace(\" p . m \", \" p.m \")\n",
    "        .replace(\" a . m .\", \" a.m.\")\n",
    "        .replace(\" a . m \", \" a.m \")\n",
    "    )\n",
    "\n",
    "    return \" \".join(normTweet.split())"
   ]
  },
  {
   "cell_type": "code",
   "execution_count": 144,
   "id": "09ab54d7-b615-4114-be91-5f16ed823f81",
   "metadata": {},
   "outputs": [],
   "source": [
    "model_name = \"vinai/bertweet-base\"\n",
    "tokenizer = AutoTokenizer.from_pretrained(model_name, use_fast=False, normalization=True)\n",
    "model = AutoModel.from_pretrained(model_name)"
   ]
  },
  {
   "cell_type": "code",
   "execution_count": 151,
   "id": "a6c22941-0a39-414a-9e17-92ae235670a4",
   "metadata": {},
   "outputs": [
    {
     "data": {
      "text/plain": [
       "0                   [0, 1267, 32789, 6680, 15, 885, 4, 2]\n",
       "1       [0, 134, 19715, 48, 268, 3430, 45973, 5094, 13...\n",
       "2                              [0, 40212, 41645, 1654, 2]\n",
       "3       [0, 6, 2580, 25, 867, 6, 220, 6, 4658, 880, 15...\n",
       "4       [0, 47, 922, 151, 143, 870, 11, 1719, 19, 4982...\n",
       "                              ...                        \n",
       "1375                    [0, 11, 200, 847, 14270, 4312, 2]\n",
       "1376                            [0, 46004, 4542, 4265, 2]\n",
       "1377                                  [0, 9055, 43899, 2]\n",
       "1378                                  [0, 26730, 2915, 2]\n",
       "1379                                    [0, 1576, 750, 2]\n",
       "Name: text, Length: 5674, dtype: object"
      ]
     },
     "execution_count": 151,
     "metadata": {},
     "output_type": "execute_result"
    }
   ],
   "source": [
    "data = pd.concat((train[\"text\"], test[\"text\"]))\n",
    "tokens = data.apply((lambda x: tokenizer.encode(\n",
    "    x,\n",
    "    # add_special_tokens=True,\n",
    "    truncation=True,\n",
    "    # padding=True,\n",
    "    max_length=128\n",
    ")))\n",
    "tokens"
   ]
  },
  {
   "cell_type": "code",
   "execution_count": 154,
   "id": "4c7b0774-a9cd-4351-a547-184a0b311b07",
   "metadata": {},
   "outputs": [
    {
     "data": {
      "text/plain": [
       "(5674, 128)"
      ]
     },
     "execution_count": 154,
     "metadata": {},
     "output_type": "execute_result"
    }
   ],
   "source": [
    "padded = np.array([token+[0]*(128-len(token)) for token in tokens.values])\n",
    "np.array(padded).shape"
   ]
  },
  {
   "cell_type": "code",
   "execution_count": 155,
   "id": "e9041fba-385f-4d0f-b964-8d85ecf9ee7c",
   "metadata": {},
   "outputs": [
    {
     "data": {
      "text/plain": [
       "(5674, 128)"
      ]
     },
     "execution_count": 155,
     "metadata": {},
     "output_type": "execute_result"
    }
   ],
   "source": [
    "attention_mask = np.where(padded != 0, 1, 0)\n",
    "attention_mask.shape"
   ]
  },
  {
   "cell_type": "code",
   "execution_count": null,
   "id": "ac4fb6bd-8bc7-41e2-b370-644b5113846c",
   "metadata": {},
   "outputs": [],
   "source": [
    "input_ids = torch.tensor(padded)\n",
    "attention_mask = torch.tensor(attention_mask)\n",
    "with torch.no_grad():\n",
    "    last_hidden_states = model(input_ids, attention_mask=attention_mask)\n",
    "\n",
    "# extract [CLS] token hidden representation from output layer\n",
    "features = last_hidden_states[0][:,0,:].numpy()\n",
    "print(f'features shape: {features.shape}')\n",
    "train_features, test_features = features[:train.ndim], features[train.ndim:]\n",
    "print(f'train features: {len(train_features)}')\n",
    "print(f'test features: {len(test_features)}')"
   ]
  },
  {
   "cell_type": "code",
   "execution_count": null,
   "id": "41384008-6c93-4963-a0fd-88c54a2d59c9",
   "metadata": {},
   "outputs": [],
   "source": [
    "train_labels, test_labels = train[\"label\"].to_numpy(), test[\"label\"].to_numpy()\n",
    "\n",
    "mlb = MultiLabelBinarizer()\n",
    "train_labels_binarized = mlb.fit_transform(train_labels)\n",
    "test_labels_binarized = mlb.transform(test_labels)\n",
    "\n",
    "ff = MLPClassifier(\n",
    "    random_state=1,\n",
    "    max_iter=400,\n",
    "    alpha=0.001,\n",
    "    shuffle=True,\n",
    "    early_stopping=True,\n",
    "    verbose=True\n",
    ").fit(train_features, train_labels_binarized)"
   ]
  },
  {
   "cell_type": "code",
   "execution_count": null,
   "id": "50ec2fcf-220f-418a-bb57-76cf8be1253a",
   "metadata": {},
   "outputs": [],
   "source": [
    "test_predicted_labels_binarized = ff.predict(test_features)\n",
    "micro_f1 = f1_score(test_labels_binarized, test_predicted_labels_binarized, average=\"micro\")\n",
    "acc = accuracy_score(test_labels_binarized, test_predicted_labels_binarized)\n",
    "prec = precision_score(test_labels_binarized, test_predicted_labels_binarized, average=\"micro\")\n",
    "rec = recall_score(test_labels_binarized, test_predicted_labels_binarized, average=\"micro\")\n",
    "print(f'micro-f1: {micro_f1}')\n",
    "print(f'accuracy: {acc}')\n",
    "print(f'micro-precision: {prec}')\n",
    "print(f'micro-recall: {rec}')"
   ]
  },
  {
   "cell_type": "code",
   "execution_count": null,
   "id": "39f72ed2-28dc-4370-8e77-161652131873",
   "metadata": {},
   "outputs": [],
   "source": [
    "cf_mtx = multilabel_confusion_matrix(test_labels_binarized, test_predicted_labels_binarized)\n",
    "cf_mtx"
   ]
  }
 ],
 "metadata": {
  "kernelspec": {
   "display_name": "Python 3 (ipykernel)",
   "language": "python",
   "name": "python3"
  },
  "language_info": {
   "codemirror_mode": {
    "name": "ipython",
    "version": 3
   },
   "file_extension": ".py",
   "mimetype": "text/x-python",
   "name": "python",
   "nbconvert_exporter": "python",
   "pygments_lexer": "ipython3",
   "version": "3.11.5"
  }
 },
 "nbformat": 4,
 "nbformat_minor": 5
}
