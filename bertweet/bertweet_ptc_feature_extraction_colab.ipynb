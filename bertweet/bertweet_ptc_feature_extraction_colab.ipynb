{
  "cells": [
    {
      "cell_type": "markdown",
      "metadata": {
        "id": "view-in-github",
        "colab_type": "text"
      },
      "source": [
        "<a href=\"https://colab.research.google.com/github/MeLLL-UFF/bambas/blob/feat%2Fbertweet/bertweet/bertweet_ptc_feature_extraction_colab.ipynb\" target=\"_parent\"><img src=\"https://colab.research.google.com/assets/colab-badge.svg\" alt=\"Open In Colab\"/></a>"
      ]
    },
    {
      "cell_type": "code",
      "source": [
        "pip install -q transformers pandas matplotlib torch numpy datasets scikit_learn notebook matplotlib emoji==0.6.0 nltk bitsandbytes==0.40.2 accelerate==0.21.0"
      ],
      "metadata": {
        "id": "V0yQBtmTZviM"
      },
      "id": "V0yQBtmTZviM",
      "execution_count": 1,
      "outputs": []
    },
    {
      "cell_type": "code",
      "execution_count": 2,
      "id": "a58bb227-54cb-46ee-aa86-b4cc5a016e02",
      "metadata": {
        "colab": {
          "base_uri": "https://localhost:8080/"
        },
        "id": "a58bb227-54cb-46ee-aa86-b4cc5a016e02",
        "outputId": "6e400d43-163b-4aba-8b37-f7b5a33bc6a2"
      },
      "outputs": [
        {
          "output_type": "stream",
          "name": "stdout",
          "text": [
            "Drive already mounted at /gdrive; to attempt to forcibly remount, call drive.mount(\"/gdrive\", force_remount=True).\n"
          ]
        }
      ],
      "source": [
        "import pandas as pd\n",
        "import numpy as np\n",
        "import torch\n",
        "from transformers import AutoModel, AutoTokenizer, BitsAndBytesConfig\n",
        "from datasets import Dataset\n",
        "from torch.utils.data import DataLoader\n",
        "from emoji import demojize\n",
        "from nltk.tokenize import TweetTokenizer\n",
        "from sklearn.preprocessing import MultiLabelBinarizer\n",
        "from sklearn.neural_network import MLPClassifier\n",
        "from sklearn.metrics import f1_score, accuracy_score, precision_score, recall_score, multilabel_confusion_matrix\n",
        "from google.colab import drive\n",
        "drive.mount(\"/gdrive\")\n",
        "WORKDIR=\"/gdrive/My Drive/projects/bambas/bertweet\""
      ]
    },
    {
      "cell_type": "code",
      "execution_count": 3,
      "id": "4764cf4a-6e5b-4ce0-8c0d-3943a345b2ee",
      "metadata": {
        "colab": {
          "base_uri": "https://localhost:8080/",
          "height": 35
        },
        "id": "4764cf4a-6e5b-4ce0-8c0d-3943a345b2ee",
        "outputId": "3144e7f2-3df2-4142-b415-b3b52b059dfc"
      },
      "outputs": [
        {
          "output_type": "execute_result",
          "data": {
            "text/plain": [
              "'/content'"
            ],
            "application/vnd.google.colaboratory.intrinsic+json": {
              "type": "string"
            }
          },
          "metadata": {},
          "execution_count": 3
        }
      ],
      "source": [
        "%pwd"
      ]
    },
    {
      "cell_type": "code",
      "execution_count": 4,
      "id": "d01777c8-c362-4799-8149-7e147be169fb",
      "metadata": {
        "colab": {
          "base_uri": "https://localhost:8080/",
          "height": 493
        },
        "id": "d01777c8-c362-4799-8149-7e147be169fb",
        "outputId": "5a2e2376-36d5-4219-d20b-1e3c25f48fae"
      },
      "outputs": [
        {
          "output_type": "execute_result",
          "data": {
            "text/plain": [
              "      Unnamed: 0                                               text  \\\n",
              "0              0                    Stop Islamization of America.\\t   \n",
              "1              1  We condemn all those whose behaviours and view...   \n",
              "2              2                                      Defeat Jihad`   \n",
              "3              3  the nation that gave the world the Magna Carta...   \n",
              "4              4  The UK should never become a stage for inflamm...   \n",
              "...          ...                                                ...   \n",
              "4945        4945                                               sham   \n",
              "4946        4946                         evidently completely false   \n",
              "4947        4947                              Russian collaborators   \n",
              "4948        4948  We have previously shown that the Guardian eve...   \n",
              "4949        4949  Unfortunately other 'western' media are not mu...   \n",
              "\n",
              "                        label              category  \n",
              "0                     Slogans                  Call  \n",
              "1     Black-and-White_Fallacy                   NaN  \n",
              "2                     Slogans                  Call  \n",
              "3             Loaded_Language  Manipulative_wording  \n",
              "4                 Flag-Waving         Justification  \n",
              "...                       ...                   ...  \n",
              "4945          Loaded_Language  Manipulative_wording  \n",
              "4946    Name_Calling_Labeling  Attack_on_reputation  \n",
              "4947    Name_Calling_Labeling  Attack_on_reputation  \n",
              "4948     Reductio_ad_hitlerum                   NaN  \n",
              "4949             Whataboutism           Distraction  \n",
              "\n",
              "[4950 rows x 4 columns]"
            ],
            "text/html": [
              "\n",
              "  <div id=\"df-e0896ee5-6582-4f1b-98de-1d80bdabc423\" class=\"colab-df-container\">\n",
              "    <div>\n",
              "<style scoped>\n",
              "    .dataframe tbody tr th:only-of-type {\n",
              "        vertical-align: middle;\n",
              "    }\n",
              "\n",
              "    .dataframe tbody tr th {\n",
              "        vertical-align: top;\n",
              "    }\n",
              "\n",
              "    .dataframe thead th {\n",
              "        text-align: right;\n",
              "    }\n",
              "</style>\n",
              "<table border=\"1\" class=\"dataframe\">\n",
              "  <thead>\n",
              "    <tr style=\"text-align: right;\">\n",
              "      <th></th>\n",
              "      <th>Unnamed: 0</th>\n",
              "      <th>text</th>\n",
              "      <th>label</th>\n",
              "      <th>category</th>\n",
              "    </tr>\n",
              "  </thead>\n",
              "  <tbody>\n",
              "    <tr>\n",
              "      <th>0</th>\n",
              "      <td>0</td>\n",
              "      <td>Stop Islamization of America.\\t</td>\n",
              "      <td>Slogans</td>\n",
              "      <td>Call</td>\n",
              "    </tr>\n",
              "    <tr>\n",
              "      <th>1</th>\n",
              "      <td>1</td>\n",
              "      <td>We condemn all those whose behaviours and view...</td>\n",
              "      <td>Black-and-White_Fallacy</td>\n",
              "      <td>NaN</td>\n",
              "    </tr>\n",
              "    <tr>\n",
              "      <th>2</th>\n",
              "      <td>2</td>\n",
              "      <td>Defeat Jihad`</td>\n",
              "      <td>Slogans</td>\n",
              "      <td>Call</td>\n",
              "    </tr>\n",
              "    <tr>\n",
              "      <th>3</th>\n",
              "      <td>3</td>\n",
              "      <td>the nation that gave the world the Magna Carta...</td>\n",
              "      <td>Loaded_Language</td>\n",
              "      <td>Manipulative_wording</td>\n",
              "    </tr>\n",
              "    <tr>\n",
              "      <th>4</th>\n",
              "      <td>4</td>\n",
              "      <td>The UK should never become a stage for inflamm...</td>\n",
              "      <td>Flag-Waving</td>\n",
              "      <td>Justification</td>\n",
              "    </tr>\n",
              "    <tr>\n",
              "      <th>...</th>\n",
              "      <td>...</td>\n",
              "      <td>...</td>\n",
              "      <td>...</td>\n",
              "      <td>...</td>\n",
              "    </tr>\n",
              "    <tr>\n",
              "      <th>4945</th>\n",
              "      <td>4945</td>\n",
              "      <td>sham</td>\n",
              "      <td>Loaded_Language</td>\n",
              "      <td>Manipulative_wording</td>\n",
              "    </tr>\n",
              "    <tr>\n",
              "      <th>4946</th>\n",
              "      <td>4946</td>\n",
              "      <td>evidently completely false</td>\n",
              "      <td>Name_Calling_Labeling</td>\n",
              "      <td>Attack_on_reputation</td>\n",
              "    </tr>\n",
              "    <tr>\n",
              "      <th>4947</th>\n",
              "      <td>4947</td>\n",
              "      <td>Russian collaborators</td>\n",
              "      <td>Name_Calling_Labeling</td>\n",
              "      <td>Attack_on_reputation</td>\n",
              "    </tr>\n",
              "    <tr>\n",
              "      <th>4948</th>\n",
              "      <td>4948</td>\n",
              "      <td>We have previously shown that the Guardian eve...</td>\n",
              "      <td>Reductio_ad_hitlerum</td>\n",
              "      <td>NaN</td>\n",
              "    </tr>\n",
              "    <tr>\n",
              "      <th>4949</th>\n",
              "      <td>4949</td>\n",
              "      <td>Unfortunately other 'western' media are not mu...</td>\n",
              "      <td>Whataboutism</td>\n",
              "      <td>Distraction</td>\n",
              "    </tr>\n",
              "  </tbody>\n",
              "</table>\n",
              "<p>4950 rows × 4 columns</p>\n",
              "</div>\n",
              "    <div class=\"colab-df-buttons\">\n",
              "\n",
              "  <div class=\"colab-df-container\">\n",
              "    <button class=\"colab-df-convert\" onclick=\"convertToInteractive('df-e0896ee5-6582-4f1b-98de-1d80bdabc423')\"\n",
              "            title=\"Convert this dataframe to an interactive table.\"\n",
              "            style=\"display:none;\">\n",
              "\n",
              "  <svg xmlns=\"http://www.w3.org/2000/svg\" height=\"24px\" viewBox=\"0 -960 960 960\">\n",
              "    <path d=\"M120-120v-720h720v720H120Zm60-500h600v-160H180v160Zm220 220h160v-160H400v160Zm0 220h160v-160H400v160ZM180-400h160v-160H180v160Zm440 0h160v-160H620v160ZM180-180h160v-160H180v160Zm440 0h160v-160H620v160Z\"/>\n",
              "  </svg>\n",
              "    </button>\n",
              "\n",
              "  <style>\n",
              "    .colab-df-container {\n",
              "      display:flex;\n",
              "      gap: 12px;\n",
              "    }\n",
              "\n",
              "    .colab-df-convert {\n",
              "      background-color: #E8F0FE;\n",
              "      border: none;\n",
              "      border-radius: 50%;\n",
              "      cursor: pointer;\n",
              "      display: none;\n",
              "      fill: #1967D2;\n",
              "      height: 32px;\n",
              "      padding: 0 0 0 0;\n",
              "      width: 32px;\n",
              "    }\n",
              "\n",
              "    .colab-df-convert:hover {\n",
              "      background-color: #E2EBFA;\n",
              "      box-shadow: 0px 1px 2px rgba(60, 64, 67, 0.3), 0px 1px 3px 1px rgba(60, 64, 67, 0.15);\n",
              "      fill: #174EA6;\n",
              "    }\n",
              "\n",
              "    .colab-df-buttons div {\n",
              "      margin-bottom: 4px;\n",
              "    }\n",
              "\n",
              "    [theme=dark] .colab-df-convert {\n",
              "      background-color: #3B4455;\n",
              "      fill: #D2E3FC;\n",
              "    }\n",
              "\n",
              "    [theme=dark] .colab-df-convert:hover {\n",
              "      background-color: #434B5C;\n",
              "      box-shadow: 0px 1px 3px 1px rgba(0, 0, 0, 0.15);\n",
              "      filter: drop-shadow(0px 1px 2px rgba(0, 0, 0, 0.3));\n",
              "      fill: #FFFFFF;\n",
              "    }\n",
              "  </style>\n",
              "\n",
              "    <script>\n",
              "      const buttonEl =\n",
              "        document.querySelector('#df-e0896ee5-6582-4f1b-98de-1d80bdabc423 button.colab-df-convert');\n",
              "      buttonEl.style.display =\n",
              "        google.colab.kernel.accessAllowed ? 'block' : 'none';\n",
              "\n",
              "      async function convertToInteractive(key) {\n",
              "        const element = document.querySelector('#df-e0896ee5-6582-4f1b-98de-1d80bdabc423');\n",
              "        const dataTable =\n",
              "          await google.colab.kernel.invokeFunction('convertToInteractive',\n",
              "                                                    [key], {});\n",
              "        if (!dataTable) return;\n",
              "\n",
              "        const docLinkHtml = 'Like what you see? Visit the ' +\n",
              "          '<a target=\"_blank\" href=https://colab.research.google.com/notebooks/data_table.ipynb>data table notebook</a>'\n",
              "          + ' to learn more about interactive tables.';\n",
              "        element.innerHTML = '';\n",
              "        dataTable['output_type'] = 'display_data';\n",
              "        await google.colab.output.renderOutput(dataTable, element);\n",
              "        const docLink = document.createElement('div');\n",
              "        docLink.innerHTML = docLinkHtml;\n",
              "        element.appendChild(docLink);\n",
              "      }\n",
              "    </script>\n",
              "  </div>\n",
              "\n",
              "\n",
              "<div id=\"df-9fd8db4a-4935-4cf5-8cc2-175b45a551fe\">\n",
              "  <button class=\"colab-df-quickchart\" onclick=\"quickchart('df-9fd8db4a-4935-4cf5-8cc2-175b45a551fe')\"\n",
              "            title=\"Suggest charts.\"\n",
              "            style=\"display:none;\">\n",
              "\n",
              "<svg xmlns=\"http://www.w3.org/2000/svg\" height=\"24px\"viewBox=\"0 0 24 24\"\n",
              "     width=\"24px\">\n",
              "    <g>\n",
              "        <path d=\"M19 3H5c-1.1 0-2 .9-2 2v14c0 1.1.9 2 2 2h14c1.1 0 2-.9 2-2V5c0-1.1-.9-2-2-2zM9 17H7v-7h2v7zm4 0h-2V7h2v10zm4 0h-2v-4h2v4z\"/>\n",
              "    </g>\n",
              "</svg>\n",
              "  </button>\n",
              "\n",
              "<style>\n",
              "  .colab-df-quickchart {\n",
              "      --bg-color: #E8F0FE;\n",
              "      --fill-color: #1967D2;\n",
              "      --hover-bg-color: #E2EBFA;\n",
              "      --hover-fill-color: #174EA6;\n",
              "      --disabled-fill-color: #AAA;\n",
              "      --disabled-bg-color: #DDD;\n",
              "  }\n",
              "\n",
              "  [theme=dark] .colab-df-quickchart {\n",
              "      --bg-color: #3B4455;\n",
              "      --fill-color: #D2E3FC;\n",
              "      --hover-bg-color: #434B5C;\n",
              "      --hover-fill-color: #FFFFFF;\n",
              "      --disabled-bg-color: #3B4455;\n",
              "      --disabled-fill-color: #666;\n",
              "  }\n",
              "\n",
              "  .colab-df-quickchart {\n",
              "    background-color: var(--bg-color);\n",
              "    border: none;\n",
              "    border-radius: 50%;\n",
              "    cursor: pointer;\n",
              "    display: none;\n",
              "    fill: var(--fill-color);\n",
              "    height: 32px;\n",
              "    padding: 0;\n",
              "    width: 32px;\n",
              "  }\n",
              "\n",
              "  .colab-df-quickchart:hover {\n",
              "    background-color: var(--hover-bg-color);\n",
              "    box-shadow: 0 1px 2px rgba(60, 64, 67, 0.3), 0 1px 3px 1px rgba(60, 64, 67, 0.15);\n",
              "    fill: var(--button-hover-fill-color);\n",
              "  }\n",
              "\n",
              "  .colab-df-quickchart-complete:disabled,\n",
              "  .colab-df-quickchart-complete:disabled:hover {\n",
              "    background-color: var(--disabled-bg-color);\n",
              "    fill: var(--disabled-fill-color);\n",
              "    box-shadow: none;\n",
              "  }\n",
              "\n",
              "  .colab-df-spinner {\n",
              "    border: 2px solid var(--fill-color);\n",
              "    border-color: transparent;\n",
              "    border-bottom-color: var(--fill-color);\n",
              "    animation:\n",
              "      spin 1s steps(1) infinite;\n",
              "  }\n",
              "\n",
              "  @keyframes spin {\n",
              "    0% {\n",
              "      border-color: transparent;\n",
              "      border-bottom-color: var(--fill-color);\n",
              "      border-left-color: var(--fill-color);\n",
              "    }\n",
              "    20% {\n",
              "      border-color: transparent;\n",
              "      border-left-color: var(--fill-color);\n",
              "      border-top-color: var(--fill-color);\n",
              "    }\n",
              "    30% {\n",
              "      border-color: transparent;\n",
              "      border-left-color: var(--fill-color);\n",
              "      border-top-color: var(--fill-color);\n",
              "      border-right-color: var(--fill-color);\n",
              "    }\n",
              "    40% {\n",
              "      border-color: transparent;\n",
              "      border-right-color: var(--fill-color);\n",
              "      border-top-color: var(--fill-color);\n",
              "    }\n",
              "    60% {\n",
              "      border-color: transparent;\n",
              "      border-right-color: var(--fill-color);\n",
              "    }\n",
              "    80% {\n",
              "      border-color: transparent;\n",
              "      border-right-color: var(--fill-color);\n",
              "      border-bottom-color: var(--fill-color);\n",
              "    }\n",
              "    90% {\n",
              "      border-color: transparent;\n",
              "      border-bottom-color: var(--fill-color);\n",
              "    }\n",
              "  }\n",
              "</style>\n",
              "\n",
              "  <script>\n",
              "    async function quickchart(key) {\n",
              "      const quickchartButtonEl =\n",
              "        document.querySelector('#' + key + ' button');\n",
              "      quickchartButtonEl.disabled = true;  // To prevent multiple clicks.\n",
              "      quickchartButtonEl.classList.add('colab-df-spinner');\n",
              "      try {\n",
              "        const charts = await google.colab.kernel.invokeFunction(\n",
              "            'suggestCharts', [key], {});\n",
              "      } catch (error) {\n",
              "        console.error('Error during call to suggestCharts:', error);\n",
              "      }\n",
              "      quickchartButtonEl.classList.remove('colab-df-spinner');\n",
              "      quickchartButtonEl.classList.add('colab-df-quickchart-complete');\n",
              "    }\n",
              "    (() => {\n",
              "      let quickchartButtonEl =\n",
              "        document.querySelector('#df-9fd8db4a-4935-4cf5-8cc2-175b45a551fe button');\n",
              "      quickchartButtonEl.style.display =\n",
              "        google.colab.kernel.accessAllowed ? 'block' : 'none';\n",
              "    })();\n",
              "  </script>\n",
              "</div>\n",
              "    </div>\n",
              "  </div>\n"
            ]
          },
          "metadata": {},
          "execution_count": 4
        }
      ],
      "source": [
        "train = pd.read_csv(f'{WORKDIR}/dataset/ptc_preproc_train.csv', sep=\";\")\n",
        "test = pd.read_csv(f'{WORKDIR}/dataset/ptc_preproc_test.csv', sep=\";\")\n",
        "train"
      ]
    },
    {
      "cell_type": "code",
      "execution_count": 5,
      "id": "288a3c24-798e-4e83-a128-a87c4fc65786",
      "metadata": {
        "colab": {
          "base_uri": "https://localhost:8080/",
          "height": 81
        },
        "id": "288a3c24-798e-4e83-a128-a87c4fc65786",
        "outputId": "fbf412ef-fff6-4fea-9b1f-08f083c48873"
      },
      "outputs": [
        {
          "output_type": "execute_result",
          "data": {
            "text/plain": [
              "      Unnamed: 0 text            label              category\n",
              "3348        3348  NaN  Loaded_Language  Manipulative_wording"
            ],
            "text/html": [
              "\n",
              "  <div id=\"df-c573a5b9-decb-419e-9d68-572e5650e505\" class=\"colab-df-container\">\n",
              "    <div>\n",
              "<style scoped>\n",
              "    .dataframe tbody tr th:only-of-type {\n",
              "        vertical-align: middle;\n",
              "    }\n",
              "\n",
              "    .dataframe tbody tr th {\n",
              "        vertical-align: top;\n",
              "    }\n",
              "\n",
              "    .dataframe thead th {\n",
              "        text-align: right;\n",
              "    }\n",
              "</style>\n",
              "<table border=\"1\" class=\"dataframe\">\n",
              "  <thead>\n",
              "    <tr style=\"text-align: right;\">\n",
              "      <th></th>\n",
              "      <th>Unnamed: 0</th>\n",
              "      <th>text</th>\n",
              "      <th>label</th>\n",
              "      <th>category</th>\n",
              "    </tr>\n",
              "  </thead>\n",
              "  <tbody>\n",
              "    <tr>\n",
              "      <th>3348</th>\n",
              "      <td>3348</td>\n",
              "      <td>NaN</td>\n",
              "      <td>Loaded_Language</td>\n",
              "      <td>Manipulative_wording</td>\n",
              "    </tr>\n",
              "  </tbody>\n",
              "</table>\n",
              "</div>\n",
              "    <div class=\"colab-df-buttons\">\n",
              "\n",
              "  <div class=\"colab-df-container\">\n",
              "    <button class=\"colab-df-convert\" onclick=\"convertToInteractive('df-c573a5b9-decb-419e-9d68-572e5650e505')\"\n",
              "            title=\"Convert this dataframe to an interactive table.\"\n",
              "            style=\"display:none;\">\n",
              "\n",
              "  <svg xmlns=\"http://www.w3.org/2000/svg\" height=\"24px\" viewBox=\"0 -960 960 960\">\n",
              "    <path d=\"M120-120v-720h720v720H120Zm60-500h600v-160H180v160Zm220 220h160v-160H400v160Zm0 220h160v-160H400v160ZM180-400h160v-160H180v160Zm440 0h160v-160H620v160ZM180-180h160v-160H180v160Zm440 0h160v-160H620v160Z\"/>\n",
              "  </svg>\n",
              "    </button>\n",
              "\n",
              "  <style>\n",
              "    .colab-df-container {\n",
              "      display:flex;\n",
              "      gap: 12px;\n",
              "    }\n",
              "\n",
              "    .colab-df-convert {\n",
              "      background-color: #E8F0FE;\n",
              "      border: none;\n",
              "      border-radius: 50%;\n",
              "      cursor: pointer;\n",
              "      display: none;\n",
              "      fill: #1967D2;\n",
              "      height: 32px;\n",
              "      padding: 0 0 0 0;\n",
              "      width: 32px;\n",
              "    }\n",
              "\n",
              "    .colab-df-convert:hover {\n",
              "      background-color: #E2EBFA;\n",
              "      box-shadow: 0px 1px 2px rgba(60, 64, 67, 0.3), 0px 1px 3px 1px rgba(60, 64, 67, 0.15);\n",
              "      fill: #174EA6;\n",
              "    }\n",
              "\n",
              "    .colab-df-buttons div {\n",
              "      margin-bottom: 4px;\n",
              "    }\n",
              "\n",
              "    [theme=dark] .colab-df-convert {\n",
              "      background-color: #3B4455;\n",
              "      fill: #D2E3FC;\n",
              "    }\n",
              "\n",
              "    [theme=dark] .colab-df-convert:hover {\n",
              "      background-color: #434B5C;\n",
              "      box-shadow: 0px 1px 3px 1px rgba(0, 0, 0, 0.15);\n",
              "      filter: drop-shadow(0px 1px 2px rgba(0, 0, 0, 0.3));\n",
              "      fill: #FFFFFF;\n",
              "    }\n",
              "  </style>\n",
              "\n",
              "    <script>\n",
              "      const buttonEl =\n",
              "        document.querySelector('#df-c573a5b9-decb-419e-9d68-572e5650e505 button.colab-df-convert');\n",
              "      buttonEl.style.display =\n",
              "        google.colab.kernel.accessAllowed ? 'block' : 'none';\n",
              "\n",
              "      async function convertToInteractive(key) {\n",
              "        const element = document.querySelector('#df-c573a5b9-decb-419e-9d68-572e5650e505');\n",
              "        const dataTable =\n",
              "          await google.colab.kernel.invokeFunction('convertToInteractive',\n",
              "                                                    [key], {});\n",
              "        if (!dataTable) return;\n",
              "\n",
              "        const docLinkHtml = 'Like what you see? Visit the ' +\n",
              "          '<a target=\"_blank\" href=https://colab.research.google.com/notebooks/data_table.ipynb>data table notebook</a>'\n",
              "          + ' to learn more about interactive tables.';\n",
              "        element.innerHTML = '';\n",
              "        dataTable['output_type'] = 'display_data';\n",
              "        await google.colab.output.renderOutput(dataTable, element);\n",
              "        const docLink = document.createElement('div');\n",
              "        docLink.innerHTML = docLinkHtml;\n",
              "        element.appendChild(docLink);\n",
              "      }\n",
              "    </script>\n",
              "  </div>\n",
              "\n",
              "    </div>\n",
              "  </div>\n"
            ]
          },
          "metadata": {},
          "execution_count": 5
        }
      ],
      "source": [
        "train[train[\"text\"].isnull()]"
      ]
    },
    {
      "cell_type": "code",
      "execution_count": 6,
      "id": "98a47927-49e7-4889-8fc0-187259a271f4",
      "metadata": {
        "id": "98a47927-49e7-4889-8fc0-187259a271f4"
      },
      "outputs": [],
      "source": [
        "train.dropna(subset=[\"text\", \"label\"], inplace=True)"
      ]
    },
    {
      "cell_type": "code",
      "execution_count": 7,
      "id": "8021c34c-5017-4a34-b1a0-4ab95f2b0165",
      "metadata": {
        "colab": {
          "base_uri": "https://localhost:8080/"
        },
        "id": "8021c34c-5017-4a34-b1a0-4ab95f2b0165",
        "outputId": "5eeb45c6-72f8-4d0e-e1a9-7214f78731e4"
      },
      "outputs": [
        {
          "output_type": "execute_result",
          "data": {
            "text/plain": [
              "485"
            ]
          },
          "metadata": {},
          "execution_count": 7
        }
      ],
      "source": [
        "train.duplicated(subset=[\"text\"]).sum()"
      ]
    },
    {
      "cell_type": "code",
      "execution_count": 8,
      "id": "06895062-9367-4c40-a009-7f28797431b8",
      "metadata": {
        "id": "06895062-9367-4c40-a009-7f28797431b8"
      },
      "outputs": [],
      "source": [
        "train.drop_duplicates(subset=[\"text\"], inplace=True)"
      ]
    },
    {
      "cell_type": "code",
      "source": [
        "train.shape"
      ],
      "metadata": {
        "colab": {
          "base_uri": "https://localhost:8080/"
        },
        "id": "h2mXS1lqmQns",
        "outputId": "5a0bc50c-6dca-4f87-f28f-11cc6631bbfe"
      },
      "id": "h2mXS1lqmQns",
      "execution_count": 9,
      "outputs": [
        {
          "output_type": "execute_result",
          "data": {
            "text/plain": [
              "(4464, 4)"
            ]
          },
          "metadata": {},
          "execution_count": 9
        }
      ]
    },
    {
      "cell_type": "code",
      "execution_count": 10,
      "id": "52c0a645-ed66-455c-aff2-b10c1dc79447",
      "metadata": {
        "colab": {
          "base_uri": "https://localhost:8080/",
          "height": 476
        },
        "id": "52c0a645-ed66-455c-aff2-b10c1dc79447",
        "outputId": "ba9fa654-2506-4a77-a792-77cba72fa1d7"
      },
      "outputs": [
        {
          "output_type": "execute_result",
          "data": {
            "text/plain": [
              "      Unnamed: 0                                               text  \\\n",
              "0              0  The next transmission could be more pronounced...   \n",
              "1              1  when (the plague) comes again it starts from m...   \n",
              "2              2                                           appeared   \n",
              "3              3                             a very, very different   \n",
              "4              4  He also pointed to the presence of the pneumon...   \n",
              "...          ...                                                ...   \n",
              "1376        1376                            Trump-hating Republican   \n",
              "1377        1377                                     grave hardship   \n",
              "1378        1378                                  unbelievably rude   \n",
              "1379        1379                                    wonderful woman   \n",
              "1380        1380                                   our Constitution   \n",
              "\n",
              "                         label              category  \n",
              "0          Appeal_to_Authority         Justification  \n",
              "1          Appeal_to_Authority         Justification  \n",
              "2                        Doubt  Attack_on_reputation  \n",
              "3                   Repetition  Manipulative_wording  \n",
              "4     Appeal_to_fear-prejudice         Justification  \n",
              "...                        ...                   ...  \n",
              "1376     Name_Calling_Labeling  Attack_on_reputation  \n",
              "1377           Loaded_Language  Manipulative_wording  \n",
              "1378     Name_Calling_Labeling  Attack_on_reputation  \n",
              "1379     Name_Calling_Labeling  Attack_on_reputation  \n",
              "1380               Flag-Waving         Justification  \n",
              "\n",
              "[1381 rows x 4 columns]"
            ],
            "text/html": [
              "\n",
              "  <div id=\"df-9c137f19-044b-4d7b-9840-59e959547658\" class=\"colab-df-container\">\n",
              "    <div>\n",
              "<style scoped>\n",
              "    .dataframe tbody tr th:only-of-type {\n",
              "        vertical-align: middle;\n",
              "    }\n",
              "\n",
              "    .dataframe tbody tr th {\n",
              "        vertical-align: top;\n",
              "    }\n",
              "\n",
              "    .dataframe thead th {\n",
              "        text-align: right;\n",
              "    }\n",
              "</style>\n",
              "<table border=\"1\" class=\"dataframe\">\n",
              "  <thead>\n",
              "    <tr style=\"text-align: right;\">\n",
              "      <th></th>\n",
              "      <th>Unnamed: 0</th>\n",
              "      <th>text</th>\n",
              "      <th>label</th>\n",
              "      <th>category</th>\n",
              "    </tr>\n",
              "  </thead>\n",
              "  <tbody>\n",
              "    <tr>\n",
              "      <th>0</th>\n",
              "      <td>0</td>\n",
              "      <td>The next transmission could be more pronounced...</td>\n",
              "      <td>Appeal_to_Authority</td>\n",
              "      <td>Justification</td>\n",
              "    </tr>\n",
              "    <tr>\n",
              "      <th>1</th>\n",
              "      <td>1</td>\n",
              "      <td>when (the plague) comes again it starts from m...</td>\n",
              "      <td>Appeal_to_Authority</td>\n",
              "      <td>Justification</td>\n",
              "    </tr>\n",
              "    <tr>\n",
              "      <th>2</th>\n",
              "      <td>2</td>\n",
              "      <td>appeared</td>\n",
              "      <td>Doubt</td>\n",
              "      <td>Attack_on_reputation</td>\n",
              "    </tr>\n",
              "    <tr>\n",
              "      <th>3</th>\n",
              "      <td>3</td>\n",
              "      <td>a very, very different</td>\n",
              "      <td>Repetition</td>\n",
              "      <td>Manipulative_wording</td>\n",
              "    </tr>\n",
              "    <tr>\n",
              "      <th>4</th>\n",
              "      <td>4</td>\n",
              "      <td>He also pointed to the presence of the pneumon...</td>\n",
              "      <td>Appeal_to_fear-prejudice</td>\n",
              "      <td>Justification</td>\n",
              "    </tr>\n",
              "    <tr>\n",
              "      <th>...</th>\n",
              "      <td>...</td>\n",
              "      <td>...</td>\n",
              "      <td>...</td>\n",
              "      <td>...</td>\n",
              "    </tr>\n",
              "    <tr>\n",
              "      <th>1376</th>\n",
              "      <td>1376</td>\n",
              "      <td>Trump-hating Republican</td>\n",
              "      <td>Name_Calling_Labeling</td>\n",
              "      <td>Attack_on_reputation</td>\n",
              "    </tr>\n",
              "    <tr>\n",
              "      <th>1377</th>\n",
              "      <td>1377</td>\n",
              "      <td>grave hardship</td>\n",
              "      <td>Loaded_Language</td>\n",
              "      <td>Manipulative_wording</td>\n",
              "    </tr>\n",
              "    <tr>\n",
              "      <th>1378</th>\n",
              "      <td>1378</td>\n",
              "      <td>unbelievably rude</td>\n",
              "      <td>Name_Calling_Labeling</td>\n",
              "      <td>Attack_on_reputation</td>\n",
              "    </tr>\n",
              "    <tr>\n",
              "      <th>1379</th>\n",
              "      <td>1379</td>\n",
              "      <td>wonderful woman</td>\n",
              "      <td>Name_Calling_Labeling</td>\n",
              "      <td>Attack_on_reputation</td>\n",
              "    </tr>\n",
              "    <tr>\n",
              "      <th>1380</th>\n",
              "      <td>1380</td>\n",
              "      <td>our Constitution</td>\n",
              "      <td>Flag-Waving</td>\n",
              "      <td>Justification</td>\n",
              "    </tr>\n",
              "  </tbody>\n",
              "</table>\n",
              "<p>1381 rows × 4 columns</p>\n",
              "</div>\n",
              "    <div class=\"colab-df-buttons\">\n",
              "\n",
              "  <div class=\"colab-df-container\">\n",
              "    <button class=\"colab-df-convert\" onclick=\"convertToInteractive('df-9c137f19-044b-4d7b-9840-59e959547658')\"\n",
              "            title=\"Convert this dataframe to an interactive table.\"\n",
              "            style=\"display:none;\">\n",
              "\n",
              "  <svg xmlns=\"http://www.w3.org/2000/svg\" height=\"24px\" viewBox=\"0 -960 960 960\">\n",
              "    <path d=\"M120-120v-720h720v720H120Zm60-500h600v-160H180v160Zm220 220h160v-160H400v160Zm0 220h160v-160H400v160ZM180-400h160v-160H180v160Zm440 0h160v-160H620v160ZM180-180h160v-160H180v160Zm440 0h160v-160H620v160Z\"/>\n",
              "  </svg>\n",
              "    </button>\n",
              "\n",
              "  <style>\n",
              "    .colab-df-container {\n",
              "      display:flex;\n",
              "      gap: 12px;\n",
              "    }\n",
              "\n",
              "    .colab-df-convert {\n",
              "      background-color: #E8F0FE;\n",
              "      border: none;\n",
              "      border-radius: 50%;\n",
              "      cursor: pointer;\n",
              "      display: none;\n",
              "      fill: #1967D2;\n",
              "      height: 32px;\n",
              "      padding: 0 0 0 0;\n",
              "      width: 32px;\n",
              "    }\n",
              "\n",
              "    .colab-df-convert:hover {\n",
              "      background-color: #E2EBFA;\n",
              "      box-shadow: 0px 1px 2px rgba(60, 64, 67, 0.3), 0px 1px 3px 1px rgba(60, 64, 67, 0.15);\n",
              "      fill: #174EA6;\n",
              "    }\n",
              "\n",
              "    .colab-df-buttons div {\n",
              "      margin-bottom: 4px;\n",
              "    }\n",
              "\n",
              "    [theme=dark] .colab-df-convert {\n",
              "      background-color: #3B4455;\n",
              "      fill: #D2E3FC;\n",
              "    }\n",
              "\n",
              "    [theme=dark] .colab-df-convert:hover {\n",
              "      background-color: #434B5C;\n",
              "      box-shadow: 0px 1px 3px 1px rgba(0, 0, 0, 0.15);\n",
              "      filter: drop-shadow(0px 1px 2px rgba(0, 0, 0, 0.3));\n",
              "      fill: #FFFFFF;\n",
              "    }\n",
              "  </style>\n",
              "\n",
              "    <script>\n",
              "      const buttonEl =\n",
              "        document.querySelector('#df-9c137f19-044b-4d7b-9840-59e959547658 button.colab-df-convert');\n",
              "      buttonEl.style.display =\n",
              "        google.colab.kernel.accessAllowed ? 'block' : 'none';\n",
              "\n",
              "      async function convertToInteractive(key) {\n",
              "        const element = document.querySelector('#df-9c137f19-044b-4d7b-9840-59e959547658');\n",
              "        const dataTable =\n",
              "          await google.colab.kernel.invokeFunction('convertToInteractive',\n",
              "                                                    [key], {});\n",
              "        if (!dataTable) return;\n",
              "\n",
              "        const docLinkHtml = 'Like what you see? Visit the ' +\n",
              "          '<a target=\"_blank\" href=https://colab.research.google.com/notebooks/data_table.ipynb>data table notebook</a>'\n",
              "          + ' to learn more about interactive tables.';\n",
              "        element.innerHTML = '';\n",
              "        dataTable['output_type'] = 'display_data';\n",
              "        await google.colab.output.renderOutput(dataTable, element);\n",
              "        const docLink = document.createElement('div');\n",
              "        docLink.innerHTML = docLinkHtml;\n",
              "        element.appendChild(docLink);\n",
              "      }\n",
              "    </script>\n",
              "  </div>\n",
              "\n",
              "\n",
              "<div id=\"df-e9f1cbb2-423d-4926-96e7-07f9c465c4e3\">\n",
              "  <button class=\"colab-df-quickchart\" onclick=\"quickchart('df-e9f1cbb2-423d-4926-96e7-07f9c465c4e3')\"\n",
              "            title=\"Suggest charts.\"\n",
              "            style=\"display:none;\">\n",
              "\n",
              "<svg xmlns=\"http://www.w3.org/2000/svg\" height=\"24px\"viewBox=\"0 0 24 24\"\n",
              "     width=\"24px\">\n",
              "    <g>\n",
              "        <path d=\"M19 3H5c-1.1 0-2 .9-2 2v14c0 1.1.9 2 2 2h14c1.1 0 2-.9 2-2V5c0-1.1-.9-2-2-2zM9 17H7v-7h2v7zm4 0h-2V7h2v10zm4 0h-2v-4h2v4z\"/>\n",
              "    </g>\n",
              "</svg>\n",
              "  </button>\n",
              "\n",
              "<style>\n",
              "  .colab-df-quickchart {\n",
              "      --bg-color: #E8F0FE;\n",
              "      --fill-color: #1967D2;\n",
              "      --hover-bg-color: #E2EBFA;\n",
              "      --hover-fill-color: #174EA6;\n",
              "      --disabled-fill-color: #AAA;\n",
              "      --disabled-bg-color: #DDD;\n",
              "  }\n",
              "\n",
              "  [theme=dark] .colab-df-quickchart {\n",
              "      --bg-color: #3B4455;\n",
              "      --fill-color: #D2E3FC;\n",
              "      --hover-bg-color: #434B5C;\n",
              "      --hover-fill-color: #FFFFFF;\n",
              "      --disabled-bg-color: #3B4455;\n",
              "      --disabled-fill-color: #666;\n",
              "  }\n",
              "\n",
              "  .colab-df-quickchart {\n",
              "    background-color: var(--bg-color);\n",
              "    border: none;\n",
              "    border-radius: 50%;\n",
              "    cursor: pointer;\n",
              "    display: none;\n",
              "    fill: var(--fill-color);\n",
              "    height: 32px;\n",
              "    padding: 0;\n",
              "    width: 32px;\n",
              "  }\n",
              "\n",
              "  .colab-df-quickchart:hover {\n",
              "    background-color: var(--hover-bg-color);\n",
              "    box-shadow: 0 1px 2px rgba(60, 64, 67, 0.3), 0 1px 3px 1px rgba(60, 64, 67, 0.15);\n",
              "    fill: var(--button-hover-fill-color);\n",
              "  }\n",
              "\n",
              "  .colab-df-quickchart-complete:disabled,\n",
              "  .colab-df-quickchart-complete:disabled:hover {\n",
              "    background-color: var(--disabled-bg-color);\n",
              "    fill: var(--disabled-fill-color);\n",
              "    box-shadow: none;\n",
              "  }\n",
              "\n",
              "  .colab-df-spinner {\n",
              "    border: 2px solid var(--fill-color);\n",
              "    border-color: transparent;\n",
              "    border-bottom-color: var(--fill-color);\n",
              "    animation:\n",
              "      spin 1s steps(1) infinite;\n",
              "  }\n",
              "\n",
              "  @keyframes spin {\n",
              "    0% {\n",
              "      border-color: transparent;\n",
              "      border-bottom-color: var(--fill-color);\n",
              "      border-left-color: var(--fill-color);\n",
              "    }\n",
              "    20% {\n",
              "      border-color: transparent;\n",
              "      border-left-color: var(--fill-color);\n",
              "      border-top-color: var(--fill-color);\n",
              "    }\n",
              "    30% {\n",
              "      border-color: transparent;\n",
              "      border-left-color: var(--fill-color);\n",
              "      border-top-color: var(--fill-color);\n",
              "      border-right-color: var(--fill-color);\n",
              "    }\n",
              "    40% {\n",
              "      border-color: transparent;\n",
              "      border-right-color: var(--fill-color);\n",
              "      border-top-color: var(--fill-color);\n",
              "    }\n",
              "    60% {\n",
              "      border-color: transparent;\n",
              "      border-right-color: var(--fill-color);\n",
              "    }\n",
              "    80% {\n",
              "      border-color: transparent;\n",
              "      border-right-color: var(--fill-color);\n",
              "      border-bottom-color: var(--fill-color);\n",
              "    }\n",
              "    90% {\n",
              "      border-color: transparent;\n",
              "      border-bottom-color: var(--fill-color);\n",
              "    }\n",
              "  }\n",
              "</style>\n",
              "\n",
              "  <script>\n",
              "    async function quickchart(key) {\n",
              "      const quickchartButtonEl =\n",
              "        document.querySelector('#' + key + ' button');\n",
              "      quickchartButtonEl.disabled = true;  // To prevent multiple clicks.\n",
              "      quickchartButtonEl.classList.add('colab-df-spinner');\n",
              "      try {\n",
              "        const charts = await google.colab.kernel.invokeFunction(\n",
              "            'suggestCharts', [key], {});\n",
              "      } catch (error) {\n",
              "        console.error('Error during call to suggestCharts:', error);\n",
              "      }\n",
              "      quickchartButtonEl.classList.remove('colab-df-spinner');\n",
              "      quickchartButtonEl.classList.add('colab-df-quickchart-complete');\n",
              "    }\n",
              "    (() => {\n",
              "      let quickchartButtonEl =\n",
              "        document.querySelector('#df-e9f1cbb2-423d-4926-96e7-07f9c465c4e3 button');\n",
              "      quickchartButtonEl.style.display =\n",
              "        google.colab.kernel.accessAllowed ? 'block' : 'none';\n",
              "    })();\n",
              "  </script>\n",
              "</div>\n",
              "    </div>\n",
              "  </div>\n"
            ]
          },
          "metadata": {},
          "execution_count": 10
        }
      ],
      "source": [
        "test"
      ]
    },
    {
      "cell_type": "code",
      "execution_count": 11,
      "id": "311d9665-8caa-4bfe-afc3-10ecb28705fc",
      "metadata": {
        "colab": {
          "base_uri": "https://localhost:8080/",
          "height": 53
        },
        "id": "311d9665-8caa-4bfe-afc3-10ecb28705fc",
        "outputId": "2142384b-68c3-4cba-fc57-2a29833bdb2d"
      },
      "outputs": [
        {
          "output_type": "execute_result",
          "data": {
            "text/plain": [
              "Empty DataFrame\n",
              "Columns: [Unnamed: 0, text, label, category]\n",
              "Index: []"
            ],
            "text/html": [
              "\n",
              "  <div id=\"df-cbe79394-b422-4fca-95ab-ddf25ab921b0\" class=\"colab-df-container\">\n",
              "    <div>\n",
              "<style scoped>\n",
              "    .dataframe tbody tr th:only-of-type {\n",
              "        vertical-align: middle;\n",
              "    }\n",
              "\n",
              "    .dataframe tbody tr th {\n",
              "        vertical-align: top;\n",
              "    }\n",
              "\n",
              "    .dataframe thead th {\n",
              "        text-align: right;\n",
              "    }\n",
              "</style>\n",
              "<table border=\"1\" class=\"dataframe\">\n",
              "  <thead>\n",
              "    <tr style=\"text-align: right;\">\n",
              "      <th></th>\n",
              "      <th>Unnamed: 0</th>\n",
              "      <th>text</th>\n",
              "      <th>label</th>\n",
              "      <th>category</th>\n",
              "    </tr>\n",
              "  </thead>\n",
              "  <tbody>\n",
              "  </tbody>\n",
              "</table>\n",
              "</div>\n",
              "    <div class=\"colab-df-buttons\">\n",
              "\n",
              "  <div class=\"colab-df-container\">\n",
              "    <button class=\"colab-df-convert\" onclick=\"convertToInteractive('df-cbe79394-b422-4fca-95ab-ddf25ab921b0')\"\n",
              "            title=\"Convert this dataframe to an interactive table.\"\n",
              "            style=\"display:none;\">\n",
              "\n",
              "  <svg xmlns=\"http://www.w3.org/2000/svg\" height=\"24px\" viewBox=\"0 -960 960 960\">\n",
              "    <path d=\"M120-120v-720h720v720H120Zm60-500h600v-160H180v160Zm220 220h160v-160H400v160Zm0 220h160v-160H400v160ZM180-400h160v-160H180v160Zm440 0h160v-160H620v160ZM180-180h160v-160H180v160Zm440 0h160v-160H620v160Z\"/>\n",
              "  </svg>\n",
              "    </button>\n",
              "\n",
              "  <style>\n",
              "    .colab-df-container {\n",
              "      display:flex;\n",
              "      gap: 12px;\n",
              "    }\n",
              "\n",
              "    .colab-df-convert {\n",
              "      background-color: #E8F0FE;\n",
              "      border: none;\n",
              "      border-radius: 50%;\n",
              "      cursor: pointer;\n",
              "      display: none;\n",
              "      fill: #1967D2;\n",
              "      height: 32px;\n",
              "      padding: 0 0 0 0;\n",
              "      width: 32px;\n",
              "    }\n",
              "\n",
              "    .colab-df-convert:hover {\n",
              "      background-color: #E2EBFA;\n",
              "      box-shadow: 0px 1px 2px rgba(60, 64, 67, 0.3), 0px 1px 3px 1px rgba(60, 64, 67, 0.15);\n",
              "      fill: #174EA6;\n",
              "    }\n",
              "\n",
              "    .colab-df-buttons div {\n",
              "      margin-bottom: 4px;\n",
              "    }\n",
              "\n",
              "    [theme=dark] .colab-df-convert {\n",
              "      background-color: #3B4455;\n",
              "      fill: #D2E3FC;\n",
              "    }\n",
              "\n",
              "    [theme=dark] .colab-df-convert:hover {\n",
              "      background-color: #434B5C;\n",
              "      box-shadow: 0px 1px 3px 1px rgba(0, 0, 0, 0.15);\n",
              "      filter: drop-shadow(0px 1px 2px rgba(0, 0, 0, 0.3));\n",
              "      fill: #FFFFFF;\n",
              "    }\n",
              "  </style>\n",
              "\n",
              "    <script>\n",
              "      const buttonEl =\n",
              "        document.querySelector('#df-cbe79394-b422-4fca-95ab-ddf25ab921b0 button.colab-df-convert');\n",
              "      buttonEl.style.display =\n",
              "        google.colab.kernel.accessAllowed ? 'block' : 'none';\n",
              "\n",
              "      async function convertToInteractive(key) {\n",
              "        const element = document.querySelector('#df-cbe79394-b422-4fca-95ab-ddf25ab921b0');\n",
              "        const dataTable =\n",
              "          await google.colab.kernel.invokeFunction('convertToInteractive',\n",
              "                                                    [key], {});\n",
              "        if (!dataTable) return;\n",
              "\n",
              "        const docLinkHtml = 'Like what you see? Visit the ' +\n",
              "          '<a target=\"_blank\" href=https://colab.research.google.com/notebooks/data_table.ipynb>data table notebook</a>'\n",
              "          + ' to learn more about interactive tables.';\n",
              "        element.innerHTML = '';\n",
              "        dataTable['output_type'] = 'display_data';\n",
              "        await google.colab.output.renderOutput(dataTable, element);\n",
              "        const docLink = document.createElement('div');\n",
              "        docLink.innerHTML = docLinkHtml;\n",
              "        element.appendChild(docLink);\n",
              "      }\n",
              "    </script>\n",
              "  </div>\n",
              "\n",
              "    </div>\n",
              "  </div>\n"
            ]
          },
          "metadata": {},
          "execution_count": 11
        }
      ],
      "source": [
        "test[test[\"text\"].isnull()]"
      ]
    },
    {
      "cell_type": "code",
      "execution_count": 12,
      "id": "8d1aff7a-0980-48f2-a1b8-a137f0b29a5d",
      "metadata": {
        "colab": {
          "base_uri": "https://localhost:8080/"
        },
        "id": "8d1aff7a-0980-48f2-a1b8-a137f0b29a5d",
        "outputId": "eeb28305-74e4-478a-ef7a-3a27fbb56f0c"
      },
      "outputs": [
        {
          "output_type": "execute_result",
          "data": {
            "text/plain": [
              "171"
            ]
          },
          "metadata": {},
          "execution_count": 12
        }
      ],
      "source": [
        "test.duplicated(subset=[\"text\"]).sum()"
      ]
    },
    {
      "cell_type": "code",
      "execution_count": 13,
      "id": "32875a20-57b6-4170-9b90-ba1ec0d8658c",
      "metadata": {
        "id": "32875a20-57b6-4170-9b90-ba1ec0d8658c"
      },
      "outputs": [],
      "source": [
        "test.drop_duplicates(subset=[\"text\"], inplace=True)"
      ]
    },
    {
      "cell_type": "code",
      "execution_count": 14,
      "id": "d294fb0a-1ab5-4a50-907f-50c1a874290d",
      "metadata": {
        "colab": {
          "base_uri": "https://localhost:8080/"
        },
        "id": "d294fb0a-1ab5-4a50-907f-50c1a874290d",
        "outputId": "c2800c29-3d11-4290-fe53-d893c07f4dd2"
      },
      "outputs": [
        {
          "output_type": "execute_result",
          "data": {
            "text/plain": [
              "Loaded_Language                                               1595\n",
              "Name_Calling_Labeling                                          824\n",
              "Doubt                                                          408\n",
              "Exaggeration_Minimisation                                      349\n",
              "Repetition                                                     230\n",
              "Causal_Oversimplification                                      162\n",
              "Appeal_to_fear-prejudice                                       160\n",
              "Flag-Waving                                                    144\n",
              "Slogans                                                         95\n",
              "Black-and-White_Fallacy                                         91\n",
              "Appeal_to_Authority                                             86\n",
              "Thought-terminating_Cliches                                     57\n",
              "Whataboutism                                                    52\n",
              "Reductio_ad_hitlerum                                            38\n",
              "Red_Herring                                                     23\n",
              "Loaded_Language,Repetition                                      13\n",
              "Name_Calling_Labeling,Repetition                                12\n",
              "Straw_Men                                                       10\n",
              "Obfuscation_Intentional_Vagueness_Confusion                     10\n",
              "Exaggeration_Minimisation,Loaded_Language                        9\n",
              "Exaggeration_Minimisation,Name_Calling_Labeling                  8\n",
              "Bandwagon                                                        8\n",
              "Loaded_Language,Name_Calling_Labeling                            7\n",
              "Loaded_Language,Thought-terminating_Cliches                      7\n",
              "Flag-Waving,Slogans                                              6\n",
              "Doubt,Flag-Waving                                                6\n",
              "Appeal_to_fear-prejudice,Loaded_Language                         6\n",
              "Appeal_to_fear-prejudice,Flag-Waving                             5\n",
              "Appeal_to_fear-prejudice,Reductio_ad_hitlerum                    3\n",
              "Flag-Waving,Loaded_Language                                      3\n",
              "Flag-Waving,Repetition                                           2\n",
              "Exaggeration_Minimisation,Flag-Waving                            2\n",
              "Appeal_to_fear-prejudice,Slogans                                 2\n",
              "Flag-Waving,Name_Calling_Labeling                                2\n",
              "Appeal_to_Authority,Causal_Oversimplification                    2\n",
              "Doubt,Loaded_Language                                            2\n",
              "Doubt,Name_Calling_Labeling                                      2\n",
              "Causal_Oversimplification,Exaggeration_Minimisation              1\n",
              "Causal_Oversimplification,Doubt                                  1\n",
              "Bandwagon,Exaggeration_Minimisation                              1\n",
              "Appeal_to_fear-prejudice,Black-and-White_Fallacy                 1\n",
              "Doubt,Reductio_ad_hitlerum                                       1\n",
              "Causal_Oversimplification,Straw_Men                              1\n",
              "Black-and-White_Fallacy,Thought-terminating_Cliches              1\n",
              "Appeal_to_fear-prejudice,Doubt                                   1\n",
              "Repetition,Slogans                                               1\n",
              "Appeal_to_fear-prejudice,Exaggeration_Minimisation               1\n",
              "Appeal_to_Authority,Exaggeration_Minimisation                    1\n",
              "Exaggeration_Minimisation,Name_Calling_Labeling,Repetition       1\n",
              "Appeal_to_fear-prejudice,Thought-terminating_Cliches             1\n",
              "Loaded_Language,Slogans                                          1\n",
              "Flag-Waving,Reductio_ad_hitlerum                                 1\n",
              "Appeal_to_Authority,Loaded_Language                              1\n",
              "Black-and-White_Fallacy,Reductio_ad_hitlerum                     1\n",
              "Exaggeration_Minimisation,Repetition                             1\n",
              "Black-and-White_Fallacy,Flag-Waving                              1\n",
              "Appeal_to_Authority,Appeal_to_fear-prejudice                     1\n",
              "Red_Herring,Repetition                                           1\n",
              "Loaded_Language,Name_Calling_Labeling,Repetition                 1\n",
              "Doubt,Exaggeration_Minimisation                                  1\n",
              "Name: label, dtype: int64"
            ]
          },
          "metadata": {},
          "execution_count": 14
        }
      ],
      "source": [
        "train[\"label\"].value_counts()"
      ]
    },
    {
      "cell_type": "code",
      "execution_count": 15,
      "id": "f2b8eeb0-77ca-4254-a489-c0cdaa184047",
      "metadata": {
        "colab": {
          "base_uri": "https://localhost:8080/"
        },
        "id": "f2b8eeb0-77ca-4254-a489-c0cdaa184047",
        "outputId": "1b9d722d-6481-4d15-bc5d-e9b54811d8de"
      },
      "outputs": [
        {
          "output_type": "execute_result",
          "data": {
            "text/plain": [
              "count                4464\n",
              "unique                 60\n",
              "top       Loaded_Language\n",
              "freq                 1595\n",
              "Name: label, dtype: object"
            ]
          },
          "metadata": {},
          "execution_count": 15
        }
      ],
      "source": [
        "train[\"label\"].describe()"
      ]
    },
    {
      "cell_type": "code",
      "execution_count": 16,
      "id": "1a10665b-6e14-4015-9106-b0d31405097f",
      "metadata": {
        "colab": {
          "base_uri": "https://localhost:8080/"
        },
        "id": "1a10665b-6e14-4015-9106-b0d31405097f",
        "outputId": "64c6ec75-49be-4a1e-b785-498aa2a58f24"
      },
      "outputs": [
        {
          "output_type": "execute_result",
          "data": {
            "text/plain": [
              "Loaded_Language                                                                      383\n",
              "Name_Calling_Labeling                                                                177\n",
              "Appeal_to_fear-prejudice                                                             110\n",
              "Repetition                                                                            99\n",
              "Exaggeration_Minimisation                                                             71\n",
              "Flag-Waving                                                                           70\n",
              "Doubt                                                                                 69\n",
              "Appeal_to_Authority                                                                   36\n",
              "Causal_Oversimplification                                                             30\n",
              "Slogans                                                                               30\n",
              "Black-and-White_Fallacy                                                               23\n",
              "Whataboutism                                                                          19\n",
              "Thought-terminating_Cliches                                                           13\n",
              "Reductio_ad_hitlerum                                                                  12\n",
              "Red_Herring                                                                           12\n",
              "Obfuscation_Intentional_Vagueness_Confusion                                            6\n",
              "Appeal_to_fear-prejudice,Loaded_Language                                               5\n",
              "Appeal_to_Authority,Exaggeration_Minimisation                                          5\n",
              "Appeal_to_Authority,Repetition                                                         4\n",
              "Exaggeration_Minimisation,Loaded_Language                                              3\n",
              "Flag-Waving,Thought-terminating_Cliches                                                3\n",
              "Bandwagon                                                                              3\n",
              "Appeal_to_fear-prejudice,Repetition                                                    2\n",
              "Straw_Men                                                                              2\n",
              "Loaded_Language,Slogans                                                                2\n",
              "Appeal_to_fear-prejudice,Flag-Waving                                                   2\n",
              "Doubt,Exaggeration_Minimisation                                                        2\n",
              "Appeal_to_fear-prejudice,Black-and-White_Fallacy                                       2\n",
              "Exaggeration_Minimisation,Repetition                                                   2\n",
              "Appeal_to_Authority,Appeal_to_fear-prejudice                                           2\n",
              "Appeal_to_Authority,Appeal_to_fear-prejudice,Repetition                                1\n",
              "Appeal_to_fear-prejudice,Flag-Waving,Loaded_Language                                   1\n",
              "Appeal_to_Authority,Appeal_to_fear-prejudice,Exaggeration_Minimisation,Repetition      1\n",
              "Causal_Oversimplification,Exaggeration_Minimisation                                    1\n",
              "Name_Calling_Labeling,Repetition                                                       1\n",
              "Repetition,Slogans                                                                     1\n",
              "Flag-Waving,Slogans                                                                    1\n",
              "Flag-Waving,Repetition                                                                 1\n",
              "Loaded_Language,Repetition                                                             1\n",
              "Appeal_to_fear-prejudice,Name_Calling_Labeling                                         1\n",
              "Appeal_to_fear-prejudice,Bandwagon                                                     1\n",
              "Name: label, dtype: int64"
            ]
          },
          "metadata": {},
          "execution_count": 16
        }
      ],
      "source": [
        "test[\"label\"].value_counts()"
      ]
    },
    {
      "cell_type": "code",
      "execution_count": 17,
      "id": "2229bc3f-ecce-42f5-9b35-5234fb9a5429",
      "metadata": {
        "colab": {
          "base_uri": "https://localhost:8080/"
        },
        "id": "2229bc3f-ecce-42f5-9b35-5234fb9a5429",
        "outputId": "1d1f563f-95d9-4080-87a6-d23e8c634701"
      },
      "outputs": [
        {
          "output_type": "execute_result",
          "data": {
            "text/plain": [
              "count                1210\n",
              "unique                 41\n",
              "top       Loaded_Language\n",
              "freq                  383\n",
              "Name: label, dtype: object"
            ]
          },
          "metadata": {},
          "execution_count": 17
        }
      ],
      "source": [
        "test[\"label\"].describe()"
      ]
    },
    {
      "cell_type": "code",
      "execution_count": 18,
      "id": "9086992e-d718-41b5-bbc7-be996e049016",
      "metadata": {
        "colab": {
          "base_uri": "https://localhost:8080/"
        },
        "id": "9086992e-d718-41b5-bbc7-be996e049016",
        "outputId": "0c7ae577-cfe2-4802-e553-c6d5f1e562e9"
      },
      "outputs": [
        {
          "output_type": "execute_result",
          "data": {
            "text/plain": [
              "count    4464.000000\n",
              "mean       52.327285\n",
              "std        66.162997\n",
              "min         3.000000\n",
              "25%        16.000000\n",
              "50%        27.000000\n",
              "75%        60.000000\n",
              "max       799.000000\n",
              "Name: text, dtype: float64"
            ]
          },
          "metadata": {},
          "execution_count": 18
        }
      ],
      "source": [
        "train[\"text\"].str.len().describe()"
      ]
    },
    {
      "cell_type": "code",
      "execution_count": 19,
      "id": "5506366a-f596-404f-822d-71ff0f625d18",
      "metadata": {
        "colab": {
          "base_uri": "https://localhost:8080/"
        },
        "id": "5506366a-f596-404f-822d-71ff0f625d18",
        "outputId": "94f9721c-a5f1-4ab4-8128-c57345119c9d"
      },
      "outputs": [
        {
          "output_type": "execute_result",
          "data": {
            "text/plain": [
              "count    4464.000000\n",
              "mean        8.622312\n",
              "std        11.305836\n",
              "min         1.000000\n",
              "25%         2.000000\n",
              "50%         4.000000\n",
              "75%        10.000000\n",
              "max       141.000000\n",
              "Name: tokens_per_text, dtype: float64"
            ]
          },
          "metadata": {},
          "execution_count": 19
        }
      ],
      "source": [
        "train[\"tokens_per_text\"] = train[\"text\"].str.split().str.len()\n",
        "train[\"tokens_per_text\"].describe()"
      ]
    },
    {
      "cell_type": "code",
      "execution_count": 20,
      "id": "759ae250-f185-4598-a68d-d6b75efeb9e4",
      "metadata": {
        "colab": {
          "base_uri": "https://localhost:8080/"
        },
        "id": "759ae250-f185-4598-a68d-d6b75efeb9e4",
        "outputId": "64854e79-cb13-4631-ee35-7847b1e53474"
      },
      "outputs": [
        {
          "output_type": "execute_result",
          "data": {
            "text/plain": [
              "count    1210.000000\n",
              "mean        7.338843\n",
              "std         9.341914\n",
              "min         1.000000\n",
              "25%         2.000000\n",
              "50%         4.000000\n",
              "75%         9.000000\n",
              "max        80.000000\n",
              "Name: tokens_per_text, dtype: float64"
            ]
          },
          "metadata": {},
          "execution_count": 20
        }
      ],
      "source": [
        "test[\"tokens_per_text\"] = test[\"text\"].str.split().str.len()\n",
        "test[\"tokens_per_text\"].describe()"
      ]
    },
    {
      "cell_type": "code",
      "execution_count": 21,
      "id": "13435cd8-6df1-425d-904b-bcc509900797",
      "metadata": {
        "colab": {
          "base_uri": "https://localhost:8080/"
        },
        "id": "13435cd8-6df1-425d-904b-bcc509900797",
        "outputId": "fbea3d91-67a6-46da-a29b-41efd1970e34"
      },
      "outputs": [
        {
          "output_type": "execute_result",
          "data": {
            "text/plain": [
              "count    4464.000000\n",
              "mean        8.622312\n",
              "std        11.305836\n",
              "min         1.000000\n",
              "25%         2.000000\n",
              "50%         4.000000\n",
              "75%        10.000000\n",
              "max       141.000000\n",
              "Name: tokens_per_text, dtype: float64"
            ]
          },
          "metadata": {},
          "execution_count": 21
        }
      ],
      "source": [
        "train[\"tokens_per_text\"] = train[\"text\"].str.split().str.len()\n",
        "train[\"tokens_per_text\"].describe()"
      ]
    },
    {
      "cell_type": "code",
      "execution_count": 22,
      "id": "a758d52b-89d7-4305-a244-d1b877275dd5",
      "metadata": {
        "id": "a758d52b-89d7-4305-a244-d1b877275dd5"
      },
      "outputs": [],
      "source": [
        "# Seems to not be necessary as we use BERTweet default tokenizer with normalization enabled\n",
        "# from https://github.com/VinAIResearch/BERTweet/blob/master/TweetNormalizer.py\n",
        "# twitter_tokenizer = TweetTokenizer()\n",
        "\n",
        "# def normalizeToken(token):\n",
        "#     lowercased_token = token.lower()\n",
        "#     if token.startswith(\"@\"):\n",
        "#         return \"@USER\"\n",
        "#     elif lowercased_token.startswith(\"http\") or lowercased_token.startswith(\"www\"):\n",
        "#         return \"HTTPURL\"\n",
        "#     elif len(token) == 1:\n",
        "#         return demojize(token)\n",
        "#     else:\n",
        "#         if token == \"’\":\n",
        "#             return \"'\"\n",
        "#         elif token == \"…\":\n",
        "#             return \"...\"\n",
        "#         else:\n",
        "#             return token\n",
        "\n",
        "\n",
        "# def normalizeTweet(tweet):\n",
        "#     tokens = twitter_tokenizer.tokenize(tweet.replace(\"’\", \"'\").replace(\"…\", \"...\"))\n",
        "#     normTweet = \" \".join([normalizeToken(token) for token in tokens])\n",
        "\n",
        "#     normTweet = (\n",
        "#         normTweet.replace(\"cannot \", \"can not \")\n",
        "#         .replace(\"n't \", \" n't \")\n",
        "#         .replace(\"n 't \", \" n't \")\n",
        "#         .replace(\"ca n't\", \"can't\")\n",
        "#         .replace(\"ai n't\", \"ain't\")\n",
        "#     )\n",
        "#     normTweet = (\n",
        "#         normTweet.replace(\"'m \", \" 'm \")\n",
        "#         .replace(\"'re \", \" 're \")\n",
        "#         .replace(\"'s \", \" 's \")\n",
        "#         .replace(\"'ll \", \" 'll \")\n",
        "#         .replace(\"'d \", \" 'd \")\n",
        "#         .replace(\"'ve \", \" 've \")\n",
        "#     )\n",
        "#     normTweet = (\n",
        "#         normTweet.replace(\" p . m .\", \"  p.m.\")\n",
        "#         .replace(\" p . m \", \" p.m \")\n",
        "#         .replace(\" a . m .\", \" a.m.\")\n",
        "#         .replace(\" a . m \", \" a.m \")\n",
        "#     )\n",
        "\n",
        "#     return \" \".join(normTweet.split())"
      ]
    },
    {
      "cell_type": "code",
      "execution_count": 23,
      "id": "09ab54d7-b615-4114-be91-5f16ed823f81",
      "metadata": {
        "id": "09ab54d7-b615-4114-be91-5f16ed823f81"
      },
      "outputs": [],
      "source": [
        "model_name = \"vinai/bertweet-base\"\n",
        "\n",
        "################################################################################\n",
        "# bitsandbytes parameters\n",
        "################################################################################\n",
        "# Compute dtype for 4-bit base models\n",
        "bnb_4bit_compute_dtype = \"float16\"\n",
        "################################################################################\n",
        "# SFT parameters\n",
        "################################################################################\n",
        "# Load the entire model on the GPU 0\n",
        "device_map = {\"\": 0}\n",
        "\n",
        "# Load tokenizer and model with QLoRA configuration\n",
        "compute_dtype = getattr(torch, bnb_4bit_compute_dtype)\n",
        "bnb_config = BitsAndBytesConfig(\n",
        "    # Activate 4-bit precision base model loading\n",
        "    load_in_4bit=True,\n",
        "    # Quantization type (fp4 or nf4)\n",
        "    bnb_4bit_quant_type = \"nf4\",\n",
        "    bnb_4bit_compute_dtype=compute_dtype,\n",
        "    # Activate nested quantization for 4-bit base models (double quantization)\n",
        "    bnb_4bit_use_double_quant=False,\n",
        ")\n",
        "\n",
        "# Max length of a sequence for the model https://github.com/VinAIResearch/BERTweet/tree/master#models2\n",
        "max_seq_len=128\n",
        "tokenizer = AutoTokenizer.from_pretrained(model_name, use_fast=False, normalization=True)\n",
        "model = AutoModel.from_pretrained(model_name, quantization_config=bnb_config, device_map=device_map)"
      ]
    },
    {
      "cell_type": "code",
      "execution_count": 24,
      "id": "a6c22941-0a39-414a-9e17-92ae235670a4",
      "metadata": {
        "colab": {
          "base_uri": "https://localhost:8080/"
        },
        "id": "a6c22941-0a39-414a-9e17-92ae235670a4",
        "outputId": "e2b2fc34-2623-4445-da55-7bff69814130"
      },
      "outputs": [
        {
          "output_type": "execute_result",
          "data": {
            "text/plain": [
              "0                   [0, 1267, 32789, 6680, 15, 885, 4, 2]\n",
              "1       [0, 134, 19715, 48, 268, 3430, 45973, 5094, 13...\n",
              "2                              [0, 40212, 41645, 1654, 2]\n",
              "3       [0, 6, 2580, 25, 867, 6, 220, 6, 4658, 880, 15...\n",
              "4       [0, 47, 922, 151, 143, 870, 11, 1719, 19, 4982...\n",
              "                              ...                        \n",
              "1375                    [0, 11, 200, 847, 14270, 4312, 2]\n",
              "1376                            [0, 46004, 4542, 4265, 2]\n",
              "1377                                  [0, 9055, 43899, 2]\n",
              "1378                                  [0, 26730, 2915, 2]\n",
              "1379                                    [0, 1576, 750, 2]\n",
              "Name: text, Length: 5674, dtype: object"
            ]
          },
          "metadata": {},
          "execution_count": 24
        }
      ],
      "source": [
        "data = pd.concat((train[\"text\"], test[\"text\"]))\n",
        "tokens = data.apply((lambda x: tokenizer.encode(\n",
        "    x,\n",
        "    truncation=True,\n",
        "    max_length=max_seq_len\n",
        ")))\n",
        "tokens"
      ]
    },
    {
      "cell_type": "code",
      "execution_count": 25,
      "id": "4c7b0774-a9cd-4351-a547-184a0b311b07",
      "metadata": {
        "colab": {
          "base_uri": "https://localhost:8080/"
        },
        "id": "4c7b0774-a9cd-4351-a547-184a0b311b07",
        "outputId": "8af8cb39-49be-4053-b3c5-ceb1e7eea7b1"
      },
      "outputs": [
        {
          "output_type": "execute_result",
          "data": {
            "text/plain": [
              "(5674, 128)"
            ]
          },
          "metadata": {},
          "execution_count": 25
        }
      ],
      "source": [
        "padded = np.array([token+[0]*(max_seq_len-len(token)) for token in tokens.values])\n",
        "np.array(padded).shape"
      ]
    },
    {
      "cell_type": "code",
      "execution_count": 26,
      "id": "e9041fba-385f-4d0f-b964-8d85ecf9ee7c",
      "metadata": {
        "colab": {
          "base_uri": "https://localhost:8080/"
        },
        "id": "e9041fba-385f-4d0f-b964-8d85ecf9ee7c",
        "outputId": "b5d7caba-6c7b-4e23-ceb5-8eebc629704c"
      },
      "outputs": [
        {
          "output_type": "execute_result",
          "data": {
            "text/plain": [
              "(5674, 128)"
            ]
          },
          "metadata": {},
          "execution_count": 26
        }
      ],
      "source": [
        "attention_mask = np.where(padded != 0, 1, 0)\n",
        "attention_mask.shape"
      ]
    },
    {
      "cell_type": "code",
      "execution_count": 27,
      "id": "ac4fb6bd-8bc7-41e2-b370-644b5113846c",
      "metadata": {
        "colab": {
          "base_uri": "https://localhost:8080/"
        },
        "id": "ac4fb6bd-8bc7-41e2-b370-644b5113846c",
        "outputId": "0af2d1d3-91fe-4fd3-d8a9-1a13f133ed48"
      },
      "outputs": [
        {
          "output_type": "stream",
          "name": "stdout",
          "text": [
            "Running inference with batch no. 1\n",
            "torch.Size([64, 128, 768])\n",
            "Running inference with batch no. 2\n",
            "Running inference with batch no. 3\n",
            "Running inference with batch no. 4\n",
            "Running inference with batch no. 5\n",
            "Running inference with batch no. 6\n",
            "Running inference with batch no. 7\n",
            "Running inference with batch no. 8\n",
            "Running inference with batch no. 9\n",
            "Running inference with batch no. 10\n",
            "Running inference with batch no. 11\n",
            "Running inference with batch no. 12\n",
            "Running inference with batch no. 13\n",
            "Running inference with batch no. 14\n",
            "Running inference with batch no. 15\n",
            "Running inference with batch no. 16\n",
            "Running inference with batch no. 17\n",
            "Running inference with batch no. 18\n",
            "Running inference with batch no. 19\n",
            "Running inference with batch no. 20\n",
            "Running inference with batch no. 21\n",
            "Running inference with batch no. 22\n",
            "Running inference with batch no. 23\n",
            "Running inference with batch no. 24\n",
            "Running inference with batch no. 25\n",
            "Running inference with batch no. 26\n",
            "Running inference with batch no. 27\n",
            "Running inference with batch no. 28\n",
            "Running inference with batch no. 29\n",
            "Running inference with batch no. 30\n",
            "Running inference with batch no. 31\n",
            "Running inference with batch no. 32\n",
            "Running inference with batch no. 33\n",
            "Running inference with batch no. 34\n",
            "Running inference with batch no. 35\n",
            "Running inference with batch no. 36\n",
            "Running inference with batch no. 37\n",
            "Running inference with batch no. 38\n",
            "Running inference with batch no. 39\n",
            "Running inference with batch no. 40\n",
            "Running inference with batch no. 41\n",
            "Running inference with batch no. 42\n",
            "Running inference with batch no. 43\n",
            "Running inference with batch no. 44\n",
            "Running inference with batch no. 45\n",
            "Running inference with batch no. 46\n",
            "Running inference with batch no. 47\n",
            "Running inference with batch no. 48\n",
            "Running inference with batch no. 49\n",
            "Running inference with batch no. 50\n",
            "Running inference with batch no. 51\n",
            "Running inference with batch no. 52\n",
            "Running inference with batch no. 53\n",
            "Running inference with batch no. 54\n",
            "Running inference with batch no. 55\n",
            "Running inference with batch no. 56\n",
            "Running inference with batch no. 57\n",
            "Running inference with batch no. 58\n",
            "Running inference with batch no. 59\n",
            "Running inference with batch no. 60\n",
            "Running inference with batch no. 61\n",
            "Running inference with batch no. 62\n",
            "Running inference with batch no. 63\n",
            "Running inference with batch no. 64\n",
            "Running inference with batch no. 65\n",
            "Running inference with batch no. 66\n",
            "Running inference with batch no. 67\n",
            "Running inference with batch no. 68\n",
            "Running inference with batch no. 69\n",
            "Running inference with batch no. 70\n",
            "Running inference with batch no. 71\n",
            "Running inference with batch no. 72\n",
            "Running inference with batch no. 73\n",
            "Running inference with batch no. 74\n",
            "Running inference with batch no. 75\n",
            "Running inference with batch no. 76\n",
            "Running inference with batch no. 77\n",
            "Running inference with batch no. 78\n",
            "Running inference with batch no. 79\n",
            "Running inference with batch no. 80\n",
            "Running inference with batch no. 81\n",
            "Running inference with batch no. 82\n",
            "Running inference with batch no. 83\n",
            "Running inference with batch no. 84\n",
            "Running inference with batch no. 85\n",
            "Running inference with batch no. 86\n",
            "Running inference with batch no. 87\n",
            "Running inference with batch no. 88\n",
            "Running inference with batch no. 89\n",
            "torch.Size([42, 128, 768])\n",
            "features shape: (5674, 768)\n"
          ]
        }
      ],
      "source": [
        "input_ids = torch.tensor(padded).to(model.device)\n",
        "attention_mask = torch.tensor(attention_mask).to(model.device)\n",
        "\n",
        "ds = Dataset.from_dict({\"input_ids\": input_ids, \"attention_mask\": attention_mask}).with_format(\"torch\")\n",
        "dataloader = DataLoader(ds, batch_size=64)\n",
        "\n",
        "last_hidden_states = torch.tensor([]).to(model.device)\n",
        "with torch.no_grad():\n",
        "    for idx, batch in enumerate(dataloader):\n",
        "      print(f'Running inference with batch no. {idx+1}')\n",
        "      last_hidden_states_for_batch = model(batch[\"input_ids\"], attention_mask=batch[\"attention_mask\"])\n",
        "      if idx == 0 or idx == len(dataloader)-1:\n",
        "        print(last_hidden_states_for_batch[0].shape)\n",
        "      last_hidden_states = torch.cat((last_hidden_states, last_hidden_states_for_batch[0].to(model.device)))\n",
        "\n",
        "# extract [CLS] token hidden representation from output layer\n",
        "features = last_hidden_states[:,0,:].cpu().numpy()\n",
        "print(f'features shape: {features.shape}')\n",
        "\n",
        "# Empty VRAM\n",
        "del model\n",
        "import gc\n",
        "gc.collect()\n",
        "torch.cuda.empty_cache()"
      ]
    },
    {
      "cell_type": "code",
      "source": [
        "train_features, test_features = features[:train.shape[0]], features[train.shape[0]:]\n",
        "print(f'train features: {len(train_features)}')\n",
        "print(f'test features: {len(test_features)}')"
      ],
      "metadata": {
        "colab": {
          "base_uri": "https://localhost:8080/"
        },
        "id": "_btk0-rNj47o",
        "outputId": "aa434908-194f-40a3-8355-8c23d1a6bfd0"
      },
      "id": "_btk0-rNj47o",
      "execution_count": 28,
      "outputs": [
        {
          "output_type": "stream",
          "name": "stdout",
          "text": [
            "train features: 4464\n",
            "test features: 1210\n"
          ]
        }
      ]
    },
    {
      "cell_type": "code",
      "execution_count": 29,
      "id": "41384008-6c93-4963-a0fd-88c54a2d59c9",
      "metadata": {
        "colab": {
          "base_uri": "https://localhost:8080/"
        },
        "id": "41384008-6c93-4963-a0fd-88c54a2d59c9",
        "outputId": "a9ad1bd8-18f4-42a7-8f97-20dc6f607589"
      },
      "outputs": [
        {
          "output_type": "stream",
          "name": "stdout",
          "text": [
            "train labels: 4464\n",
            "test labels: 1210\n",
            "qty of labels: 18\n"
          ]
        }
      ],
      "source": [
        "train_labels, test_labels = train[\"label\"].str.split(\",\").to_numpy(), test[\"label\"].str.split(\",\").to_numpy()\n",
        "print(f'train labels: {len(train_labels)}')\n",
        "print(f'test labels: {len(test_labels)}')\n",
        "\n",
        "labels_with_duplicates = np.hstack(np.concatenate((train_labels, test_labels), axis=None))\n",
        "labels = [list(set(labels_with_duplicates))]\n",
        "print(f'qty of labels: {len(labels[0])}')"
      ]
    },
    {
      "cell_type": "code",
      "source": [
        "mlb = MultiLabelBinarizer()\n",
        "train_labels_binarized = mlb.fit(labels).transform(train_labels)\n",
        "test_labels_binarized = mlb.transform(test_labels)\n",
        "print(f'qty labels train: {len(train_labels_binarized[0])}')\n",
        "print(f'qty labels test: {len(test_labels_binarized[0])}')"
      ],
      "metadata": {
        "colab": {
          "base_uri": "https://localhost:8080/"
        },
        "id": "6rnxh4pPA2_u",
        "outputId": "375ef743-a7cf-46d2-9a4f-29330752fb58"
      },
      "id": "6rnxh4pPA2_u",
      "execution_count": 30,
      "outputs": [
        {
          "output_type": "stream",
          "name": "stdout",
          "text": [
            "qty labels train: 18\n",
            "qty labels test: 18\n"
          ]
        }
      ]
    },
    {
      "cell_type": "code",
      "source": [
        "ff = MLPClassifier(\n",
        "    random_state=1,\n",
        "    max_iter=400,\n",
        "    alpha=0.0001,\n",
        "    shuffle=True,\n",
        "    early_stopping=True,\n",
        "    verbose=True\n",
        ").fit(train_features, train_labels_binarized)"
      ],
      "metadata": {
        "colab": {
          "base_uri": "https://localhost:8080/"
        },
        "id": "k34lZxj6umWa",
        "outputId": "ed10250a-a41b-4847-c668-2822c841045b"
      },
      "id": "k34lZxj6umWa",
      "execution_count": 35,
      "outputs": [
        {
          "output_type": "stream",
          "name": "stdout",
          "text": [
            "Iteration 1, loss = 5.56557474\n",
            "Validation score: 0.000000\n",
            "Iteration 2, loss = 3.07998794\n",
            "Validation score: 0.156600\n",
            "Iteration 3, loss = 2.95007633\n",
            "Validation score: 0.029083\n",
            "Iteration 4, loss = 2.89216994\n",
            "Validation score: 0.232662\n",
            "Iteration 5, loss = 2.85547051\n",
            "Validation score: 0.210291\n",
            "Iteration 6, loss = 2.82662019\n",
            "Validation score: 0.196868\n",
            "Iteration 7, loss = 2.79705340\n",
            "Validation score: 0.085011\n",
            "Iteration 8, loss = 2.78081289\n",
            "Validation score: 0.058166\n",
            "Iteration 9, loss = 2.76137397\n",
            "Validation score: 0.196868\n",
            "Iteration 10, loss = 2.73738339\n",
            "Validation score: 0.223714\n",
            "Iteration 11, loss = 2.71978845\n",
            "Validation score: 0.181208\n",
            "Iteration 12, loss = 2.70670171\n",
            "Validation score: 0.078300\n",
            "Iteration 13, loss = 2.69534009\n",
            "Validation score: 0.138702\n",
            "Iteration 14, loss = 2.67748948\n",
            "Validation score: 0.183445\n",
            "Iteration 15, loss = 2.66727234\n",
            "Validation score: 0.232662\n",
            "Validation score did not improve more than tol=0.000100 for 10 consecutive epochs. Stopping.\n"
          ]
        }
      ]
    },
    {
      "cell_type": "code",
      "execution_count": 36,
      "id": "50ec2fcf-220f-418a-bb57-76cf8be1253a",
      "metadata": {
        "colab": {
          "base_uri": "https://localhost:8080/"
        },
        "id": "50ec2fcf-220f-418a-bb57-76cf8be1253a",
        "outputId": "a34ee372-ea27-43c8-e3a4-6645dd0a4228"
      },
      "outputs": [
        {
          "output_type": "stream",
          "name": "stdout",
          "text": [
            "micro-f1: 0.27953410981697174\n",
            "accuracy: 0.20330578512396694\n",
            "micro-precision: 0.4632352941176471\n",
            "micro-recall: 0.20015885623510724\n"
          ]
        }
      ],
      "source": [
        "test_predicted_labels_binarized = ff.predict(test_features)\n",
        "micro_f1 = f1_score(test_labels_binarized, test_predicted_labels_binarized, average=\"micro\")\n",
        "acc = accuracy_score(test_labels_binarized, test_predicted_labels_binarized)\n",
        "prec = precision_score(test_labels_binarized, test_predicted_labels_binarized, average=\"micro\")\n",
        "rec = recall_score(test_labels_binarized, test_predicted_labels_binarized, average=\"micro\")\n",
        "print(f'micro-f1: {micro_f1}')\n",
        "print(f'accuracy: {acc}')\n",
        "print(f'micro-precision: {prec}')\n",
        "print(f'micro-recall: {rec}')"
      ]
    },
    {
      "cell_type": "code",
      "execution_count": 37,
      "id": "39f72ed2-28dc-4370-8e77-161652131873",
      "metadata": {
        "colab": {
          "base_uri": "https://localhost:8080/"
        },
        "id": "39f72ed2-28dc-4370-8e77-161652131873",
        "outputId": "4f42099c-abea-4acd-9b7f-05fc5c2290e5"
      },
      "outputs": [
        {
          "output_type": "execute_result",
          "data": {
            "text/plain": [
              "(18, 2, 2)"
            ]
          },
          "metadata": {},
          "execution_count": 37
        }
      ],
      "source": [
        "cf_mtx = multilabel_confusion_matrix(test_labels_binarized, test_predicted_labels_binarized)\n",
        "cf_mtx.shape"
      ]
    },
    {
      "cell_type": "code",
      "source": [
        "cf_mtx"
      ],
      "metadata": {
        "colab": {
          "base_uri": "https://localhost:8080/"
        },
        "id": "MCFd_r0n50LT",
        "outputId": "a5117524-079e-4012-a024-aa419714cfdc"
      },
      "id": "MCFd_r0n50LT",
      "execution_count": 38,
      "outputs": [
        {
          "output_type": "execute_result",
          "data": {
            "text/plain": [
              "array([[[1161,    0],\n",
              "        [  49,    0]],\n",
              "\n",
              "       [[1082,    0],\n",
              "        [ 128,    0]],\n",
              "\n",
              "       [[1206,    0],\n",
              "        [   4,    0]],\n",
              "\n",
              "       [[1185,    0],\n",
              "        [  25,    0]],\n",
              "\n",
              "       [[1179,    0],\n",
              "        [  31,    0]],\n",
              "\n",
              "       [[1139,    0],\n",
              "        [  71,    0]],\n",
              "\n",
              "       [[1125,    0],\n",
              "        [  85,    0]],\n",
              "\n",
              "       [[1132,    0],\n",
              "        [  78,    0]],\n",
              "\n",
              "       [[ 523,  292],\n",
              "        [ 144,  251]],\n",
              "\n",
              "       [[1031,    0],\n",
              "        [ 178,    1]],\n",
              "\n",
              "       [[1204,    0],\n",
              "        [   6,    0]],\n",
              "\n",
              "       [[1198,    0],\n",
              "        [  12,    0]],\n",
              "\n",
              "       [[1198,    0],\n",
              "        [  12,    0]],\n",
              "\n",
              "       [[1097,    0],\n",
              "        [ 113,    0]],\n",
              "\n",
              "       [[1176,    0],\n",
              "        [  34,    0]],\n",
              "\n",
              "       [[1208,    0],\n",
              "        [   2,    0]],\n",
              "\n",
              "       [[1194,    0],\n",
              "        [  16,    0]],\n",
              "\n",
              "       [[1191,    0],\n",
              "        [  19,    0]]])"
            ]
          },
          "metadata": {},
          "execution_count": 38
        }
      ]
    }
  ],
  "metadata": {
    "kernelspec": {
      "display_name": "Python 3",
      "name": "python3"
    },
    "language_info": {
      "codemirror_mode": {
        "name": "ipython",
        "version": 3
      },
      "file_extension": ".py",
      "mimetype": "text/x-python",
      "name": "python",
      "nbconvert_exporter": "python",
      "pygments_lexer": "ipython3",
      "version": "3.11.5"
    },
    "colab": {
      "provenance": [],
      "gpuType": "T4",
      "include_colab_link": true
    },
    "accelerator": "GPU"
  },
  "nbformat": 4,
  "nbformat_minor": 5
}