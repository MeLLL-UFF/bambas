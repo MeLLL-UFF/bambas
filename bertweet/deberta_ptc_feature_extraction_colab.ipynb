{
  "cells": [
    {
      "cell_type": "markdown",
      "metadata": {
        "id": "view-in-github",
        "colab_type": "text"
      },
      "source": [
        "<a href=\"https://colab.research.google.com/github/MeLLL-UFF/bambas/blob/feat%2Fbertweet/deberta_ptc_feature_extraction_colab.ipynb\" target=\"_parent\"><img src=\"https://colab.research.google.com/assets/colab-badge.svg\" alt=\"Open In Colab\"/></a>"
      ]
    },
    {
      "cell_type": "code",
      "source": [
        "pip install -q transformers sentencepiece pandas matplotlib torch numpy datasets scikit_learn notebook matplotlib emoji==0.6.0 nltk bitsandbytes==0.40.2 accelerate==0.21.0"
      ],
      "metadata": {
        "id": "V0yQBtmTZviM"
      },
      "id": "V0yQBtmTZviM",
      "execution_count": 1,
      "outputs": []
    },
    {
      "cell_type": "code",
      "execution_count": 2,
      "id": "a58bb227-54cb-46ee-aa86-b4cc5a016e02",
      "metadata": {
        "colab": {
          "base_uri": "https://localhost:8080/"
        },
        "id": "a58bb227-54cb-46ee-aa86-b4cc5a016e02",
        "outputId": "66c150dd-8d7d-4343-ae28-166f51155db9"
      },
      "outputs": [
        {
          "output_type": "stream",
          "name": "stdout",
          "text": [
            "Drive already mounted at /gdrive; to attempt to forcibly remount, call drive.mount(\"/gdrive\", force_remount=True).\n"
          ]
        }
      ],
      "source": [
        "import pandas as pd\n",
        "import numpy as np\n",
        "import torch\n",
        "from transformers import AutoModel, AutoTokenizer, BitsAndBytesConfig\n",
        "from datasets import Dataset\n",
        "from torch.utils.data import DataLoader\n",
        "from emoji import demojize\n",
        "from nltk.tokenize import TweetTokenizer\n",
        "from sklearn.preprocessing import MultiLabelBinarizer\n",
        "from sklearn.neural_network import MLPClassifier\n",
        "from sklearn.metrics import f1_score, accuracy_score, precision_score, recall_score, multilabel_confusion_matrix\n",
        "from google.colab import drive\n",
        "drive.mount(\"/gdrive\")\n",
        "WORKDIR=\"/gdrive/My Drive/projects/bambas/bertweet\""
      ]
    },
    {
      "cell_type": "code",
      "execution_count": 3,
      "id": "4764cf4a-6e5b-4ce0-8c0d-3943a345b2ee",
      "metadata": {
        "colab": {
          "base_uri": "https://localhost:8080/",
          "height": 35
        },
        "id": "4764cf4a-6e5b-4ce0-8c0d-3943a345b2ee",
        "outputId": "b9039773-45fd-4763-c504-e8e8b9637342"
      },
      "outputs": [
        {
          "output_type": "execute_result",
          "data": {
            "text/plain": [
              "'/content'"
            ],
            "application/vnd.google.colaboratory.intrinsic+json": {
              "type": "string"
            }
          },
          "metadata": {},
          "execution_count": 3
        }
      ],
      "source": [
        "%pwd"
      ]
    },
    {
      "cell_type": "code",
      "execution_count": 4,
      "id": "d01777c8-c362-4799-8149-7e147be169fb",
      "metadata": {
        "colab": {
          "base_uri": "https://localhost:8080/",
          "height": 528
        },
        "id": "d01777c8-c362-4799-8149-7e147be169fb",
        "outputId": "30db568d-2125-4c3b-b661-29f418792bf5"
      },
      "outputs": [
        {
          "output_type": "execute_result",
          "data": {
            "text/plain": [
              "      Unnamed: 0                                               text  \\\n",
              "0              0                    Stop Islamization of America.\\t   \n",
              "1              1  We condemn all those whose behaviours and view...   \n",
              "2              2                                      Defeat Jihad`   \n",
              "3              3  the nation that gave the world the Magna Carta...   \n",
              "4              4  The UK should never become a stage for inflamm...   \n",
              "...          ...                                                ...   \n",
              "4945        4945                                               sham   \n",
              "4946        4946                         evidently completely false   \n",
              "4947        4947                              Russian collaborators   \n",
              "4948        4948  We have previously shown that the Guardian eve...   \n",
              "4949        4949  Unfortunately other 'western' media are not mu...   \n",
              "\n",
              "                        label              category  \n",
              "0                     Slogans                  Call  \n",
              "1     Black-and-White_Fallacy                   NaN  \n",
              "2                     Slogans                  Call  \n",
              "3             Loaded_Language  Manipulative_wording  \n",
              "4                 Flag-Waving         Justification  \n",
              "...                       ...                   ...  \n",
              "4945          Loaded_Language  Manipulative_wording  \n",
              "4946    Name_Calling_Labeling  Attack_on_reputation  \n",
              "4947    Name_Calling_Labeling  Attack_on_reputation  \n",
              "4948     Reductio_ad_hitlerum                   NaN  \n",
              "4949             Whataboutism           Distraction  \n",
              "\n",
              "[4950 rows x 4 columns]"
            ],
            "text/html": [
              "\n",
              "  <div id=\"df-1ab78d99-6757-4c58-8490-5352b61a8f84\" class=\"colab-df-container\">\n",
              "    <div>\n",
              "<style scoped>\n",
              "    .dataframe tbody tr th:only-of-type {\n",
              "        vertical-align: middle;\n",
              "    }\n",
              "\n",
              "    .dataframe tbody tr th {\n",
              "        vertical-align: top;\n",
              "    }\n",
              "\n",
              "    .dataframe thead th {\n",
              "        text-align: right;\n",
              "    }\n",
              "</style>\n",
              "<table border=\"1\" class=\"dataframe\">\n",
              "  <thead>\n",
              "    <tr style=\"text-align: right;\">\n",
              "      <th></th>\n",
              "      <th>Unnamed: 0</th>\n",
              "      <th>text</th>\n",
              "      <th>label</th>\n",
              "      <th>category</th>\n",
              "    </tr>\n",
              "  </thead>\n",
              "  <tbody>\n",
              "    <tr>\n",
              "      <th>0</th>\n",
              "      <td>0</td>\n",
              "      <td>Stop Islamization of America.\\t</td>\n",
              "      <td>Slogans</td>\n",
              "      <td>Call</td>\n",
              "    </tr>\n",
              "    <tr>\n",
              "      <th>1</th>\n",
              "      <td>1</td>\n",
              "      <td>We condemn all those whose behaviours and view...</td>\n",
              "      <td>Black-and-White_Fallacy</td>\n",
              "      <td>NaN</td>\n",
              "    </tr>\n",
              "    <tr>\n",
              "      <th>2</th>\n",
              "      <td>2</td>\n",
              "      <td>Defeat Jihad`</td>\n",
              "      <td>Slogans</td>\n",
              "      <td>Call</td>\n",
              "    </tr>\n",
              "    <tr>\n",
              "      <th>3</th>\n",
              "      <td>3</td>\n",
              "      <td>the nation that gave the world the Magna Carta...</td>\n",
              "      <td>Loaded_Language</td>\n",
              "      <td>Manipulative_wording</td>\n",
              "    </tr>\n",
              "    <tr>\n",
              "      <th>4</th>\n",
              "      <td>4</td>\n",
              "      <td>The UK should never become a stage for inflamm...</td>\n",
              "      <td>Flag-Waving</td>\n",
              "      <td>Justification</td>\n",
              "    </tr>\n",
              "    <tr>\n",
              "      <th>...</th>\n",
              "      <td>...</td>\n",
              "      <td>...</td>\n",
              "      <td>...</td>\n",
              "      <td>...</td>\n",
              "    </tr>\n",
              "    <tr>\n",
              "      <th>4945</th>\n",
              "      <td>4945</td>\n",
              "      <td>sham</td>\n",
              "      <td>Loaded_Language</td>\n",
              "      <td>Manipulative_wording</td>\n",
              "    </tr>\n",
              "    <tr>\n",
              "      <th>4946</th>\n",
              "      <td>4946</td>\n",
              "      <td>evidently completely false</td>\n",
              "      <td>Name_Calling_Labeling</td>\n",
              "      <td>Attack_on_reputation</td>\n",
              "    </tr>\n",
              "    <tr>\n",
              "      <th>4947</th>\n",
              "      <td>4947</td>\n",
              "      <td>Russian collaborators</td>\n",
              "      <td>Name_Calling_Labeling</td>\n",
              "      <td>Attack_on_reputation</td>\n",
              "    </tr>\n",
              "    <tr>\n",
              "      <th>4948</th>\n",
              "      <td>4948</td>\n",
              "      <td>We have previously shown that the Guardian eve...</td>\n",
              "      <td>Reductio_ad_hitlerum</td>\n",
              "      <td>NaN</td>\n",
              "    </tr>\n",
              "    <tr>\n",
              "      <th>4949</th>\n",
              "      <td>4949</td>\n",
              "      <td>Unfortunately other 'western' media are not mu...</td>\n",
              "      <td>Whataboutism</td>\n",
              "      <td>Distraction</td>\n",
              "    </tr>\n",
              "  </tbody>\n",
              "</table>\n",
              "<p>4950 rows × 4 columns</p>\n",
              "</div>\n",
              "    <div class=\"colab-df-buttons\">\n",
              "\n",
              "  <div class=\"colab-df-container\">\n",
              "    <button class=\"colab-df-convert\" onclick=\"convertToInteractive('df-1ab78d99-6757-4c58-8490-5352b61a8f84')\"\n",
              "            title=\"Convert this dataframe to an interactive table.\"\n",
              "            style=\"display:none;\">\n",
              "\n",
              "  <svg xmlns=\"http://www.w3.org/2000/svg\" height=\"24px\" viewBox=\"0 -960 960 960\">\n",
              "    <path d=\"M120-120v-720h720v720H120Zm60-500h600v-160H180v160Zm220 220h160v-160H400v160Zm0 220h160v-160H400v160ZM180-400h160v-160H180v160Zm440 0h160v-160H620v160ZM180-180h160v-160H180v160Zm440 0h160v-160H620v160Z\"/>\n",
              "  </svg>\n",
              "    </button>\n",
              "\n",
              "  <style>\n",
              "    .colab-df-container {\n",
              "      display:flex;\n",
              "      gap: 12px;\n",
              "    }\n",
              "\n",
              "    .colab-df-convert {\n",
              "      background-color: #E8F0FE;\n",
              "      border: none;\n",
              "      border-radius: 50%;\n",
              "      cursor: pointer;\n",
              "      display: none;\n",
              "      fill: #1967D2;\n",
              "      height: 32px;\n",
              "      padding: 0 0 0 0;\n",
              "      width: 32px;\n",
              "    }\n",
              "\n",
              "    .colab-df-convert:hover {\n",
              "      background-color: #E2EBFA;\n",
              "      box-shadow: 0px 1px 2px rgba(60, 64, 67, 0.3), 0px 1px 3px 1px rgba(60, 64, 67, 0.15);\n",
              "      fill: #174EA6;\n",
              "    }\n",
              "\n",
              "    .colab-df-buttons div {\n",
              "      margin-bottom: 4px;\n",
              "    }\n",
              "\n",
              "    [theme=dark] .colab-df-convert {\n",
              "      background-color: #3B4455;\n",
              "      fill: #D2E3FC;\n",
              "    }\n",
              "\n",
              "    [theme=dark] .colab-df-convert:hover {\n",
              "      background-color: #434B5C;\n",
              "      box-shadow: 0px 1px 3px 1px rgba(0, 0, 0, 0.15);\n",
              "      filter: drop-shadow(0px 1px 2px rgba(0, 0, 0, 0.3));\n",
              "      fill: #FFFFFF;\n",
              "    }\n",
              "  </style>\n",
              "\n",
              "    <script>\n",
              "      const buttonEl =\n",
              "        document.querySelector('#df-1ab78d99-6757-4c58-8490-5352b61a8f84 button.colab-df-convert');\n",
              "      buttonEl.style.display =\n",
              "        google.colab.kernel.accessAllowed ? 'block' : 'none';\n",
              "\n",
              "      async function convertToInteractive(key) {\n",
              "        const element = document.querySelector('#df-1ab78d99-6757-4c58-8490-5352b61a8f84');\n",
              "        const dataTable =\n",
              "          await google.colab.kernel.invokeFunction('convertToInteractive',\n",
              "                                                    [key], {});\n",
              "        if (!dataTable) return;\n",
              "\n",
              "        const docLinkHtml = 'Like what you see? Visit the ' +\n",
              "          '<a target=\"_blank\" href=https://colab.research.google.com/notebooks/data_table.ipynb>data table notebook</a>'\n",
              "          + ' to learn more about interactive tables.';\n",
              "        element.innerHTML = '';\n",
              "        dataTable['output_type'] = 'display_data';\n",
              "        await google.colab.output.renderOutput(dataTable, element);\n",
              "        const docLink = document.createElement('div');\n",
              "        docLink.innerHTML = docLinkHtml;\n",
              "        element.appendChild(docLink);\n",
              "      }\n",
              "    </script>\n",
              "  </div>\n",
              "\n",
              "\n",
              "<div id=\"df-39fba24c-0ec7-4291-a447-d3efeccf5b87\">\n",
              "  <button class=\"colab-df-quickchart\" onclick=\"quickchart('df-39fba24c-0ec7-4291-a447-d3efeccf5b87')\"\n",
              "            title=\"Suggest charts\"\n",
              "            style=\"display:none;\">\n",
              "\n",
              "<svg xmlns=\"http://www.w3.org/2000/svg\" height=\"24px\"viewBox=\"0 0 24 24\"\n",
              "     width=\"24px\">\n",
              "    <g>\n",
              "        <path d=\"M19 3H5c-1.1 0-2 .9-2 2v14c0 1.1.9 2 2 2h14c1.1 0 2-.9 2-2V5c0-1.1-.9-2-2-2zM9 17H7v-7h2v7zm4 0h-2V7h2v10zm4 0h-2v-4h2v4z\"/>\n",
              "    </g>\n",
              "</svg>\n",
              "  </button>\n",
              "\n",
              "<style>\n",
              "  .colab-df-quickchart {\n",
              "      --bg-color: #E8F0FE;\n",
              "      --fill-color: #1967D2;\n",
              "      --hover-bg-color: #E2EBFA;\n",
              "      --hover-fill-color: #174EA6;\n",
              "      --disabled-fill-color: #AAA;\n",
              "      --disabled-bg-color: #DDD;\n",
              "  }\n",
              "\n",
              "  [theme=dark] .colab-df-quickchart {\n",
              "      --bg-color: #3B4455;\n",
              "      --fill-color: #D2E3FC;\n",
              "      --hover-bg-color: #434B5C;\n",
              "      --hover-fill-color: #FFFFFF;\n",
              "      --disabled-bg-color: #3B4455;\n",
              "      --disabled-fill-color: #666;\n",
              "  }\n",
              "\n",
              "  .colab-df-quickchart {\n",
              "    background-color: var(--bg-color);\n",
              "    border: none;\n",
              "    border-radius: 50%;\n",
              "    cursor: pointer;\n",
              "    display: none;\n",
              "    fill: var(--fill-color);\n",
              "    height: 32px;\n",
              "    padding: 0;\n",
              "    width: 32px;\n",
              "  }\n",
              "\n",
              "  .colab-df-quickchart:hover {\n",
              "    background-color: var(--hover-bg-color);\n",
              "    box-shadow: 0 1px 2px rgba(60, 64, 67, 0.3), 0 1px 3px 1px rgba(60, 64, 67, 0.15);\n",
              "    fill: var(--button-hover-fill-color);\n",
              "  }\n",
              "\n",
              "  .colab-df-quickchart-complete:disabled,\n",
              "  .colab-df-quickchart-complete:disabled:hover {\n",
              "    background-color: var(--disabled-bg-color);\n",
              "    fill: var(--disabled-fill-color);\n",
              "    box-shadow: none;\n",
              "  }\n",
              "\n",
              "  .colab-df-spinner {\n",
              "    border: 2px solid var(--fill-color);\n",
              "    border-color: transparent;\n",
              "    border-bottom-color: var(--fill-color);\n",
              "    animation:\n",
              "      spin 1s steps(1) infinite;\n",
              "  }\n",
              "\n",
              "  @keyframes spin {\n",
              "    0% {\n",
              "      border-color: transparent;\n",
              "      border-bottom-color: var(--fill-color);\n",
              "      border-left-color: var(--fill-color);\n",
              "    }\n",
              "    20% {\n",
              "      border-color: transparent;\n",
              "      border-left-color: var(--fill-color);\n",
              "      border-top-color: var(--fill-color);\n",
              "    }\n",
              "    30% {\n",
              "      border-color: transparent;\n",
              "      border-left-color: var(--fill-color);\n",
              "      border-top-color: var(--fill-color);\n",
              "      border-right-color: var(--fill-color);\n",
              "    }\n",
              "    40% {\n",
              "      border-color: transparent;\n",
              "      border-right-color: var(--fill-color);\n",
              "      border-top-color: var(--fill-color);\n",
              "    }\n",
              "    60% {\n",
              "      border-color: transparent;\n",
              "      border-right-color: var(--fill-color);\n",
              "    }\n",
              "    80% {\n",
              "      border-color: transparent;\n",
              "      border-right-color: var(--fill-color);\n",
              "      border-bottom-color: var(--fill-color);\n",
              "    }\n",
              "    90% {\n",
              "      border-color: transparent;\n",
              "      border-bottom-color: var(--fill-color);\n",
              "    }\n",
              "  }\n",
              "</style>\n",
              "\n",
              "  <script>\n",
              "    async function quickchart(key) {\n",
              "      const quickchartButtonEl =\n",
              "        document.querySelector('#' + key + ' button');\n",
              "      quickchartButtonEl.disabled = true;  // To prevent multiple clicks.\n",
              "      quickchartButtonEl.classList.add('colab-df-spinner');\n",
              "      try {\n",
              "        const charts = await google.colab.kernel.invokeFunction(\n",
              "            'suggestCharts', [key], {});\n",
              "      } catch (error) {\n",
              "        console.error('Error during call to suggestCharts:', error);\n",
              "      }\n",
              "      quickchartButtonEl.classList.remove('colab-df-spinner');\n",
              "      quickchartButtonEl.classList.add('colab-df-quickchart-complete');\n",
              "    }\n",
              "    (() => {\n",
              "      let quickchartButtonEl =\n",
              "        document.querySelector('#df-39fba24c-0ec7-4291-a447-d3efeccf5b87 button');\n",
              "      quickchartButtonEl.style.display =\n",
              "        google.colab.kernel.accessAllowed ? 'block' : 'none';\n",
              "    })();\n",
              "  </script>\n",
              "</div>\n",
              "    </div>\n",
              "  </div>\n"
            ]
          },
          "metadata": {},
          "execution_count": 4
        }
      ],
      "source": [
        "train = pd.read_csv(f'{WORKDIR}/dataset/ptc_preproc_train.csv', sep=\";\")\n",
        "test = pd.read_csv(f'{WORKDIR}/dataset/ptc_preproc_test.csv', sep=\";\")\n",
        "train"
      ]
    },
    {
      "cell_type": "code",
      "execution_count": 5,
      "id": "288a3c24-798e-4e83-a128-a87c4fc65786",
      "metadata": {
        "colab": {
          "base_uri": "https://localhost:8080/",
          "height": 81
        },
        "id": "288a3c24-798e-4e83-a128-a87c4fc65786",
        "outputId": "55256336-d91d-41b8-b434-ed6b7aa25334"
      },
      "outputs": [
        {
          "output_type": "execute_result",
          "data": {
            "text/plain": [
              "      Unnamed: 0 text            label              category\n",
              "3348        3348  NaN  Loaded_Language  Manipulative_wording"
            ],
            "text/html": [
              "\n",
              "  <div id=\"df-d99cb6f4-152a-4c14-a251-ca46f96d22e7\" class=\"colab-df-container\">\n",
              "    <div>\n",
              "<style scoped>\n",
              "    .dataframe tbody tr th:only-of-type {\n",
              "        vertical-align: middle;\n",
              "    }\n",
              "\n",
              "    .dataframe tbody tr th {\n",
              "        vertical-align: top;\n",
              "    }\n",
              "\n",
              "    .dataframe thead th {\n",
              "        text-align: right;\n",
              "    }\n",
              "</style>\n",
              "<table border=\"1\" class=\"dataframe\">\n",
              "  <thead>\n",
              "    <tr style=\"text-align: right;\">\n",
              "      <th></th>\n",
              "      <th>Unnamed: 0</th>\n",
              "      <th>text</th>\n",
              "      <th>label</th>\n",
              "      <th>category</th>\n",
              "    </tr>\n",
              "  </thead>\n",
              "  <tbody>\n",
              "    <tr>\n",
              "      <th>3348</th>\n",
              "      <td>3348</td>\n",
              "      <td>NaN</td>\n",
              "      <td>Loaded_Language</td>\n",
              "      <td>Manipulative_wording</td>\n",
              "    </tr>\n",
              "  </tbody>\n",
              "</table>\n",
              "</div>\n",
              "    <div class=\"colab-df-buttons\">\n",
              "\n",
              "  <div class=\"colab-df-container\">\n",
              "    <button class=\"colab-df-convert\" onclick=\"convertToInteractive('df-d99cb6f4-152a-4c14-a251-ca46f96d22e7')\"\n",
              "            title=\"Convert this dataframe to an interactive table.\"\n",
              "            style=\"display:none;\">\n",
              "\n",
              "  <svg xmlns=\"http://www.w3.org/2000/svg\" height=\"24px\" viewBox=\"0 -960 960 960\">\n",
              "    <path d=\"M120-120v-720h720v720H120Zm60-500h600v-160H180v160Zm220 220h160v-160H400v160Zm0 220h160v-160H400v160ZM180-400h160v-160H180v160Zm440 0h160v-160H620v160ZM180-180h160v-160H180v160Zm440 0h160v-160H620v160Z\"/>\n",
              "  </svg>\n",
              "    </button>\n",
              "\n",
              "  <style>\n",
              "    .colab-df-container {\n",
              "      display:flex;\n",
              "      gap: 12px;\n",
              "    }\n",
              "\n",
              "    .colab-df-convert {\n",
              "      background-color: #E8F0FE;\n",
              "      border: none;\n",
              "      border-radius: 50%;\n",
              "      cursor: pointer;\n",
              "      display: none;\n",
              "      fill: #1967D2;\n",
              "      height: 32px;\n",
              "      padding: 0 0 0 0;\n",
              "      width: 32px;\n",
              "    }\n",
              "\n",
              "    .colab-df-convert:hover {\n",
              "      background-color: #E2EBFA;\n",
              "      box-shadow: 0px 1px 2px rgba(60, 64, 67, 0.3), 0px 1px 3px 1px rgba(60, 64, 67, 0.15);\n",
              "      fill: #174EA6;\n",
              "    }\n",
              "\n",
              "    .colab-df-buttons div {\n",
              "      margin-bottom: 4px;\n",
              "    }\n",
              "\n",
              "    [theme=dark] .colab-df-convert {\n",
              "      background-color: #3B4455;\n",
              "      fill: #D2E3FC;\n",
              "    }\n",
              "\n",
              "    [theme=dark] .colab-df-convert:hover {\n",
              "      background-color: #434B5C;\n",
              "      box-shadow: 0px 1px 3px 1px rgba(0, 0, 0, 0.15);\n",
              "      filter: drop-shadow(0px 1px 2px rgba(0, 0, 0, 0.3));\n",
              "      fill: #FFFFFF;\n",
              "    }\n",
              "  </style>\n",
              "\n",
              "    <script>\n",
              "      const buttonEl =\n",
              "        document.querySelector('#df-d99cb6f4-152a-4c14-a251-ca46f96d22e7 button.colab-df-convert');\n",
              "      buttonEl.style.display =\n",
              "        google.colab.kernel.accessAllowed ? 'block' : 'none';\n",
              "\n",
              "      async function convertToInteractive(key) {\n",
              "        const element = document.querySelector('#df-d99cb6f4-152a-4c14-a251-ca46f96d22e7');\n",
              "        const dataTable =\n",
              "          await google.colab.kernel.invokeFunction('convertToInteractive',\n",
              "                                                    [key], {});\n",
              "        if (!dataTable) return;\n",
              "\n",
              "        const docLinkHtml = 'Like what you see? Visit the ' +\n",
              "          '<a target=\"_blank\" href=https://colab.research.google.com/notebooks/data_table.ipynb>data table notebook</a>'\n",
              "          + ' to learn more about interactive tables.';\n",
              "        element.innerHTML = '';\n",
              "        dataTable['output_type'] = 'display_data';\n",
              "        await google.colab.output.renderOutput(dataTable, element);\n",
              "        const docLink = document.createElement('div');\n",
              "        docLink.innerHTML = docLinkHtml;\n",
              "        element.appendChild(docLink);\n",
              "      }\n",
              "    </script>\n",
              "  </div>\n",
              "\n",
              "    </div>\n",
              "  </div>\n"
            ]
          },
          "metadata": {},
          "execution_count": 5
        }
      ],
      "source": [
        "train[train[\"text\"].isnull()]"
      ]
    },
    {
      "cell_type": "code",
      "execution_count": 6,
      "id": "98a47927-49e7-4889-8fc0-187259a271f4",
      "metadata": {
        "id": "98a47927-49e7-4889-8fc0-187259a271f4"
      },
      "outputs": [],
      "source": [
        "train.dropna(subset=[\"text\", \"label\"], inplace=True)"
      ]
    },
    {
      "cell_type": "code",
      "execution_count": 7,
      "id": "8021c34c-5017-4a34-b1a0-4ab95f2b0165",
      "metadata": {
        "colab": {
          "base_uri": "https://localhost:8080/"
        },
        "id": "8021c34c-5017-4a34-b1a0-4ab95f2b0165",
        "outputId": "7ce8eee1-3a6d-4f5a-830f-871a42caf40f"
      },
      "outputs": [
        {
          "output_type": "execute_result",
          "data": {
            "text/plain": [
              "485"
            ]
          },
          "metadata": {},
          "execution_count": 7
        }
      ],
      "source": [
        "train.duplicated(subset=[\"text\"]).sum()"
      ]
    },
    {
      "cell_type": "code",
      "execution_count": 8,
      "id": "06895062-9367-4c40-a009-7f28797431b8",
      "metadata": {
        "id": "06895062-9367-4c40-a009-7f28797431b8"
      },
      "outputs": [],
      "source": [
        "train.drop_duplicates(subset=[\"text\"], inplace=True)"
      ]
    },
    {
      "cell_type": "code",
      "source": [
        "train.shape"
      ],
      "metadata": {
        "colab": {
          "base_uri": "https://localhost:8080/"
        },
        "id": "h2mXS1lqmQns",
        "outputId": "bfa7e1c8-b0c8-42e6-b339-e9698de18c83"
      },
      "id": "h2mXS1lqmQns",
      "execution_count": 9,
      "outputs": [
        {
          "output_type": "execute_result",
          "data": {
            "text/plain": [
              "(4464, 4)"
            ]
          },
          "metadata": {},
          "execution_count": 9
        }
      ]
    },
    {
      "cell_type": "code",
      "execution_count": 10,
      "id": "52c0a645-ed66-455c-aff2-b10c1dc79447",
      "metadata": {
        "colab": {
          "base_uri": "https://localhost:8080/",
          "height": 493
        },
        "id": "52c0a645-ed66-455c-aff2-b10c1dc79447",
        "outputId": "33c6de1f-7631-450d-e903-4dca881503ff"
      },
      "outputs": [
        {
          "output_type": "execute_result",
          "data": {
            "text/plain": [
              "      Unnamed: 0                                               text  \\\n",
              "0              0  The next transmission could be more pronounced...   \n",
              "1              1  when (the plague) comes again it starts from m...   \n",
              "2              2                                           appeared   \n",
              "3              3                             a very, very different   \n",
              "4              4  He also pointed to the presence of the pneumon...   \n",
              "...          ...                                                ...   \n",
              "1376        1376                            Trump-hating Republican   \n",
              "1377        1377                                     grave hardship   \n",
              "1378        1378                                  unbelievably rude   \n",
              "1379        1379                                    wonderful woman   \n",
              "1380        1380                                   our Constitution   \n",
              "\n",
              "                         label              category  \n",
              "0          Appeal_to_Authority         Justification  \n",
              "1          Appeal_to_Authority         Justification  \n",
              "2                        Doubt  Attack_on_reputation  \n",
              "3                   Repetition  Manipulative_wording  \n",
              "4     Appeal_to_fear-prejudice         Justification  \n",
              "...                        ...                   ...  \n",
              "1376     Name_Calling_Labeling  Attack_on_reputation  \n",
              "1377           Loaded_Language  Manipulative_wording  \n",
              "1378     Name_Calling_Labeling  Attack_on_reputation  \n",
              "1379     Name_Calling_Labeling  Attack_on_reputation  \n",
              "1380               Flag-Waving         Justification  \n",
              "\n",
              "[1381 rows x 4 columns]"
            ],
            "text/html": [
              "\n",
              "  <div id=\"df-a8111c5d-9c66-4b18-8cd9-b8751a8ed507\" class=\"colab-df-container\">\n",
              "    <div>\n",
              "<style scoped>\n",
              "    .dataframe tbody tr th:only-of-type {\n",
              "        vertical-align: middle;\n",
              "    }\n",
              "\n",
              "    .dataframe tbody tr th {\n",
              "        vertical-align: top;\n",
              "    }\n",
              "\n",
              "    .dataframe thead th {\n",
              "        text-align: right;\n",
              "    }\n",
              "</style>\n",
              "<table border=\"1\" class=\"dataframe\">\n",
              "  <thead>\n",
              "    <tr style=\"text-align: right;\">\n",
              "      <th></th>\n",
              "      <th>Unnamed: 0</th>\n",
              "      <th>text</th>\n",
              "      <th>label</th>\n",
              "      <th>category</th>\n",
              "    </tr>\n",
              "  </thead>\n",
              "  <tbody>\n",
              "    <tr>\n",
              "      <th>0</th>\n",
              "      <td>0</td>\n",
              "      <td>The next transmission could be more pronounced...</td>\n",
              "      <td>Appeal_to_Authority</td>\n",
              "      <td>Justification</td>\n",
              "    </tr>\n",
              "    <tr>\n",
              "      <th>1</th>\n",
              "      <td>1</td>\n",
              "      <td>when (the plague) comes again it starts from m...</td>\n",
              "      <td>Appeal_to_Authority</td>\n",
              "      <td>Justification</td>\n",
              "    </tr>\n",
              "    <tr>\n",
              "      <th>2</th>\n",
              "      <td>2</td>\n",
              "      <td>appeared</td>\n",
              "      <td>Doubt</td>\n",
              "      <td>Attack_on_reputation</td>\n",
              "    </tr>\n",
              "    <tr>\n",
              "      <th>3</th>\n",
              "      <td>3</td>\n",
              "      <td>a very, very different</td>\n",
              "      <td>Repetition</td>\n",
              "      <td>Manipulative_wording</td>\n",
              "    </tr>\n",
              "    <tr>\n",
              "      <th>4</th>\n",
              "      <td>4</td>\n",
              "      <td>He also pointed to the presence of the pneumon...</td>\n",
              "      <td>Appeal_to_fear-prejudice</td>\n",
              "      <td>Justification</td>\n",
              "    </tr>\n",
              "    <tr>\n",
              "      <th>...</th>\n",
              "      <td>...</td>\n",
              "      <td>...</td>\n",
              "      <td>...</td>\n",
              "      <td>...</td>\n",
              "    </tr>\n",
              "    <tr>\n",
              "      <th>1376</th>\n",
              "      <td>1376</td>\n",
              "      <td>Trump-hating Republican</td>\n",
              "      <td>Name_Calling_Labeling</td>\n",
              "      <td>Attack_on_reputation</td>\n",
              "    </tr>\n",
              "    <tr>\n",
              "      <th>1377</th>\n",
              "      <td>1377</td>\n",
              "      <td>grave hardship</td>\n",
              "      <td>Loaded_Language</td>\n",
              "      <td>Manipulative_wording</td>\n",
              "    </tr>\n",
              "    <tr>\n",
              "      <th>1378</th>\n",
              "      <td>1378</td>\n",
              "      <td>unbelievably rude</td>\n",
              "      <td>Name_Calling_Labeling</td>\n",
              "      <td>Attack_on_reputation</td>\n",
              "    </tr>\n",
              "    <tr>\n",
              "      <th>1379</th>\n",
              "      <td>1379</td>\n",
              "      <td>wonderful woman</td>\n",
              "      <td>Name_Calling_Labeling</td>\n",
              "      <td>Attack_on_reputation</td>\n",
              "    </tr>\n",
              "    <tr>\n",
              "      <th>1380</th>\n",
              "      <td>1380</td>\n",
              "      <td>our Constitution</td>\n",
              "      <td>Flag-Waving</td>\n",
              "      <td>Justification</td>\n",
              "    </tr>\n",
              "  </tbody>\n",
              "</table>\n",
              "<p>1381 rows × 4 columns</p>\n",
              "</div>\n",
              "    <div class=\"colab-df-buttons\">\n",
              "\n",
              "  <div class=\"colab-df-container\">\n",
              "    <button class=\"colab-df-convert\" onclick=\"convertToInteractive('df-a8111c5d-9c66-4b18-8cd9-b8751a8ed507')\"\n",
              "            title=\"Convert this dataframe to an interactive table.\"\n",
              "            style=\"display:none;\">\n",
              "\n",
              "  <svg xmlns=\"http://www.w3.org/2000/svg\" height=\"24px\" viewBox=\"0 -960 960 960\">\n",
              "    <path d=\"M120-120v-720h720v720H120Zm60-500h600v-160H180v160Zm220 220h160v-160H400v160Zm0 220h160v-160H400v160ZM180-400h160v-160H180v160Zm440 0h160v-160H620v160ZM180-180h160v-160H180v160Zm440 0h160v-160H620v160Z\"/>\n",
              "  </svg>\n",
              "    </button>\n",
              "\n",
              "  <style>\n",
              "    .colab-df-container {\n",
              "      display:flex;\n",
              "      gap: 12px;\n",
              "    }\n",
              "\n",
              "    .colab-df-convert {\n",
              "      background-color: #E8F0FE;\n",
              "      border: none;\n",
              "      border-radius: 50%;\n",
              "      cursor: pointer;\n",
              "      display: none;\n",
              "      fill: #1967D2;\n",
              "      height: 32px;\n",
              "      padding: 0 0 0 0;\n",
              "      width: 32px;\n",
              "    }\n",
              "\n",
              "    .colab-df-convert:hover {\n",
              "      background-color: #E2EBFA;\n",
              "      box-shadow: 0px 1px 2px rgba(60, 64, 67, 0.3), 0px 1px 3px 1px rgba(60, 64, 67, 0.15);\n",
              "      fill: #174EA6;\n",
              "    }\n",
              "\n",
              "    .colab-df-buttons div {\n",
              "      margin-bottom: 4px;\n",
              "    }\n",
              "\n",
              "    [theme=dark] .colab-df-convert {\n",
              "      background-color: #3B4455;\n",
              "      fill: #D2E3FC;\n",
              "    }\n",
              "\n",
              "    [theme=dark] .colab-df-convert:hover {\n",
              "      background-color: #434B5C;\n",
              "      box-shadow: 0px 1px 3px 1px rgba(0, 0, 0, 0.15);\n",
              "      filter: drop-shadow(0px 1px 2px rgba(0, 0, 0, 0.3));\n",
              "      fill: #FFFFFF;\n",
              "    }\n",
              "  </style>\n",
              "\n",
              "    <script>\n",
              "      const buttonEl =\n",
              "        document.querySelector('#df-a8111c5d-9c66-4b18-8cd9-b8751a8ed507 button.colab-df-convert');\n",
              "      buttonEl.style.display =\n",
              "        google.colab.kernel.accessAllowed ? 'block' : 'none';\n",
              "\n",
              "      async function convertToInteractive(key) {\n",
              "        const element = document.querySelector('#df-a8111c5d-9c66-4b18-8cd9-b8751a8ed507');\n",
              "        const dataTable =\n",
              "          await google.colab.kernel.invokeFunction('convertToInteractive',\n",
              "                                                    [key], {});\n",
              "        if (!dataTable) return;\n",
              "\n",
              "        const docLinkHtml = 'Like what you see? Visit the ' +\n",
              "          '<a target=\"_blank\" href=https://colab.research.google.com/notebooks/data_table.ipynb>data table notebook</a>'\n",
              "          + ' to learn more about interactive tables.';\n",
              "        element.innerHTML = '';\n",
              "        dataTable['output_type'] = 'display_data';\n",
              "        await google.colab.output.renderOutput(dataTable, element);\n",
              "        const docLink = document.createElement('div');\n",
              "        docLink.innerHTML = docLinkHtml;\n",
              "        element.appendChild(docLink);\n",
              "      }\n",
              "    </script>\n",
              "  </div>\n",
              "\n",
              "\n",
              "<div id=\"df-68cb1416-9b1c-4914-a879-e3e2a9809f3c\">\n",
              "  <button class=\"colab-df-quickchart\" onclick=\"quickchart('df-68cb1416-9b1c-4914-a879-e3e2a9809f3c')\"\n",
              "            title=\"Suggest charts\"\n",
              "            style=\"display:none;\">\n",
              "\n",
              "<svg xmlns=\"http://www.w3.org/2000/svg\" height=\"24px\"viewBox=\"0 0 24 24\"\n",
              "     width=\"24px\">\n",
              "    <g>\n",
              "        <path d=\"M19 3H5c-1.1 0-2 .9-2 2v14c0 1.1.9 2 2 2h14c1.1 0 2-.9 2-2V5c0-1.1-.9-2-2-2zM9 17H7v-7h2v7zm4 0h-2V7h2v10zm4 0h-2v-4h2v4z\"/>\n",
              "    </g>\n",
              "</svg>\n",
              "  </button>\n",
              "\n",
              "<style>\n",
              "  .colab-df-quickchart {\n",
              "      --bg-color: #E8F0FE;\n",
              "      --fill-color: #1967D2;\n",
              "      --hover-bg-color: #E2EBFA;\n",
              "      --hover-fill-color: #174EA6;\n",
              "      --disabled-fill-color: #AAA;\n",
              "      --disabled-bg-color: #DDD;\n",
              "  }\n",
              "\n",
              "  [theme=dark] .colab-df-quickchart {\n",
              "      --bg-color: #3B4455;\n",
              "      --fill-color: #D2E3FC;\n",
              "      --hover-bg-color: #434B5C;\n",
              "      --hover-fill-color: #FFFFFF;\n",
              "      --disabled-bg-color: #3B4455;\n",
              "      --disabled-fill-color: #666;\n",
              "  }\n",
              "\n",
              "  .colab-df-quickchart {\n",
              "    background-color: var(--bg-color);\n",
              "    border: none;\n",
              "    border-radius: 50%;\n",
              "    cursor: pointer;\n",
              "    display: none;\n",
              "    fill: var(--fill-color);\n",
              "    height: 32px;\n",
              "    padding: 0;\n",
              "    width: 32px;\n",
              "  }\n",
              "\n",
              "  .colab-df-quickchart:hover {\n",
              "    background-color: var(--hover-bg-color);\n",
              "    box-shadow: 0 1px 2px rgba(60, 64, 67, 0.3), 0 1px 3px 1px rgba(60, 64, 67, 0.15);\n",
              "    fill: var(--button-hover-fill-color);\n",
              "  }\n",
              "\n",
              "  .colab-df-quickchart-complete:disabled,\n",
              "  .colab-df-quickchart-complete:disabled:hover {\n",
              "    background-color: var(--disabled-bg-color);\n",
              "    fill: var(--disabled-fill-color);\n",
              "    box-shadow: none;\n",
              "  }\n",
              "\n",
              "  .colab-df-spinner {\n",
              "    border: 2px solid var(--fill-color);\n",
              "    border-color: transparent;\n",
              "    border-bottom-color: var(--fill-color);\n",
              "    animation:\n",
              "      spin 1s steps(1) infinite;\n",
              "  }\n",
              "\n",
              "  @keyframes spin {\n",
              "    0% {\n",
              "      border-color: transparent;\n",
              "      border-bottom-color: var(--fill-color);\n",
              "      border-left-color: var(--fill-color);\n",
              "    }\n",
              "    20% {\n",
              "      border-color: transparent;\n",
              "      border-left-color: var(--fill-color);\n",
              "      border-top-color: var(--fill-color);\n",
              "    }\n",
              "    30% {\n",
              "      border-color: transparent;\n",
              "      border-left-color: var(--fill-color);\n",
              "      border-top-color: var(--fill-color);\n",
              "      border-right-color: var(--fill-color);\n",
              "    }\n",
              "    40% {\n",
              "      border-color: transparent;\n",
              "      border-right-color: var(--fill-color);\n",
              "      border-top-color: var(--fill-color);\n",
              "    }\n",
              "    60% {\n",
              "      border-color: transparent;\n",
              "      border-right-color: var(--fill-color);\n",
              "    }\n",
              "    80% {\n",
              "      border-color: transparent;\n",
              "      border-right-color: var(--fill-color);\n",
              "      border-bottom-color: var(--fill-color);\n",
              "    }\n",
              "    90% {\n",
              "      border-color: transparent;\n",
              "      border-bottom-color: var(--fill-color);\n",
              "    }\n",
              "  }\n",
              "</style>\n",
              "\n",
              "  <script>\n",
              "    async function quickchart(key) {\n",
              "      const quickchartButtonEl =\n",
              "        document.querySelector('#' + key + ' button');\n",
              "      quickchartButtonEl.disabled = true;  // To prevent multiple clicks.\n",
              "      quickchartButtonEl.classList.add('colab-df-spinner');\n",
              "      try {\n",
              "        const charts = await google.colab.kernel.invokeFunction(\n",
              "            'suggestCharts', [key], {});\n",
              "      } catch (error) {\n",
              "        console.error('Error during call to suggestCharts:', error);\n",
              "      }\n",
              "      quickchartButtonEl.classList.remove('colab-df-spinner');\n",
              "      quickchartButtonEl.classList.add('colab-df-quickchart-complete');\n",
              "    }\n",
              "    (() => {\n",
              "      let quickchartButtonEl =\n",
              "        document.querySelector('#df-68cb1416-9b1c-4914-a879-e3e2a9809f3c button');\n",
              "      quickchartButtonEl.style.display =\n",
              "        google.colab.kernel.accessAllowed ? 'block' : 'none';\n",
              "    })();\n",
              "  </script>\n",
              "</div>\n",
              "    </div>\n",
              "  </div>\n"
            ]
          },
          "metadata": {},
          "execution_count": 10
        }
      ],
      "source": [
        "test"
      ]
    },
    {
      "cell_type": "code",
      "execution_count": 11,
      "id": "311d9665-8caa-4bfe-afc3-10ecb28705fc",
      "metadata": {
        "colab": {
          "base_uri": "https://localhost:8080/",
          "height": 53
        },
        "id": "311d9665-8caa-4bfe-afc3-10ecb28705fc",
        "outputId": "7aa646fb-f7a6-4940-c470-ef393bd76747"
      },
      "outputs": [
        {
          "output_type": "execute_result",
          "data": {
            "text/plain": [
              "Empty DataFrame\n",
              "Columns: [Unnamed: 0, text, label, category]\n",
              "Index: []"
            ],
            "text/html": [
              "\n",
              "  <div id=\"df-fe830236-1efe-4f94-93ee-f9e10fb10d48\" class=\"colab-df-container\">\n",
              "    <div>\n",
              "<style scoped>\n",
              "    .dataframe tbody tr th:only-of-type {\n",
              "        vertical-align: middle;\n",
              "    }\n",
              "\n",
              "    .dataframe tbody tr th {\n",
              "        vertical-align: top;\n",
              "    }\n",
              "\n",
              "    .dataframe thead th {\n",
              "        text-align: right;\n",
              "    }\n",
              "</style>\n",
              "<table border=\"1\" class=\"dataframe\">\n",
              "  <thead>\n",
              "    <tr style=\"text-align: right;\">\n",
              "      <th></th>\n",
              "      <th>Unnamed: 0</th>\n",
              "      <th>text</th>\n",
              "      <th>label</th>\n",
              "      <th>category</th>\n",
              "    </tr>\n",
              "  </thead>\n",
              "  <tbody>\n",
              "  </tbody>\n",
              "</table>\n",
              "</div>\n",
              "    <div class=\"colab-df-buttons\">\n",
              "\n",
              "  <div class=\"colab-df-container\">\n",
              "    <button class=\"colab-df-convert\" onclick=\"convertToInteractive('df-fe830236-1efe-4f94-93ee-f9e10fb10d48')\"\n",
              "            title=\"Convert this dataframe to an interactive table.\"\n",
              "            style=\"display:none;\">\n",
              "\n",
              "  <svg xmlns=\"http://www.w3.org/2000/svg\" height=\"24px\" viewBox=\"0 -960 960 960\">\n",
              "    <path d=\"M120-120v-720h720v720H120Zm60-500h600v-160H180v160Zm220 220h160v-160H400v160Zm0 220h160v-160H400v160ZM180-400h160v-160H180v160Zm440 0h160v-160H620v160ZM180-180h160v-160H180v160Zm440 0h160v-160H620v160Z\"/>\n",
              "  </svg>\n",
              "    </button>\n",
              "\n",
              "  <style>\n",
              "    .colab-df-container {\n",
              "      display:flex;\n",
              "      gap: 12px;\n",
              "    }\n",
              "\n",
              "    .colab-df-convert {\n",
              "      background-color: #E8F0FE;\n",
              "      border: none;\n",
              "      border-radius: 50%;\n",
              "      cursor: pointer;\n",
              "      display: none;\n",
              "      fill: #1967D2;\n",
              "      height: 32px;\n",
              "      padding: 0 0 0 0;\n",
              "      width: 32px;\n",
              "    }\n",
              "\n",
              "    .colab-df-convert:hover {\n",
              "      background-color: #E2EBFA;\n",
              "      box-shadow: 0px 1px 2px rgba(60, 64, 67, 0.3), 0px 1px 3px 1px rgba(60, 64, 67, 0.15);\n",
              "      fill: #174EA6;\n",
              "    }\n",
              "\n",
              "    .colab-df-buttons div {\n",
              "      margin-bottom: 4px;\n",
              "    }\n",
              "\n",
              "    [theme=dark] .colab-df-convert {\n",
              "      background-color: #3B4455;\n",
              "      fill: #D2E3FC;\n",
              "    }\n",
              "\n",
              "    [theme=dark] .colab-df-convert:hover {\n",
              "      background-color: #434B5C;\n",
              "      box-shadow: 0px 1px 3px 1px rgba(0, 0, 0, 0.15);\n",
              "      filter: drop-shadow(0px 1px 2px rgba(0, 0, 0, 0.3));\n",
              "      fill: #FFFFFF;\n",
              "    }\n",
              "  </style>\n",
              "\n",
              "    <script>\n",
              "      const buttonEl =\n",
              "        document.querySelector('#df-fe830236-1efe-4f94-93ee-f9e10fb10d48 button.colab-df-convert');\n",
              "      buttonEl.style.display =\n",
              "        google.colab.kernel.accessAllowed ? 'block' : 'none';\n",
              "\n",
              "      async function convertToInteractive(key) {\n",
              "        const element = document.querySelector('#df-fe830236-1efe-4f94-93ee-f9e10fb10d48');\n",
              "        const dataTable =\n",
              "          await google.colab.kernel.invokeFunction('convertToInteractive',\n",
              "                                                    [key], {});\n",
              "        if (!dataTable) return;\n",
              "\n",
              "        const docLinkHtml = 'Like what you see? Visit the ' +\n",
              "          '<a target=\"_blank\" href=https://colab.research.google.com/notebooks/data_table.ipynb>data table notebook</a>'\n",
              "          + ' to learn more about interactive tables.';\n",
              "        element.innerHTML = '';\n",
              "        dataTable['output_type'] = 'display_data';\n",
              "        await google.colab.output.renderOutput(dataTable, element);\n",
              "        const docLink = document.createElement('div');\n",
              "        docLink.innerHTML = docLinkHtml;\n",
              "        element.appendChild(docLink);\n",
              "      }\n",
              "    </script>\n",
              "  </div>\n",
              "\n",
              "    </div>\n",
              "  </div>\n"
            ]
          },
          "metadata": {},
          "execution_count": 11
        }
      ],
      "source": [
        "test[test[\"text\"].isnull()]"
      ]
    },
    {
      "cell_type": "code",
      "execution_count": 12,
      "id": "8d1aff7a-0980-48f2-a1b8-a137f0b29a5d",
      "metadata": {
        "colab": {
          "base_uri": "https://localhost:8080/"
        },
        "id": "8d1aff7a-0980-48f2-a1b8-a137f0b29a5d",
        "outputId": "fc98cd7a-e52e-441a-b7ef-0574218dd1ed"
      },
      "outputs": [
        {
          "output_type": "execute_result",
          "data": {
            "text/plain": [
              "171"
            ]
          },
          "metadata": {},
          "execution_count": 12
        }
      ],
      "source": [
        "test.duplicated(subset=[\"text\"]).sum()"
      ]
    },
    {
      "cell_type": "code",
      "execution_count": 13,
      "id": "32875a20-57b6-4170-9b90-ba1ec0d8658c",
      "metadata": {
        "id": "32875a20-57b6-4170-9b90-ba1ec0d8658c"
      },
      "outputs": [],
      "source": [
        "test.drop_duplicates(subset=[\"text\"], inplace=True)"
      ]
    },
    {
      "cell_type": "code",
      "execution_count": 14,
      "id": "d294fb0a-1ab5-4a50-907f-50c1a874290d",
      "metadata": {
        "colab": {
          "base_uri": "https://localhost:8080/"
        },
        "id": "d294fb0a-1ab5-4a50-907f-50c1a874290d",
        "outputId": "57506136-4347-468e-d19c-1debcb0a1baf"
      },
      "outputs": [
        {
          "output_type": "execute_result",
          "data": {
            "text/plain": [
              "Loaded_Language                                               1595\n",
              "Name_Calling_Labeling                                          824\n",
              "Doubt                                                          408\n",
              "Exaggeration_Minimisation                                      349\n",
              "Repetition                                                     230\n",
              "Causal_Oversimplification                                      162\n",
              "Appeal_to_fear-prejudice                                       160\n",
              "Flag-Waving                                                    144\n",
              "Slogans                                                         95\n",
              "Black-and-White_Fallacy                                         91\n",
              "Appeal_to_Authority                                             86\n",
              "Thought-terminating_Cliches                                     57\n",
              "Whataboutism                                                    52\n",
              "Reductio_ad_hitlerum                                            38\n",
              "Red_Herring                                                     23\n",
              "Loaded_Language,Repetition                                      13\n",
              "Name_Calling_Labeling,Repetition                                12\n",
              "Straw_Men                                                       10\n",
              "Obfuscation_Intentional_Vagueness_Confusion                     10\n",
              "Exaggeration_Minimisation,Loaded_Language                        9\n",
              "Exaggeration_Minimisation,Name_Calling_Labeling                  8\n",
              "Bandwagon                                                        8\n",
              "Loaded_Language,Name_Calling_Labeling                            7\n",
              "Loaded_Language,Thought-terminating_Cliches                      7\n",
              "Flag-Waving,Slogans                                              6\n",
              "Doubt,Flag-Waving                                                6\n",
              "Appeal_to_fear-prejudice,Loaded_Language                         6\n",
              "Appeal_to_fear-prejudice,Flag-Waving                             5\n",
              "Appeal_to_fear-prejudice,Reductio_ad_hitlerum                    3\n",
              "Flag-Waving,Loaded_Language                                      3\n",
              "Flag-Waving,Repetition                                           2\n",
              "Exaggeration_Minimisation,Flag-Waving                            2\n",
              "Appeal_to_fear-prejudice,Slogans                                 2\n",
              "Flag-Waving,Name_Calling_Labeling                                2\n",
              "Appeal_to_Authority,Causal_Oversimplification                    2\n",
              "Doubt,Loaded_Language                                            2\n",
              "Doubt,Name_Calling_Labeling                                      2\n",
              "Causal_Oversimplification,Exaggeration_Minimisation              1\n",
              "Causal_Oversimplification,Doubt                                  1\n",
              "Bandwagon,Exaggeration_Minimisation                              1\n",
              "Appeal_to_fear-prejudice,Black-and-White_Fallacy                 1\n",
              "Doubt,Reductio_ad_hitlerum                                       1\n",
              "Causal_Oversimplification,Straw_Men                              1\n",
              "Black-and-White_Fallacy,Thought-terminating_Cliches              1\n",
              "Appeal_to_fear-prejudice,Doubt                                   1\n",
              "Repetition,Slogans                                               1\n",
              "Appeal_to_fear-prejudice,Exaggeration_Minimisation               1\n",
              "Appeal_to_Authority,Exaggeration_Minimisation                    1\n",
              "Exaggeration_Minimisation,Name_Calling_Labeling,Repetition       1\n",
              "Appeal_to_fear-prejudice,Thought-terminating_Cliches             1\n",
              "Loaded_Language,Slogans                                          1\n",
              "Flag-Waving,Reductio_ad_hitlerum                                 1\n",
              "Appeal_to_Authority,Loaded_Language                              1\n",
              "Black-and-White_Fallacy,Reductio_ad_hitlerum                     1\n",
              "Exaggeration_Minimisation,Repetition                             1\n",
              "Black-and-White_Fallacy,Flag-Waving                              1\n",
              "Appeal_to_Authority,Appeal_to_fear-prejudice                     1\n",
              "Red_Herring,Repetition                                           1\n",
              "Loaded_Language,Name_Calling_Labeling,Repetition                 1\n",
              "Doubt,Exaggeration_Minimisation                                  1\n",
              "Name: label, dtype: int64"
            ]
          },
          "metadata": {},
          "execution_count": 14
        }
      ],
      "source": [
        "train[\"label\"].value_counts()"
      ]
    },
    {
      "cell_type": "code",
      "execution_count": 15,
      "id": "f2b8eeb0-77ca-4254-a489-c0cdaa184047",
      "metadata": {
        "colab": {
          "base_uri": "https://localhost:8080/"
        },
        "id": "f2b8eeb0-77ca-4254-a489-c0cdaa184047",
        "outputId": "58c62755-ebe7-475a-9021-6916d6e8fde9"
      },
      "outputs": [
        {
          "output_type": "execute_result",
          "data": {
            "text/plain": [
              "count                4464\n",
              "unique                 60\n",
              "top       Loaded_Language\n",
              "freq                 1595\n",
              "Name: label, dtype: object"
            ]
          },
          "metadata": {},
          "execution_count": 15
        }
      ],
      "source": [
        "train[\"label\"].describe()"
      ]
    },
    {
      "cell_type": "code",
      "execution_count": 16,
      "id": "1a10665b-6e14-4015-9106-b0d31405097f",
      "metadata": {
        "colab": {
          "base_uri": "https://localhost:8080/"
        },
        "id": "1a10665b-6e14-4015-9106-b0d31405097f",
        "outputId": "0395ba2b-70f3-4d3f-85a3-f2ee0d2f031e"
      },
      "outputs": [
        {
          "output_type": "execute_result",
          "data": {
            "text/plain": [
              "Loaded_Language                                                                      383\n",
              "Name_Calling_Labeling                                                                177\n",
              "Appeal_to_fear-prejudice                                                             110\n",
              "Repetition                                                                            99\n",
              "Exaggeration_Minimisation                                                             71\n",
              "Flag-Waving                                                                           70\n",
              "Doubt                                                                                 69\n",
              "Appeal_to_Authority                                                                   36\n",
              "Causal_Oversimplification                                                             30\n",
              "Slogans                                                                               30\n",
              "Black-and-White_Fallacy                                                               23\n",
              "Whataboutism                                                                          19\n",
              "Thought-terminating_Cliches                                                           13\n",
              "Reductio_ad_hitlerum                                                                  12\n",
              "Red_Herring                                                                           12\n",
              "Obfuscation_Intentional_Vagueness_Confusion                                            6\n",
              "Appeal_to_fear-prejudice,Loaded_Language                                               5\n",
              "Appeal_to_Authority,Exaggeration_Minimisation                                          5\n",
              "Appeal_to_Authority,Repetition                                                         4\n",
              "Exaggeration_Minimisation,Loaded_Language                                              3\n",
              "Flag-Waving,Thought-terminating_Cliches                                                3\n",
              "Bandwagon                                                                              3\n",
              "Appeal_to_fear-prejudice,Repetition                                                    2\n",
              "Straw_Men                                                                              2\n",
              "Loaded_Language,Slogans                                                                2\n",
              "Appeal_to_fear-prejudice,Flag-Waving                                                   2\n",
              "Doubt,Exaggeration_Minimisation                                                        2\n",
              "Appeal_to_fear-prejudice,Black-and-White_Fallacy                                       2\n",
              "Exaggeration_Minimisation,Repetition                                                   2\n",
              "Appeal_to_Authority,Appeal_to_fear-prejudice                                           2\n",
              "Appeal_to_Authority,Appeal_to_fear-prejudice,Repetition                                1\n",
              "Appeal_to_fear-prejudice,Flag-Waving,Loaded_Language                                   1\n",
              "Appeal_to_Authority,Appeal_to_fear-prejudice,Exaggeration_Minimisation,Repetition      1\n",
              "Causal_Oversimplification,Exaggeration_Minimisation                                    1\n",
              "Name_Calling_Labeling,Repetition                                                       1\n",
              "Repetition,Slogans                                                                     1\n",
              "Flag-Waving,Slogans                                                                    1\n",
              "Flag-Waving,Repetition                                                                 1\n",
              "Loaded_Language,Repetition                                                             1\n",
              "Appeal_to_fear-prejudice,Name_Calling_Labeling                                         1\n",
              "Appeal_to_fear-prejudice,Bandwagon                                                     1\n",
              "Name: label, dtype: int64"
            ]
          },
          "metadata": {},
          "execution_count": 16
        }
      ],
      "source": [
        "test[\"label\"].value_counts()"
      ]
    },
    {
      "cell_type": "code",
      "execution_count": 17,
      "id": "2229bc3f-ecce-42f5-9b35-5234fb9a5429",
      "metadata": {
        "colab": {
          "base_uri": "https://localhost:8080/"
        },
        "id": "2229bc3f-ecce-42f5-9b35-5234fb9a5429",
        "outputId": "c39e3fb6-996a-4705-884c-798534300dc5"
      },
      "outputs": [
        {
          "output_type": "execute_result",
          "data": {
            "text/plain": [
              "count                1210\n",
              "unique                 41\n",
              "top       Loaded_Language\n",
              "freq                  383\n",
              "Name: label, dtype: object"
            ]
          },
          "metadata": {},
          "execution_count": 17
        }
      ],
      "source": [
        "test[\"label\"].describe()"
      ]
    },
    {
      "cell_type": "code",
      "execution_count": 18,
      "id": "9086992e-d718-41b5-bbc7-be996e049016",
      "metadata": {
        "colab": {
          "base_uri": "https://localhost:8080/"
        },
        "id": "9086992e-d718-41b5-bbc7-be996e049016",
        "outputId": "8084ea04-8438-4abe-baf0-1295ba98886b"
      },
      "outputs": [
        {
          "output_type": "execute_result",
          "data": {
            "text/plain": [
              "count    4464.000000\n",
              "mean       52.327285\n",
              "std        66.162997\n",
              "min         3.000000\n",
              "25%        16.000000\n",
              "50%        27.000000\n",
              "75%        60.000000\n",
              "max       799.000000\n",
              "Name: text, dtype: float64"
            ]
          },
          "metadata": {},
          "execution_count": 18
        }
      ],
      "source": [
        "train[\"text\"].str.len().describe()"
      ]
    },
    {
      "cell_type": "code",
      "execution_count": 19,
      "id": "5506366a-f596-404f-822d-71ff0f625d18",
      "metadata": {
        "colab": {
          "base_uri": "https://localhost:8080/"
        },
        "id": "5506366a-f596-404f-822d-71ff0f625d18",
        "outputId": "ecef505f-3d8e-4950-eb8d-490ac080c691"
      },
      "outputs": [
        {
          "output_type": "execute_result",
          "data": {
            "text/plain": [
              "count    4464.000000\n",
              "mean        8.622312\n",
              "std        11.305836\n",
              "min         1.000000\n",
              "25%         2.000000\n",
              "50%         4.000000\n",
              "75%        10.000000\n",
              "max       141.000000\n",
              "Name: tokens_per_text, dtype: float64"
            ]
          },
          "metadata": {},
          "execution_count": 19
        }
      ],
      "source": [
        "train[\"tokens_per_text\"] = train[\"text\"].str.split().str.len()\n",
        "train[\"tokens_per_text\"].describe()"
      ]
    },
    {
      "cell_type": "code",
      "execution_count": 20,
      "id": "759ae250-f185-4598-a68d-d6b75efeb9e4",
      "metadata": {
        "colab": {
          "base_uri": "https://localhost:8080/"
        },
        "id": "759ae250-f185-4598-a68d-d6b75efeb9e4",
        "outputId": "e6e11f20-b533-435b-ea8a-2a92d5333927"
      },
      "outputs": [
        {
          "output_type": "execute_result",
          "data": {
            "text/plain": [
              "count    1210.000000\n",
              "mean        7.338843\n",
              "std         9.341914\n",
              "min         1.000000\n",
              "25%         2.000000\n",
              "50%         4.000000\n",
              "75%         9.000000\n",
              "max        80.000000\n",
              "Name: tokens_per_text, dtype: float64"
            ]
          },
          "metadata": {},
          "execution_count": 20
        }
      ],
      "source": [
        "test[\"tokens_per_text\"] = test[\"text\"].str.split().str.len()\n",
        "test[\"tokens_per_text\"].describe()"
      ]
    },
    {
      "cell_type": "code",
      "execution_count": 21,
      "id": "13435cd8-6df1-425d-904b-bcc509900797",
      "metadata": {
        "colab": {
          "base_uri": "https://localhost:8080/"
        },
        "id": "13435cd8-6df1-425d-904b-bcc509900797",
        "outputId": "c96d62e2-5b73-4a84-fe00-51a15ab278d7"
      },
      "outputs": [
        {
          "output_type": "execute_result",
          "data": {
            "text/plain": [
              "count    4464.000000\n",
              "mean        8.622312\n",
              "std        11.305836\n",
              "min         1.000000\n",
              "25%         2.000000\n",
              "50%         4.000000\n",
              "75%        10.000000\n",
              "max       141.000000\n",
              "Name: tokens_per_text, dtype: float64"
            ]
          },
          "metadata": {},
          "execution_count": 21
        }
      ],
      "source": [
        "train[\"tokens_per_text\"] = train[\"text\"].str.split().str.len()\n",
        "train[\"tokens_per_text\"].describe()"
      ]
    },
    {
      "cell_type": "code",
      "execution_count": 22,
      "id": "09ab54d7-b615-4114-be91-5f16ed823f81",
      "metadata": {
        "id": "09ab54d7-b615-4114-be91-5f16ed823f81",
        "colab": {
          "base_uri": "https://localhost:8080/",
          "height": 49,
          "referenced_widgets": [
            "cb3eb602370c40dc8fd7abba8de60759",
            "7d1d496806b34b0292d380c444b3de0b",
            "f1133fb39b694d9e8f964d7576a14317",
            "4a3a62fc45d24fca96b17339520f2313",
            "28d11108d65d4fdc8654d4c2aa861027",
            "95f20a33939a48308c84cc791ee7515f",
            "c275b4468d3b4130943b044a84f8c164",
            "cc17053281a245c998466e0579c662ef",
            "cf7192b364c744ea85a0c84a589dbb95",
            "4fb24d9c976a426783913e75ba82cb8c",
            "dc577d2c1e464e00ababd8d23d622151"
          ]
        },
        "outputId": "21c68312-07dd-4f4b-e233-8d6ec4a5a281"
      },
      "outputs": [
        {
          "output_type": "display_data",
          "data": {
            "text/plain": [
              "Downloading pytorch_model.bin:   0%|          | 0.00/371M [00:00<?, ?B/s]"
            ],
            "application/vnd.jupyter.widget-view+json": {
              "version_major": 2,
              "version_minor": 0,
              "model_id": "cb3eb602370c40dc8fd7abba8de60759"
            }
          },
          "metadata": {}
        }
      ],
      "source": [
        "model_name = \"microsoft/deberta-v3-base\"\n",
        "\n",
        "################################################################################\n",
        "# bitsandbytes parameters\n",
        "################################################################################\n",
        "# Compute dtype for 4-bit base models\n",
        "bnb_4bit_compute_dtype = \"float16\"\n",
        "################################################################################\n",
        "# SFT parameters\n",
        "################################################################################\n",
        "# Load the entire model on the GPU 0\n",
        "device_map = {\"\": 0}\n",
        "\n",
        "# Load tokenizer and model with QLoRA configuration\n",
        "# compute_dtype = getattr(torch, bnb_4bit_compute_dtype)\n",
        "# bnb_config = BitsAndBytesConfig(\n",
        "#     # Activate 4-bit precision base model loading\n",
        "#     load_in_4bit=True,\n",
        "#     # Quantization type (fp4 or nf4)\n",
        "#     bnb_4bit_quant_type = \"nf4\",\n",
        "#     bnb_4bit_compute_dtype=compute_dtype,\n",
        "#     # Activate nested quantization for 4-bit base models (double quantization)\n",
        "#     bnb_4bit_use_double_quant=False,\n",
        "# )\n",
        "\n",
        "# Max length of a sequence for the model https://github.com/VinAIResearch/BERTweet/tree/master#models2\n",
        "max_seq_len=128\n",
        "tokenizer = AutoTokenizer.from_pretrained(model_name, use_fast=False, normalization=True)\n",
        "# model = AutoModel.from_pretrained(model_name, quantization_config=bnb_config, device_map=device_map)\n",
        "model = AutoModel.from_pretrained(model_name, device_map=device_map)"
      ]
    },
    {
      "cell_type": "code",
      "execution_count": 23,
      "id": "a6c22941-0a39-414a-9e17-92ae235670a4",
      "metadata": {
        "colab": {
          "base_uri": "https://localhost:8080/"
        },
        "id": "a6c22941-0a39-414a-9e17-92ae235670a4",
        "outputId": "b97df60a-e897-43f8-d0a8-447cbb80534e"
      },
      "outputs": [
        {
          "output_type": "execute_result",
          "data": {
            "text/plain": [
              "0                [1, 6191, 6632, 4820, 265, 1121, 260, 2]\n",
              "1       [1, 345, 20446, 305, 421, 1661, 20298, 263, 19...\n",
              "2                              [1, 48644, 47484, 5459, 2]\n",
              "3       [1, 262, 2080, 272, 1255, 262, 447, 262, 32372...\n",
              "4       [1, 279, 1222, 403, 518, 638, 266, 1484, 270, ...\n",
              "                              ...                        \n",
              "1375                   [1, 266, 426, 1244, 8333, 3127, 2]\n",
              "1376                       [1, 1002, 271, 84011, 3255, 2]\n",
              "1377                                  [1, 9170, 18612, 2]\n",
              "1378                                 [1, 29306, 13774, 2]\n",
              "1379                                   [1, 1496, 1220, 2]\n",
              "Name: text, Length: 5674, dtype: object"
            ]
          },
          "metadata": {},
          "execution_count": 23
        }
      ],
      "source": [
        "data = pd.concat((train[\"text\"], test[\"text\"]))\n",
        "tokens = data.apply((lambda x: tokenizer.encode(\n",
        "    x,\n",
        "    truncation=True,\n",
        "    max_length=max_seq_len\n",
        ")))\n",
        "tokens"
      ]
    },
    {
      "cell_type": "code",
      "execution_count": 24,
      "id": "4c7b0774-a9cd-4351-a547-184a0b311b07",
      "metadata": {
        "colab": {
          "base_uri": "https://localhost:8080/"
        },
        "id": "4c7b0774-a9cd-4351-a547-184a0b311b07",
        "outputId": "7ade7059-a222-44bf-e99a-7a0561dc4134"
      },
      "outputs": [
        {
          "output_type": "execute_result",
          "data": {
            "text/plain": [
              "(5674, 128)"
            ]
          },
          "metadata": {},
          "execution_count": 24
        }
      ],
      "source": [
        "padded = np.array([token+[0]*(max_seq_len-len(token)) for token in tokens.values])\n",
        "np.array(padded).shape"
      ]
    },
    {
      "cell_type": "code",
      "execution_count": 25,
      "id": "e9041fba-385f-4d0f-b964-8d85ecf9ee7c",
      "metadata": {
        "colab": {
          "base_uri": "https://localhost:8080/"
        },
        "id": "e9041fba-385f-4d0f-b964-8d85ecf9ee7c",
        "outputId": "f49bd65d-cf05-4ce7-91b1-db691170b95d"
      },
      "outputs": [
        {
          "output_type": "execute_result",
          "data": {
            "text/plain": [
              "(5674, 128)"
            ]
          },
          "metadata": {},
          "execution_count": 25
        }
      ],
      "source": [
        "attention_mask = np.where(padded != 0, 1, 0)\n",
        "attention_mask.shape"
      ]
    },
    {
      "cell_type": "code",
      "execution_count": 26,
      "id": "ac4fb6bd-8bc7-41e2-b370-644b5113846c",
      "metadata": {
        "colab": {
          "base_uri": "https://localhost:8080/"
        },
        "id": "ac4fb6bd-8bc7-41e2-b370-644b5113846c",
        "outputId": "9d9f6d39-7e67-40a0-d233-6f31b3710591"
      },
      "outputs": [
        {
          "output_type": "stream",
          "name": "stdout",
          "text": [
            "Running inference with batch no. 1\n",
            "torch.Size([64, 128, 768])\n",
            "Running inference with batch no. 2\n",
            "Running inference with batch no. 3\n",
            "Running inference with batch no. 4\n",
            "Running inference with batch no. 5\n",
            "Running inference with batch no. 6\n",
            "Running inference with batch no. 7\n",
            "Running inference with batch no. 8\n",
            "Running inference with batch no. 9\n",
            "Running inference with batch no. 10\n",
            "Running inference with batch no. 11\n",
            "Running inference with batch no. 12\n",
            "Running inference with batch no. 13\n",
            "Running inference with batch no. 14\n",
            "Running inference with batch no. 15\n",
            "Running inference with batch no. 16\n",
            "Running inference with batch no. 17\n",
            "Running inference with batch no. 18\n",
            "Running inference with batch no. 19\n",
            "Running inference with batch no. 20\n",
            "Running inference with batch no. 21\n",
            "Running inference with batch no. 22\n",
            "Running inference with batch no. 23\n",
            "Running inference with batch no. 24\n",
            "Running inference with batch no. 25\n",
            "Running inference with batch no. 26\n",
            "Running inference with batch no. 27\n",
            "Running inference with batch no. 28\n",
            "Running inference with batch no. 29\n",
            "Running inference with batch no. 30\n",
            "Running inference with batch no. 31\n",
            "Running inference with batch no. 32\n",
            "Running inference with batch no. 33\n",
            "Running inference with batch no. 34\n",
            "Running inference with batch no. 35\n",
            "Running inference with batch no. 36\n",
            "Running inference with batch no. 37\n",
            "Running inference with batch no. 38\n",
            "Running inference with batch no. 39\n",
            "Running inference with batch no. 40\n",
            "Running inference with batch no. 41\n",
            "Running inference with batch no. 42\n",
            "Running inference with batch no. 43\n",
            "Running inference with batch no. 44\n",
            "Running inference with batch no. 45\n",
            "Running inference with batch no. 46\n",
            "Running inference with batch no. 47\n",
            "Running inference with batch no. 48\n",
            "Running inference with batch no. 49\n",
            "Running inference with batch no. 50\n",
            "Running inference with batch no. 51\n",
            "Running inference with batch no. 52\n",
            "Running inference with batch no. 53\n",
            "Running inference with batch no. 54\n",
            "Running inference with batch no. 55\n",
            "Running inference with batch no. 56\n",
            "Running inference with batch no. 57\n",
            "Running inference with batch no. 58\n",
            "Running inference with batch no. 59\n",
            "Running inference with batch no. 60\n",
            "Running inference with batch no. 61\n",
            "Running inference with batch no. 62\n",
            "Running inference with batch no. 63\n",
            "Running inference with batch no. 64\n",
            "Running inference with batch no. 65\n",
            "Running inference with batch no. 66\n",
            "Running inference with batch no. 67\n",
            "Running inference with batch no. 68\n",
            "Running inference with batch no. 69\n",
            "Running inference with batch no. 70\n",
            "Running inference with batch no. 71\n",
            "Running inference with batch no. 72\n",
            "Running inference with batch no. 73\n",
            "Running inference with batch no. 74\n",
            "Running inference with batch no. 75\n",
            "Running inference with batch no. 76\n",
            "Running inference with batch no. 77\n",
            "Running inference with batch no. 78\n",
            "Running inference with batch no. 79\n",
            "Running inference with batch no. 80\n",
            "Running inference with batch no. 81\n",
            "Running inference with batch no. 82\n",
            "Running inference with batch no. 83\n",
            "Running inference with batch no. 84\n",
            "Running inference with batch no. 85\n",
            "Running inference with batch no. 86\n",
            "Running inference with batch no. 87\n",
            "Running inference with batch no. 88\n",
            "Running inference with batch no. 89\n",
            "torch.Size([42, 128, 768])\n",
            "features shape: (5674, 768)\n"
          ]
        }
      ],
      "source": [
        "input_ids = torch.tensor(padded).to(model.device)\n",
        "attention_mask = torch.tensor(attention_mask).to(model.device)\n",
        "\n",
        "ds = Dataset.from_dict({\"input_ids\": input_ids, \"attention_mask\": attention_mask}).with_format(\"torch\")\n",
        "dataloader = DataLoader(ds, batch_size=64)\n",
        "\n",
        "last_hidden_states = torch.tensor([]).to(model.device)\n",
        "with torch.no_grad():\n",
        "    for idx, batch in enumerate(dataloader):\n",
        "      print(f'Running inference with batch no. {idx+1}')\n",
        "      last_hidden_states_for_batch = model(batch[\"input_ids\"].to(model.device), attention_mask=batch[\"attention_mask\"].to(model.device))\n",
        "      if idx == 0 or idx == len(dataloader)-1:\n",
        "        print(last_hidden_states_for_batch[0].shape)\n",
        "      last_hidden_states = torch.cat((last_hidden_states, last_hidden_states_for_batch[0].to(model.device)))\n",
        "\n",
        "# extract [CLS] token hidden representation from output layer\n",
        "features = last_hidden_states[:,0,:].cpu().numpy()\n",
        "print(f'features shape: {features.shape}')\n",
        "\n",
        "# Empty VRAM\n",
        "del model\n",
        "import gc\n",
        "gc.collect()\n",
        "torch.cuda.empty_cache()"
      ]
    },
    {
      "cell_type": "code",
      "source": [
        "train_features, test_features = features[:train.shape[0]], features[train.shape[0]:]\n",
        "print(f'train features: {len(train_features)}')\n",
        "print(f'test features: {len(test_features)}')"
      ],
      "metadata": {
        "colab": {
          "base_uri": "https://localhost:8080/"
        },
        "id": "_btk0-rNj47o",
        "outputId": "7e6c59a9-fd5d-4f55-cb9f-c587b498bd66"
      },
      "id": "_btk0-rNj47o",
      "execution_count": 27,
      "outputs": [
        {
          "output_type": "stream",
          "name": "stdout",
          "text": [
            "train features: 4464\n",
            "test features: 1210\n"
          ]
        }
      ]
    },
    {
      "cell_type": "code",
      "execution_count": 28,
      "id": "41384008-6c93-4963-a0fd-88c54a2d59c9",
      "metadata": {
        "colab": {
          "base_uri": "https://localhost:8080/"
        },
        "id": "41384008-6c93-4963-a0fd-88c54a2d59c9",
        "outputId": "1995beeb-0b22-435f-d9d5-f159d4d1c50f"
      },
      "outputs": [
        {
          "output_type": "stream",
          "name": "stdout",
          "text": [
            "train labels: 4464\n",
            "test labels: 1210\n",
            "qty of labels: 18\n"
          ]
        }
      ],
      "source": [
        "train_labels, test_labels = train[\"label\"].str.split(\",\").to_numpy(), test[\"label\"].str.split(\",\").to_numpy()\n",
        "print(f'train labels: {len(train_labels)}')\n",
        "print(f'test labels: {len(test_labels)}')\n",
        "\n",
        "labels_with_duplicates = np.hstack(np.concatenate((train_labels, test_labels), axis=None))\n",
        "labels = [list(set(labels_with_duplicates))]\n",
        "print(f'qty of labels: {len(labels[0])}')"
      ]
    },
    {
      "cell_type": "code",
      "source": [
        "mlb = MultiLabelBinarizer()\n",
        "train_labels_binarized = mlb.fit(labels).transform(train_labels)\n",
        "test_labels_binarized = mlb.transform(test_labels)\n",
        "# train_labels_binarized = mlb.fit_transform(train_labels)\n",
        "# test_labels_binarized = mlb.fit_transform(test_labels)\n",
        "print(f'qty labels train: {len(train_labels_binarized[0])}')\n",
        "print(f'qty labels test: {len(test_labels_binarized[0])}')"
      ],
      "metadata": {
        "colab": {
          "base_uri": "https://localhost:8080/"
        },
        "id": "6rnxh4pPA2_u",
        "outputId": "aea69448-0efb-486c-9a29-9d566a67de52"
      },
      "id": "6rnxh4pPA2_u",
      "execution_count": 29,
      "outputs": [
        {
          "output_type": "stream",
          "name": "stdout",
          "text": [
            "qty labels train: 18\n",
            "qty labels test: 18\n"
          ]
        }
      ]
    },
    {
      "cell_type": "code",
      "source": [
        "ff = MLPClassifier(\n",
        "    random_state=1,\n",
        "    max_iter=400,\n",
        "    alpha=0.001,\n",
        "    shuffle=True,\n",
        "    early_stopping=True,\n",
        "    verbose=True\n",
        ").fit(train_features, train_labels_binarized)"
      ],
      "metadata": {
        "colab": {
          "base_uri": "https://localhost:8080/"
        },
        "id": "k34lZxj6umWa",
        "outputId": "a76d48ea-e047-4070-8f18-04d90c35ee6c"
      },
      "id": "k34lZxj6umWa",
      "execution_count": 30,
      "outputs": [
        {
          "output_type": "stream",
          "name": "stdout",
          "text": [
            "Iteration 1, loss = 5.86315025\n",
            "Validation score: 0.000000\n",
            "Iteration 2, loss = 3.13935220\n",
            "Validation score: 0.024609\n",
            "Iteration 3, loss = 3.00305412\n",
            "Validation score: 0.042506\n",
            "Iteration 4, loss = 2.95699523\n",
            "Validation score: 0.149888\n",
            "Iteration 5, loss = 2.92366033\n",
            "Validation score: 0.123043\n",
            "Iteration 6, loss = 2.89197344\n",
            "Validation score: 0.143177\n",
            "Iteration 7, loss = 2.86479755\n",
            "Validation score: 0.140940\n",
            "Iteration 8, loss = 2.84262763\n",
            "Validation score: 0.123043\n",
            "Iteration 9, loss = 2.81980220\n",
            "Validation score: 0.134228\n",
            "Iteration 10, loss = 2.78709531\n",
            "Validation score: 0.156600\n",
            "Iteration 11, loss = 2.76305321\n",
            "Validation score: 0.167785\n",
            "Iteration 12, loss = 2.74452551\n",
            "Validation score: 0.165548\n",
            "Iteration 13, loss = 2.73447701\n",
            "Validation score: 0.172260\n",
            "Iteration 14, loss = 2.71070699\n",
            "Validation score: 0.158837\n",
            "Iteration 15, loss = 2.69460639\n",
            "Validation score: 0.232662\n",
            "Iteration 16, loss = 2.68176652\n",
            "Validation score: 0.174497\n",
            "Iteration 17, loss = 2.66999126\n",
            "Validation score: 0.208054\n",
            "Iteration 18, loss = 2.64738181\n",
            "Validation score: 0.167785\n",
            "Iteration 19, loss = 2.63714818\n",
            "Validation score: 0.192394\n",
            "Iteration 20, loss = 2.62077388\n",
            "Validation score: 0.127517\n",
            "Iteration 21, loss = 2.61473716\n",
            "Validation score: 0.232662\n",
            "Iteration 22, loss = 2.60953264\n",
            "Validation score: 0.268456\n",
            "Iteration 23, loss = 2.60065697\n",
            "Validation score: 0.183445\n",
            "Iteration 24, loss = 2.58761105\n",
            "Validation score: 0.237136\n",
            "Iteration 25, loss = 2.57418624\n",
            "Validation score: 0.203579\n",
            "Iteration 26, loss = 2.55949907\n",
            "Validation score: 0.219239\n",
            "Iteration 27, loss = 2.54631957\n",
            "Validation score: 0.295302\n",
            "Iteration 28, loss = 2.55852350\n",
            "Validation score: 0.203579\n",
            "Iteration 29, loss = 2.53988485\n",
            "Validation score: 0.183445\n",
            "Iteration 30, loss = 2.53438063\n",
            "Validation score: 0.290828\n",
            "Iteration 31, loss = 2.52249825\n",
            "Validation score: 0.277405\n",
            "Iteration 32, loss = 2.50947459\n",
            "Validation score: 0.252796\n",
            "Iteration 33, loss = 2.49403476\n",
            "Validation score: 0.252796\n",
            "Iteration 34, loss = 2.48306235\n",
            "Validation score: 0.228188\n",
            "Iteration 35, loss = 2.49595818\n",
            "Validation score: 0.228188\n",
            "Iteration 36, loss = 2.49314037\n",
            "Validation score: 0.270694\n",
            "Iteration 37, loss = 2.47302743\n",
            "Validation score: 0.290828\n",
            "Iteration 38, loss = 2.46030681\n",
            "Validation score: 0.288591\n",
            "Validation score did not improve more than tol=0.000100 for 10 consecutive epochs. Stopping.\n"
          ]
        }
      ]
    },
    {
      "cell_type": "code",
      "execution_count": 31,
      "id": "50ec2fcf-220f-418a-bb57-76cf8be1253a",
      "metadata": {
        "colab": {
          "base_uri": "https://localhost:8080/"
        },
        "id": "50ec2fcf-220f-418a-bb57-76cf8be1253a",
        "outputId": "4b6eda4f-5807-40aa-b10b-6dec101a02d8"
      },
      "outputs": [
        {
          "output_type": "stream",
          "name": "stdout",
          "text": [
            "micro-f1: 0.3615510649918077\n",
            "accuracy: 0.2553719008264463\n",
            "micro-precision: 0.5786713286713286\n",
            "micro-recall: 0.26290706910246225\n"
          ]
        }
      ],
      "source": [
        "test_predicted_labels_binarized = ff.predict(test_features)\n",
        "micro_f1 = f1_score(test_labels_binarized, test_predicted_labels_binarized, average=\"micro\")\n",
        "acc = accuracy_score(test_labels_binarized, test_predicted_labels_binarized)\n",
        "prec = precision_score(test_labels_binarized, test_predicted_labels_binarized, average=\"micro\")\n",
        "rec = recall_score(test_labels_binarized, test_predicted_labels_binarized, average=\"micro\")\n",
        "print(f'micro-f1: {micro_f1}')\n",
        "print(f'accuracy: {acc}')\n",
        "print(f'micro-precision: {prec}')\n",
        "print(f'micro-recall: {rec}')"
      ]
    },
    {
      "cell_type": "code",
      "execution_count": 32,
      "id": "39f72ed2-28dc-4370-8e77-161652131873",
      "metadata": {
        "colab": {
          "base_uri": "https://localhost:8080/"
        },
        "id": "39f72ed2-28dc-4370-8e77-161652131873",
        "outputId": "dc14df06-2b91-4f94-8014-e563e411eb7d"
      },
      "outputs": [
        {
          "output_type": "execute_result",
          "data": {
            "text/plain": [
              "(18, 2, 2)"
            ]
          },
          "metadata": {},
          "execution_count": 32
        }
      ],
      "source": [
        "cf_mtx = multilabel_confusion_matrix(test_labels_binarized, test_predicted_labels_binarized)\n",
        "cf_mtx.shape"
      ]
    },
    {
      "cell_type": "code",
      "source": [
        "cf_mtx"
      ],
      "metadata": {
        "colab": {
          "base_uri": "https://localhost:8080/"
        },
        "id": "MCFd_r0n50LT",
        "outputId": "043a1ed0-05a5-4f3a-d1e6-67a0fbb9569d"
      },
      "id": "MCFd_r0n50LT",
      "execution_count": 33,
      "outputs": [
        {
          "output_type": "execute_result",
          "data": {
            "text/plain": [
              "array([[[1161,    0],\n",
              "        [  49,    0]],\n",
              "\n",
              "       [[1082,    0],\n",
              "        [ 128,    0]],\n",
              "\n",
              "       [[1206,    0],\n",
              "        [   4,    0]],\n",
              "\n",
              "       [[1185,    0],\n",
              "        [  25,    0]],\n",
              "\n",
              "       [[1179,    0],\n",
              "        [  31,    0]],\n",
              "\n",
              "       [[1139,    0],\n",
              "        [  71,    0]],\n",
              "\n",
              "       [[1125,    0],\n",
              "        [  85,    0]],\n",
              "\n",
              "       [[1132,    0],\n",
              "        [  78,    0]],\n",
              "\n",
              "       [[ 582,  233],\n",
              "        [  87,  308]],\n",
              "\n",
              "       [[1023,    8],\n",
              "        [ 156,   23]],\n",
              "\n",
              "       [[1204,    0],\n",
              "        [   6,    0]],\n",
              "\n",
              "       [[1198,    0],\n",
              "        [  12,    0]],\n",
              "\n",
              "       [[1198,    0],\n",
              "        [  12,    0]],\n",
              "\n",
              "       [[1097,    0],\n",
              "        [ 113,    0]],\n",
              "\n",
              "       [[1176,    0],\n",
              "        [  34,    0]],\n",
              "\n",
              "       [[1208,    0],\n",
              "        [   2,    0]],\n",
              "\n",
              "       [[1194,    0],\n",
              "        [  16,    0]],\n",
              "\n",
              "       [[1191,    0],\n",
              "        [  19,    0]]])"
            ]
          },
          "metadata": {},
          "execution_count": 33
        }
      ]
    }
  ],
  "metadata": {
    "kernelspec": {
      "display_name": "Python 3",
      "name": "python3"
    },
    "language_info": {
      "codemirror_mode": {
        "name": "ipython",
        "version": 3
      },
      "file_extension": ".py",
      "mimetype": "text/x-python",
      "name": "python",
      "nbconvert_exporter": "python",
      "pygments_lexer": "ipython3",
      "version": "3.11.5"
    },
    "colab": {
      "provenance": [],
      "gpuType": "T4",
      "include_colab_link": true
    },
    "accelerator": "GPU",
    "widgets": {
      "application/vnd.jupyter.widget-state+json": {
        "cb3eb602370c40dc8fd7abba8de60759": {
          "model_module": "@jupyter-widgets/controls",
          "model_name": "HBoxModel",
          "model_module_version": "1.5.0",
          "state": {
            "_dom_classes": [],
            "_model_module": "@jupyter-widgets/controls",
            "_model_module_version": "1.5.0",
            "_model_name": "HBoxModel",
            "_view_count": null,
            "_view_module": "@jupyter-widgets/controls",
            "_view_module_version": "1.5.0",
            "_view_name": "HBoxView",
            "box_style": "",
            "children": [
              "IPY_MODEL_7d1d496806b34b0292d380c444b3de0b",
              "IPY_MODEL_f1133fb39b694d9e8f964d7576a14317",
              "IPY_MODEL_4a3a62fc45d24fca96b17339520f2313"
            ],
            "layout": "IPY_MODEL_28d11108d65d4fdc8654d4c2aa861027"
          }
        },
        "7d1d496806b34b0292d380c444b3de0b": {
          "model_module": "@jupyter-widgets/controls",
          "model_name": "HTMLModel",
          "model_module_version": "1.5.0",
          "state": {
            "_dom_classes": [],
            "_model_module": "@jupyter-widgets/controls",
            "_model_module_version": "1.5.0",
            "_model_name": "HTMLModel",
            "_view_count": null,
            "_view_module": "@jupyter-widgets/controls",
            "_view_module_version": "1.5.0",
            "_view_name": "HTMLView",
            "description": "",
            "description_tooltip": null,
            "layout": "IPY_MODEL_95f20a33939a48308c84cc791ee7515f",
            "placeholder": "​",
            "style": "IPY_MODEL_c275b4468d3b4130943b044a84f8c164",
            "value": "Downloading pytorch_model.bin: 100%"
          }
        },
        "f1133fb39b694d9e8f964d7576a14317": {
          "model_module": "@jupyter-widgets/controls",
          "model_name": "FloatProgressModel",
          "model_module_version": "1.5.0",
          "state": {
            "_dom_classes": [],
            "_model_module": "@jupyter-widgets/controls",
            "_model_module_version": "1.5.0",
            "_model_name": "FloatProgressModel",
            "_view_count": null,
            "_view_module": "@jupyter-widgets/controls",
            "_view_module_version": "1.5.0",
            "_view_name": "ProgressView",
            "bar_style": "success",
            "description": "",
            "description_tooltip": null,
            "layout": "IPY_MODEL_cc17053281a245c998466e0579c662ef",
            "max": 371146213,
            "min": 0,
            "orientation": "horizontal",
            "style": "IPY_MODEL_cf7192b364c744ea85a0c84a589dbb95",
            "value": 371146213
          }
        },
        "4a3a62fc45d24fca96b17339520f2313": {
          "model_module": "@jupyter-widgets/controls",
          "model_name": "HTMLModel",
          "model_module_version": "1.5.0",
          "state": {
            "_dom_classes": [],
            "_model_module": "@jupyter-widgets/controls",
            "_model_module_version": "1.5.0",
            "_model_name": "HTMLModel",
            "_view_count": null,
            "_view_module": "@jupyter-widgets/controls",
            "_view_module_version": "1.5.0",
            "_view_name": "HTMLView",
            "description": "",
            "description_tooltip": null,
            "layout": "IPY_MODEL_4fb24d9c976a426783913e75ba82cb8c",
            "placeholder": "​",
            "style": "IPY_MODEL_dc577d2c1e464e00ababd8d23d622151",
            "value": " 371M/371M [00:02&lt;00:00, 128MB/s]"
          }
        },
        "28d11108d65d4fdc8654d4c2aa861027": {
          "model_module": "@jupyter-widgets/base",
          "model_name": "LayoutModel",
          "model_module_version": "1.2.0",
          "state": {
            "_model_module": "@jupyter-widgets/base",
            "_model_module_version": "1.2.0",
            "_model_name": "LayoutModel",
            "_view_count": null,
            "_view_module": "@jupyter-widgets/base",
            "_view_module_version": "1.2.0",
            "_view_name": "LayoutView",
            "align_content": null,
            "align_items": null,
            "align_self": null,
            "border": null,
            "bottom": null,
            "display": null,
            "flex": null,
            "flex_flow": null,
            "grid_area": null,
            "grid_auto_columns": null,
            "grid_auto_flow": null,
            "grid_auto_rows": null,
            "grid_column": null,
            "grid_gap": null,
            "grid_row": null,
            "grid_template_areas": null,
            "grid_template_columns": null,
            "grid_template_rows": null,
            "height": null,
            "justify_content": null,
            "justify_items": null,
            "left": null,
            "margin": null,
            "max_height": null,
            "max_width": null,
            "min_height": null,
            "min_width": null,
            "object_fit": null,
            "object_position": null,
            "order": null,
            "overflow": null,
            "overflow_x": null,
            "overflow_y": null,
            "padding": null,
            "right": null,
            "top": null,
            "visibility": null,
            "width": null
          }
        },
        "95f20a33939a48308c84cc791ee7515f": {
          "model_module": "@jupyter-widgets/base",
          "model_name": "LayoutModel",
          "model_module_version": "1.2.0",
          "state": {
            "_model_module": "@jupyter-widgets/base",
            "_model_module_version": "1.2.0",
            "_model_name": "LayoutModel",
            "_view_count": null,
            "_view_module": "@jupyter-widgets/base",
            "_view_module_version": "1.2.0",
            "_view_name": "LayoutView",
            "align_content": null,
            "align_items": null,
            "align_self": null,
            "border": null,
            "bottom": null,
            "display": null,
            "flex": null,
            "flex_flow": null,
            "grid_area": null,
            "grid_auto_columns": null,
            "grid_auto_flow": null,
            "grid_auto_rows": null,
            "grid_column": null,
            "grid_gap": null,
            "grid_row": null,
            "grid_template_areas": null,
            "grid_template_columns": null,
            "grid_template_rows": null,
            "height": null,
            "justify_content": null,
            "justify_items": null,
            "left": null,
            "margin": null,
            "max_height": null,
            "max_width": null,
            "min_height": null,
            "min_width": null,
            "object_fit": null,
            "object_position": null,
            "order": null,
            "overflow": null,
            "overflow_x": null,
            "overflow_y": null,
            "padding": null,
            "right": null,
            "top": null,
            "visibility": null,
            "width": null
          }
        },
        "c275b4468d3b4130943b044a84f8c164": {
          "model_module": "@jupyter-widgets/controls",
          "model_name": "DescriptionStyleModel",
          "model_module_version": "1.5.0",
          "state": {
            "_model_module": "@jupyter-widgets/controls",
            "_model_module_version": "1.5.0",
            "_model_name": "DescriptionStyleModel",
            "_view_count": null,
            "_view_module": "@jupyter-widgets/base",
            "_view_module_version": "1.2.0",
            "_view_name": "StyleView",
            "description_width": ""
          }
        },
        "cc17053281a245c998466e0579c662ef": {
          "model_module": "@jupyter-widgets/base",
          "model_name": "LayoutModel",
          "model_module_version": "1.2.0",
          "state": {
            "_model_module": "@jupyter-widgets/base",
            "_model_module_version": "1.2.0",
            "_model_name": "LayoutModel",
            "_view_count": null,
            "_view_module": "@jupyter-widgets/base",
            "_view_module_version": "1.2.0",
            "_view_name": "LayoutView",
            "align_content": null,
            "align_items": null,
            "align_self": null,
            "border": null,
            "bottom": null,
            "display": null,
            "flex": null,
            "flex_flow": null,
            "grid_area": null,
            "grid_auto_columns": null,
            "grid_auto_flow": null,
            "grid_auto_rows": null,
            "grid_column": null,
            "grid_gap": null,
            "grid_row": null,
            "grid_template_areas": null,
            "grid_template_columns": null,
            "grid_template_rows": null,
            "height": null,
            "justify_content": null,
            "justify_items": null,
            "left": null,
            "margin": null,
            "max_height": null,
            "max_width": null,
            "min_height": null,
            "min_width": null,
            "object_fit": null,
            "object_position": null,
            "order": null,
            "overflow": null,
            "overflow_x": null,
            "overflow_y": null,
            "padding": null,
            "right": null,
            "top": null,
            "visibility": null,
            "width": null
          }
        },
        "cf7192b364c744ea85a0c84a589dbb95": {
          "model_module": "@jupyter-widgets/controls",
          "model_name": "ProgressStyleModel",
          "model_module_version": "1.5.0",
          "state": {
            "_model_module": "@jupyter-widgets/controls",
            "_model_module_version": "1.5.0",
            "_model_name": "ProgressStyleModel",
            "_view_count": null,
            "_view_module": "@jupyter-widgets/base",
            "_view_module_version": "1.2.0",
            "_view_name": "StyleView",
            "bar_color": null,
            "description_width": ""
          }
        },
        "4fb24d9c976a426783913e75ba82cb8c": {
          "model_module": "@jupyter-widgets/base",
          "model_name": "LayoutModel",
          "model_module_version": "1.2.0",
          "state": {
            "_model_module": "@jupyter-widgets/base",
            "_model_module_version": "1.2.0",
            "_model_name": "LayoutModel",
            "_view_count": null,
            "_view_module": "@jupyter-widgets/base",
            "_view_module_version": "1.2.0",
            "_view_name": "LayoutView",
            "align_content": null,
            "align_items": null,
            "align_self": null,
            "border": null,
            "bottom": null,
            "display": null,
            "flex": null,
            "flex_flow": null,
            "grid_area": null,
            "grid_auto_columns": null,
            "grid_auto_flow": null,
            "grid_auto_rows": null,
            "grid_column": null,
            "grid_gap": null,
            "grid_row": null,
            "grid_template_areas": null,
            "grid_template_columns": null,
            "grid_template_rows": null,
            "height": null,
            "justify_content": null,
            "justify_items": null,
            "left": null,
            "margin": null,
            "max_height": null,
            "max_width": null,
            "min_height": null,
            "min_width": null,
            "object_fit": null,
            "object_position": null,
            "order": null,
            "overflow": null,
            "overflow_x": null,
            "overflow_y": null,
            "padding": null,
            "right": null,
            "top": null,
            "visibility": null,
            "width": null
          }
        },
        "dc577d2c1e464e00ababd8d23d622151": {
          "model_module": "@jupyter-widgets/controls",
          "model_name": "DescriptionStyleModel",
          "model_module_version": "1.5.0",
          "state": {
            "_model_module": "@jupyter-widgets/controls",
            "_model_module_version": "1.5.0",
            "_model_name": "DescriptionStyleModel",
            "_view_count": null,
            "_view_module": "@jupyter-widgets/base",
            "_view_module_version": "1.2.0",
            "_view_name": "StyleView",
            "description_width": ""
          }
        }
      }
    }
  },
  "nbformat": 4,
  "nbformat_minor": 5
}