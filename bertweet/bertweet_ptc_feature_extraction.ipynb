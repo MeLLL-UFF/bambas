{
  "cells": [
    {
      "cell_type": "markdown",
      "metadata": {
        "id": "view-in-github",
        "colab_type": "text"
      },
      "source": [
        "<a href=\"https://colab.research.google.com/github/MeLLL-UFF/bambas/blob/feat%2Fbertweet/bertweet/bertweet_ptc_feature_extraction.ipynb\" target=\"_parent\"><img src=\"https://colab.research.google.com/assets/colab-badge.svg\" alt=\"Open In Colab\"/></a>"
      ]
    },
    {
      "cell_type": "code",
      "source": [
        "pip install -q transformers pandas matplotlib torch numpy datasets scikit_learn notebook matplotlib emoji==0.6.0 nltk bitsandbytes==0.40.2 accelerate==0.21.0"
      ],
      "metadata": {
        "id": "V0yQBtmTZviM"
      },
      "id": "V0yQBtmTZviM",
      "execution_count": 1,
      "outputs": []
    },
    {
      "cell_type": "code",
      "execution_count": 2,
      "id": "a58bb227-54cb-46ee-aa86-b4cc5a016e02",
      "metadata": {
        "colab": {
          "base_uri": "https://localhost:8080/"
        },
        "id": "a58bb227-54cb-46ee-aa86-b4cc5a016e02",
        "outputId": "cd1c332c-2e94-4a8f-fa2b-0c81de21bd15"
      },
      "outputs": [
        {
          "output_type": "stream",
          "name": "stdout",
          "text": [
            "Drive already mounted at /gdrive; to attempt to forcibly remount, call drive.mount(\"/gdrive\", force_remount=True).\n"
          ]
        }
      ],
      "source": [
        "import pandas as pd\n",
        "import numpy as np\n",
        "import torch\n",
        "from transformers import AutoModel, AutoTokenizer, BitsAndBytesConfig\n",
        "from datasets import Dataset\n",
        "from torch.utils.data import DataLoader\n",
        "from emoji import demojize\n",
        "from nltk.tokenize import TweetTokenizer\n",
        "from sklearn.preprocessing import MultiLabelBinarizer\n",
        "from sklearn.neural_network import MLPClassifier\n",
        "from sklearn.metrics import f1_score, accuracy_score, precision_score, recall_score, multilabel_confusion_matrix\n",
        "from google.colab import drive\n",
        "drive.mount(\"/gdrive\")\n",
        "WORKDIR=\"/gdrive/My Drive/projects/bambas/bertweet\""
      ]
    },
    {
      "cell_type": "code",
      "execution_count": 3,
      "id": "4764cf4a-6e5b-4ce0-8c0d-3943a345b2ee",
      "metadata": {
        "colab": {
          "base_uri": "https://localhost:8080/",
          "height": 35
        },
        "id": "4764cf4a-6e5b-4ce0-8c0d-3943a345b2ee",
        "outputId": "d7f18660-a9a4-43b8-fc2f-9e43fcd00af9"
      },
      "outputs": [
        {
          "output_type": "execute_result",
          "data": {
            "text/plain": [
              "'/content'"
            ],
            "application/vnd.google.colaboratory.intrinsic+json": {
              "type": "string"
            }
          },
          "metadata": {},
          "execution_count": 3
        }
      ],
      "source": [
        "%pwd"
      ]
    },
    {
      "cell_type": "code",
      "execution_count": 4,
      "id": "d01777c8-c362-4799-8149-7e147be169fb",
      "metadata": {
        "colab": {
          "base_uri": "https://localhost:8080/",
          "height": 493
        },
        "id": "d01777c8-c362-4799-8149-7e147be169fb",
        "outputId": "6225890e-08ca-435c-8f6f-151c952cdfe4"
      },
      "outputs": [
        {
          "output_type": "execute_result",
          "data": {
            "text/plain": [
              "      Unnamed: 0                                               text  \\\n",
              "0              0                    Stop Islamization of America.\\t   \n",
              "1              1  We condemn all those whose behaviours and view...   \n",
              "2              2                                      Defeat Jihad`   \n",
              "3              3  the nation that gave the world the Magna Carta...   \n",
              "4              4  The UK should never become a stage for inflamm...   \n",
              "...          ...                                                ...   \n",
              "4945        4945                                               sham   \n",
              "4946        4946                         evidently completely false   \n",
              "4947        4947                              Russian collaborators   \n",
              "4948        4948  We have previously shown that the Guardian eve...   \n",
              "4949        4949  Unfortunately other 'western' media are not mu...   \n",
              "\n",
              "                        label              category  \n",
              "0                     Slogans                  Call  \n",
              "1     Black-and-White_Fallacy                   NaN  \n",
              "2                     Slogans                  Call  \n",
              "3             Loaded_Language  Manipulative_wording  \n",
              "4                 Flag-Waving         Justification  \n",
              "...                       ...                   ...  \n",
              "4945          Loaded_Language  Manipulative_wording  \n",
              "4946    Name_Calling_Labeling  Attack_on_reputation  \n",
              "4947    Name_Calling_Labeling  Attack_on_reputation  \n",
              "4948     Reductio_ad_hitlerum                   NaN  \n",
              "4949             Whataboutism           Distraction  \n",
              "\n",
              "[4950 rows x 4 columns]"
            ],
            "text/html": [
              "\n",
              "  <div id=\"df-5c86744a-1ae5-4e91-9e55-0a65e11eac9b\" class=\"colab-df-container\">\n",
              "    <div>\n",
              "<style scoped>\n",
              "    .dataframe tbody tr th:only-of-type {\n",
              "        vertical-align: middle;\n",
              "    }\n",
              "\n",
              "    .dataframe tbody tr th {\n",
              "        vertical-align: top;\n",
              "    }\n",
              "\n",
              "    .dataframe thead th {\n",
              "        text-align: right;\n",
              "    }\n",
              "</style>\n",
              "<table border=\"1\" class=\"dataframe\">\n",
              "  <thead>\n",
              "    <tr style=\"text-align: right;\">\n",
              "      <th></th>\n",
              "      <th>Unnamed: 0</th>\n",
              "      <th>text</th>\n",
              "      <th>label</th>\n",
              "      <th>category</th>\n",
              "    </tr>\n",
              "  </thead>\n",
              "  <tbody>\n",
              "    <tr>\n",
              "      <th>0</th>\n",
              "      <td>0</td>\n",
              "      <td>Stop Islamization of America.\\t</td>\n",
              "      <td>Slogans</td>\n",
              "      <td>Call</td>\n",
              "    </tr>\n",
              "    <tr>\n",
              "      <th>1</th>\n",
              "      <td>1</td>\n",
              "      <td>We condemn all those whose behaviours and view...</td>\n",
              "      <td>Black-and-White_Fallacy</td>\n",
              "      <td>NaN</td>\n",
              "    </tr>\n",
              "    <tr>\n",
              "      <th>2</th>\n",
              "      <td>2</td>\n",
              "      <td>Defeat Jihad`</td>\n",
              "      <td>Slogans</td>\n",
              "      <td>Call</td>\n",
              "    </tr>\n",
              "    <tr>\n",
              "      <th>3</th>\n",
              "      <td>3</td>\n",
              "      <td>the nation that gave the world the Magna Carta...</td>\n",
              "      <td>Loaded_Language</td>\n",
              "      <td>Manipulative_wording</td>\n",
              "    </tr>\n",
              "    <tr>\n",
              "      <th>4</th>\n",
              "      <td>4</td>\n",
              "      <td>The UK should never become a stage for inflamm...</td>\n",
              "      <td>Flag-Waving</td>\n",
              "      <td>Justification</td>\n",
              "    </tr>\n",
              "    <tr>\n",
              "      <th>...</th>\n",
              "      <td>...</td>\n",
              "      <td>...</td>\n",
              "      <td>...</td>\n",
              "      <td>...</td>\n",
              "    </tr>\n",
              "    <tr>\n",
              "      <th>4945</th>\n",
              "      <td>4945</td>\n",
              "      <td>sham</td>\n",
              "      <td>Loaded_Language</td>\n",
              "      <td>Manipulative_wording</td>\n",
              "    </tr>\n",
              "    <tr>\n",
              "      <th>4946</th>\n",
              "      <td>4946</td>\n",
              "      <td>evidently completely false</td>\n",
              "      <td>Name_Calling_Labeling</td>\n",
              "      <td>Attack_on_reputation</td>\n",
              "    </tr>\n",
              "    <tr>\n",
              "      <th>4947</th>\n",
              "      <td>4947</td>\n",
              "      <td>Russian collaborators</td>\n",
              "      <td>Name_Calling_Labeling</td>\n",
              "      <td>Attack_on_reputation</td>\n",
              "    </tr>\n",
              "    <tr>\n",
              "      <th>4948</th>\n",
              "      <td>4948</td>\n",
              "      <td>We have previously shown that the Guardian eve...</td>\n",
              "      <td>Reductio_ad_hitlerum</td>\n",
              "      <td>NaN</td>\n",
              "    </tr>\n",
              "    <tr>\n",
              "      <th>4949</th>\n",
              "      <td>4949</td>\n",
              "      <td>Unfortunately other 'western' media are not mu...</td>\n",
              "      <td>Whataboutism</td>\n",
              "      <td>Distraction</td>\n",
              "    </tr>\n",
              "  </tbody>\n",
              "</table>\n",
              "<p>4950 rows × 4 columns</p>\n",
              "</div>\n",
              "    <div class=\"colab-df-buttons\">\n",
              "\n",
              "  <div class=\"colab-df-container\">\n",
              "    <button class=\"colab-df-convert\" onclick=\"convertToInteractive('df-5c86744a-1ae5-4e91-9e55-0a65e11eac9b')\"\n",
              "            title=\"Convert this dataframe to an interactive table.\"\n",
              "            style=\"display:none;\">\n",
              "\n",
              "  <svg xmlns=\"http://www.w3.org/2000/svg\" height=\"24px\" viewBox=\"0 -960 960 960\">\n",
              "    <path d=\"M120-120v-720h720v720H120Zm60-500h600v-160H180v160Zm220 220h160v-160H400v160Zm0 220h160v-160H400v160ZM180-400h160v-160H180v160Zm440 0h160v-160H620v160ZM180-180h160v-160H180v160Zm440 0h160v-160H620v160Z\"/>\n",
              "  </svg>\n",
              "    </button>\n",
              "\n",
              "  <style>\n",
              "    .colab-df-container {\n",
              "      display:flex;\n",
              "      gap: 12px;\n",
              "    }\n",
              "\n",
              "    .colab-df-convert {\n",
              "      background-color: #E8F0FE;\n",
              "      border: none;\n",
              "      border-radius: 50%;\n",
              "      cursor: pointer;\n",
              "      display: none;\n",
              "      fill: #1967D2;\n",
              "      height: 32px;\n",
              "      padding: 0 0 0 0;\n",
              "      width: 32px;\n",
              "    }\n",
              "\n",
              "    .colab-df-convert:hover {\n",
              "      background-color: #E2EBFA;\n",
              "      box-shadow: 0px 1px 2px rgba(60, 64, 67, 0.3), 0px 1px 3px 1px rgba(60, 64, 67, 0.15);\n",
              "      fill: #174EA6;\n",
              "    }\n",
              "\n",
              "    .colab-df-buttons div {\n",
              "      margin-bottom: 4px;\n",
              "    }\n",
              "\n",
              "    [theme=dark] .colab-df-convert {\n",
              "      background-color: #3B4455;\n",
              "      fill: #D2E3FC;\n",
              "    }\n",
              "\n",
              "    [theme=dark] .colab-df-convert:hover {\n",
              "      background-color: #434B5C;\n",
              "      box-shadow: 0px 1px 3px 1px rgba(0, 0, 0, 0.15);\n",
              "      filter: drop-shadow(0px 1px 2px rgba(0, 0, 0, 0.3));\n",
              "      fill: #FFFFFF;\n",
              "    }\n",
              "  </style>\n",
              "\n",
              "    <script>\n",
              "      const buttonEl =\n",
              "        document.querySelector('#df-5c86744a-1ae5-4e91-9e55-0a65e11eac9b button.colab-df-convert');\n",
              "      buttonEl.style.display =\n",
              "        google.colab.kernel.accessAllowed ? 'block' : 'none';\n",
              "\n",
              "      async function convertToInteractive(key) {\n",
              "        const element = document.querySelector('#df-5c86744a-1ae5-4e91-9e55-0a65e11eac9b');\n",
              "        const dataTable =\n",
              "          await google.colab.kernel.invokeFunction('convertToInteractive',\n",
              "                                                    [key], {});\n",
              "        if (!dataTable) return;\n",
              "\n",
              "        const docLinkHtml = 'Like what you see? Visit the ' +\n",
              "          '<a target=\"_blank\" href=https://colab.research.google.com/notebooks/data_table.ipynb>data table notebook</a>'\n",
              "          + ' to learn more about interactive tables.';\n",
              "        element.innerHTML = '';\n",
              "        dataTable['output_type'] = 'display_data';\n",
              "        await google.colab.output.renderOutput(dataTable, element);\n",
              "        const docLink = document.createElement('div');\n",
              "        docLink.innerHTML = docLinkHtml;\n",
              "        element.appendChild(docLink);\n",
              "      }\n",
              "    </script>\n",
              "  </div>\n",
              "\n",
              "\n",
              "<div id=\"df-ed23aab1-9213-4fd0-9314-e10a22a2b6d6\">\n",
              "  <button class=\"colab-df-quickchart\" onclick=\"quickchart('df-ed23aab1-9213-4fd0-9314-e10a22a2b6d6')\"\n",
              "            title=\"Suggest charts.\"\n",
              "            style=\"display:none;\">\n",
              "\n",
              "<svg xmlns=\"http://www.w3.org/2000/svg\" height=\"24px\"viewBox=\"0 0 24 24\"\n",
              "     width=\"24px\">\n",
              "    <g>\n",
              "        <path d=\"M19 3H5c-1.1 0-2 .9-2 2v14c0 1.1.9 2 2 2h14c1.1 0 2-.9 2-2V5c0-1.1-.9-2-2-2zM9 17H7v-7h2v7zm4 0h-2V7h2v10zm4 0h-2v-4h2v4z\"/>\n",
              "    </g>\n",
              "</svg>\n",
              "  </button>\n",
              "\n",
              "<style>\n",
              "  .colab-df-quickchart {\n",
              "      --bg-color: #E8F0FE;\n",
              "      --fill-color: #1967D2;\n",
              "      --hover-bg-color: #E2EBFA;\n",
              "      --hover-fill-color: #174EA6;\n",
              "      --disabled-fill-color: #AAA;\n",
              "      --disabled-bg-color: #DDD;\n",
              "  }\n",
              "\n",
              "  [theme=dark] .colab-df-quickchart {\n",
              "      --bg-color: #3B4455;\n",
              "      --fill-color: #D2E3FC;\n",
              "      --hover-bg-color: #434B5C;\n",
              "      --hover-fill-color: #FFFFFF;\n",
              "      --disabled-bg-color: #3B4455;\n",
              "      --disabled-fill-color: #666;\n",
              "  }\n",
              "\n",
              "  .colab-df-quickchart {\n",
              "    background-color: var(--bg-color);\n",
              "    border: none;\n",
              "    border-radius: 50%;\n",
              "    cursor: pointer;\n",
              "    display: none;\n",
              "    fill: var(--fill-color);\n",
              "    height: 32px;\n",
              "    padding: 0;\n",
              "    width: 32px;\n",
              "  }\n",
              "\n",
              "  .colab-df-quickchart:hover {\n",
              "    background-color: var(--hover-bg-color);\n",
              "    box-shadow: 0 1px 2px rgba(60, 64, 67, 0.3), 0 1px 3px 1px rgba(60, 64, 67, 0.15);\n",
              "    fill: var(--button-hover-fill-color);\n",
              "  }\n",
              "\n",
              "  .colab-df-quickchart-complete:disabled,\n",
              "  .colab-df-quickchart-complete:disabled:hover {\n",
              "    background-color: var(--disabled-bg-color);\n",
              "    fill: var(--disabled-fill-color);\n",
              "    box-shadow: none;\n",
              "  }\n",
              "\n",
              "  .colab-df-spinner {\n",
              "    border: 2px solid var(--fill-color);\n",
              "    border-color: transparent;\n",
              "    border-bottom-color: var(--fill-color);\n",
              "    animation:\n",
              "      spin 1s steps(1) infinite;\n",
              "  }\n",
              "\n",
              "  @keyframes spin {\n",
              "    0% {\n",
              "      border-color: transparent;\n",
              "      border-bottom-color: var(--fill-color);\n",
              "      border-left-color: var(--fill-color);\n",
              "    }\n",
              "    20% {\n",
              "      border-color: transparent;\n",
              "      border-left-color: var(--fill-color);\n",
              "      border-top-color: var(--fill-color);\n",
              "    }\n",
              "    30% {\n",
              "      border-color: transparent;\n",
              "      border-left-color: var(--fill-color);\n",
              "      border-top-color: var(--fill-color);\n",
              "      border-right-color: var(--fill-color);\n",
              "    }\n",
              "    40% {\n",
              "      border-color: transparent;\n",
              "      border-right-color: var(--fill-color);\n",
              "      border-top-color: var(--fill-color);\n",
              "    }\n",
              "    60% {\n",
              "      border-color: transparent;\n",
              "      border-right-color: var(--fill-color);\n",
              "    }\n",
              "    80% {\n",
              "      border-color: transparent;\n",
              "      border-right-color: var(--fill-color);\n",
              "      border-bottom-color: var(--fill-color);\n",
              "    }\n",
              "    90% {\n",
              "      border-color: transparent;\n",
              "      border-bottom-color: var(--fill-color);\n",
              "    }\n",
              "  }\n",
              "</style>\n",
              "\n",
              "  <script>\n",
              "    async function quickchart(key) {\n",
              "      const quickchartButtonEl =\n",
              "        document.querySelector('#' + key + ' button');\n",
              "      quickchartButtonEl.disabled = true;  // To prevent multiple clicks.\n",
              "      quickchartButtonEl.classList.add('colab-df-spinner');\n",
              "      try {\n",
              "        const charts = await google.colab.kernel.invokeFunction(\n",
              "            'suggestCharts', [key], {});\n",
              "      } catch (error) {\n",
              "        console.error('Error during call to suggestCharts:', error);\n",
              "      }\n",
              "      quickchartButtonEl.classList.remove('colab-df-spinner');\n",
              "      quickchartButtonEl.classList.add('colab-df-quickchart-complete');\n",
              "    }\n",
              "    (() => {\n",
              "      let quickchartButtonEl =\n",
              "        document.querySelector('#df-ed23aab1-9213-4fd0-9314-e10a22a2b6d6 button');\n",
              "      quickchartButtonEl.style.display =\n",
              "        google.colab.kernel.accessAllowed ? 'block' : 'none';\n",
              "    })();\n",
              "  </script>\n",
              "</div>\n",
              "    </div>\n",
              "  </div>\n"
            ]
          },
          "metadata": {},
          "execution_count": 4
        }
      ],
      "source": [
        "train = pd.read_csv(f'{WORKDIR}/dataset/ptc_preproc_train.csv', sep=\";\")\n",
        "test = pd.read_csv(f'{WORKDIR}/dataset/ptc_preproc_test.csv', sep=\";\")\n",
        "train"
      ]
    },
    {
      "cell_type": "code",
      "execution_count": 5,
      "id": "288a3c24-798e-4e83-a128-a87c4fc65786",
      "metadata": {
        "colab": {
          "base_uri": "https://localhost:8080/",
          "height": 81
        },
        "id": "288a3c24-798e-4e83-a128-a87c4fc65786",
        "outputId": "f9bb8725-64bf-436e-d291-43ebdf625131"
      },
      "outputs": [
        {
          "output_type": "execute_result",
          "data": {
            "text/plain": [
              "      Unnamed: 0 text            label              category\n",
              "3348        3348  NaN  Loaded_Language  Manipulative_wording"
            ],
            "text/html": [
              "\n",
              "  <div id=\"df-95acae06-884e-46db-9852-c5d75544a6a3\" class=\"colab-df-container\">\n",
              "    <div>\n",
              "<style scoped>\n",
              "    .dataframe tbody tr th:only-of-type {\n",
              "        vertical-align: middle;\n",
              "    }\n",
              "\n",
              "    .dataframe tbody tr th {\n",
              "        vertical-align: top;\n",
              "    }\n",
              "\n",
              "    .dataframe thead th {\n",
              "        text-align: right;\n",
              "    }\n",
              "</style>\n",
              "<table border=\"1\" class=\"dataframe\">\n",
              "  <thead>\n",
              "    <tr style=\"text-align: right;\">\n",
              "      <th></th>\n",
              "      <th>Unnamed: 0</th>\n",
              "      <th>text</th>\n",
              "      <th>label</th>\n",
              "      <th>category</th>\n",
              "    </tr>\n",
              "  </thead>\n",
              "  <tbody>\n",
              "    <tr>\n",
              "      <th>3348</th>\n",
              "      <td>3348</td>\n",
              "      <td>NaN</td>\n",
              "      <td>Loaded_Language</td>\n",
              "      <td>Manipulative_wording</td>\n",
              "    </tr>\n",
              "  </tbody>\n",
              "</table>\n",
              "</div>\n",
              "    <div class=\"colab-df-buttons\">\n",
              "\n",
              "  <div class=\"colab-df-container\">\n",
              "    <button class=\"colab-df-convert\" onclick=\"convertToInteractive('df-95acae06-884e-46db-9852-c5d75544a6a3')\"\n",
              "            title=\"Convert this dataframe to an interactive table.\"\n",
              "            style=\"display:none;\">\n",
              "\n",
              "  <svg xmlns=\"http://www.w3.org/2000/svg\" height=\"24px\" viewBox=\"0 -960 960 960\">\n",
              "    <path d=\"M120-120v-720h720v720H120Zm60-500h600v-160H180v160Zm220 220h160v-160H400v160Zm0 220h160v-160H400v160ZM180-400h160v-160H180v160Zm440 0h160v-160H620v160ZM180-180h160v-160H180v160Zm440 0h160v-160H620v160Z\"/>\n",
              "  </svg>\n",
              "    </button>\n",
              "\n",
              "  <style>\n",
              "    .colab-df-container {\n",
              "      display:flex;\n",
              "      gap: 12px;\n",
              "    }\n",
              "\n",
              "    .colab-df-convert {\n",
              "      background-color: #E8F0FE;\n",
              "      border: none;\n",
              "      border-radius: 50%;\n",
              "      cursor: pointer;\n",
              "      display: none;\n",
              "      fill: #1967D2;\n",
              "      height: 32px;\n",
              "      padding: 0 0 0 0;\n",
              "      width: 32px;\n",
              "    }\n",
              "\n",
              "    .colab-df-convert:hover {\n",
              "      background-color: #E2EBFA;\n",
              "      box-shadow: 0px 1px 2px rgba(60, 64, 67, 0.3), 0px 1px 3px 1px rgba(60, 64, 67, 0.15);\n",
              "      fill: #174EA6;\n",
              "    }\n",
              "\n",
              "    .colab-df-buttons div {\n",
              "      margin-bottom: 4px;\n",
              "    }\n",
              "\n",
              "    [theme=dark] .colab-df-convert {\n",
              "      background-color: #3B4455;\n",
              "      fill: #D2E3FC;\n",
              "    }\n",
              "\n",
              "    [theme=dark] .colab-df-convert:hover {\n",
              "      background-color: #434B5C;\n",
              "      box-shadow: 0px 1px 3px 1px rgba(0, 0, 0, 0.15);\n",
              "      filter: drop-shadow(0px 1px 2px rgba(0, 0, 0, 0.3));\n",
              "      fill: #FFFFFF;\n",
              "    }\n",
              "  </style>\n",
              "\n",
              "    <script>\n",
              "      const buttonEl =\n",
              "        document.querySelector('#df-95acae06-884e-46db-9852-c5d75544a6a3 button.colab-df-convert');\n",
              "      buttonEl.style.display =\n",
              "        google.colab.kernel.accessAllowed ? 'block' : 'none';\n",
              "\n",
              "      async function convertToInteractive(key) {\n",
              "        const element = document.querySelector('#df-95acae06-884e-46db-9852-c5d75544a6a3');\n",
              "        const dataTable =\n",
              "          await google.colab.kernel.invokeFunction('convertToInteractive',\n",
              "                                                    [key], {});\n",
              "        if (!dataTable) return;\n",
              "\n",
              "        const docLinkHtml = 'Like what you see? Visit the ' +\n",
              "          '<a target=\"_blank\" href=https://colab.research.google.com/notebooks/data_table.ipynb>data table notebook</a>'\n",
              "          + ' to learn more about interactive tables.';\n",
              "        element.innerHTML = '';\n",
              "        dataTable['output_type'] = 'display_data';\n",
              "        await google.colab.output.renderOutput(dataTable, element);\n",
              "        const docLink = document.createElement('div');\n",
              "        docLink.innerHTML = docLinkHtml;\n",
              "        element.appendChild(docLink);\n",
              "      }\n",
              "    </script>\n",
              "  </div>\n",
              "\n",
              "    </div>\n",
              "  </div>\n"
            ]
          },
          "metadata": {},
          "execution_count": 5
        }
      ],
      "source": [
        "train[train[\"text\"].isnull()]"
      ]
    },
    {
      "cell_type": "code",
      "execution_count": 6,
      "id": "98a47927-49e7-4889-8fc0-187259a271f4",
      "metadata": {
        "id": "98a47927-49e7-4889-8fc0-187259a271f4"
      },
      "outputs": [],
      "source": [
        "train.dropna(subset=[\"text\", \"label\"], inplace=True)"
      ]
    },
    {
      "cell_type": "code",
      "execution_count": 7,
      "id": "8021c34c-5017-4a34-b1a0-4ab95f2b0165",
      "metadata": {
        "colab": {
          "base_uri": "https://localhost:8080/"
        },
        "id": "8021c34c-5017-4a34-b1a0-4ab95f2b0165",
        "outputId": "0b5ab3fe-e0a5-4fef-c925-68613054cf2b"
      },
      "outputs": [
        {
          "output_type": "execute_result",
          "data": {
            "text/plain": [
              "485"
            ]
          },
          "metadata": {},
          "execution_count": 7
        }
      ],
      "source": [
        "train.duplicated(subset=[\"text\"]).sum()"
      ]
    },
    {
      "cell_type": "code",
      "execution_count": 8,
      "id": "06895062-9367-4c40-a009-7f28797431b8",
      "metadata": {
        "id": "06895062-9367-4c40-a009-7f28797431b8"
      },
      "outputs": [],
      "source": [
        "train.drop_duplicates(subset=[\"text\"], inplace=True)"
      ]
    },
    {
      "cell_type": "code",
      "source": [
        "train.shape"
      ],
      "metadata": {
        "colab": {
          "base_uri": "https://localhost:8080/"
        },
        "id": "h2mXS1lqmQns",
        "outputId": "bfcf850b-e5ec-4168-d0ed-875bb2421da2"
      },
      "id": "h2mXS1lqmQns",
      "execution_count": 9,
      "outputs": [
        {
          "output_type": "execute_result",
          "data": {
            "text/plain": [
              "(4464, 4)"
            ]
          },
          "metadata": {},
          "execution_count": 9
        }
      ]
    },
    {
      "cell_type": "code",
      "execution_count": 10,
      "id": "52c0a645-ed66-455c-aff2-b10c1dc79447",
      "metadata": {
        "colab": {
          "base_uri": "https://localhost:8080/",
          "height": 476
        },
        "id": "52c0a645-ed66-455c-aff2-b10c1dc79447",
        "outputId": "41b18a20-09d5-43de-f38a-c61e5adb70be"
      },
      "outputs": [
        {
          "output_type": "execute_result",
          "data": {
            "text/plain": [
              "      Unnamed: 0                                               text  \\\n",
              "0              0  The next transmission could be more pronounced...   \n",
              "1              1  when (the plague) comes again it starts from m...   \n",
              "2              2                                           appeared   \n",
              "3              3                             a very, very different   \n",
              "4              4  He also pointed to the presence of the pneumon...   \n",
              "...          ...                                                ...   \n",
              "1376        1376                            Trump-hating Republican   \n",
              "1377        1377                                     grave hardship   \n",
              "1378        1378                                  unbelievably rude   \n",
              "1379        1379                                    wonderful woman   \n",
              "1380        1380                                   our Constitution   \n",
              "\n",
              "                         label              category  \n",
              "0          Appeal_to_Authority         Justification  \n",
              "1          Appeal_to_Authority         Justification  \n",
              "2                        Doubt  Attack_on_reputation  \n",
              "3                   Repetition  Manipulative_wording  \n",
              "4     Appeal_to_fear-prejudice         Justification  \n",
              "...                        ...                   ...  \n",
              "1376     Name_Calling_Labeling  Attack_on_reputation  \n",
              "1377           Loaded_Language  Manipulative_wording  \n",
              "1378     Name_Calling_Labeling  Attack_on_reputation  \n",
              "1379     Name_Calling_Labeling  Attack_on_reputation  \n",
              "1380               Flag-Waving         Justification  \n",
              "\n",
              "[1381 rows x 4 columns]"
            ],
            "text/html": [
              "\n",
              "  <div id=\"df-daed467e-ea53-4c2d-b644-60b517dd7b41\" class=\"colab-df-container\">\n",
              "    <div>\n",
              "<style scoped>\n",
              "    .dataframe tbody tr th:only-of-type {\n",
              "        vertical-align: middle;\n",
              "    }\n",
              "\n",
              "    .dataframe tbody tr th {\n",
              "        vertical-align: top;\n",
              "    }\n",
              "\n",
              "    .dataframe thead th {\n",
              "        text-align: right;\n",
              "    }\n",
              "</style>\n",
              "<table border=\"1\" class=\"dataframe\">\n",
              "  <thead>\n",
              "    <tr style=\"text-align: right;\">\n",
              "      <th></th>\n",
              "      <th>Unnamed: 0</th>\n",
              "      <th>text</th>\n",
              "      <th>label</th>\n",
              "      <th>category</th>\n",
              "    </tr>\n",
              "  </thead>\n",
              "  <tbody>\n",
              "    <tr>\n",
              "      <th>0</th>\n",
              "      <td>0</td>\n",
              "      <td>The next transmission could be more pronounced...</td>\n",
              "      <td>Appeal_to_Authority</td>\n",
              "      <td>Justification</td>\n",
              "    </tr>\n",
              "    <tr>\n",
              "      <th>1</th>\n",
              "      <td>1</td>\n",
              "      <td>when (the plague) comes again it starts from m...</td>\n",
              "      <td>Appeal_to_Authority</td>\n",
              "      <td>Justification</td>\n",
              "    </tr>\n",
              "    <tr>\n",
              "      <th>2</th>\n",
              "      <td>2</td>\n",
              "      <td>appeared</td>\n",
              "      <td>Doubt</td>\n",
              "      <td>Attack_on_reputation</td>\n",
              "    </tr>\n",
              "    <tr>\n",
              "      <th>3</th>\n",
              "      <td>3</td>\n",
              "      <td>a very, very different</td>\n",
              "      <td>Repetition</td>\n",
              "      <td>Manipulative_wording</td>\n",
              "    </tr>\n",
              "    <tr>\n",
              "      <th>4</th>\n",
              "      <td>4</td>\n",
              "      <td>He also pointed to the presence of the pneumon...</td>\n",
              "      <td>Appeal_to_fear-prejudice</td>\n",
              "      <td>Justification</td>\n",
              "    </tr>\n",
              "    <tr>\n",
              "      <th>...</th>\n",
              "      <td>...</td>\n",
              "      <td>...</td>\n",
              "      <td>...</td>\n",
              "      <td>...</td>\n",
              "    </tr>\n",
              "    <tr>\n",
              "      <th>1376</th>\n",
              "      <td>1376</td>\n",
              "      <td>Trump-hating Republican</td>\n",
              "      <td>Name_Calling_Labeling</td>\n",
              "      <td>Attack_on_reputation</td>\n",
              "    </tr>\n",
              "    <tr>\n",
              "      <th>1377</th>\n",
              "      <td>1377</td>\n",
              "      <td>grave hardship</td>\n",
              "      <td>Loaded_Language</td>\n",
              "      <td>Manipulative_wording</td>\n",
              "    </tr>\n",
              "    <tr>\n",
              "      <th>1378</th>\n",
              "      <td>1378</td>\n",
              "      <td>unbelievably rude</td>\n",
              "      <td>Name_Calling_Labeling</td>\n",
              "      <td>Attack_on_reputation</td>\n",
              "    </tr>\n",
              "    <tr>\n",
              "      <th>1379</th>\n",
              "      <td>1379</td>\n",
              "      <td>wonderful woman</td>\n",
              "      <td>Name_Calling_Labeling</td>\n",
              "      <td>Attack_on_reputation</td>\n",
              "    </tr>\n",
              "    <tr>\n",
              "      <th>1380</th>\n",
              "      <td>1380</td>\n",
              "      <td>our Constitution</td>\n",
              "      <td>Flag-Waving</td>\n",
              "      <td>Justification</td>\n",
              "    </tr>\n",
              "  </tbody>\n",
              "</table>\n",
              "<p>1381 rows × 4 columns</p>\n",
              "</div>\n",
              "    <div class=\"colab-df-buttons\">\n",
              "\n",
              "  <div class=\"colab-df-container\">\n",
              "    <button class=\"colab-df-convert\" onclick=\"convertToInteractive('df-daed467e-ea53-4c2d-b644-60b517dd7b41')\"\n",
              "            title=\"Convert this dataframe to an interactive table.\"\n",
              "            style=\"display:none;\">\n",
              "\n",
              "  <svg xmlns=\"http://www.w3.org/2000/svg\" height=\"24px\" viewBox=\"0 -960 960 960\">\n",
              "    <path d=\"M120-120v-720h720v720H120Zm60-500h600v-160H180v160Zm220 220h160v-160H400v160Zm0 220h160v-160H400v160ZM180-400h160v-160H180v160Zm440 0h160v-160H620v160ZM180-180h160v-160H180v160Zm440 0h160v-160H620v160Z\"/>\n",
              "  </svg>\n",
              "    </button>\n",
              "\n",
              "  <style>\n",
              "    .colab-df-container {\n",
              "      display:flex;\n",
              "      gap: 12px;\n",
              "    }\n",
              "\n",
              "    .colab-df-convert {\n",
              "      background-color: #E8F0FE;\n",
              "      border: none;\n",
              "      border-radius: 50%;\n",
              "      cursor: pointer;\n",
              "      display: none;\n",
              "      fill: #1967D2;\n",
              "      height: 32px;\n",
              "      padding: 0 0 0 0;\n",
              "      width: 32px;\n",
              "    }\n",
              "\n",
              "    .colab-df-convert:hover {\n",
              "      background-color: #E2EBFA;\n",
              "      box-shadow: 0px 1px 2px rgba(60, 64, 67, 0.3), 0px 1px 3px 1px rgba(60, 64, 67, 0.15);\n",
              "      fill: #174EA6;\n",
              "    }\n",
              "\n",
              "    .colab-df-buttons div {\n",
              "      margin-bottom: 4px;\n",
              "    }\n",
              "\n",
              "    [theme=dark] .colab-df-convert {\n",
              "      background-color: #3B4455;\n",
              "      fill: #D2E3FC;\n",
              "    }\n",
              "\n",
              "    [theme=dark] .colab-df-convert:hover {\n",
              "      background-color: #434B5C;\n",
              "      box-shadow: 0px 1px 3px 1px rgba(0, 0, 0, 0.15);\n",
              "      filter: drop-shadow(0px 1px 2px rgba(0, 0, 0, 0.3));\n",
              "      fill: #FFFFFF;\n",
              "    }\n",
              "  </style>\n",
              "\n",
              "    <script>\n",
              "      const buttonEl =\n",
              "        document.querySelector('#df-daed467e-ea53-4c2d-b644-60b517dd7b41 button.colab-df-convert');\n",
              "      buttonEl.style.display =\n",
              "        google.colab.kernel.accessAllowed ? 'block' : 'none';\n",
              "\n",
              "      async function convertToInteractive(key) {\n",
              "        const element = document.querySelector('#df-daed467e-ea53-4c2d-b644-60b517dd7b41');\n",
              "        const dataTable =\n",
              "          await google.colab.kernel.invokeFunction('convertToInteractive',\n",
              "                                                    [key], {});\n",
              "        if (!dataTable) return;\n",
              "\n",
              "        const docLinkHtml = 'Like what you see? Visit the ' +\n",
              "          '<a target=\"_blank\" href=https://colab.research.google.com/notebooks/data_table.ipynb>data table notebook</a>'\n",
              "          + ' to learn more about interactive tables.';\n",
              "        element.innerHTML = '';\n",
              "        dataTable['output_type'] = 'display_data';\n",
              "        await google.colab.output.renderOutput(dataTable, element);\n",
              "        const docLink = document.createElement('div');\n",
              "        docLink.innerHTML = docLinkHtml;\n",
              "        element.appendChild(docLink);\n",
              "      }\n",
              "    </script>\n",
              "  </div>\n",
              "\n",
              "\n",
              "<div id=\"df-30dd09b3-f0b0-40e3-8b7b-ca3bc043c070\">\n",
              "  <button class=\"colab-df-quickchart\" onclick=\"quickchart('df-30dd09b3-f0b0-40e3-8b7b-ca3bc043c070')\"\n",
              "            title=\"Suggest charts.\"\n",
              "            style=\"display:none;\">\n",
              "\n",
              "<svg xmlns=\"http://www.w3.org/2000/svg\" height=\"24px\"viewBox=\"0 0 24 24\"\n",
              "     width=\"24px\">\n",
              "    <g>\n",
              "        <path d=\"M19 3H5c-1.1 0-2 .9-2 2v14c0 1.1.9 2 2 2h14c1.1 0 2-.9 2-2V5c0-1.1-.9-2-2-2zM9 17H7v-7h2v7zm4 0h-2V7h2v10zm4 0h-2v-4h2v4z\"/>\n",
              "    </g>\n",
              "</svg>\n",
              "  </button>\n",
              "\n",
              "<style>\n",
              "  .colab-df-quickchart {\n",
              "      --bg-color: #E8F0FE;\n",
              "      --fill-color: #1967D2;\n",
              "      --hover-bg-color: #E2EBFA;\n",
              "      --hover-fill-color: #174EA6;\n",
              "      --disabled-fill-color: #AAA;\n",
              "      --disabled-bg-color: #DDD;\n",
              "  }\n",
              "\n",
              "  [theme=dark] .colab-df-quickchart {\n",
              "      --bg-color: #3B4455;\n",
              "      --fill-color: #D2E3FC;\n",
              "      --hover-bg-color: #434B5C;\n",
              "      --hover-fill-color: #FFFFFF;\n",
              "      --disabled-bg-color: #3B4455;\n",
              "      --disabled-fill-color: #666;\n",
              "  }\n",
              "\n",
              "  .colab-df-quickchart {\n",
              "    background-color: var(--bg-color);\n",
              "    border: none;\n",
              "    border-radius: 50%;\n",
              "    cursor: pointer;\n",
              "    display: none;\n",
              "    fill: var(--fill-color);\n",
              "    height: 32px;\n",
              "    padding: 0;\n",
              "    width: 32px;\n",
              "  }\n",
              "\n",
              "  .colab-df-quickchart:hover {\n",
              "    background-color: var(--hover-bg-color);\n",
              "    box-shadow: 0 1px 2px rgba(60, 64, 67, 0.3), 0 1px 3px 1px rgba(60, 64, 67, 0.15);\n",
              "    fill: var(--button-hover-fill-color);\n",
              "  }\n",
              "\n",
              "  .colab-df-quickchart-complete:disabled,\n",
              "  .colab-df-quickchart-complete:disabled:hover {\n",
              "    background-color: var(--disabled-bg-color);\n",
              "    fill: var(--disabled-fill-color);\n",
              "    box-shadow: none;\n",
              "  }\n",
              "\n",
              "  .colab-df-spinner {\n",
              "    border: 2px solid var(--fill-color);\n",
              "    border-color: transparent;\n",
              "    border-bottom-color: var(--fill-color);\n",
              "    animation:\n",
              "      spin 1s steps(1) infinite;\n",
              "  }\n",
              "\n",
              "  @keyframes spin {\n",
              "    0% {\n",
              "      border-color: transparent;\n",
              "      border-bottom-color: var(--fill-color);\n",
              "      border-left-color: var(--fill-color);\n",
              "    }\n",
              "    20% {\n",
              "      border-color: transparent;\n",
              "      border-left-color: var(--fill-color);\n",
              "      border-top-color: var(--fill-color);\n",
              "    }\n",
              "    30% {\n",
              "      border-color: transparent;\n",
              "      border-left-color: var(--fill-color);\n",
              "      border-top-color: var(--fill-color);\n",
              "      border-right-color: var(--fill-color);\n",
              "    }\n",
              "    40% {\n",
              "      border-color: transparent;\n",
              "      border-right-color: var(--fill-color);\n",
              "      border-top-color: var(--fill-color);\n",
              "    }\n",
              "    60% {\n",
              "      border-color: transparent;\n",
              "      border-right-color: var(--fill-color);\n",
              "    }\n",
              "    80% {\n",
              "      border-color: transparent;\n",
              "      border-right-color: var(--fill-color);\n",
              "      border-bottom-color: var(--fill-color);\n",
              "    }\n",
              "    90% {\n",
              "      border-color: transparent;\n",
              "      border-bottom-color: var(--fill-color);\n",
              "    }\n",
              "  }\n",
              "</style>\n",
              "\n",
              "  <script>\n",
              "    async function quickchart(key) {\n",
              "      const quickchartButtonEl =\n",
              "        document.querySelector('#' + key + ' button');\n",
              "      quickchartButtonEl.disabled = true;  // To prevent multiple clicks.\n",
              "      quickchartButtonEl.classList.add('colab-df-spinner');\n",
              "      try {\n",
              "        const charts = await google.colab.kernel.invokeFunction(\n",
              "            'suggestCharts', [key], {});\n",
              "      } catch (error) {\n",
              "        console.error('Error during call to suggestCharts:', error);\n",
              "      }\n",
              "      quickchartButtonEl.classList.remove('colab-df-spinner');\n",
              "      quickchartButtonEl.classList.add('colab-df-quickchart-complete');\n",
              "    }\n",
              "    (() => {\n",
              "      let quickchartButtonEl =\n",
              "        document.querySelector('#df-30dd09b3-f0b0-40e3-8b7b-ca3bc043c070 button');\n",
              "      quickchartButtonEl.style.display =\n",
              "        google.colab.kernel.accessAllowed ? 'block' : 'none';\n",
              "    })();\n",
              "  </script>\n",
              "</div>\n",
              "    </div>\n",
              "  </div>\n"
            ]
          },
          "metadata": {},
          "execution_count": 10
        }
      ],
      "source": [
        "test"
      ]
    },
    {
      "cell_type": "code",
      "execution_count": 11,
      "id": "311d9665-8caa-4bfe-afc3-10ecb28705fc",
      "metadata": {
        "colab": {
          "base_uri": "https://localhost:8080/",
          "height": 53
        },
        "id": "311d9665-8caa-4bfe-afc3-10ecb28705fc",
        "outputId": "3cafeaf5-43d7-4a5c-de84-4bc97d325bdd"
      },
      "outputs": [
        {
          "output_type": "execute_result",
          "data": {
            "text/plain": [
              "Empty DataFrame\n",
              "Columns: [Unnamed: 0, text, label, category]\n",
              "Index: []"
            ],
            "text/html": [
              "\n",
              "  <div id=\"df-2e2c3494-9ff3-4d6f-8324-2e43acf283e8\" class=\"colab-df-container\">\n",
              "    <div>\n",
              "<style scoped>\n",
              "    .dataframe tbody tr th:only-of-type {\n",
              "        vertical-align: middle;\n",
              "    }\n",
              "\n",
              "    .dataframe tbody tr th {\n",
              "        vertical-align: top;\n",
              "    }\n",
              "\n",
              "    .dataframe thead th {\n",
              "        text-align: right;\n",
              "    }\n",
              "</style>\n",
              "<table border=\"1\" class=\"dataframe\">\n",
              "  <thead>\n",
              "    <tr style=\"text-align: right;\">\n",
              "      <th></th>\n",
              "      <th>Unnamed: 0</th>\n",
              "      <th>text</th>\n",
              "      <th>label</th>\n",
              "      <th>category</th>\n",
              "    </tr>\n",
              "  </thead>\n",
              "  <tbody>\n",
              "  </tbody>\n",
              "</table>\n",
              "</div>\n",
              "    <div class=\"colab-df-buttons\">\n",
              "\n",
              "  <div class=\"colab-df-container\">\n",
              "    <button class=\"colab-df-convert\" onclick=\"convertToInteractive('df-2e2c3494-9ff3-4d6f-8324-2e43acf283e8')\"\n",
              "            title=\"Convert this dataframe to an interactive table.\"\n",
              "            style=\"display:none;\">\n",
              "\n",
              "  <svg xmlns=\"http://www.w3.org/2000/svg\" height=\"24px\" viewBox=\"0 -960 960 960\">\n",
              "    <path d=\"M120-120v-720h720v720H120Zm60-500h600v-160H180v160Zm220 220h160v-160H400v160Zm0 220h160v-160H400v160ZM180-400h160v-160H180v160Zm440 0h160v-160H620v160ZM180-180h160v-160H180v160Zm440 0h160v-160H620v160Z\"/>\n",
              "  </svg>\n",
              "    </button>\n",
              "\n",
              "  <style>\n",
              "    .colab-df-container {\n",
              "      display:flex;\n",
              "      gap: 12px;\n",
              "    }\n",
              "\n",
              "    .colab-df-convert {\n",
              "      background-color: #E8F0FE;\n",
              "      border: none;\n",
              "      border-radius: 50%;\n",
              "      cursor: pointer;\n",
              "      display: none;\n",
              "      fill: #1967D2;\n",
              "      height: 32px;\n",
              "      padding: 0 0 0 0;\n",
              "      width: 32px;\n",
              "    }\n",
              "\n",
              "    .colab-df-convert:hover {\n",
              "      background-color: #E2EBFA;\n",
              "      box-shadow: 0px 1px 2px rgba(60, 64, 67, 0.3), 0px 1px 3px 1px rgba(60, 64, 67, 0.15);\n",
              "      fill: #174EA6;\n",
              "    }\n",
              "\n",
              "    .colab-df-buttons div {\n",
              "      margin-bottom: 4px;\n",
              "    }\n",
              "\n",
              "    [theme=dark] .colab-df-convert {\n",
              "      background-color: #3B4455;\n",
              "      fill: #D2E3FC;\n",
              "    }\n",
              "\n",
              "    [theme=dark] .colab-df-convert:hover {\n",
              "      background-color: #434B5C;\n",
              "      box-shadow: 0px 1px 3px 1px rgba(0, 0, 0, 0.15);\n",
              "      filter: drop-shadow(0px 1px 2px rgba(0, 0, 0, 0.3));\n",
              "      fill: #FFFFFF;\n",
              "    }\n",
              "  </style>\n",
              "\n",
              "    <script>\n",
              "      const buttonEl =\n",
              "        document.querySelector('#df-2e2c3494-9ff3-4d6f-8324-2e43acf283e8 button.colab-df-convert');\n",
              "      buttonEl.style.display =\n",
              "        google.colab.kernel.accessAllowed ? 'block' : 'none';\n",
              "\n",
              "      async function convertToInteractive(key) {\n",
              "        const element = document.querySelector('#df-2e2c3494-9ff3-4d6f-8324-2e43acf283e8');\n",
              "        const dataTable =\n",
              "          await google.colab.kernel.invokeFunction('convertToInteractive',\n",
              "                                                    [key], {});\n",
              "        if (!dataTable) return;\n",
              "\n",
              "        const docLinkHtml = 'Like what you see? Visit the ' +\n",
              "          '<a target=\"_blank\" href=https://colab.research.google.com/notebooks/data_table.ipynb>data table notebook</a>'\n",
              "          + ' to learn more about interactive tables.';\n",
              "        element.innerHTML = '';\n",
              "        dataTable['output_type'] = 'display_data';\n",
              "        await google.colab.output.renderOutput(dataTable, element);\n",
              "        const docLink = document.createElement('div');\n",
              "        docLink.innerHTML = docLinkHtml;\n",
              "        element.appendChild(docLink);\n",
              "      }\n",
              "    </script>\n",
              "  </div>\n",
              "\n",
              "    </div>\n",
              "  </div>\n"
            ]
          },
          "metadata": {},
          "execution_count": 11
        }
      ],
      "source": [
        "test[test[\"text\"].isnull()]"
      ]
    },
    {
      "cell_type": "code",
      "execution_count": 12,
      "id": "8d1aff7a-0980-48f2-a1b8-a137f0b29a5d",
      "metadata": {
        "colab": {
          "base_uri": "https://localhost:8080/"
        },
        "id": "8d1aff7a-0980-48f2-a1b8-a137f0b29a5d",
        "outputId": "a6156978-5b8e-47ca-ebab-cb7fd3d728c1"
      },
      "outputs": [
        {
          "output_type": "execute_result",
          "data": {
            "text/plain": [
              "171"
            ]
          },
          "metadata": {},
          "execution_count": 12
        }
      ],
      "source": [
        "test.duplicated(subset=[\"text\"]).sum()"
      ]
    },
    {
      "cell_type": "code",
      "execution_count": 13,
      "id": "32875a20-57b6-4170-9b90-ba1ec0d8658c",
      "metadata": {
        "id": "32875a20-57b6-4170-9b90-ba1ec0d8658c"
      },
      "outputs": [],
      "source": [
        "test.drop_duplicates(subset=[\"text\"], inplace=True)"
      ]
    },
    {
      "cell_type": "code",
      "execution_count": 14,
      "id": "d294fb0a-1ab5-4a50-907f-50c1a874290d",
      "metadata": {
        "colab": {
          "base_uri": "https://localhost:8080/"
        },
        "id": "d294fb0a-1ab5-4a50-907f-50c1a874290d",
        "outputId": "4d62d47f-13d9-4872-8ffd-37d0eebfd295"
      },
      "outputs": [
        {
          "output_type": "execute_result",
          "data": {
            "text/plain": [
              "Loaded_Language                                               1595\n",
              "Name_Calling_Labeling                                          824\n",
              "Doubt                                                          408\n",
              "Exaggeration_Minimisation                                      349\n",
              "Repetition                                                     230\n",
              "Causal_Oversimplification                                      162\n",
              "Appeal_to_fear-prejudice                                       160\n",
              "Flag-Waving                                                    144\n",
              "Slogans                                                         95\n",
              "Black-and-White_Fallacy                                         91\n",
              "Appeal_to_Authority                                             86\n",
              "Thought-terminating_Cliches                                     57\n",
              "Whataboutism                                                    52\n",
              "Reductio_ad_hitlerum                                            38\n",
              "Red_Herring                                                     23\n",
              "Loaded_Language,Repetition                                      13\n",
              "Name_Calling_Labeling,Repetition                                12\n",
              "Straw_Men                                                       10\n",
              "Obfuscation_Intentional_Vagueness_Confusion                     10\n",
              "Exaggeration_Minimisation,Loaded_Language                        9\n",
              "Exaggeration_Minimisation,Name_Calling_Labeling                  8\n",
              "Bandwagon                                                        8\n",
              "Loaded_Language,Name_Calling_Labeling                            7\n",
              "Loaded_Language,Thought-terminating_Cliches                      7\n",
              "Flag-Waving,Slogans                                              6\n",
              "Doubt,Flag-Waving                                                6\n",
              "Appeal_to_fear-prejudice,Loaded_Language                         6\n",
              "Appeal_to_fear-prejudice,Flag-Waving                             5\n",
              "Appeal_to_fear-prejudice,Reductio_ad_hitlerum                    3\n",
              "Flag-Waving,Loaded_Language                                      3\n",
              "Flag-Waving,Repetition                                           2\n",
              "Exaggeration_Minimisation,Flag-Waving                            2\n",
              "Appeal_to_fear-prejudice,Slogans                                 2\n",
              "Flag-Waving,Name_Calling_Labeling                                2\n",
              "Appeal_to_Authority,Causal_Oversimplification                    2\n",
              "Doubt,Loaded_Language                                            2\n",
              "Doubt,Name_Calling_Labeling                                      2\n",
              "Causal_Oversimplification,Exaggeration_Minimisation              1\n",
              "Causal_Oversimplification,Doubt                                  1\n",
              "Bandwagon,Exaggeration_Minimisation                              1\n",
              "Appeal_to_fear-prejudice,Black-and-White_Fallacy                 1\n",
              "Doubt,Reductio_ad_hitlerum                                       1\n",
              "Causal_Oversimplification,Straw_Men                              1\n",
              "Black-and-White_Fallacy,Thought-terminating_Cliches              1\n",
              "Appeal_to_fear-prejudice,Doubt                                   1\n",
              "Repetition,Slogans                                               1\n",
              "Appeal_to_fear-prejudice,Exaggeration_Minimisation               1\n",
              "Appeal_to_Authority,Exaggeration_Minimisation                    1\n",
              "Exaggeration_Minimisation,Name_Calling_Labeling,Repetition       1\n",
              "Appeal_to_fear-prejudice,Thought-terminating_Cliches             1\n",
              "Loaded_Language,Slogans                                          1\n",
              "Flag-Waving,Reductio_ad_hitlerum                                 1\n",
              "Appeal_to_Authority,Loaded_Language                              1\n",
              "Black-and-White_Fallacy,Reductio_ad_hitlerum                     1\n",
              "Exaggeration_Minimisation,Repetition                             1\n",
              "Black-and-White_Fallacy,Flag-Waving                              1\n",
              "Appeal_to_Authority,Appeal_to_fear-prejudice                     1\n",
              "Red_Herring,Repetition                                           1\n",
              "Loaded_Language,Name_Calling_Labeling,Repetition                 1\n",
              "Doubt,Exaggeration_Minimisation                                  1\n",
              "Name: label, dtype: int64"
            ]
          },
          "metadata": {},
          "execution_count": 14
        }
      ],
      "source": [
        "train[\"label\"].value_counts()"
      ]
    },
    {
      "cell_type": "code",
      "execution_count": 15,
      "id": "f2b8eeb0-77ca-4254-a489-c0cdaa184047",
      "metadata": {
        "colab": {
          "base_uri": "https://localhost:8080/"
        },
        "id": "f2b8eeb0-77ca-4254-a489-c0cdaa184047",
        "outputId": "76c24806-dd63-4c59-8acb-b636d671e1cf"
      },
      "outputs": [
        {
          "output_type": "execute_result",
          "data": {
            "text/plain": [
              "count                4464\n",
              "unique                 60\n",
              "top       Loaded_Language\n",
              "freq                 1595\n",
              "Name: label, dtype: object"
            ]
          },
          "metadata": {},
          "execution_count": 15
        }
      ],
      "source": [
        "train[\"label\"].describe()"
      ]
    },
    {
      "cell_type": "code",
      "execution_count": 16,
      "id": "1a10665b-6e14-4015-9106-b0d31405097f",
      "metadata": {
        "colab": {
          "base_uri": "https://localhost:8080/"
        },
        "id": "1a10665b-6e14-4015-9106-b0d31405097f",
        "outputId": "f2453fca-381c-4307-ad67-f3434293fe6b"
      },
      "outputs": [
        {
          "output_type": "execute_result",
          "data": {
            "text/plain": [
              "Loaded_Language                                                                      383\n",
              "Name_Calling_Labeling                                                                177\n",
              "Appeal_to_fear-prejudice                                                             110\n",
              "Repetition                                                                            99\n",
              "Exaggeration_Minimisation                                                             71\n",
              "Flag-Waving                                                                           70\n",
              "Doubt                                                                                 69\n",
              "Appeal_to_Authority                                                                   36\n",
              "Causal_Oversimplification                                                             30\n",
              "Slogans                                                                               30\n",
              "Black-and-White_Fallacy                                                               23\n",
              "Whataboutism                                                                          19\n",
              "Thought-terminating_Cliches                                                           13\n",
              "Reductio_ad_hitlerum                                                                  12\n",
              "Red_Herring                                                                           12\n",
              "Obfuscation_Intentional_Vagueness_Confusion                                            6\n",
              "Appeal_to_fear-prejudice,Loaded_Language                                               5\n",
              "Appeal_to_Authority,Exaggeration_Minimisation                                          5\n",
              "Appeal_to_Authority,Repetition                                                         4\n",
              "Exaggeration_Minimisation,Loaded_Language                                              3\n",
              "Flag-Waving,Thought-terminating_Cliches                                                3\n",
              "Bandwagon                                                                              3\n",
              "Appeal_to_fear-prejudice,Repetition                                                    2\n",
              "Straw_Men                                                                              2\n",
              "Loaded_Language,Slogans                                                                2\n",
              "Appeal_to_fear-prejudice,Flag-Waving                                                   2\n",
              "Doubt,Exaggeration_Minimisation                                                        2\n",
              "Appeal_to_fear-prejudice,Black-and-White_Fallacy                                       2\n",
              "Exaggeration_Minimisation,Repetition                                                   2\n",
              "Appeal_to_Authority,Appeal_to_fear-prejudice                                           2\n",
              "Appeal_to_Authority,Appeal_to_fear-prejudice,Repetition                                1\n",
              "Appeal_to_fear-prejudice,Flag-Waving,Loaded_Language                                   1\n",
              "Appeal_to_Authority,Appeal_to_fear-prejudice,Exaggeration_Minimisation,Repetition      1\n",
              "Causal_Oversimplification,Exaggeration_Minimisation                                    1\n",
              "Name_Calling_Labeling,Repetition                                                       1\n",
              "Repetition,Slogans                                                                     1\n",
              "Flag-Waving,Slogans                                                                    1\n",
              "Flag-Waving,Repetition                                                                 1\n",
              "Loaded_Language,Repetition                                                             1\n",
              "Appeal_to_fear-prejudice,Name_Calling_Labeling                                         1\n",
              "Appeal_to_fear-prejudice,Bandwagon                                                     1\n",
              "Name: label, dtype: int64"
            ]
          },
          "metadata": {},
          "execution_count": 16
        }
      ],
      "source": [
        "test[\"label\"].value_counts()"
      ]
    },
    {
      "cell_type": "code",
      "execution_count": 17,
      "id": "2229bc3f-ecce-42f5-9b35-5234fb9a5429",
      "metadata": {
        "colab": {
          "base_uri": "https://localhost:8080/"
        },
        "id": "2229bc3f-ecce-42f5-9b35-5234fb9a5429",
        "outputId": "3ebc586a-7855-4bd5-d374-4494f7841f1e"
      },
      "outputs": [
        {
          "output_type": "execute_result",
          "data": {
            "text/plain": [
              "count                1210\n",
              "unique                 41\n",
              "top       Loaded_Language\n",
              "freq                  383\n",
              "Name: label, dtype: object"
            ]
          },
          "metadata": {},
          "execution_count": 17
        }
      ],
      "source": [
        "test[\"label\"].describe()"
      ]
    },
    {
      "cell_type": "code",
      "execution_count": 18,
      "id": "9086992e-d718-41b5-bbc7-be996e049016",
      "metadata": {
        "colab": {
          "base_uri": "https://localhost:8080/"
        },
        "id": "9086992e-d718-41b5-bbc7-be996e049016",
        "outputId": "1aaad42d-950a-4cf3-c949-565d3f0b5c32"
      },
      "outputs": [
        {
          "output_type": "execute_result",
          "data": {
            "text/plain": [
              "count    4464.000000\n",
              "mean       52.327285\n",
              "std        66.162997\n",
              "min         3.000000\n",
              "25%        16.000000\n",
              "50%        27.000000\n",
              "75%        60.000000\n",
              "max       799.000000\n",
              "Name: text, dtype: float64"
            ]
          },
          "metadata": {},
          "execution_count": 18
        }
      ],
      "source": [
        "train[\"text\"].str.len().describe()"
      ]
    },
    {
      "cell_type": "code",
      "execution_count": 19,
      "id": "5506366a-f596-404f-822d-71ff0f625d18",
      "metadata": {
        "colab": {
          "base_uri": "https://localhost:8080/"
        },
        "id": "5506366a-f596-404f-822d-71ff0f625d18",
        "outputId": "de21763e-e1bd-4df3-f143-974cced0e367"
      },
      "outputs": [
        {
          "output_type": "execute_result",
          "data": {
            "text/plain": [
              "count    4464.000000\n",
              "mean        8.622312\n",
              "std        11.305836\n",
              "min         1.000000\n",
              "25%         2.000000\n",
              "50%         4.000000\n",
              "75%        10.000000\n",
              "max       141.000000\n",
              "Name: tokens_per_text, dtype: float64"
            ]
          },
          "metadata": {},
          "execution_count": 19
        }
      ],
      "source": [
        "train[\"tokens_per_text\"] = train[\"text\"].str.split().str.len()\n",
        "train[\"tokens_per_text\"].describe()"
      ]
    },
    {
      "cell_type": "code",
      "execution_count": 20,
      "id": "759ae250-f185-4598-a68d-d6b75efeb9e4",
      "metadata": {
        "colab": {
          "base_uri": "https://localhost:8080/"
        },
        "id": "759ae250-f185-4598-a68d-d6b75efeb9e4",
        "outputId": "ea27ed2d-95ca-49d6-de82-2e39b98537de"
      },
      "outputs": [
        {
          "output_type": "execute_result",
          "data": {
            "text/plain": [
              "count    1210.000000\n",
              "mean        7.338843\n",
              "std         9.341914\n",
              "min         1.000000\n",
              "25%         2.000000\n",
              "50%         4.000000\n",
              "75%         9.000000\n",
              "max        80.000000\n",
              "Name: tokens_per_text, dtype: float64"
            ]
          },
          "metadata": {},
          "execution_count": 20
        }
      ],
      "source": [
        "test[\"tokens_per_text\"] = test[\"text\"].str.split().str.len()\n",
        "test[\"tokens_per_text\"].describe()"
      ]
    },
    {
      "cell_type": "code",
      "execution_count": 21,
      "id": "13435cd8-6df1-425d-904b-bcc509900797",
      "metadata": {
        "colab": {
          "base_uri": "https://localhost:8080/"
        },
        "id": "13435cd8-6df1-425d-904b-bcc509900797",
        "outputId": "6285589d-7a55-455f-ce95-7f3faaca1a77"
      },
      "outputs": [
        {
          "output_type": "execute_result",
          "data": {
            "text/plain": [
              "count    4464.000000\n",
              "mean        8.622312\n",
              "std        11.305836\n",
              "min         1.000000\n",
              "25%         2.000000\n",
              "50%         4.000000\n",
              "75%        10.000000\n",
              "max       141.000000\n",
              "Name: tokens_per_text, dtype: float64"
            ]
          },
          "metadata": {},
          "execution_count": 21
        }
      ],
      "source": [
        "train[\"tokens_per_text\"] = train[\"text\"].str.split().str.len()\n",
        "train[\"tokens_per_text\"].describe()"
      ]
    },
    {
      "cell_type": "code",
      "execution_count": 22,
      "id": "a758d52b-89d7-4305-a244-d1b877275dd5",
      "metadata": {
        "id": "a758d52b-89d7-4305-a244-d1b877275dd5"
      },
      "outputs": [],
      "source": [
        "# Seems to not be necessary as we use BERTweet default tokenizer with normalization enabled\n",
        "# from https://github.com/VinAIResearch/BERTweet/blob/master/TweetNormalizer.py\n",
        "# twitter_tokenizer = TweetTokenizer()\n",
        "\n",
        "# def normalizeToken(token):\n",
        "#     lowercased_token = token.lower()\n",
        "#     if token.startswith(\"@\"):\n",
        "#         return \"@USER\"\n",
        "#     elif lowercased_token.startswith(\"http\") or lowercased_token.startswith(\"www\"):\n",
        "#         return \"HTTPURL\"\n",
        "#     elif len(token) == 1:\n",
        "#         return demojize(token)\n",
        "#     else:\n",
        "#         if token == \"’\":\n",
        "#             return \"'\"\n",
        "#         elif token == \"…\":\n",
        "#             return \"...\"\n",
        "#         else:\n",
        "#             return token\n",
        "\n",
        "\n",
        "# def normalizeTweet(tweet):\n",
        "#     tokens = twitter_tokenizer.tokenize(tweet.replace(\"’\", \"'\").replace(\"…\", \"...\"))\n",
        "#     normTweet = \" \".join([normalizeToken(token) for token in tokens])\n",
        "\n",
        "#     normTweet = (\n",
        "#         normTweet.replace(\"cannot \", \"can not \")\n",
        "#         .replace(\"n't \", \" n't \")\n",
        "#         .replace(\"n 't \", \" n't \")\n",
        "#         .replace(\"ca n't\", \"can't\")\n",
        "#         .replace(\"ai n't\", \"ain't\")\n",
        "#     )\n",
        "#     normTweet = (\n",
        "#         normTweet.replace(\"'m \", \" 'm \")\n",
        "#         .replace(\"'re \", \" 're \")\n",
        "#         .replace(\"'s \", \" 's \")\n",
        "#         .replace(\"'ll \", \" 'll \")\n",
        "#         .replace(\"'d \", \" 'd \")\n",
        "#         .replace(\"'ve \", \" 've \")\n",
        "#     )\n",
        "#     normTweet = (\n",
        "#         normTweet.replace(\" p . m .\", \"  p.m.\")\n",
        "#         .replace(\" p . m \", \" p.m \")\n",
        "#         .replace(\" a . m .\", \" a.m.\")\n",
        "#         .replace(\" a . m \", \" a.m \")\n",
        "#     )\n",
        "\n",
        "#     return \" \".join(normTweet.split())"
      ]
    },
    {
      "cell_type": "code",
      "execution_count": 23,
      "id": "09ab54d7-b615-4114-be91-5f16ed823f81",
      "metadata": {
        "id": "09ab54d7-b615-4114-be91-5f16ed823f81"
      },
      "outputs": [],
      "source": [
        "model_name = \"vinai/bertweet-base\"\n",
        "\n",
        "################################################################################\n",
        "# bitsandbytes parameters\n",
        "################################################################################\n",
        "# Compute dtype for 4-bit base models\n",
        "bnb_4bit_compute_dtype = \"float16\"\n",
        "################################################################################\n",
        "# SFT parameters\n",
        "################################################################################\n",
        "# Load the entire model on the GPU 0\n",
        "device_map = {\"\": 0}\n",
        "\n",
        "# Load tokenizer and model with QLoRA configuration\n",
        "compute_dtype = getattr(torch, bnb_4bit_compute_dtype)\n",
        "bnb_config = BitsAndBytesConfig(\n",
        "    # Activate 4-bit precision base model loading\n",
        "    load_in_4bit=True,\n",
        "    # Quantization type (fp4 or nf4)\n",
        "    bnb_4bit_quant_type = \"nf4\",\n",
        "    bnb_4bit_compute_dtype=compute_dtype,\n",
        "    # Activate nested quantization for 4-bit base models (double quantization)\n",
        "    bnb_4bit_use_double_quant=False,\n",
        ")\n",
        "\n",
        "# Max length of a sequence for the model https://github.com/VinAIResearch/BERTweet/tree/master#models2\n",
        "max_seq_len=128\n",
        "tokenizer = AutoTokenizer.from_pretrained(model_name, use_fast=False, normalization=True)\n",
        "model = AutoModel.from_pretrained(model_name, quantization_config=bnb_config, device_map=device_map)"
      ]
    },
    {
      "cell_type": "code",
      "execution_count": 24,
      "id": "a6c22941-0a39-414a-9e17-92ae235670a4",
      "metadata": {
        "colab": {
          "base_uri": "https://localhost:8080/"
        },
        "id": "a6c22941-0a39-414a-9e17-92ae235670a4",
        "outputId": "a94d1e1d-312a-4499-e626-db99e1476ac5"
      },
      "outputs": [
        {
          "output_type": "execute_result",
          "data": {
            "text/plain": [
              "0                   [0, 1267, 32789, 6680, 15, 885, 4, 2]\n",
              "1       [0, 134, 19715, 48, 268, 3430, 45973, 5094, 13...\n",
              "2                              [0, 40212, 41645, 1654, 2]\n",
              "3       [0, 6, 2580, 25, 867, 6, 220, 6, 4658, 880, 15...\n",
              "4       [0, 47, 922, 151, 143, 870, 11, 1719, 19, 4982...\n",
              "                              ...                        \n",
              "1375                    [0, 11, 200, 847, 14270, 4312, 2]\n",
              "1376                            [0, 46004, 4542, 4265, 2]\n",
              "1377                                  [0, 9055, 43899, 2]\n",
              "1378                                  [0, 26730, 2915, 2]\n",
              "1379                                    [0, 1576, 750, 2]\n",
              "Name: text, Length: 5674, dtype: object"
            ]
          },
          "metadata": {},
          "execution_count": 24
        }
      ],
      "source": [
        "data = pd.concat((train[\"text\"], test[\"text\"]))\n",
        "tokens = data.apply((lambda x: tokenizer.encode(\n",
        "    x,\n",
        "    truncation=True,\n",
        "    max_length=max_seq_len\n",
        ")))\n",
        "tokens"
      ]
    },
    {
      "cell_type": "code",
      "execution_count": 25,
      "id": "4c7b0774-a9cd-4351-a547-184a0b311b07",
      "metadata": {
        "colab": {
          "base_uri": "https://localhost:8080/"
        },
        "id": "4c7b0774-a9cd-4351-a547-184a0b311b07",
        "outputId": "843cfd7a-5622-470e-a360-3b0f36c86609"
      },
      "outputs": [
        {
          "output_type": "execute_result",
          "data": {
            "text/plain": [
              "(5674, 128)"
            ]
          },
          "metadata": {},
          "execution_count": 25
        }
      ],
      "source": [
        "padded = np.array([token+[0]*(max_seq_len-len(token)) for token in tokens.values])\n",
        "np.array(padded).shape"
      ]
    },
    {
      "cell_type": "code",
      "execution_count": 26,
      "id": "e9041fba-385f-4d0f-b964-8d85ecf9ee7c",
      "metadata": {
        "colab": {
          "base_uri": "https://localhost:8080/"
        },
        "id": "e9041fba-385f-4d0f-b964-8d85ecf9ee7c",
        "outputId": "e860222f-9fd0-478d-9de5-cdc499f48574"
      },
      "outputs": [
        {
          "output_type": "execute_result",
          "data": {
            "text/plain": [
              "(5674, 128)"
            ]
          },
          "metadata": {},
          "execution_count": 26
        }
      ],
      "source": [
        "attention_mask = np.where(padded != 0, 1, 0)\n",
        "attention_mask.shape"
      ]
    },
    {
      "cell_type": "code",
      "execution_count": 27,
      "id": "ac4fb6bd-8bc7-41e2-b370-644b5113846c",
      "metadata": {
        "colab": {
          "base_uri": "https://localhost:8080/"
        },
        "id": "ac4fb6bd-8bc7-41e2-b370-644b5113846c",
        "outputId": "a418b89e-6398-4697-d6eb-40c08b046dad"
      },
      "outputs": [
        {
          "output_type": "stream",
          "name": "stdout",
          "text": [
            "Running inference with batch no. 1\n",
            "torch.Size([64, 128, 768])\n",
            "Running inference with batch no. 2\n",
            "torch.Size([64, 128, 768])\n",
            "Running inference with batch no. 3\n",
            "torch.Size([64, 128, 768])\n",
            "Running inference with batch no. 4\n",
            "torch.Size([64, 128, 768])\n",
            "Running inference with batch no. 5\n",
            "torch.Size([64, 128, 768])\n",
            "Running inference with batch no. 6\n",
            "torch.Size([64, 128, 768])\n",
            "Running inference with batch no. 7\n",
            "torch.Size([64, 128, 768])\n",
            "Running inference with batch no. 8\n",
            "torch.Size([64, 128, 768])\n",
            "Running inference with batch no. 9\n",
            "torch.Size([64, 128, 768])\n",
            "Running inference with batch no. 10\n",
            "torch.Size([64, 128, 768])\n",
            "Running inference with batch no. 11\n",
            "torch.Size([64, 128, 768])\n",
            "Running inference with batch no. 12\n",
            "torch.Size([64, 128, 768])\n",
            "Running inference with batch no. 13\n",
            "torch.Size([64, 128, 768])\n",
            "Running inference with batch no. 14\n",
            "torch.Size([64, 128, 768])\n",
            "Running inference with batch no. 15\n",
            "torch.Size([64, 128, 768])\n",
            "Running inference with batch no. 16\n",
            "torch.Size([64, 128, 768])\n",
            "Running inference with batch no. 17\n",
            "torch.Size([64, 128, 768])\n",
            "Running inference with batch no. 18\n",
            "torch.Size([64, 128, 768])\n",
            "Running inference with batch no. 19\n",
            "torch.Size([64, 128, 768])\n",
            "Running inference with batch no. 20\n",
            "torch.Size([64, 128, 768])\n",
            "Running inference with batch no. 21\n",
            "torch.Size([64, 128, 768])\n",
            "Running inference with batch no. 22\n",
            "torch.Size([64, 128, 768])\n",
            "Running inference with batch no. 23\n",
            "torch.Size([64, 128, 768])\n",
            "Running inference with batch no. 24\n",
            "torch.Size([64, 128, 768])\n",
            "Running inference with batch no. 25\n",
            "torch.Size([64, 128, 768])\n",
            "Running inference with batch no. 26\n",
            "torch.Size([64, 128, 768])\n",
            "Running inference with batch no. 27\n",
            "torch.Size([64, 128, 768])\n",
            "Running inference with batch no. 28\n",
            "torch.Size([64, 128, 768])\n",
            "Running inference with batch no. 29\n",
            "torch.Size([64, 128, 768])\n",
            "Running inference with batch no. 30\n",
            "torch.Size([64, 128, 768])\n",
            "Running inference with batch no. 31\n",
            "torch.Size([64, 128, 768])\n",
            "Running inference with batch no. 32\n",
            "torch.Size([64, 128, 768])\n",
            "Running inference with batch no. 33\n",
            "torch.Size([64, 128, 768])\n",
            "Running inference with batch no. 34\n",
            "torch.Size([64, 128, 768])\n",
            "Running inference with batch no. 35\n",
            "torch.Size([64, 128, 768])\n",
            "Running inference with batch no. 36\n",
            "torch.Size([64, 128, 768])\n",
            "Running inference with batch no. 37\n",
            "torch.Size([64, 128, 768])\n",
            "Running inference with batch no. 38\n",
            "torch.Size([64, 128, 768])\n",
            "Running inference with batch no. 39\n",
            "torch.Size([64, 128, 768])\n",
            "Running inference with batch no. 40\n",
            "torch.Size([64, 128, 768])\n",
            "Running inference with batch no. 41\n",
            "torch.Size([64, 128, 768])\n",
            "Running inference with batch no. 42\n",
            "torch.Size([64, 128, 768])\n",
            "Running inference with batch no. 43\n",
            "torch.Size([64, 128, 768])\n",
            "Running inference with batch no. 44\n",
            "torch.Size([64, 128, 768])\n",
            "Running inference with batch no. 45\n",
            "torch.Size([64, 128, 768])\n",
            "Running inference with batch no. 46\n",
            "torch.Size([64, 128, 768])\n",
            "Running inference with batch no. 47\n",
            "torch.Size([64, 128, 768])\n",
            "Running inference with batch no. 48\n",
            "torch.Size([64, 128, 768])\n",
            "Running inference with batch no. 49\n",
            "torch.Size([64, 128, 768])\n",
            "Running inference with batch no. 50\n",
            "torch.Size([64, 128, 768])\n",
            "Running inference with batch no. 51\n",
            "torch.Size([64, 128, 768])\n",
            "Running inference with batch no. 52\n",
            "torch.Size([64, 128, 768])\n",
            "Running inference with batch no. 53\n",
            "torch.Size([64, 128, 768])\n",
            "Running inference with batch no. 54\n",
            "torch.Size([64, 128, 768])\n",
            "Running inference with batch no. 55\n",
            "torch.Size([64, 128, 768])\n",
            "Running inference with batch no. 56\n",
            "torch.Size([64, 128, 768])\n",
            "Running inference with batch no. 57\n",
            "torch.Size([64, 128, 768])\n",
            "Running inference with batch no. 58\n",
            "torch.Size([64, 128, 768])\n",
            "Running inference with batch no. 59\n",
            "torch.Size([64, 128, 768])\n",
            "Running inference with batch no. 60\n",
            "torch.Size([64, 128, 768])\n",
            "Running inference with batch no. 61\n",
            "torch.Size([64, 128, 768])\n",
            "Running inference with batch no. 62\n",
            "torch.Size([64, 128, 768])\n",
            "Running inference with batch no. 63\n",
            "torch.Size([64, 128, 768])\n",
            "Running inference with batch no. 64\n",
            "torch.Size([64, 128, 768])\n",
            "Running inference with batch no. 65\n",
            "torch.Size([64, 128, 768])\n",
            "Running inference with batch no. 66\n",
            "torch.Size([64, 128, 768])\n",
            "Running inference with batch no. 67\n",
            "torch.Size([64, 128, 768])\n",
            "Running inference with batch no. 68\n",
            "torch.Size([64, 128, 768])\n",
            "Running inference with batch no. 69\n",
            "torch.Size([64, 128, 768])\n",
            "Running inference with batch no. 70\n",
            "torch.Size([64, 128, 768])\n",
            "Running inference with batch no. 71\n",
            "torch.Size([64, 128, 768])\n",
            "Running inference with batch no. 72\n",
            "torch.Size([64, 128, 768])\n",
            "Running inference with batch no. 73\n",
            "torch.Size([64, 128, 768])\n",
            "Running inference with batch no. 74\n",
            "torch.Size([64, 128, 768])\n",
            "Running inference with batch no. 75\n",
            "torch.Size([64, 128, 768])\n",
            "Running inference with batch no. 76\n",
            "torch.Size([64, 128, 768])\n",
            "Running inference with batch no. 77\n",
            "torch.Size([64, 128, 768])\n",
            "Running inference with batch no. 78\n",
            "torch.Size([64, 128, 768])\n",
            "Running inference with batch no. 79\n",
            "torch.Size([64, 128, 768])\n",
            "Running inference with batch no. 80\n",
            "torch.Size([64, 128, 768])\n",
            "Running inference with batch no. 81\n",
            "torch.Size([64, 128, 768])\n",
            "Running inference with batch no. 82\n",
            "torch.Size([64, 128, 768])\n",
            "Running inference with batch no. 83\n",
            "torch.Size([64, 128, 768])\n",
            "Running inference with batch no. 84\n",
            "torch.Size([64, 128, 768])\n",
            "Running inference with batch no. 85\n",
            "torch.Size([64, 128, 768])\n",
            "Running inference with batch no. 86\n",
            "torch.Size([64, 128, 768])\n",
            "Running inference with batch no. 87\n",
            "torch.Size([64, 128, 768])\n",
            "Running inference with batch no. 88\n",
            "torch.Size([64, 128, 768])\n",
            "Running inference with batch no. 89\n",
            "torch.Size([42, 128, 768])\n",
            "features shape: (5674, 768)\n"
          ]
        }
      ],
      "source": [
        "input_ids = torch.tensor(padded).to(model.device)\n",
        "attention_mask = torch.tensor(attention_mask).to(model.device)\n",
        "\n",
        "ds = Dataset.from_dict({\"input_ids\": input_ids, \"attention_mask\": attention_mask}).with_format(\"torch\")\n",
        "dataloader = DataLoader(ds, batch_size=64)\n",
        "\n",
        "last_hidden_states = torch.tensor([]).to(model.device)\n",
        "with torch.no_grad():\n",
        "    for idx, batch in enumerate(dataloader):\n",
        "      print(f'Running inference with batch no. {idx+1}')\n",
        "      last_hidden_states_for_batch = model(batch[\"input_ids\"], attention_mask=batch[\"attention_mask\"])\n",
        "      print(last_hidden_states_for_batch[0].shape)\n",
        "      last_hidden_states = torch.cat((last_hidden_states, last_hidden_states_for_batch[0].to(model.device)))\n",
        "\n",
        "# extract [CLS] token hidden representation from output layer\n",
        "features = last_hidden_states[:,0,:].cpu().numpy()\n",
        "print(f'features shape: {features.shape}')\n",
        "\n",
        "# Empty VRAM\n",
        "del model\n",
        "import gc\n",
        "gc.collect()\n",
        "torch.cuda.empty_cache()"
      ]
    },
    {
      "cell_type": "code",
      "source": [
        "train_features, test_features = features[:train.shape[0]], features[train.shape[0]:]\n",
        "print(f'train features: {len(train_features)}')\n",
        "print(f'test features: {len(test_features)}')"
      ],
      "metadata": {
        "colab": {
          "base_uri": "https://localhost:8080/"
        },
        "id": "_btk0-rNj47o",
        "outputId": "15ada40f-e5b3-49a6-aafa-7844b8a70af9"
      },
      "id": "_btk0-rNj47o",
      "execution_count": 56,
      "outputs": [
        {
          "output_type": "stream",
          "name": "stdout",
          "text": [
            "train features: 4464\n",
            "test features: 1210\n"
          ]
        }
      ]
    },
    {
      "cell_type": "code",
      "execution_count": 60,
      "id": "41384008-6c93-4963-a0fd-88c54a2d59c9",
      "metadata": {
        "colab": {
          "base_uri": "https://localhost:8080/"
        },
        "id": "41384008-6c93-4963-a0fd-88c54a2d59c9",
        "outputId": "d7b72079-45bd-4771-ad9a-c3e1ddc9aa33"
      },
      "outputs": [
        {
          "output_type": "stream",
          "name": "stdout",
          "text": [
            "train labels: 4464\n",
            "test labels: 1210\n",
            "[['Slogans'], ['Black-and-White_Fallacy'], ['Slogans'], ['Loaded_Language'], ['Flag-Waving'], ['Name_Calling_Labeling'], ['Loaded_Language'], ['Loaded_Language'], ['Name_Calling_Labeling'], ['Loaded_Language'], ['Name_Calling_Labeling'], ['Whataboutism'], ['Causal_Oversimplification'], ['Causal_Oversimplification'], ['Causal_Oversimplification'], ['Loaded_Language'], ['Slogans'], ['Loaded_Language'], ['Loaded_Language'], ['Name_Calling_Labeling'], ['Exaggeration_Minimisation'], ['Exaggeration_Minimisation'], ['Name_Calling_Labeling'], ['Loaded_Language'], ['Loaded_Language'], ['Name_Calling_Labeling'], ['Loaded_Language'], ['Doubt'], ['Doubt'], ['Doubt'], ['Doubt'], ['Doubt'], ['Appeal_to_Authority'], ['Loaded_Language'], ['Causal_Oversimplification'], ['Name_Calling_Labeling'], ['Loaded_Language'], ['Loaded_Language'], ['Loaded_Language'], ['Loaded_Language'], ['Loaded_Language'], ['Loaded_Language'], ['Name_Calling_Labeling'], ['Exaggeration_Minimisation'], ['Doubt', 'Flag-Waving'], ['Loaded_Language'], ['Loaded_Language'], ['Loaded_Language'], ['Name_Calling_Labeling'], ['Name_Calling_Labeling'], ['Loaded_Language'], ['Causal_Oversimplification'], ['Loaded_Language'], ['Name_Calling_Labeling'], ['Name_Calling_Labeling'], ['Name_Calling_Labeling'], ['Name_Calling_Labeling'], ['Flag-Waving'], ['Loaded_Language'], ['Black-and-White_Fallacy'], ['Loaded_Language'], ['Loaded_Language'], ['Loaded_Language'], ['Loaded_Language'], ['Loaded_Language'], ['Loaded_Language'], ['Name_Calling_Labeling'], ['Loaded_Language'], ['Exaggeration_Minimisation'], ['Name_Calling_Labeling'], ['Loaded_Language'], ['Loaded_Language'], ['Loaded_Language'], ['Loaded_Language'], ['Loaded_Language'], ['Loaded_Language'], ['Loaded_Language'], ['Loaded_Language'], ['Loaded_Language'], ['Name_Calling_Labeling'], ['Loaded_Language'], ['Repetition'], ['Loaded_Language'], ['Loaded_Language'], ['Loaded_Language'], ['Loaded_Language'], ['Exaggeration_Minimisation'], ['Exaggeration_Minimisation'], ['Name_Calling_Labeling'], ['Exaggeration_Minimisation'], ['Name_Calling_Labeling'], ['Repetition'], ['Slogans'], ['Loaded_Language'], ['Loaded_Language'], ['Name_Calling_Labeling'], ['Name_Calling_Labeling'], ['Black-and-White_Fallacy'], ['Black-and-White_Fallacy'], ['Appeal_to_fear-prejudice'], ['Loaded_Language'], ['Loaded_Language'], ['Name_Calling_Labeling'], ['Red_Herring'], ['Loaded_Language'], ['Loaded_Language'], ['Slogans'], ['Black-and-White_Fallacy'], ['Name_Calling_Labeling'], ['Exaggeration_Minimisation'], ['Repetition'], ['Name_Calling_Labeling'], ['Loaded_Language'], ['Exaggeration_Minimisation'], ['Loaded_Language'], ['Loaded_Language'], ['Loaded_Language'], ['Causal_Oversimplification'], ['Loaded_Language'], ['Name_Calling_Labeling'], ['Name_Calling_Labeling'], ['Causal_Oversimplification'], ['Name_Calling_Labeling'], ['Loaded_Language'], ['Name_Calling_Labeling'], ['Loaded_Language'], ['Appeal_to_fear-prejudice'], ['Name_Calling_Labeling'], ['Loaded_Language'], ['Loaded_Language'], ['Thought-terminating_Cliches'], ['Black-and-White_Fallacy'], ['Thought-terminating_Cliches'], ['Doubt'], ['Bandwagon'], ['Appeal_to_Authority'], ['Doubt'], ['Doubt'], ['Doubt'], ['Appeal_to_Authority'], ['Doubt'], ['Flag-Waving'], ['Doubt'], ['Repetition'], ['Flag-Waving'], ['Appeal_to_Authority'], ['Name_Calling_Labeling'], ['Doubt'], ['Repetition'], ['Repetition'], ['Red_Herring'], ['Repetition'], ['Name_Calling_Labeling'], ['Loaded_Language'], ['Bandwagon'], ['Loaded_Language'], ['Name_Calling_Labeling'], ['Repetition'], ['Loaded_Language'], ['Loaded_Language'], ['Appeal_to_fear-prejudice'], ['Flag-Waving'], ['Loaded_Language'], ['Thought-terminating_Cliches'], ['Black-and-White_Fallacy'], ['Thought-terminating_Cliches'], ['Loaded_Language'], ['Exaggeration_Minimisation', 'Loaded_Language'], ['Loaded_Language'], ['Loaded_Language'], ['Loaded_Language'], ['Loaded_Language'], ['Black-and-White_Fallacy'], ['Black-and-White_Fallacy'], ['Appeal_to_fear-prejudice'], ['Reductio_ad_hitlerum'], ['Loaded_Language'], ['Loaded_Language'], ['Thought-terminating_Cliches'], ['Loaded_Language'], ['Black-and-White_Fallacy'], ['Appeal_to_fear-prejudice'], ['Doubt'], ['Doubt'], ['Doubt'], ['Thought-terminating_Cliches'], ['Exaggeration_Minimisation'], ['Exaggeration_Minimisation'], ['Name_Calling_Labeling'], ['Loaded_Language'], ['Loaded_Language'], ['Flag-Waving'], ['Loaded_Language'], ['Loaded_Language'], ['Obfuscation_Intentional_Vagueness_Confusion'], ['Straw_Men'], ['Loaded_Language'], ['Doubt'], ['Doubt'], ['Whataboutism'], ['Straw_Men'], ['Appeal_to_Authority'], ['Doubt'], ['Appeal_to_fear-prejudice'], ['Thought-terminating_Cliches'], ['Loaded_Language'], ['Straw_Men'], ['Appeal_to_Authority'], ['Black-and-White_Fallacy'], ['Loaded_Language'], ['Loaded_Language'], ['Doubt'], ['Loaded_Language'], ['Name_Calling_Labeling'], ['Doubt'], ['Doubt'], ['Doubt'], ['Thought-terminating_Cliches'], ['Loaded_Language'], ['Doubt'], ['Flag-Waving'], ['Repetition'], ['Doubt'], ['Name_Calling_Labeling'], ['Exaggeration_Minimisation'], ['Appeal_to_fear-prejudice'], ['Reductio_ad_hitlerum'], ['Name_Calling_Labeling'], ['Loaded_Language'], ['Name_Calling_Labeling'], ['Repetition'], ['Loaded_Language'], ['Loaded_Language'], ['Appeal_to_Authority'], ['Loaded_Language'], ['Black-and-White_Fallacy'], ['Loaded_Language'], ['Loaded_Language'], ['Reductio_ad_hitlerum'], ['Black-and-White_Fallacy'], ['Name_Calling_Labeling'], ['Repetition'], ['Doubt'], ['Doubt'], ['Doubt'], ['Doubt'], ['Doubt'], ['Doubt'], ['Doubt'], ['Doubt'], ['Doubt'], ['Repetition'], ['Loaded_Language'], ['Repetition'], ['Doubt'], ['Reductio_ad_hitlerum'], ['Flag-Waving'], ['Exaggeration_Minimisation'], ['Doubt'], ['Exaggeration_Minimisation'], ['Loaded_Language'], ['Name_Calling_Labeling'], ['Loaded_Language'], ['Loaded_Language'], ['Causal_Oversimplification'], ['Causal_Oversimplification'], ['Loaded_Language'], ['Exaggeration_Minimisation'], ['Exaggeration_Minimisation'], ['Loaded_Language'], ['Causal_Oversimplification'], ['Exaggeration_Minimisation'], ['Loaded_Language'], ['Causal_Oversimplification'], ['Causal_Oversimplification'], ['Causal_Oversimplification'], ['Causal_Oversimplification'], ['Flag-Waving'], ['Flag-Waving'], ['Flag-Waving'], ['Name_Calling_Labeling'], ['Reductio_ad_hitlerum'], ['Exaggeration_Minimisation'], ['Loaded_Language'], ['Exaggeration_Minimisation'], ['Loaded_Language'], ['Exaggeration_Minimisation'], ['Loaded_Language'], ['Loaded_Language'], ['Loaded_Language'], ['Appeal_to_fear-prejudice'], ['Flag-Waving'], ['Loaded_Language'], ['Loaded_Language'], ['Name_Calling_Labeling'], ['Loaded_Language', 'Name_Calling_Labeling', 'Repetition'], ['Loaded_Language'], ['Name_Calling_Labeling'], ['Name_Calling_Labeling'], ['Loaded_Language'], ['Slogans'], ['Name_Calling_Labeling'], ['Name_Calling_Labeling'], ['Name_Calling_Labeling'], ['Appeal_to_fear-prejudice'], ['Loaded_Language'], ['Appeal_to_fear-prejudice'], ['Name_Calling_Labeling'], ['Loaded_Language'], ['Loaded_Language'], ['Loaded_Language'], ['Name_Calling_Labeling'], ['Loaded_Language'], ['Loaded_Language'], ['Name_Calling_Labeling'], ['Appeal_to_fear-prejudice'], ['Name_Calling_Labeling'], ['Slogans'], ['Name_Calling_Labeling'], ['Appeal_to_fear-prejudice'], ['Loaded_Language'], ['Slogans'], ['Loaded_Language'], ['Name_Calling_Labeling'], ['Name_Calling_Labeling'], ['Exaggeration_Minimisation', 'Loaded_Language'], ['Slogans'], ['Name_Calling_Labeling'], ['Loaded_Language'], ['Causal_Oversimplification'], ['Loaded_Language'], ['Doubt'], ['Doubt'], ['Name_Calling_Labeling'], ['Name_Calling_Labeling'], ['Name_Calling_Labeling', 'Repetition'], ['Doubt'], ['Exaggeration_Minimisation'], ['Exaggeration_Minimisation'], ['Loaded_Language'], ['Flag-Waving'], ['Exaggeration_Minimisation'], ['Doubt'], ['Exaggeration_Minimisation'], ['Causal_Oversimplification'], ['Exaggeration_Minimisation'], ['Exaggeration_Minimisation'], ['Causal_Oversimplification'], ['Causal_Oversimplification'], ['Loaded_Language'], ['Causal_Oversimplification'], ['Causal_Oversimplification'], ['Loaded_Language'], ['Loaded_Language'], ['Causal_Oversimplification'], ['Appeal_to_fear-prejudice'], ['Exaggeration_Minimisation'], ['Red_Herring'], ['Appeal_to_Authority'], ['Causal_Oversimplification'], ['Name_Calling_Labeling'], ['Doubt'], ['Red_Herring'], ['Name_Calling_Labeling'], ['Exaggeration_Minimisation'], ['Loaded_Language'], ['Name_Calling_Labeling'], ['Name_Calling_Labeling'], ['Causal_Oversimplification'], ['Causal_Oversimplification'], ['Thought-terminating_Cliches'], ['Loaded_Language'], ['Loaded_Language'], ['Exaggeration_Minimisation'], ['Thought-terminating_Cliches'], ['Loaded_Language'], ['Doubt'], ['Appeal_to_fear-prejudice'], ['Appeal_to_fear-prejudice', 'Flag-Waving'], ['Doubt'], ['Name_Calling_Labeling'], ['Doubt'], ['Repetition'], ['Loaded_Language'], ['Thought-terminating_Cliches'], ['Exaggeration_Minimisation', 'Loaded_Language'], ['Exaggeration_Minimisation'], ['Repetition'], ['Loaded_Language'], ['Flag-Waving'], ['Name_Calling_Labeling'], ['Doubt'], ['Name_Calling_Labeling'], ['Doubt'], ['Doubt'], ['Appeal_to_fear-prejudice'], ['Loaded_Language'], ['Loaded_Language'], ['Name_Calling_Labeling'], ['Loaded_Language'], ['Name_Calling_Labeling'], ['Name_Calling_Labeling'], ['Name_Calling_Labeling'], ['Loaded_Language'], ['Loaded_Language'], ['Repetition'], ['Name_Calling_Labeling'], ['Loaded_Language'], ['Causal_Oversimplification'], ['Black-and-White_Fallacy'], ['Loaded_Language'], ['Appeal_to_fear-prejudice'], ['Appeal_to_fear-prejudice'], ['Loaded_Language'], ['Exaggeration_Minimisation'], ['Loaded_Language'], ['Appeal_to_fear-prejudice'], ['Loaded_Language'], ['Loaded_Language'], ['Causal_Oversimplification'], ['Name_Calling_Labeling'], ['Appeal_to_fear-prejudice'], ['Loaded_Language'], ['Loaded_Language'], ['Doubt', 'Flag-Waving'], ['Loaded_Language'], ['Doubt'], ['Loaded_Language'], ['Loaded_Language'], ['Loaded_Language'], ['Loaded_Language'], ['Name_Calling_Labeling'], ['Loaded_Language'], ['Name_Calling_Labeling'], ['Exaggeration_Minimisation'], ['Loaded_Language'], ['Loaded_Language'], ['Appeal_to_fear-prejudice'], ['Exaggeration_Minimisation'], ['Causal_Oversimplification'], ['Flag-Waving'], ['Flag-Waving'], ['Name_Calling_Labeling'], ['Exaggeration_Minimisation'], ['Exaggeration_Minimisation'], ['Exaggeration_Minimisation'], ['Exaggeration_Minimisation'], ['Causal_Oversimplification'], ['Name_Calling_Labeling'], ['Causal_Oversimplification'], ['Exaggeration_Minimisation'], ['Flag-Waving'], ['Loaded_Language'], ['Doubt'], ['Whataboutism'], ['Doubt'], ['Exaggeration_Minimisation'], ['Red_Herring'], ['Doubt'], ['Red_Herring', 'Repetition'], ['Name_Calling_Labeling'], ['Loaded_Language'], ['Exaggeration_Minimisation'], ['Causal_Oversimplification'], ['Causal_Oversimplification'], ['Repetition'], ['Flag-Waving'], ['Causal_Oversimplification'], ['Causal_Oversimplification'], ['Thought-terminating_Cliches'], ['Causal_Oversimplification'], ['Causal_Oversimplification'], ['Loaded_Language'], ['Causal_Oversimplification'], ['Loaded_Language'], ['Appeal_to_Authority'], ['Name_Calling_Labeling'], ['Exaggeration_Minimisation'], ['Flag-Waving'], ['Exaggeration_Minimisation'], ['Loaded_Language'], ['Reductio_ad_hitlerum'], ['Reductio_ad_hitlerum'], ['Appeal_to_fear-prejudice'], ['Reductio_ad_hitlerum'], ['Loaded_Language', 'Name_Calling_Labeling'], ['Appeal_to_fear-prejudice'], ['Loaded_Language'], ['Loaded_Language'], ['Loaded_Language'], ['Loaded_Language'], ['Name_Calling_Labeling'], ['Name_Calling_Labeling'], ['Loaded_Language'], ['Name_Calling_Labeling'], ['Doubt'], ['Slogans'], ['Loaded_Language'], ['Exaggeration_Minimisation'], ['Name_Calling_Labeling'], ['Exaggeration_Minimisation'], ['Name_Calling_Labeling'], ['Name_Calling_Labeling'], ['Loaded_Language'], ['Doubt'], ['Appeal_to_fear-prejudice'], ['Loaded_Language'], ['Loaded_Language'], ['Reductio_ad_hitlerum'], ['Loaded_Language'], ['Doubt'], ['Flag-Waving'], ['Doubt'], ['Loaded_Language'], ['Loaded_Language'], ['Loaded_Language'], ['Doubt'], ['Name_Calling_Labeling'], ['Causal_Oversimplification'], ['Loaded_Language'], ['Loaded_Language'], ['Loaded_Language'], ['Doubt'], ['Name_Calling_Labeling'], ['Doubt'], ['Loaded_Language'], ['Loaded_Language'], ['Doubt'], ['Loaded_Language'], ['Loaded_Language'], ['Loaded_Language'], ['Loaded_Language'], ['Loaded_Language'], ['Thought-terminating_Cliches'], ['Appeal_to_Authority'], ['Loaded_Language'], ['Doubt'], ['Doubt'], ['Doubt'], ['Doubt'], ['Loaded_Language'], ['Name_Calling_Labeling'], ['Name_Calling_Labeling'], ['Name_Calling_Labeling'], ['Repetition'], ['Loaded_Language'], ['Black-and-White_Fallacy'], ['Doubt'], ['Exaggeration_Minimisation'], ['Red_Herring'], ['Whataboutism'], ['Loaded_Language'], ['Slogans'], ['Loaded_Language'], ['Loaded_Language'], ['Thought-terminating_Cliches'], ['Loaded_Language'], ['Loaded_Language'], ['Loaded_Language'], ['Loaded_Language'], ['Exaggeration_Minimisation'], ['Appeal_to_fear-prejudice'], ['Loaded_Language'], ['Exaggeration_Minimisation'], ['Red_Herring'], ['Repetition'], ['Repetition'], ['Loaded_Language'], ['Appeal_to_Authority'], ['Appeal_to_Authority'], ['Appeal_to_Authority'], ['Flag-Waving'], ['Loaded_Language'], ['Loaded_Language'], ['Loaded_Language'], ['Loaded_Language'], ['Loaded_Language'], ['Loaded_Language'], ['Appeal_to_fear-prejudice'], ['Loaded_Language'], ['Loaded_Language'], ['Loaded_Language'], ['Loaded_Language'], ['Loaded_Language'], ['Loaded_Language'], ['Exaggeration_Minimisation'], ['Loaded_Language'], ['Causal_Oversimplification'], ['Causal_Oversimplification'], ['Loaded_Language'], ['Whataboutism'], ['Thought-terminating_Cliches'], ['Thought-terminating_Cliches'], ['Causal_Oversimplification'], ['Appeal_to_fear-prejudice', 'Reductio_ad_hitlerum'], ['Appeal_to_fear-prejudice'], ['Black-and-White_Fallacy'], ['Loaded_Language'], ['Appeal_to_fear-prejudice', 'Reductio_ad_hitlerum'], ['Flag-Waving'], ['Loaded_Language'], ['Doubt'], ['Appeal_to_fear-prejudice'], ['Doubt'], ['Doubt'], ['Whataboutism'], ['Appeal_to_fear-prejudice', 'Reductio_ad_hitlerum'], ['Loaded_Language'], ['Flag-Waving', 'Loaded_Language'], ['Loaded_Language'], ['Loaded_Language'], ['Causal_Oversimplification'], ['Loaded_Language'], ['Black-and-White_Fallacy'], ['Flag-Waving'], ['Loaded_Language'], ['Flag-Waving'], ['Loaded_Language'], ['Loaded_Language'], ['Loaded_Language'], ['Appeal_to_Authority'], ['Reductio_ad_hitlerum'], ['Loaded_Language'], ['Name_Calling_Labeling'], ['Slogans'], ['Loaded_Language'], ['Reductio_ad_hitlerum'], ['Exaggeration_Minimisation'], ['Name_Calling_Labeling'], ['Causal_Oversimplification'], ['Appeal_to_Authority'], ['Exaggeration_Minimisation'], ['Loaded_Language'], ['Loaded_Language'], ['Doubt', 'Loaded_Language'], ['Name_Calling_Labeling'], ['Whataboutism'], ['Obfuscation_Intentional_Vagueness_Confusion'], ['Name_Calling_Labeling'], ['Name_Calling_Labeling'], ['Loaded_Language'], ['Loaded_Language'], ['Repetition'], ['Loaded_Language'], ['Exaggeration_Minimisation'], ['Loaded_Language'], ['Black-and-White_Fallacy'], ['Loaded_Language'], ['Exaggeration_Minimisation'], ['Loaded_Language'], ['Exaggeration_Minimisation'], ['Loaded_Language'], ['Appeal_to_fear-prejudice'], ['Thought-terminating_Cliches'], ['Loaded_Language'], ['Loaded_Language'], ['Name_Calling_Labeling'], ['Loaded_Language'], ['Repetition'], ['Loaded_Language'], ['Flag-Waving'], ['Loaded_Language'], ['Loaded_Language'], ['Appeal_to_Authority'], ['Loaded_Language'], ['Loaded_Language'], ['Loaded_Language'], ['Loaded_Language'], ['Red_Herring'], ['Loaded_Language'], ['Appeal_to_Authority'], ['Doubt'], ['Loaded_Language', 'Name_Calling_Labeling'], ['Doubt'], ['Repetition'], ['Repetition'], ['Repetition'], ['Loaded_Language'], ['Loaded_Language'], ['Loaded_Language', 'Thought-terminating_Cliches'], ['Loaded_Language'], ['Loaded_Language'], ['Loaded_Language'], ['Black-and-White_Fallacy'], ['Loaded_Language'], ['Causal_Oversimplification'], ['Loaded_Language'], ['Appeal_to_fear-prejudice'], ['Loaded_Language'], ['Loaded_Language'], ['Repetition'], ['Loaded_Language'], ['Loaded_Language'], ['Name_Calling_Labeling'], ['Name_Calling_Labeling'], ['Appeal_to_Authority', 'Appeal_to_fear-prejudice'], ['Repetition'], ['Repetition'], ['Repetition'], ['Repetition'], ['Appeal_to_Authority'], ['Exaggeration_Minimisation'], ['Repetition'], ['Appeal_to_Authority', 'Exaggeration_Minimisation'], ['Exaggeration_Minimisation'], ['Loaded_Language'], ['Thought-terminating_Cliches'], ['Loaded_Language'], ['Flag-Waving'], ['Loaded_Language'], ['Loaded_Language'], ['Loaded_Language'], ['Black-and-White_Fallacy'], ['Loaded_Language'], ['Flag-Waving'], ['Appeal_to_fear-prejudice'], ['Repetition'], ['Repetition'], ['Flag-Waving'], ['Flag-Waving'], ['Repetition'], ['Appeal_to_fear-prejudice'], ['Appeal_to_fear-prejudice'], ['Name_Calling_Labeling'], ['Doubt'], ['Appeal_to_fear-prejudice'], ['Name_Calling_Labeling'], ['Appeal_to_fear-prejudice'], ['Loaded_Language'], ['Exaggeration_Minimisation'], ['Black-and-White_Fallacy'], ['Black-and-White_Fallacy'], ['Black-and-White_Fallacy'], ['Loaded_Language'], ['Loaded_Language'], ['Loaded_Language'], ['Black-and-White_Fallacy'], ['Reductio_ad_hitlerum'], ['Black-and-White_Fallacy'], ['Whataboutism'], ['Loaded_Language'], ['Loaded_Language'], ['Appeal_to_fear-prejudice'], ['Black-and-White_Fallacy'], ['Appeal_to_fear-prejudice'], ['Appeal_to_fear-prejudice'], ['Loaded_Language'], ['Appeal_to_fear-prejudice'], ['Doubt'], ['Doubt'], ['Repetition'], ['Doubt'], ['Thought-terminating_Cliches'], ['Loaded_Language'], ['Doubt'], ['Doubt'], ['Causal_Oversimplification'], ['Repetition'], ['Flag-Waving'], ['Loaded_Language'], ['Loaded_Language', 'Repetition'], ['Loaded_Language'], ['Loaded_Language'], ['Loaded_Language'], ['Loaded_Language'], ['Loaded_Language'], ['Name_Calling_Labeling'], ['Loaded_Language'], ['Doubt'], ['Doubt'], ['Doubt'], ['Exaggeration_Minimisation'], ['Doubt'], ['Doubt'], ['Loaded_Language'], ['Loaded_Language'], ['Doubt'], ['Causal_Oversimplification'], ['Loaded_Language'], ['Doubt'], ['Doubt'], ['Name_Calling_Labeling'], ['Exaggeration_Minimisation'], ['Loaded_Language'], ['Exaggeration_Minimisation'], ['Black-and-White_Fallacy'], ['Name_Calling_Labeling'], ['Loaded_Language'], ['Appeal_to_fear-prejudice'], ['Exaggeration_Minimisation'], ['Loaded_Language'], ['Loaded_Language'], ['Loaded_Language'], ['Bandwagon'], ['Whataboutism'], ['Loaded_Language'], ['Loaded_Language'], ['Name_Calling_Labeling'], ['Appeal_to_Authority'], ['Loaded_Language'], ['Obfuscation_Intentional_Vagueness_Confusion'], ['Loaded_Language'], ['Slogans'], ['Exaggeration_Minimisation'], ['Thought-terminating_Cliches'], ['Whataboutism'], ['Appeal_to_fear-prejudice', 'Loaded_Language'], ['Loaded_Language'], ['Name_Calling_Labeling'], ['Name_Calling_Labeling'], ['Loaded_Language'], ['Name_Calling_Labeling'], ['Thought-terminating_Cliches'], ['Loaded_Language'], ['Loaded_Language'], ['Loaded_Language'], ['Name_Calling_Labeling'], ['Name_Calling_Labeling'], ['Name_Calling_Labeling'], ['Loaded_Language'], ['Name_Calling_Labeling'], ['Loaded_Language'], ['Appeal_to_fear-prejudice'], ['Loaded_Language'], ['Loaded_Language'], ['Loaded_Language'], ['Loaded_Language'], ['Loaded_Language'], ['Name_Calling_Labeling'], ['Loaded_Language'], ['Loaded_Language'], ['Name_Calling_Labeling'], ['Name_Calling_Labeling'], ['Loaded_Language'], ['Loaded_Language'], ['Loaded_Language'], ['Name_Calling_Labeling'], ['Doubt'], ['Loaded_Language'], ['Loaded_Language'], ['Exaggeration_Minimisation'], ['Exaggeration_Minimisation'], ['Loaded_Language'], ['Doubt'], ['Loaded_Language', 'Thought-terminating_Cliches'], ['Loaded_Language'], ['Doubt'], ['Loaded_Language'], ['Doubt'], ['Doubt'], ['Loaded_Language'], ['Loaded_Language'], ['Doubt'], ['Thought-terminating_Cliches'], ['Doubt'], ['Loaded_Language'], ['Appeal_to_fear-prejudice'], ['Loaded_Language'], ['Loaded_Language'], ['Loaded_Language'], ['Appeal_to_fear-prejudice'], ['Black-and-White_Fallacy'], ['Causal_Oversimplification'], ['Exaggeration_Minimisation'], ['Appeal_to_Authority'], ['Exaggeration_Minimisation'], ['Obfuscation_Intentional_Vagueness_Confusion'], ['Black-and-White_Fallacy'], ['Repetition'], ['Name_Calling_Labeling'], ['Loaded_Language'], ['Loaded_Language'], ['Causal_Oversimplification'], ['Name_Calling_Labeling'], ['Name_Calling_Labeling'], ['Loaded_Language'], ['Thought-terminating_Cliches'], ['Exaggeration_Minimisation'], ['Name_Calling_Labeling'], ['Name_Calling_Labeling'], ['Loaded_Language'], ['Name_Calling_Labeling'], ['Name_Calling_Labeling'], ['Doubt'], ['Appeal_to_fear-prejudice'], ['Appeal_to_fear-prejudice'], ['Doubt'], ['Loaded_Language'], ['Loaded_Language'], ['Loaded_Language'], ['Loaded_Language'], ['Thought-terminating_Cliches'], ['Loaded_Language'], ['Causal_Oversimplification'], ['Doubt'], ['Appeal_to_fear-prejudice'], ['Loaded_Language'], ['Name_Calling_Labeling'], ['Name_Calling_Labeling'], ['Name_Calling_Labeling'], ['Name_Calling_Labeling'], ['Name_Calling_Labeling'], ['Name_Calling_Labeling'], ['Name_Calling_Labeling'], ['Name_Calling_Labeling'], ['Name_Calling_Labeling'], ['Loaded_Language'], ['Loaded_Language'], ['Black-and-White_Fallacy'], ['Name_Calling_Labeling'], ['Doubt'], ['Name_Calling_Labeling'], ['Slogans'], ['Name_Calling_Labeling'], ['Loaded_Language'], ['Loaded_Language'], ['Appeal_to_fear-prejudice'], ['Name_Calling_Labeling'], ['Name_Calling_Labeling'], ['Loaded_Language'], ['Loaded_Language'], ['Loaded_Language'], ['Loaded_Language'], ['Loaded_Language'], ['Appeal_to_fear-prejudice', 'Loaded_Language'], ['Appeal_to_Authority'], ['Black-and-White_Fallacy', 'Flag-Waving'], ['Causal_Oversimplification'], ['Reductio_ad_hitlerum'], ['Reductio_ad_hitlerum'], ['Name_Calling_Labeling'], ['Straw_Men'], ['Thought-terminating_Cliches'], ['Doubt'], ['Straw_Men'], ['Loaded_Language'], ['Repetition'], ['Repetition'], ['Black-and-White_Fallacy'], ['Repetition'], ['Repetition'], ['Repetition'], ['Loaded_Language', 'Repetition'], ['Appeal_to_fear-prejudice'], ['Appeal_to_fear-prejudice'], ['Slogans'], ['Loaded_Language'], ['Loaded_Language'], ['Repetition'], ['Loaded_Language'], ['Loaded_Language'], ['Appeal_to_Authority'], ['Repetition'], ['Loaded_Language', 'Repetition'], ['Causal_Oversimplification'], ['Loaded_Language'], ['Loaded_Language'], ['Black-and-White_Fallacy'], ['Repetition'], ['Name_Calling_Labeling'], ['Loaded_Language'], ['Loaded_Language'], ['Repetition'], ['Loaded_Language'], ['Doubt'], ['Appeal_to_fear-prejudice'], ['Loaded_Language'], ['Loaded_Language', 'Name_Calling_Labeling'], ['Appeal_to_fear-prejudice'], ['Repetition'], ['Loaded_Language'], ['Repetition'], ['Flag-Waving'], ['Appeal_to_fear-prejudice'], ['Appeal_to_fear-prejudice'], ['Repetition'], ['Repetition'], ['Repetition'], ['Repetition'], ['Repetition'], ['Repetition'], ['Repetition'], ['Repetition'], ['Repetition'], ['Exaggeration_Minimisation', 'Repetition'], ['Doubt'], ['Repetition'], ['Repetition'], ['Repetition'], ['Repetition'], ['Repetition'], ['Repetition'], ['Appeal_to_fear-prejudice'], ['Loaded_Language'], ['Repetition'], ['Repetition'], ['Repetition'], ['Repetition'], ['Repetition'], ['Repetition'], ['Thought-terminating_Cliches'], ['Doubt'], ['Loaded_Language'], ['Causal_Oversimplification'], ['Loaded_Language'], ['Name_Calling_Labeling'], ['Doubt'], ['Exaggeration_Minimisation'], ['Loaded_Language'], ['Name_Calling_Labeling'], ['Appeal_to_fear-prejudice', 'Loaded_Language'], ['Doubt'], ['Exaggeration_Minimisation'], ['Name_Calling_Labeling'], ['Doubt'], ['Flag-Waving'], ['Doubt'], ['Loaded_Language'], ['Loaded_Language'], ['Black-and-White_Fallacy'], ['Appeal_to_Authority'], ['Causal_Oversimplification'], ['Appeal_to_Authority'], ['Thought-terminating_Cliches'], ['Obfuscation_Intentional_Vagueness_Confusion'], ['Obfuscation_Intentional_Vagueness_Confusion'], ['Black-and-White_Fallacy'], ['Appeal_to_fear-prejudice'], ['Loaded_Language'], ['Black-and-White_Fallacy'], ['Appeal_to_Authority'], ['Exaggeration_Minimisation'], ['Repetition'], ['Name_Calling_Labeling'], ['Name_Calling_Labeling'], ['Exaggeration_Minimisation'], ['Exaggeration_Minimisation'], ['Exaggeration_Minimisation'], ['Exaggeration_Minimisation'], ['Loaded_Language'], ['Repetition'], ['Thought-terminating_Cliches'], ['Repetition'], ['Doubt'], ['Repetition'], ['Doubt'], ['Doubt'], ['Doubt'], ['Doubt'], ['Thought-terminating_Cliches'], ['Thought-terminating_Cliches'], ['Doubt'], ['Name_Calling_Labeling', 'Repetition'], ['Name_Calling_Labeling'], ['Name_Calling_Labeling'], ['Loaded_Language'], ['Doubt'], ['Appeal_to_Authority'], ['Name_Calling_Labeling'], ['Name_Calling_Labeling'], ['Thought-terminating_Cliches'], ['Loaded_Language'], ['Name_Calling_Labeling'], ['Thought-terminating_Cliches'], ['Name_Calling_Labeling'], ['Loaded_Language'], ['Loaded_Language'], ['Loaded_Language'], ['Loaded_Language'], ['Loaded_Language'], ['Name_Calling_Labeling'], ['Name_Calling_Labeling'], ['Loaded_Language'], ['Appeal_to_fear-prejudice'], ['Loaded_Language'], ['Loaded_Language'], ['Loaded_Language'], ['Loaded_Language'], ['Loaded_Language'], ['Loaded_Language'], ['Loaded_Language'], ['Repetition'], ['Thought-terminating_Cliches'], ['Loaded_Language'], ['Exaggeration_Minimisation'], ['Name_Calling_Labeling'], ['Loaded_Language'], ['Loaded_Language'], ['Loaded_Language'], ['Loaded_Language'], ['Appeal_to_fear-prejudice'], ['Loaded_Language'], ['Loaded_Language'], ['Appeal_to_Authority'], ['Loaded_Language'], ['Loaded_Language'], ['Loaded_Language'], ['Loaded_Language'], ['Appeal_to_fear-prejudice'], ['Name_Calling_Labeling'], ['Loaded_Language'], ['Loaded_Language'], ['Doubt'], ['Appeal_to_Authority'], ['Thought-terminating_Cliches'], ['Loaded_Language'], ['Doubt'], ['Slogans'], ['Exaggeration_Minimisation'], ['Appeal_to_fear-prejudice'], ['Whataboutism'], ['Loaded_Language'], ['Flag-Waving'], ['Flag-Waving', 'Repetition'], ['Flag-Waving', 'Repetition'], ['Loaded_Language'], ['Loaded_Language'], ['Loaded_Language', 'Repetition'], ['Repetition'], ['Black-and-White_Fallacy'], ['Repetition'], ['Loaded_Language'], ['Loaded_Language'], ['Flag-Waving'], ['Appeal_to_fear-prejudice'], ['Black-and-White_Fallacy'], ['Flag-Waving', 'Slogans'], ['Flag-Waving', 'Slogans'], ['Flag-Waving', 'Slogans'], ['Flag-Waving'], ['Appeal_to_fear-prejudice'], ['Thought-terminating_Cliches'], ['Loaded_Language'], ['Name_Calling_Labeling'], ['Loaded_Language'], ['Thought-terminating_Cliches'], ['Repetition'], ['Loaded_Language'], ['Loaded_Language', 'Name_Calling_Labeling'], ['Doubt'], ['Exaggeration_Minimisation'], ['Doubt'], ['Doubt'], ['Name_Calling_Labeling'], ['Loaded_Language'], ['Loaded_Language'], ['Loaded_Language'], ['Loaded_Language'], ['Name_Calling_Labeling'], ['Name_Calling_Labeling'], ['Black-and-White_Fallacy'], ['Name_Calling_Labeling'], ['Causal_Oversimplification'], ['Causal_Oversimplification'], ['Slogans'], ['Slogans'], ['Slogans'], ['Flag-Waving'], ['Appeal_to_fear-prejudice'], ['Loaded_Language'], ['Loaded_Language', 'Repetition'], ['Loaded_Language'], ['Loaded_Language', 'Thought-terminating_Cliches'], ['Exaggeration_Minimisation'], ['Loaded_Language'], ['Exaggeration_Minimisation'], ['Exaggeration_Minimisation'], ['Exaggeration_Minimisation'], ['Loaded_Language'], ['Repetition'], ['Name_Calling_Labeling'], ['Loaded_Language'], ['Name_Calling_Labeling'], ['Name_Calling_Labeling'], ['Name_Calling_Labeling'], ['Name_Calling_Labeling'], ['Name_Calling_Labeling'], ['Loaded_Language'], ['Loaded_Language'], ['Loaded_Language'], ['Exaggeration_Minimisation'], ['Exaggeration_Minimisation'], ['Name_Calling_Labeling', 'Repetition'], ['Name_Calling_Labeling'], ['Loaded_Language'], ['Loaded_Language'], ['Loaded_Language'], ['Bandwagon'], ['Loaded_Language'], ['Loaded_Language'], ['Loaded_Language'], ['Loaded_Language'], ['Appeal_to_fear-prejudice'], ['Black-and-White_Fallacy'], ['Loaded_Language'], ['Exaggeration_Minimisation'], ['Black-and-White_Fallacy'], ['Black-and-White_Fallacy'], ['Black-and-White_Fallacy', 'Reductio_ad_hitlerum'], ['Causal_Oversimplification'], ['Thought-terminating_Cliches'], ['Bandwagon'], ['Exaggeration_Minimisation'], ['Appeal_to_Authority', 'Loaded_Language'], ['Loaded_Language'], ['Bandwagon'], ['Causal_Oversimplification'], ['Repetition'], ['Appeal_to_fear-prejudice'], ['Appeal_to_Authority'], ['Loaded_Language'], ['Black-and-White_Fallacy'], ['Loaded_Language'], ['Loaded_Language'], ['Black-and-White_Fallacy'], ['Black-and-White_Fallacy'], ['Appeal_to_Authority'], ['Black-and-White_Fallacy'], ['Black-and-White_Fallacy'], ['Name_Calling_Labeling'], ['Name_Calling_Labeling'], ['Loaded_Language'], ['Loaded_Language'], ['Loaded_Language'], ['Loaded_Language'], ['Loaded_Language'], ['Appeal_to_fear-prejudice'], ['Loaded_Language'], ['Appeal_to_Authority'], ['Appeal_to_Authority'], ['Loaded_Language'], ['Causal_Oversimplification'], ['Name_Calling_Labeling'], ['Loaded_Language'], ['Doubt'], ['Loaded_Language'], ['Loaded_Language'], ['Doubt'], ['Loaded_Language'], ['Slogans'], ['Name_Calling_Labeling'], ['Reductio_ad_hitlerum'], ['Flag-Waving'], ['Flag-Waving', 'Slogans'], ['Appeal_to_fear-prejudice', 'Slogans'], ['Appeal_to_fear-prejudice'], ['Flag-Waving'], ['Appeal_to_fear-prejudice'], ['Loaded_Language'], ['Appeal_to_fear-prejudice'], ['Reductio_ad_hitlerum'], ['Flag-Waving', 'Slogans'], ['Flag-Waving'], ['Flag-Waving'], ['Name_Calling_Labeling'], ['Name_Calling_Labeling'], ['Slogans'], ['Appeal_to_fear-prejudice'], ['Name_Calling_Labeling'], ['Name_Calling_Labeling'], ['Slogans'], ['Name_Calling_Labeling'], ['Reductio_ad_hitlerum'], ['Repetition'], ['Repetition'], ['Flag-Waving'], ['Flag-Waving'], ['Black-and-White_Fallacy'], ['Appeal_to_fear-prejudice'], ['Flag-Waving'], ['Flag-Waving'], ['Loaded_Language'], ['Loaded_Language', 'Name_Calling_Labeling'], ['Name_Calling_Labeling'], ['Repetition'], ['Loaded_Language'], ['Name_Calling_Labeling'], ['Loaded_Language'], ['Loaded_Language'], ['Name_Calling_Labeling'], ['Doubt'], ['Appeal_to_Authority'], ['Appeal_to_Authority'], ['Repetition'], ['Loaded_Language'], ['Reductio_ad_hitlerum'], ['Thought-terminating_Cliches'], ['Black-and-White_Fallacy'], ['Repetition'], ['Black-and-White_Fallacy'], ['Reductio_ad_hitlerum'], ['Causal_Oversimplification'], ['Reductio_ad_hitlerum'], ['Name_Calling_Labeling'], ['Name_Calling_Labeling'], ['Name_Calling_Labeling'], ['Loaded_Language'], ['Loaded_Language'], ['Name_Calling_Labeling'], ['Exaggeration_Minimisation', 'Loaded_Language'], ['Bandwagon'], ['Loaded_Language'], ['Name_Calling_Labeling'], ['Slogans'], ['Slogans'], ['Name_Calling_Labeling'], ['Name_Calling_Labeling'], ['Red_Herring'], ['Name_Calling_Labeling'], ['Name_Calling_Labeling'], ['Red_Herring'], ['Name_Calling_Labeling'], ['Appeal_to_fear-prejudice', 'Loaded_Language'], ['Loaded_Language'], ['Loaded_Language'], ['Thought-terminating_Cliches'], ['Loaded_Language'], ['Name_Calling_Labeling'], ['Loaded_Language'], ['Exaggeration_Minimisation'], ['Slogans'], ['Loaded_Language'], ['Loaded_Language'], ['Loaded_Language'], ['Exaggeration_Minimisation'], ['Loaded_Language'], ['Loaded_Language'], ['Flag-Waving'], ['Doubt', 'Loaded_Language'], ['Loaded_Language'], ['Loaded_Language'], ['Loaded_Language'], ['Exaggeration_Minimisation'], ['Loaded_Language'], ['Exaggeration_Minimisation'], ['Loaded_Language'], ['Loaded_Language'], ['Loaded_Language'], ['Loaded_Language', 'Repetition'], ['Loaded_Language'], ['Loaded_Language'], ['Flag-Waving', 'Reductio_ad_hitlerum'], ['Loaded_Language'], ['Reductio_ad_hitlerum'], ['Doubt'], ['Doubt'], ['Doubt'], ['Red_Herring'], ['Flag-Waving'], ['Reductio_ad_hitlerum'], ['Loaded_Language'], ['Causal_Oversimplification'], ['Loaded_Language'], ['Loaded_Language'], ['Reductio_ad_hitlerum'], ['Loaded_Language'], ['Flag-Waving'], ['Repetition'], ['Slogans'], ['Name_Calling_Labeling'], ['Slogans'], ['Loaded_Language'], ['Loaded_Language', 'Slogans'], ['Loaded_Language'], ['Loaded_Language'], ['Name_Calling_Labeling'], ['Doubt'], ['Loaded_Language'], ['Black-and-White_Fallacy'], ['Name_Calling_Labeling'], ['Name_Calling_Labeling'], ['Doubt'], ['Loaded_Language'], ['Causal_Oversimplification'], ['Doubt'], ['Red_Herring'], ['Doubt'], ['Red_Herring'], ['Whataboutism'], ['Whataboutism'], ['Causal_Oversimplification'], ['Loaded_Language'], ['Whataboutism'], ['Appeal_to_Authority'], ['Appeal_to_Authority'], ['Appeal_to_fear-prejudice'], ['Loaded_Language'], ['Loaded_Language'], ['Loaded_Language'], ['Loaded_Language'], ['Loaded_Language'], ['Loaded_Language'], ['Loaded_Language'], ['Thought-terminating_Cliches'], ['Loaded_Language'], ['Loaded_Language'], ['Loaded_Language'], ['Loaded_Language'], ['Loaded_Language'], ['Loaded_Language'], ['Loaded_Language'], ['Loaded_Language'], ['Name_Calling_Labeling'], ['Name_Calling_Labeling'], ['Loaded_Language'], ['Name_Calling_Labeling'], ['Name_Calling_Labeling'], ['Loaded_Language'], ['Name_Calling_Labeling'], ['Name_Calling_Labeling'], ['Loaded_Language'], ['Name_Calling_Labeling'], ['Name_Calling_Labeling'], ['Name_Calling_Labeling'], ['Name_Calling_Labeling'], ['Name_Calling_Labeling'], ['Name_Calling_Labeling'], ['Repetition'], ['Name_Calling_Labeling'], ['Loaded_Language'], ['Name_Calling_Labeling'], ['Name_Calling_Labeling'], ['Name_Calling_Labeling'], ['Name_Calling_Labeling'], ['Loaded_Language'], ['Loaded_Language'], ['Loaded_Language'], ['Loaded_Language'], ['Loaded_Language'], ['Name_Calling_Labeling'], ['Name_Calling_Labeling'], ['Name_Calling_Labeling'], ['Loaded_Language'], ['Name_Calling_Labeling'], ['Loaded_Language'], ['Loaded_Language'], ['Loaded_Language'], ['Name_Calling_Labeling'], ['Loaded_Language'], ['Loaded_Language'], ['Loaded_Language'], ['Loaded_Language'], ['Loaded_Language'], ['Doubt'], ['Doubt'], ['Name_Calling_Labeling'], ['Loaded_Language'], ['Name_Calling_Labeling'], ['Appeal_to_fear-prejudice'], ['Name_Calling_Labeling'], ['Name_Calling_Labeling'], ['Name_Calling_Labeling'], ['Loaded_Language'], ['Name_Calling_Labeling'], ['Name_Calling_Labeling'], ['Doubt'], ['Doubt'], ['Doubt'], ['Name_Calling_Labeling'], ['Loaded_Language'], ['Thought-terminating_Cliches'], ['Loaded_Language', 'Thought-terminating_Cliches'], ['Name_Calling_Labeling'], ['Exaggeration_Minimisation'], ['Loaded_Language'], ['Loaded_Language'], ['Loaded_Language'], ['Exaggeration_Minimisation'], ['Exaggeration_Minimisation'], ['Doubt'], ['Causal_Oversimplification'], ['Appeal_to_fear-prejudice'], ['Loaded_Language'], ['Flag-Waving'], ['Loaded_Language'], ['Flag-Waving'], ['Doubt'], ['Appeal_to_fear-prejudice', 'Thought-terminating_Cliches'], ['Slogans'], ['Doubt'], ['Loaded_Language'], ['Loaded_Language'], ['Name_Calling_Labeling'], ['Exaggeration_Minimisation'], ['Appeal_to_Authority'], ['Doubt'], ['Doubt'], ['Causal_Oversimplification'], ['Loaded_Language'], ['Loaded_Language'], ['Name_Calling_Labeling'], ['Name_Calling_Labeling'], ['Name_Calling_Labeling'], ['Name_Calling_Labeling'], ['Name_Calling_Labeling'], ['Slogans'], ['Exaggeration_Minimisation'], ['Exaggeration_Minimisation'], ['Exaggeration_Minimisation'], ['Exaggeration_Minimisation'], ['Exaggeration_Minimisation'], ['Doubt'], ['Appeal_to_Authority'], ['Name_Calling_Labeling'], ['Red_Herring'], ['Red_Herring'], ['Name_Calling_Labeling'], ['Repetition'], ['Appeal_to_fear-prejudice'], ['Exaggeration_Minimisation', 'Flag-Waving'], ['Name_Calling_Labeling'], ['Exaggeration_Minimisation'], ['Loaded_Language'], ['Loaded_Language'], ['Doubt'], ['Reductio_ad_hitlerum'], ['Doubt'], ['Doubt'], ['Loaded_Language'], ['Appeal_to_fear-prejudice'], ['Appeal_to_fear-prejudice'], ['Loaded_Language'], ['Reductio_ad_hitlerum'], ['Reductio_ad_hitlerum'], ['Causal_Oversimplification'], ['Doubt'], ['Causal_Oversimplification'], ['Loaded_Language'], ['Loaded_Language'], ['Loaded_Language'], ['Loaded_Language'], ['Name_Calling_Labeling'], ['Name_Calling_Labeling'], ['Name_Calling_Labeling'], ['Loaded_Language'], ['Doubt'], ['Name_Calling_Labeling'], ['Exaggeration_Minimisation'], ['Doubt'], ['Doubt'], ['Thought-terminating_Cliches'], ['Doubt'], ['Exaggeration_Minimisation'], ['Appeal_to_fear-prejudice'], ['Doubt'], ['Doubt'], ['Loaded_Language'], ['Doubt'], ['Loaded_Language'], ['Appeal_to_fear-prejudice'], ['Appeal_to_fear-prejudice'], ['Appeal_to_fear-prejudice'], ['Appeal_to_fear-prejudice'], ['Appeal_to_fear-prejudice'], ['Loaded_Language'], ['Name_Calling_Labeling'], ['Appeal_to_fear-prejudice'], ['Loaded_Language'], ['Black-and-White_Fallacy'], ['Name_Calling_Labeling'], ['Loaded_Language'], ['Loaded_Language'], ['Loaded_Language'], ['Slogans'], ['Doubt'], ['Loaded_Language'], ['Loaded_Language'], ['Black-and-White_Fallacy'], ['Loaded_Language'], ['Appeal_to_Authority'], ['Name_Calling_Labeling'], ['Flag-Waving'], ['Appeal_to_fear-prejudice'], ['Loaded_Language'], ['Flag-Waving'], ['Black-and-White_Fallacy'], ['Loaded_Language'], ['Loaded_Language'], ['Loaded_Language'], ['Doubt'], ['Appeal_to_fear-prejudice', 'Slogans'], ['Flag-Waving'], ['Doubt'], ['Appeal_to_fear-prejudice'], ['Loaded_Language'], ['Repetition'], ['Loaded_Language'], ['Appeal_to_fear-prejudice'], ['Appeal_to_fear-prejudice'], ['Loaded_Language'], ['Loaded_Language'], ['Exaggeration_Minimisation'], ['Exaggeration_Minimisation'], ['Repetition'], ['Loaded_Language'], ['Loaded_Language'], ['Loaded_Language'], ['Loaded_Language'], ['Repetition'], ['Repetition'], ['Name_Calling_Labeling'], ['Loaded_Language'], ['Whataboutism'], ['Loaded_Language'], ['Repetition'], ['Repetition'], ['Loaded_Language'], ['Loaded_Language'], ['Loaded_Language'], ['Name_Calling_Labeling'], ['Name_Calling_Labeling'], ['Name_Calling_Labeling'], ['Exaggeration_Minimisation'], ['Loaded_Language'], ['Name_Calling_Labeling'], ['Name_Calling_Labeling'], ['Name_Calling_Labeling'], ['Loaded_Language'], ['Loaded_Language'], ['Loaded_Language'], ['Name_Calling_Labeling'], ['Name_Calling_Labeling'], ['Loaded_Language'], ['Loaded_Language'], ['Loaded_Language'], ['Loaded_Language'], ['Loaded_Language'], ['Loaded_Language'], ['Doubt'], ['Loaded_Language'], ['Doubt'], ['Loaded_Language'], ['Thought-terminating_Cliches'], ['Red_Herring'], ['Black-and-White_Fallacy'], ['Loaded_Language'], ['Appeal_to_fear-prejudice'], ['Appeal_to_fear-prejudice'], ['Appeal_to_fear-prejudice'], ['Appeal_to_fear-prejudice'], ['Appeal_to_fear-prejudice'], ['Loaded_Language'], ['Causal_Oversimplification'], ['Repetition'], ['Loaded_Language'], ['Loaded_Language'], ['Loaded_Language'], ['Appeal_to_Authority'], ['Appeal_to_Authority'], ['Exaggeration_Minimisation'], ['Name_Calling_Labeling'], ['Loaded_Language'], ['Loaded_Language'], ['Repetition'], ['Loaded_Language'], ['Exaggeration_Minimisation'], ['Exaggeration_Minimisation'], ['Reductio_ad_hitlerum'], ['Straw_Men'], ['Exaggeration_Minimisation'], ['Exaggeration_Minimisation'], ['Exaggeration_Minimisation'], ['Black-and-White_Fallacy'], ['Loaded_Language'], ['Exaggeration_Minimisation'], ['Loaded_Language'], ['Loaded_Language'], ['Exaggeration_Minimisation'], ['Repetition'], ['Repetition'], ['Repetition'], ['Loaded_Language'], ['Loaded_Language'], ['Name_Calling_Labeling'], ['Loaded_Language'], ['Loaded_Language'], ['Name_Calling_Labeling'], ['Loaded_Language'], ['Loaded_Language'], ['Repetition'], ['Appeal_to_fear-prejudice'], ['Repetition'], ['Repetition'], ['Repetition'], ['Repetition'], ['Repetition'], ['Repetition'], ['Repetition'], ['Repetition'], ['Name_Calling_Labeling'], ['Loaded_Language'], ['Loaded_Language'], ['Name_Calling_Labeling'], ['Loaded_Language'], ['Doubt'], ['Loaded_Language'], ['Repetition'], ['Name_Calling_Labeling'], ['Doubt'], ['Repetition'], ['Name_Calling_Labeling'], ['Exaggeration_Minimisation'], ['Loaded_Language'], ['Name_Calling_Labeling'], ['Name_Calling_Labeling'], ['Loaded_Language'], ['Appeal_to_fear-prejudice'], ['Doubt'], ['Thought-terminating_Cliches'], ['Repetition'], ['Loaded_Language'], ['Causal_Oversimplification'], ['Loaded_Language'], ['Exaggeration_Minimisation'], ['Loaded_Language'], ['Appeal_to_fear-prejudice'], ['Appeal_to_fear-prejudice'], ['Appeal_to_fear-prejudice'], ['Repetition'], ['Appeal_to_fear-prejudice'], ['Slogans'], ['Flag-Waving'], ['Loaded_Language'], ['Loaded_Language'], ['Doubt'], ['Doubt'], ['Doubt'], ['Loaded_Language'], ['Name_Calling_Labeling'], ['Name_Calling_Labeling'], ['Loaded_Language'], ['Loaded_Language'], ['Loaded_Language'], ['Name_Calling_Labeling'], ['Loaded_Language'], ['Exaggeration_Minimisation'], ['Loaded_Language'], ['Exaggeration_Minimisation'], ['Loaded_Language'], ['Name_Calling_Labeling'], ['Loaded_Language'], ['Loaded_Language'], ['Exaggeration_Minimisation'], ['Doubt'], ['Doubt'], ['Name_Calling_Labeling'], ['Appeal_to_fear-prejudice'], ['Appeal_to_fear-prejudice'], ['Name_Calling_Labeling'], ['Loaded_Language'], ['Name_Calling_Labeling'], ['Causal_Oversimplification'], ['Loaded_Language'], ['Loaded_Language'], ['Loaded_Language'], ['Causal_Oversimplification'], ['Loaded_Language'], ['Loaded_Language'], ['Causal_Oversimplification'], ['Name_Calling_Labeling'], ['Name_Calling_Labeling', 'Repetition'], ['Name_Calling_Labeling'], ['Loaded_Language', 'Repetition'], ['Flag-Waving'], ['Loaded_Language'], ['Whataboutism'], ['Loaded_Language'], ['Loaded_Language'], ['Whataboutism'], ['Whataboutism'], ['Loaded_Language'], ['Loaded_Language'], ['Name_Calling_Labeling'], ['Name_Calling_Labeling'], ['Loaded_Language'], ['Loaded_Language'], ['Loaded_Language'], ['Name_Calling_Labeling'], ['Loaded_Language'], ['Loaded_Language'], ['Black-and-White_Fallacy'], ['Loaded_Language'], ['Loaded_Language'], ['Black-and-White_Fallacy'], ['Exaggeration_Minimisation'], ['Black-and-White_Fallacy'], ['Loaded_Language'], ['Loaded_Language'], ['Loaded_Language'], ['Loaded_Language'], ['Loaded_Language'], ['Appeal_to_fear-prejudice'], ['Appeal_to_fear-prejudice'], ['Repetition'], ['Loaded_Language'], ['Loaded_Language'], ['Exaggeration_Minimisation'], ['Exaggeration_Minimisation'], ['Loaded_Language'], ['Loaded_Language'], ['Loaded_Language'], ['Loaded_Language'], ['Loaded_Language'], ['Doubt'], ['Loaded_Language'], ['Loaded_Language'], ['Repetition'], ['Loaded_Language'], ['Loaded_Language'], ['Loaded_Language'], ['Loaded_Language'], ['Loaded_Language'], ['Name_Calling_Labeling'], ['Repetition'], ['Repetition'], ['Loaded_Language'], ['Repetition'], ['Repetition'], ['Repetition'], ['Repetition'], ['Loaded_Language'], ['Repetition'], ['Slogans'], ['Causal_Oversimplification'], ['Flag-Waving'], ['Loaded_Language'], ['Loaded_Language'], ['Flag-Waving', 'Slogans'], ['Exaggeration_Minimisation'], ['Black-and-White_Fallacy'], ['Name_Calling_Labeling'], ['Black-and-White_Fallacy'], ['Exaggeration_Minimisation'], ['Name_Calling_Labeling'], ['Name_Calling_Labeling'], ['Flag-Waving'], ['Causal_Oversimplification'], ['Causal_Oversimplification'], ['Exaggeration_Minimisation'], ['Black-and-White_Fallacy'], ['Loaded_Language'], ['Slogans'], ['Loaded_Language'], ['Loaded_Language'], ['Loaded_Language'], ['Loaded_Language'], ['Slogans'], ['Name_Calling_Labeling'], ['Slogans'], ['Name_Calling_Labeling'], ['Whataboutism'], ['Loaded_Language'], ['Name_Calling_Labeling'], ['Loaded_Language'], ['Exaggeration_Minimisation'], ['Causal_Oversimplification'], ['Doubt'], ['Doubt'], ['Doubt'], ['Flag-Waving'], ['Loaded_Language'], ['Flag-Waving'], ['Name_Calling_Labeling'], ['Loaded_Language'], ['Exaggeration_Minimisation'], ['Exaggeration_Minimisation'], ['Loaded_Language'], ['Black-and-White_Fallacy'], ['Black-and-White_Fallacy'], ['Exaggeration_Minimisation'], ['Flag-Waving'], ['Flag-Waving'], ['Flag-Waving'], ['Slogans'], ['Loaded_Language'], ['Loaded_Language'], ['Loaded_Language'], ['Doubt'], ['Loaded_Language'], ['Name_Calling_Labeling'], ['Doubt'], ['Thought-terminating_Cliches'], ['Loaded_Language'], ['Slogans'], ['Causal_Oversimplification'], ['Whataboutism'], ['Whataboutism'], ['Exaggeration_Minimisation'], ['Repetition'], ['Loaded_Language'], ['Whataboutism'], ['Whataboutism'], ['Causal_Oversimplification'], ['Exaggeration_Minimisation'], ['Flag-Waving'], ['Flag-Waving'], ['Name_Calling_Labeling'], ['Name_Calling_Labeling'], ['Loaded_Language'], ['Name_Calling_Labeling'], ['Flag-Waving'], ['Loaded_Language'], ['Flag-Waving'], ['Whataboutism'], ['Name_Calling_Labeling'], ['Loaded_Language'], ['Name_Calling_Labeling'], ['Causal_Oversimplification'], ['Flag-Waving', 'Loaded_Language'], ['Loaded_Language'], ['Causal_Oversimplification'], ['Loaded_Language'], ['Loaded_Language'], ['Loaded_Language'], ['Loaded_Language'], ['Loaded_Language'], ['Loaded_Language'], ['Loaded_Language'], ['Name_Calling_Labeling'], ['Thought-terminating_Cliches'], ['Loaded_Language'], ['Loaded_Language'], ['Loaded_Language'], ['Loaded_Language'], ['Loaded_Language'], ['Loaded_Language'], ['Doubt'], ['Causal_Oversimplification'], ['Black-and-White_Fallacy'], ['Black-and-White_Fallacy'], ['Name_Calling_Labeling'], ['Name_Calling_Labeling'], ['Loaded_Language'], ['Loaded_Language'], ['Name_Calling_Labeling'], ['Exaggeration_Minimisation'], ['Loaded_Language'], ['Name_Calling_Labeling'], ['Name_Calling_Labeling'], ['Loaded_Language'], ['Loaded_Language'], ['Flag-Waving'], ['Name_Calling_Labeling'], ['Loaded_Language'], ['Name_Calling_Labeling'], ['Exaggeration_Minimisation'], ['Appeal_to_fear-prejudice'], ['Appeal_to_fear-prejudice'], ['Loaded_Language'], ['Loaded_Language'], ['Flag-Waving'], ['Doubt'], ['Loaded_Language'], ['Loaded_Language'], ['Straw_Men'], ['Straw_Men'], ['Doubt'], ['Loaded_Language'], ['Doubt'], ['Exaggeration_Minimisation'], ['Exaggeration_Minimisation'], ['Loaded_Language'], ['Repetition'], ['Repetition'], ['Exaggeration_Minimisation'], ['Loaded_Language', 'Name_Calling_Labeling'], ['Loaded_Language'], ['Repetition'], ['Repetition'], ['Exaggeration_Minimisation'], ['Exaggeration_Minimisation'], ['Exaggeration_Minimisation'], ['Loaded_Language'], ['Flag-Waving'], ['Name_Calling_Labeling'], ['Name_Calling_Labeling'], ['Loaded_Language'], ['Name_Calling_Labeling'], ['Loaded_Language'], ['Loaded_Language'], ['Name_Calling_Labeling'], ['Exaggeration_Minimisation'], ['Exaggeration_Minimisation'], ['Name_Calling_Labeling'], ['Loaded_Language'], ['Loaded_Language'], ['Red_Herring'], ['Loaded_Language'], ['Loaded_Language'], ['Loaded_Language'], ['Exaggeration_Minimisation'], ['Loaded_Language'], ['Name_Calling_Labeling'], ['Doubt'], ['Loaded_Language'], ['Loaded_Language'], ['Loaded_Language'], ['Loaded_Language'], ['Exaggeration_Minimisation'], ['Exaggeration_Minimisation'], ['Name_Calling_Labeling'], ['Name_Calling_Labeling'], ['Repetition'], ['Exaggeration_Minimisation'], ['Exaggeration_Minimisation'], ['Slogans'], ['Loaded_Language'], ['Exaggeration_Minimisation'], ['Name_Calling_Labeling'], ['Loaded_Language'], ['Loaded_Language'], ['Appeal_to_fear-prejudice'], ['Flag-Waving'], ['Loaded_Language'], ['Loaded_Language'], ['Loaded_Language'], ['Loaded_Language'], ['Loaded_Language'], ['Loaded_Language'], ['Loaded_Language'], ['Loaded_Language'], ['Loaded_Language'], ['Loaded_Language'], ['Repetition'], ['Repetition'], ['Repetition'], ['Causal_Oversimplification'], ['Exaggeration_Minimisation'], ['Loaded_Language'], ['Loaded_Language'], ['Loaded_Language'], ['Flag-Waving'], ['Name_Calling_Labeling'], ['Exaggeration_Minimisation'], ['Loaded_Language'], ['Loaded_Language'], ['Name_Calling_Labeling'], ['Loaded_Language'], ['Loaded_Language'], ['Flag-Waving'], ['Name_Calling_Labeling'], ['Loaded_Language'], ['Loaded_Language'], ['Name_Calling_Labeling'], ['Loaded_Language'], ['Repetition'], ['Whataboutism'], ['Exaggeration_Minimisation'], ['Exaggeration_Minimisation'], ['Exaggeration_Minimisation'], ['Loaded_Language'], ['Exaggeration_Minimisation'], ['Name_Calling_Labeling'], ['Loaded_Language'], ['Loaded_Language'], ['Name_Calling_Labeling'], ['Name_Calling_Labeling'], ['Exaggeration_Minimisation'], ['Loaded_Language'], ['Name_Calling_Labeling'], ['Name_Calling_Labeling'], ['Loaded_Language'], ['Loaded_Language'], ['Appeal_to_fear-prejudice'], ['Loaded_Language'], ['Loaded_Language'], ['Loaded_Language'], ['Exaggeration_Minimisation'], ['Exaggeration_Minimisation'], ['Exaggeration_Minimisation'], ['Loaded_Language'], ['Name_Calling_Labeling'], ['Name_Calling_Labeling'], ['Loaded_Language'], ['Name_Calling_Labeling'], ['Exaggeration_Minimisation'], ['Loaded_Language'], ['Exaggeration_Minimisation'], ['Loaded_Language'], ['Loaded_Language'], ['Exaggeration_Minimisation'], ['Exaggeration_Minimisation'], ['Name_Calling_Labeling'], ['Loaded_Language'], ['Name_Calling_Labeling'], ['Name_Calling_Labeling'], ['Loaded_Language'], ['Loaded_Language'], ['Loaded_Language'], ['Loaded_Language'], ['Name_Calling_Labeling'], ['Loaded_Language'], ['Loaded_Language'], ['Loaded_Language'], ['Loaded_Language'], ['Loaded_Language'], ['Loaded_Language'], ['Exaggeration_Minimisation'], ['Loaded_Language'], ['Exaggeration_Minimisation'], ['Whataboutism'], ['Loaded_Language'], ['Exaggeration_Minimisation'], ['Loaded_Language'], ['Repetition'], ['Loaded_Language'], ['Whataboutism'], ['Loaded_Language'], ['Loaded_Language'], ['Loaded_Language'], ['Appeal_to_Authority'], ['Repetition'], ['Loaded_Language'], ['Loaded_Language'], ['Repetition'], ['Repetition'], ['Repetition'], ['Loaded_Language'], ['Black-and-White_Fallacy'], ['Name_Calling_Labeling'], ['Slogans'], ['Repetition'], ['Flag-Waving'], ['Slogans'], ['Repetition'], ['Repetition'], ['Flag-Waving'], ['Loaded_Language', 'Repetition'], ['Loaded_Language'], ['Repetition'], ['Loaded_Language'], ['Loaded_Language'], ['Loaded_Language'], ['Doubt'], ['Doubt'], ['Exaggeration_Minimisation'], ['Loaded_Language'], ['Loaded_Language'], ['Loaded_Language'], ['Loaded_Language'], ['Loaded_Language'], ['Doubt'], ['Loaded_Language'], ['Name_Calling_Labeling'], ['Doubt'], ['Loaded_Language'], ['Loaded_Language'], ['Loaded_Language'], ['Loaded_Language'], ['Loaded_Language'], ['Loaded_Language'], ['Loaded_Language'], ['Doubt'], ['Loaded_Language'], ['Loaded_Language'], ['Loaded_Language'], ['Loaded_Language'], ['Doubt'], ['Doubt'], ['Appeal_to_Authority'], ['Loaded_Language'], ['Name_Calling_Labeling'], ['Causal_Oversimplification'], ['Doubt'], ['Doubt'], ['Doubt'], ['Doubt'], ['Doubt'], ['Name_Calling_Labeling'], ['Loaded_Language'], ['Doubt'], ['Doubt'], ['Exaggeration_Minimisation'], ['Loaded_Language'], ['Name_Calling_Labeling'], ['Exaggeration_Minimisation'], ['Doubt'], ['Name_Calling_Labeling'], ['Whataboutism'], ['Loaded_Language'], ['Loaded_Language'], ['Exaggeration_Minimisation'], ['Loaded_Language'], ['Doubt'], ['Loaded_Language'], ['Loaded_Language'], ['Exaggeration_Minimisation'], ['Exaggeration_Minimisation'], ['Reductio_ad_hitlerum'], ['Loaded_Language'], ['Doubt'], ['Loaded_Language'], ['Causal_Oversimplification'], ['Name_Calling_Labeling'], ['Doubt'], ['Doubt'], ['Causal_Oversimplification'], ['Doubt'], ['Loaded_Language'], ['Loaded_Language'], ['Repetition'], ['Black-and-White_Fallacy'], ['Flag-Waving'], ['Black-and-White_Fallacy'], ['Doubt'], ['Black-and-White_Fallacy'], ['Repetition'], ['Black-and-White_Fallacy'], ['Loaded_Language'], ['Loaded_Language'], ['Whataboutism'], ['Causal_Oversimplification'], ['Name_Calling_Labeling'], ['Loaded_Language'], ['Repetition'], ['Doubt'], ['Doubt'], ['Exaggeration_Minimisation'], ['Doubt'], ['Thought-terminating_Cliches'], ['Loaded_Language'], ['Name_Calling_Labeling'], ['Appeal_to_fear-prejudice'], ['Repetition'], ['Exaggeration_Minimisation', 'Name_Calling_Labeling'], ['Exaggeration_Minimisation', 'Name_Calling_Labeling'], ['Doubt'], ['Exaggeration_Minimisation'], ['Name_Calling_Labeling'], ['Name_Calling_Labeling'], ['Appeal_to_fear-prejudice'], ['Doubt'], ['Loaded_Language'], ['Name_Calling_Labeling'], ['Exaggeration_Minimisation', 'Name_Calling_Labeling', 'Repetition'], ['Exaggeration_Minimisation'], ['Appeal_to_Authority'], ['Exaggeration_Minimisation'], ['Appeal_to_Authority'], ['Appeal_to_Authority'], ['Loaded_Language'], ['Name_Calling_Labeling'], ['Name_Calling_Labeling'], ['Name_Calling_Labeling'], ['Causal_Oversimplification'], ['Appeal_to_Authority'], ['Name_Calling_Labeling'], ['Loaded_Language'], ['Loaded_Language'], ['Name_Calling_Labeling'], ['Appeal_to_Authority'], ['Loaded_Language'], ['Name_Calling_Labeling'], ['Exaggeration_Minimisation'], ['Exaggeration_Minimisation'], ['Whataboutism'], ['Name_Calling_Labeling'], ['Doubt'], ['Appeal_to_fear-prejudice'], ['Flag-Waving', 'Name_Calling_Labeling'], ['Loaded_Language'], ['Loaded_Language'], ['Name_Calling_Labeling'], ['Loaded_Language'], ['Loaded_Language'], ['Loaded_Language'], ['Name_Calling_Labeling'], ['Name_Calling_Labeling'], ['Loaded_Language'], ['Name_Calling_Labeling'], ['Name_Calling_Labeling'], ['Loaded_Language'], ['Loaded_Language'], ['Name_Calling_Labeling'], ['Loaded_Language'], ['Loaded_Language'], ['Loaded_Language'], ['Loaded_Language'], ['Name_Calling_Labeling'], ['Exaggeration_Minimisation'], ['Appeal_to_fear-prejudice'], ['Exaggeration_Minimisation'], ['Name_Calling_Labeling'], ['Exaggeration_Minimisation'], ['Loaded_Language'], ['Loaded_Language'], ['Exaggeration_Minimisation'], ['Loaded_Language'], ['Name_Calling_Labeling'], ['Loaded_Language'], ['Name_Calling_Labeling'], ['Name_Calling_Labeling'], ['Doubt'], ['Loaded_Language'], ['Name_Calling_Labeling'], ['Doubt'], ['Exaggeration_Minimisation'], ['Name_Calling_Labeling'], ['Loaded_Language'], ['Flag-Waving'], ['Doubt'], ['Loaded_Language'], ['Loaded_Language'], ['Exaggeration_Minimisation'], ['Name_Calling_Labeling'], ['Red_Herring'], ['Loaded_Language'], ['Loaded_Language'], ['Whataboutism'], ['Exaggeration_Minimisation'], ['Loaded_Language'], ['Exaggeration_Minimisation'], ['Loaded_Language'], ['Loaded_Language'], ['Loaded_Language'], ['Loaded_Language'], ['Loaded_Language'], ['Causal_Oversimplification'], ['Exaggeration_Minimisation'], ['Name_Calling_Labeling'], ['Name_Calling_Labeling'], ['Exaggeration_Minimisation'], ['Loaded_Language'], ['Loaded_Language'], ['Exaggeration_Minimisation'], ['Loaded_Language'], ['Loaded_Language'], ['Whataboutism'], ['Loaded_Language'], ['Loaded_Language'], ['Name_Calling_Labeling'], ['Loaded_Language', 'Name_Calling_Labeling'], ['Doubt'], ['Appeal_to_fear-prejudice'], ['Flag-Waving'], ['Exaggeration_Minimisation'], ['Loaded_Language'], ['Reductio_ad_hitlerum'], ['Loaded_Language'], ['Loaded_Language'], ['Repetition'], ['Slogans'], ['Flag-Waving'], ['Loaded_Language'], ['Slogans'], ['Black-and-White_Fallacy'], ['Black-and-White_Fallacy'], ['Name_Calling_Labeling'], ['Black-and-White_Fallacy'], ['Repetition'], ['Repetition'], ['Exaggeration_Minimisation'], ['Black-and-White_Fallacy'], ['Repetition'], ['Doubt'], ['Loaded_Language'], ['Loaded_Language'], ['Loaded_Language'], ['Repetition'], ['Loaded_Language'], ['Loaded_Language'], ['Slogans'], ['Reductio_ad_hitlerum'], ['Doubt', 'Name_Calling_Labeling'], ['Name_Calling_Labeling'], ['Name_Calling_Labeling'], ['Loaded_Language'], ['Name_Calling_Labeling'], ['Exaggeration_Minimisation'], ['Repetition'], ['Loaded_Language'], ['Loaded_Language'], ['Exaggeration_Minimisation'], ['Causal_Oversimplification'], ['Loaded_Language'], ['Loaded_Language'], ['Name_Calling_Labeling'], ['Loaded_Language'], ['Exaggeration_Minimisation'], ['Whataboutism'], ['Name_Calling_Labeling'], ['Loaded_Language'], ['Exaggeration_Minimisation'], ['Repetition'], ['Loaded_Language'], ['Name_Calling_Labeling'], ['Name_Calling_Labeling'], ['Thought-terminating_Cliches'], ['Loaded_Language'], ['Name_Calling_Labeling'], ['Doubt'], ['Doubt'], ['Doubt'], ['Doubt'], ['Loaded_Language'], ['Loaded_Language'], ['Loaded_Language'], ['Appeal_to_Authority'], ['Loaded_Language'], ['Loaded_Language'], ['Whataboutism'], ['Loaded_Language'], ['Loaded_Language'], ['Appeal_to_Authority'], ['Loaded_Language'], ['Appeal_to_Authority'], ['Loaded_Language'], ['Loaded_Language'], ['Loaded_Language'], ['Doubt'], ['Repetition'], ['Whataboutism'], ['Loaded_Language'], ['Loaded_Language'], ['Loaded_Language', 'Repetition'], ['Loaded_Language'], ['Loaded_Language'], ['Whataboutism'], ['Whataboutism'], ['Loaded_Language'], ['Loaded_Language'], ['Exaggeration_Minimisation'], ['Loaded_Language'], ['Repetition'], ['Whataboutism'], ['Causal_Oversimplification'], ['Repetition'], ['Flag-Waving', 'Name_Calling_Labeling'], ['Exaggeration_Minimisation', 'Name_Calling_Labeling'], ['Name_Calling_Labeling'], ['Name_Calling_Labeling'], ['Name_Calling_Labeling'], ['Loaded_Language'], ['Loaded_Language'], ['Exaggeration_Minimisation'], ['Name_Calling_Labeling'], ['Name_Calling_Labeling'], ['Loaded_Language'], ['Loaded_Language'], ['Name_Calling_Labeling'], ['Exaggeration_Minimisation'], ['Loaded_Language'], ['Name_Calling_Labeling'], ['Loaded_Language'], ['Loaded_Language'], ['Loaded_Language'], ['Slogans'], ['Doubt'], ['Exaggeration_Minimisation'], ['Appeal_to_fear-prejudice'], ['Loaded_Language'], ['Exaggeration_Minimisation'], ['Loaded_Language'], ['Loaded_Language'], ['Name_Calling_Labeling'], ['Name_Calling_Labeling'], ['Loaded_Language'], ['Loaded_Language'], ['Name_Calling_Labeling'], ['Loaded_Language'], ['Name_Calling_Labeling'], ['Loaded_Language'], ['Flag-Waving'], ['Doubt'], ['Loaded_Language'], ['Doubt'], ['Loaded_Language'], ['Doubt'], ['Doubt'], ['Slogans'], ['Exaggeration_Minimisation'], ['Slogans'], ['Loaded_Language'], ['Name_Calling_Labeling'], ['Slogans'], ['Repetition', 'Slogans'], ['Loaded_Language'], ['Repetition'], ['Slogans'], ['Loaded_Language'], ['Flag-Waving'], ['Name_Calling_Labeling'], ['Loaded_Language'], ['Name_Calling_Labeling'], ['Exaggeration_Minimisation'], ['Repetition'], ['Slogans'], ['Name_Calling_Labeling'], ['Name_Calling_Labeling'], ['Flag-Waving'], ['Loaded_Language'], ['Loaded_Language'], ['Loaded_Language'], ['Slogans'], ['Name_Calling_Labeling'], ['Loaded_Language'], ['Exaggeration_Minimisation'], ['Name_Calling_Labeling'], ['Exaggeration_Minimisation'], ['Flag-Waving'], ['Loaded_Language'], ['Loaded_Language'], ['Loaded_Language'], ['Name_Calling_Labeling'], ['Slogans'], ['Slogans'], ['Flag-Waving'], ['Name_Calling_Labeling'], ['Doubt', 'Flag-Waving'], ['Name_Calling_Labeling'], ['Doubt'], ['Name_Calling_Labeling'], ['Loaded_Language'], ['Black-and-White_Fallacy'], ['Name_Calling_Labeling'], ['Name_Calling_Labeling'], ['Appeal_to_fear-prejudice'], ['Slogans'], ['Slogans'], ['Name_Calling_Labeling'], ['Causal_Oversimplification'], ['Loaded_Language'], ['Name_Calling_Labeling'], ['Causal_Oversimplification'], ['Loaded_Language'], ['Causal_Oversimplification'], ['Doubt'], ['Name_Calling_Labeling'], ['Flag-Waving'], ['Loaded_Language'], ['Doubt'], ['Name_Calling_Labeling', 'Repetition'], ['Doubt'], ['Loaded_Language'], ['Causal_Oversimplification'], ['Name_Calling_Labeling'], ['Name_Calling_Labeling'], ['Loaded_Language'], ['Loaded_Language'], ['Loaded_Language'], ['Loaded_Language'], ['Exaggeration_Minimisation'], ['Name_Calling_Labeling'], ['Doubt'], ['Causal_Oversimplification'], ['Loaded_Language'], ['Name_Calling_Labeling'], ['Name_Calling_Labeling'], ['Name_Calling_Labeling'], ['Name_Calling_Labeling'], ['Loaded_Language'], ['Loaded_Language'], ['Repetition'], ['Repetition'], ['Repetition'], ['Loaded_Language'], ['Loaded_Language'], ['Loaded_Language'], ['Exaggeration_Minimisation'], ['Loaded_Language'], ['Flag-Waving'], ['Repetition'], ['Loaded_Language'], ['Whataboutism'], ['Exaggeration_Minimisation'], ['Exaggeration_Minimisation'], ['Loaded_Language'], ['Slogans'], ['Appeal_to_fear-prejudice'], ['Appeal_to_fear-prejudice'], ['Appeal_to_fear-prejudice'], ['Loaded_Language'], ['Appeal_to_fear-prejudice'], ['Loaded_Language'], ['Name_Calling_Labeling'], ['Loaded_Language'], ['Name_Calling_Labeling'], ['Name_Calling_Labeling'], ['Loaded_Language'], ['Loaded_Language'], ['Loaded_Language'], ['Black-and-White_Fallacy'], ['Black-and-White_Fallacy'], ['Loaded_Language'], ['Black-and-White_Fallacy', 'Thought-terminating_Cliches'], ['Loaded_Language'], ['Loaded_Language'], ['Flag-Waving'], ['Loaded_Language'], ['Loaded_Language'], ['Doubt'], ['Loaded_Language'], ['Loaded_Language'], ['Thought-terminating_Cliches'], ['Loaded_Language'], ['Loaded_Language'], ['Name_Calling_Labeling'], ['Loaded_Language'], ['Appeal_to_fear-prejudice'], ['Loaded_Language'], ['Name_Calling_Labeling'], ['Name_Calling_Labeling'], ['Loaded_Language'], ['Repetition'], ['Loaded_Language'], ['Loaded_Language'], ['Loaded_Language'], ['Loaded_Language'], ['Loaded_Language'], ['Loaded_Language'], ['Doubt'], ['Loaded_Language'], ['Doubt'], ['Loaded_Language'], ['Exaggeration_Minimisation'], ['Loaded_Language'], ['Causal_Oversimplification'], ['Name_Calling_Labeling'], ['Name_Calling_Labeling'], ['Appeal_to_fear-prejudice'], ['Name_Calling_Labeling'], ['Doubt'], ['Repetition'], ['Doubt'], ['Repetition'], ['Loaded_Language'], ['Name_Calling_Labeling'], ['Name_Calling_Labeling'], ['Slogans'], ['Black-and-White_Fallacy'], ['Flag-Waving'], ['Loaded_Language'], ['Loaded_Language'], ['Loaded_Language'], ['Flag-Waving'], ['Loaded_Language'], ['Name_Calling_Labeling'], ['Loaded_Language'], ['Loaded_Language'], ['Loaded_Language'], ['Exaggeration_Minimisation'], ['Name_Calling_Labeling'], ['Loaded_Language'], ['Name_Calling_Labeling'], ['Name_Calling_Labeling'], ['Loaded_Language'], ['Loaded_Language'], ['Exaggeration_Minimisation'], ['Causal_Oversimplification'], ['Black-and-White_Fallacy'], ['Loaded_Language'], ['Loaded_Language'], ['Name_Calling_Labeling'], ['Name_Calling_Labeling'], ['Loaded_Language'], ['Name_Calling_Labeling'], ['Name_Calling_Labeling'], ['Loaded_Language'], ['Loaded_Language'], ['Loaded_Language'], ['Name_Calling_Labeling'], ['Loaded_Language'], ['Loaded_Language'], ['Loaded_Language'], ['Loaded_Language'], ['Name_Calling_Labeling'], ['Name_Calling_Labeling'], ['Repetition'], ['Loaded_Language'], ['Repetition'], ['Loaded_Language'], ['Name_Calling_Labeling'], ['Exaggeration_Minimisation'], ['Repetition'], ['Loaded_Language'], ['Exaggeration_Minimisation'], ['Repetition'], ['Loaded_Language'], ['Loaded_Language'], ['Straw_Men'], ['Obfuscation_Intentional_Vagueness_Confusion'], ['Loaded_Language'], ['Loaded_Language'], ['Loaded_Language'], ['Name_Calling_Labeling'], ['Slogans'], ['Repetition'], ['Loaded_Language'], ['Repetition'], ['Repetition'], ['Repetition'], ['Exaggeration_Minimisation'], ['Name_Calling_Labeling'], ['Causal_Oversimplification'], ['Causal_Oversimplification'], ['Exaggeration_Minimisation'], ['Name_Calling_Labeling'], ['Appeal_to_fear-prejudice'], ['Appeal_to_fear-prejudice'], ['Exaggeration_Minimisation'], ['Straw_Men'], ['Thought-terminating_Cliches'], ['Exaggeration_Minimisation'], ['Loaded_Language'], ['Name_Calling_Labeling'], ['Loaded_Language'], ['Name_Calling_Labeling'], ['Doubt'], ['Loaded_Language'], ['Loaded_Language'], ['Causal_Oversimplification'], ['Name_Calling_Labeling'], ['Exaggeration_Minimisation'], ['Appeal_to_Authority'], ['Loaded_Language'], ['Loaded_Language'], ['Exaggeration_Minimisation'], ['Exaggeration_Minimisation'], ['Flag-Waving'], ['Exaggeration_Minimisation'], ['Name_Calling_Labeling'], ['Name_Calling_Labeling'], ['Flag-Waving'], ['Name_Calling_Labeling'], ['Flag-Waving'], ['Exaggeration_Minimisation'], ['Obfuscation_Intentional_Vagueness_Confusion'], ['Whataboutism'], ['Causal_Oversimplification'], ['Causal_Oversimplification'], ['Repetition'], ['Repetition'], ['Exaggeration_Minimisation'], ['Repetition'], ['Slogans'], ['Exaggeration_Minimisation'], ['Causal_Oversimplification'], ['Exaggeration_Minimisation'], ['Exaggeration_Minimisation'], ['Exaggeration_Minimisation'], ['Loaded_Language'], ['Flag-Waving'], ['Loaded_Language'], ['Repetition'], ['Repetition'], ['Black-and-White_Fallacy'], ['Loaded_Language'], ['Loaded_Language'], ['Slogans'], ['Slogans'], ['Appeal_to_fear-prejudice'], ['Doubt', 'Flag-Waving'], ['Doubt'], ['Doubt'], ['Loaded_Language'], ['Name_Calling_Labeling'], ['Loaded_Language'], ['Doubt'], ['Doubt'], ['Name_Calling_Labeling'], ['Repetition'], ['Slogans'], ['Appeal_to_Authority'], ['Name_Calling_Labeling'], ['Name_Calling_Labeling'], ['Doubt'], ['Slogans'], ['Name_Calling_Labeling'], ['Loaded_Language'], ['Loaded_Language'], ['Loaded_Language'], ['Repetition'], ['Black-and-White_Fallacy'], ['Name_Calling_Labeling'], ['Name_Calling_Labeling'], ['Name_Calling_Labeling'], ['Name_Calling_Labeling'], ['Name_Calling_Labeling'], ['Repetition'], ['Name_Calling_Labeling'], ['Name_Calling_Labeling'], ['Name_Calling_Labeling'], ['Loaded_Language'], ['Loaded_Language'], ['Name_Calling_Labeling'], ['Name_Calling_Labeling'], ['Loaded_Language'], ['Name_Calling_Labeling'], ['Name_Calling_Labeling'], ['Loaded_Language'], ['Loaded_Language'], ['Doubt'], ['Name_Calling_Labeling'], ['Name_Calling_Labeling'], ['Appeal_to_fear-prejudice'], ['Name_Calling_Labeling'], ['Name_Calling_Labeling'], ['Name_Calling_Labeling'], ['Name_Calling_Labeling'], ['Repetition'], ['Loaded_Language'], ['Name_Calling_Labeling', 'Repetition'], ['Name_Calling_Labeling'], ['Appeal_to_fear-prejudice'], ['Name_Calling_Labeling'], ['Repetition'], ['Loaded_Language'], ['Name_Calling_Labeling'], ['Name_Calling_Labeling'], ['Name_Calling_Labeling'], ['Name_Calling_Labeling'], ['Name_Calling_Labeling'], ['Name_Calling_Labeling'], ['Name_Calling_Labeling'], ['Repetition'], ['Loaded_Language', 'Repetition'], ['Doubt'], ['Doubt'], ['Loaded_Language'], ['Loaded_Language'], ['Doubt'], ['Loaded_Language'], ['Exaggeration_Minimisation'], ['Exaggeration_Minimisation'], ['Exaggeration_Minimisation'], ['Loaded_Language'], ['Doubt'], ['Doubt'], ['Loaded_Language'], ['Loaded_Language'], ['Loaded_Language'], ['Name_Calling_Labeling'], ['Loaded_Language'], ['Loaded_Language'], ['Appeal_to_fear-prejudice'], ['Name_Calling_Labeling'], ['Flag-Waving'], ['Name_Calling_Labeling'], ['Name_Calling_Labeling'], ['Loaded_Language'], ['Loaded_Language'], ['Name_Calling_Labeling'], ['Loaded_Language'], ['Loaded_Language'], ['Name_Calling_Labeling'], ['Name_Calling_Labeling'], ['Loaded_Language'], ['Loaded_Language'], ['Loaded_Language'], ['Slogans'], ['Name_Calling_Labeling'], ['Thought-terminating_Cliches'], ['Slogans'], ['Repetition'], ['Repetition'], ['Repetition'], ['Loaded_Language'], ['Name_Calling_Labeling'], ['Loaded_Language'], ['Loaded_Language'], ['Obfuscation_Intentional_Vagueness_Confusion'], ['Loaded_Language'], ['Thought-terminating_Cliches'], ['Loaded_Language'], ['Loaded_Language'], ['Doubt'], ['Repetition'], ['Repetition'], ['Repetition'], ['Loaded_Language'], ['Loaded_Language'], ['Loaded_Language'], ['Flag-Waving'], ['Repetition'], ['Repetition'], ['Doubt'], ['Doubt'], ['Doubt'], ['Doubt'], ['Repetition'], ['Repetition'], ['Loaded_Language'], ['Loaded_Language'], ['Name_Calling_Labeling'], ['Repetition'], ['Name_Calling_Labeling'], ['Repetition'], ['Name_Calling_Labeling'], ['Exaggeration_Minimisation'], ['Exaggeration_Minimisation'], ['Flag-Waving'], ['Loaded_Language'], ['Loaded_Language'], ['Exaggeration_Minimisation'], ['Name_Calling_Labeling'], ['Loaded_Language'], ['Doubt'], ['Name_Calling_Labeling'], ['Loaded_Language'], ['Doubt'], ['Name_Calling_Labeling'], ['Appeal_to_fear-prejudice'], ['Loaded_Language'], ['Loaded_Language'], ['Name_Calling_Labeling'], ['Name_Calling_Labeling'], ['Doubt'], ['Loaded_Language'], ['Loaded_Language'], ['Loaded_Language'], ['Loaded_Language'], ['Reductio_ad_hitlerum'], ['Name_Calling_Labeling'], ['Exaggeration_Minimisation'], ['Slogans'], ['Loaded_Language'], ['Loaded_Language'], ['Repetition'], ['Repetition'], ['Name_Calling_Labeling'], ['Loaded_Language'], ['Loaded_Language'], ['Loaded_Language'], ['Loaded_Language'], ['Loaded_Language'], ['Loaded_Language'], ['Loaded_Language'], ['Slogans'], ['Slogans'], ['Loaded_Language'], ['Name_Calling_Labeling'], ['Slogans'], ['Loaded_Language'], ['Name_Calling_Labeling'], ['Name_Calling_Labeling'], ['Loaded_Language'], ['Loaded_Language'], ['Slogans'], ['Loaded_Language'], ['Appeal_to_fear-prejudice'], ['Name_Calling_Labeling'], ['Loaded_Language'], ['Loaded_Language'], ['Exaggeration_Minimisation'], ['Loaded_Language'], ['Loaded_Language'], ['Flag-Waving'], ['Flag-Waving'], ['Flag-Waving'], ['Loaded_Language'], ['Name_Calling_Labeling'], ['Loaded_Language'], ['Name_Calling_Labeling'], ['Name_Calling_Labeling'], ['Causal_Oversimplification'], ['Loaded_Language'], ['Name_Calling_Labeling'], ['Name_Calling_Labeling'], ['Name_Calling_Labeling'], ['Loaded_Language'], ['Name_Calling_Labeling'], ['Name_Calling_Labeling'], ['Loaded_Language'], ['Exaggeration_Minimisation'], ['Name_Calling_Labeling'], ['Name_Calling_Labeling'], ['Name_Calling_Labeling', 'Repetition'], ['Appeal_to_Authority'], ['Appeal_to_Authority'], ['Loaded_Language'], ['Doubt'], ['Flag-Waving'], ['Loaded_Language'], ['Loaded_Language'], ['Name_Calling_Labeling'], ['Flag-Waving'], ['Flag-Waving'], ['Flag-Waving'], ['Loaded_Language'], ['Name_Calling_Labeling'], ['Name_Calling_Labeling'], ['Name_Calling_Labeling'], ['Loaded_Language'], ['Name_Calling_Labeling'], ['Name_Calling_Labeling', 'Repetition'], ['Name_Calling_Labeling'], ['Loaded_Language'], ['Exaggeration_Minimisation'], ['Slogans'], ['Name_Calling_Labeling'], ['Flag-Waving'], ['Loaded_Language'], ['Name_Calling_Labeling'], ['Loaded_Language'], ['Loaded_Language'], ['Appeal_to_fear-prejudice', 'Flag-Waving'], ['Exaggeration_Minimisation'], ['Flag-Waving'], ['Flag-Waving'], ['Appeal_to_Authority'], ['Loaded_Language'], ['Doubt'], ['Exaggeration_Minimisation'], ['Loaded_Language'], ['Loaded_Language'], ['Doubt'], ['Loaded_Language'], ['Appeal_to_Authority'], ['Name_Calling_Labeling'], ['Exaggeration_Minimisation'], ['Exaggeration_Minimisation'], ['Name_Calling_Labeling'], ['Loaded_Language'], ['Loaded_Language'], ['Doubt'], ['Exaggeration_Minimisation'], ['Causal_Oversimplification'], ['Exaggeration_Minimisation'], ['Slogans'], ['Loaded_Language'], ['Exaggeration_Minimisation'], ['Exaggeration_Minimisation'], ['Exaggeration_Minimisation'], ['Loaded_Language', 'Repetition'], ['Loaded_Language'], ['Exaggeration_Minimisation', 'Loaded_Language'], ['Loaded_Language'], ['Causal_Oversimplification'], ['Loaded_Language'], ['Loaded_Language'], ['Name_Calling_Labeling'], ['Loaded_Language'], ['Causal_Oversimplification'], ['Loaded_Language'], ['Causal_Oversimplification'], ['Causal_Oversimplification'], ['Name_Calling_Labeling'], ['Name_Calling_Labeling'], ['Name_Calling_Labeling'], ['Appeal_to_fear-prejudice'], ['Name_Calling_Labeling'], ['Loaded_Language'], ['Name_Calling_Labeling'], ['Loaded_Language'], ['Loaded_Language'], ['Thought-terminating_Cliches'], ['Doubt'], ['Loaded_Language'], ['Loaded_Language'], ['Loaded_Language'], ['Loaded_Language'], ['Loaded_Language'], ['Loaded_Language'], ['Loaded_Language'], ['Exaggeration_Minimisation'], ['Black-and-White_Fallacy'], ['Loaded_Language'], ['Causal_Oversimplification'], ['Causal_Oversimplification'], ['Name_Calling_Labeling'], ['Loaded_Language'], ['Exaggeration_Minimisation'], ['Exaggeration_Minimisation'], ['Loaded_Language'], ['Name_Calling_Labeling'], ['Loaded_Language'], ['Causal_Oversimplification'], ['Loaded_Language'], ['Exaggeration_Minimisation'], ['Name_Calling_Labeling'], ['Causal_Oversimplification'], ['Name_Calling_Labeling'], ['Loaded_Language'], ['Loaded_Language'], ['Exaggeration_Minimisation'], ['Loaded_Language'], ['Loaded_Language'], ['Causal_Oversimplification'], ['Loaded_Language'], ['Causal_Oversimplification'], ['Loaded_Language'], ['Doubt'], ['Appeal_to_fear-prejudice'], ['Loaded_Language'], ['Loaded_Language'], ['Exaggeration_Minimisation'], ['Appeal_to_fear-prejudice'], ['Loaded_Language'], ['Loaded_Language'], ['Loaded_Language'], ['Loaded_Language'], ['Exaggeration_Minimisation', 'Loaded_Language'], ['Flag-Waving'], ['Loaded_Language'], ['Loaded_Language'], ['Reductio_ad_hitlerum'], ['Appeal_to_fear-prejudice'], ['Doubt'], ['Exaggeration_Minimisation'], ['Name_Calling_Labeling'], ['Loaded_Language'], ['Loaded_Language'], ['Name_Calling_Labeling'], ['Name_Calling_Labeling'], ['Exaggeration_Minimisation'], ['Exaggeration_Minimisation'], ['Loaded_Language'], ['Name_Calling_Labeling'], ['Name_Calling_Labeling'], ['Appeal_to_fear-prejudice'], ['Name_Calling_Labeling'], ['Name_Calling_Labeling'], ['Loaded_Language'], ['Name_Calling_Labeling'], ['Exaggeration_Minimisation'], ['Exaggeration_Minimisation'], ['Red_Herring'], ['Exaggeration_Minimisation'], ['Name_Calling_Labeling'], ['Loaded_Language'], ['Causal_Oversimplification'], ['Slogans'], ['Appeal_to_fear-prejudice'], ['Loaded_Language'], ['Appeal_to_fear-prejudice'], ['Slogans'], ['Loaded_Language'], ['Whataboutism'], ['Doubt'], ['Loaded_Language'], ['Appeal_to_fear-prejudice'], ['Loaded_Language'], ['Loaded_Language'], ['Loaded_Language'], ['Loaded_Language'], ['Loaded_Language'], ['Loaded_Language'], ['Loaded_Language'], ['Loaded_Language'], ['Loaded_Language'], ['Flag-Waving'], ['Loaded_Language'], ['Loaded_Language'], ['Loaded_Language'], ['Repetition'], ['Loaded_Language'], ['Loaded_Language'], ['Name_Calling_Labeling'], ['Slogans'], ['Name_Calling_Labeling'], ['Loaded_Language'], ['Slogans'], ['Loaded_Language'], ['Loaded_Language'], ['Loaded_Language'], ['Loaded_Language'], ['Loaded_Language'], ['Loaded_Language'], ['Loaded_Language'], ['Loaded_Language'], ['Loaded_Language'], ['Loaded_Language'], ['Loaded_Language'], ['Repetition'], ['Loaded_Language'], ['Loaded_Language'], ['Loaded_Language'], ['Name_Calling_Labeling'], ['Repetition'], ['Repetition'], ['Repetition'], ['Slogans'], ['Loaded_Language'], ['Loaded_Language'], ['Exaggeration_Minimisation'], ['Loaded_Language'], ['Loaded_Language'], ['Loaded_Language'], ['Name_Calling_Labeling'], ['Name_Calling_Labeling'], ['Loaded_Language'], ['Loaded_Language'], ['Loaded_Language'], ['Loaded_Language'], ['Repetition'], ['Loaded_Language'], ['Repetition'], ['Loaded_Language'], ['Appeal_to_fear-prejudice'], ['Repetition'], ['Loaded_Language'], ['Loaded_Language'], ['Slogans'], ['Repetition'], ['Loaded_Language'], ['Loaded_Language'], ['Name_Calling_Labeling'], ['Name_Calling_Labeling'], ['Name_Calling_Labeling'], ['Doubt'], ['Loaded_Language'], ['Loaded_Language'], ['Exaggeration_Minimisation'], ['Red_Herring'], ['Causal_Oversimplification'], ['Loaded_Language'], ['Loaded_Language'], ['Name_Calling_Labeling'], ['Loaded_Language'], ['Doubt'], ['Loaded_Language'], ['Name_Calling_Labeling'], ['Doubt'], ['Loaded_Language'], ['Loaded_Language'], ['Doubt'], ['Loaded_Language'], ['Loaded_Language'], ['Exaggeration_Minimisation'], ['Doubt'], ['Name_Calling_Labeling'], ['Loaded_Language'], ['Doubt'], ['Exaggeration_Minimisation'], ['Exaggeration_Minimisation'], ['Flag-Waving'], ['Flag-Waving'], ['Loaded_Language'], ['Loaded_Language'], ['Loaded_Language'], ['Name_Calling_Labeling'], ['Name_Calling_Labeling'], ['Name_Calling_Labeling'], ['Name_Calling_Labeling'], ['Doubt', 'Flag-Waving'], ['Causal_Oversimplification'], ['Name_Calling_Labeling'], ['Loaded_Language'], ['Loaded_Language'], ['Doubt'], ['Appeal_to_fear-prejudice'], ['Doubt'], ['Name_Calling_Labeling'], ['Name_Calling_Labeling'], ['Name_Calling_Labeling'], ['Name_Calling_Labeling'], ['Loaded_Language'], ['Loaded_Language'], ['Loaded_Language'], ['Loaded_Language'], ['Loaded_Language'], ['Loaded_Language'], ['Causal_Oversimplification'], ['Causal_Oversimplification'], ['Repetition'], ['Name_Calling_Labeling'], ['Loaded_Language'], ['Name_Calling_Labeling'], ['Loaded_Language'], ['Loaded_Language'], ['Doubt'], ['Doubt'], ['Doubt', 'Flag-Waving'], ['Doubt'], ['Doubt'], ['Doubt'], ['Causal_Oversimplification'], ['Doubt'], ['Loaded_Language'], ['Causal_Oversimplification'], ['Doubt'], ['Flag-Waving'], ['Flag-Waving'], ['Whataboutism'], ['Loaded_Language'], ['Loaded_Language'], ['Name_Calling_Labeling'], ['Exaggeration_Minimisation'], ['Name_Calling_Labeling'], ['Exaggeration_Minimisation'], ['Doubt'], ['Doubt'], ['Loaded_Language'], ['Name_Calling_Labeling'], ['Loaded_Language'], ['Loaded_Language'], ['Loaded_Language'], ['Loaded_Language'], ['Loaded_Language'], ['Name_Calling_Labeling'], ['Loaded_Language'], ['Loaded_Language'], ['Loaded_Language'], ['Causal_Oversimplification'], ['Loaded_Language'], ['Loaded_Language'], ['Black-and-White_Fallacy'], ['Name_Calling_Labeling'], ['Loaded_Language'], ['Name_Calling_Labeling'], ['Repetition'], ['Slogans'], ['Loaded_Language'], ['Loaded_Language'], ['Loaded_Language'], ['Loaded_Language'], ['Loaded_Language'], ['Loaded_Language'], ['Repetition'], ['Loaded_Language'], ['Loaded_Language'], ['Loaded_Language'], ['Loaded_Language'], ['Loaded_Language'], ['Loaded_Language'], ['Loaded_Language'], ['Name_Calling_Labeling'], ['Appeal_to_fear-prejudice'], ['Loaded_Language'], ['Loaded_Language'], ['Repetition'], ['Loaded_Language'], ['Loaded_Language'], ['Loaded_Language'], ['Loaded_Language'], ['Loaded_Language'], ['Exaggeration_Minimisation'], ['Loaded_Language'], ['Loaded_Language'], ['Loaded_Language'], ['Repetition'], ['Loaded_Language'], ['Exaggeration_Minimisation', 'Flag-Waving'], ['Loaded_Language'], ['Flag-Waving'], ['Loaded_Language'], ['Loaded_Language'], ['Name_Calling_Labeling'], ['Reductio_ad_hitlerum'], ['Name_Calling_Labeling'], ['Appeal_to_fear-prejudice'], ['Name_Calling_Labeling'], ['Loaded_Language'], ['Loaded_Language'], ['Loaded_Language'], ['Name_Calling_Labeling'], ['Loaded_Language'], ['Black-and-White_Fallacy'], ['Loaded_Language'], ['Name_Calling_Labeling'], ['Doubt', 'Name_Calling_Labeling'], ['Name_Calling_Labeling'], ['Appeal_to_fear-prejudice'], ['Loaded_Language'], ['Exaggeration_Minimisation', 'Name_Calling_Labeling'], ['Loaded_Language'], ['Loaded_Language'], ['Appeal_to_Authority'], ['Appeal_to_Authority'], ['Appeal_to_Authority'], ['Doubt'], ['Name_Calling_Labeling'], ['Name_Calling_Labeling'], ['Loaded_Language'], ['Name_Calling_Labeling'], ['Name_Calling_Labeling'], ['Name_Calling_Labeling'], ['Loaded_Language'], ['Name_Calling_Labeling'], ['Loaded_Language'], ['Slogans'], ['Loaded_Language'], ['Loaded_Language'], ['Loaded_Language'], ['Doubt'], ['Loaded_Language'], ['Exaggeration_Minimisation', 'Name_Calling_Labeling'], ['Doubt'], ['Loaded_Language'], ['Loaded_Language'], ['Causal_Oversimplification', 'Straw_Men'], ['Doubt'], ['Name_Calling_Labeling'], ['Appeal_to_fear-prejudice'], ['Loaded_Language'], ['Causal_Oversimplification'], ['Name_Calling_Labeling', 'Repetition'], ['Loaded_Language'], ['Appeal_to_Authority'], ['Name_Calling_Labeling'], ['Doubt'], ['Exaggeration_Minimisation'], ['Loaded_Language'], ['Loaded_Language'], ['Name_Calling_Labeling'], ['Name_Calling_Labeling'], ['Name_Calling_Labeling'], ['Loaded_Language'], ['Loaded_Language'], ['Exaggeration_Minimisation'], ['Name_Calling_Labeling'], ['Exaggeration_Minimisation'], ['Doubt'], ['Appeal_to_fear-prejudice'], ['Loaded_Language'], ['Slogans'], ['Repetition'], ['Loaded_Language'], ['Loaded_Language'], ['Loaded_Language'], ['Exaggeration_Minimisation'], ['Causal_Oversimplification'], ['Loaded_Language'], ['Doubt'], ['Loaded_Language'], ['Exaggeration_Minimisation', 'Name_Calling_Labeling'], ['Exaggeration_Minimisation'], ['Doubt'], ['Name_Calling_Labeling'], ['Loaded_Language'], ['Appeal_to_Authority'], ['Thought-terminating_Cliches'], ['Exaggeration_Minimisation', 'Loaded_Language'], ['Appeal_to_Authority'], ['Loaded_Language'], ['Exaggeration_Minimisation'], ['Appeal_to_Authority'], ['Name_Calling_Labeling'], ['Name_Calling_Labeling'], ['Loaded_Language'], ['Causal_Oversimplification'], ['Name_Calling_Labeling'], ['Loaded_Language'], ['Loaded_Language'], ['Loaded_Language'], ['Loaded_Language'], ['Doubt'], ['Loaded_Language'], ['Doubt'], ['Exaggeration_Minimisation', 'Loaded_Language'], ['Loaded_Language'], ['Exaggeration_Minimisation'], ['Loaded_Language'], ['Name_Calling_Labeling'], ['Loaded_Language'], ['Causal_Oversimplification'], ['Name_Calling_Labeling'], ['Loaded_Language'], ['Name_Calling_Labeling'], ['Loaded_Language'], ['Doubt'], ['Name_Calling_Labeling'], ['Loaded_Language'], ['Name_Calling_Labeling'], ['Doubt'], ['Loaded_Language'], ['Loaded_Language'], ['Name_Calling_Labeling'], ['Loaded_Language'], ['Name_Calling_Labeling'], ['Appeal_to_fear-prejudice'], ['Name_Calling_Labeling'], ['Loaded_Language'], ['Name_Calling_Labeling'], ['Loaded_Language'], ['Name_Calling_Labeling'], ['Name_Calling_Labeling'], ['Name_Calling_Labeling'], ['Name_Calling_Labeling'], ['Loaded_Language'], ['Name_Calling_Labeling', 'Repetition'], ['Loaded_Language'], ['Name_Calling_Labeling'], ['Exaggeration_Minimisation'], ['Loaded_Language'], ['Name_Calling_Labeling'], ['Exaggeration_Minimisation'], ['Name_Calling_Labeling'], ['Name_Calling_Labeling'], ['Loaded_Language'], ['Loaded_Language'], ['Loaded_Language'], ['Name_Calling_Labeling'], ['Exaggeration_Minimisation'], ['Loaded_Language'], ['Exaggeration_Minimisation'], ['Loaded_Language'], ['Repetition'], ['Appeal_to_Authority'], ['Loaded_Language'], ['Loaded_Language'], ['Loaded_Language'], ['Loaded_Language'], ['Name_Calling_Labeling'], ['Obfuscation_Intentional_Vagueness_Confusion'], ['Name_Calling_Labeling'], ['Name_Calling_Labeling'], ['Causal_Oversimplification'], ['Loaded_Language'], ['Name_Calling_Labeling'], ['Causal_Oversimplification'], ['Causal_Oversimplification'], ['Loaded_Language'], ['Loaded_Language'], ['Name_Calling_Labeling'], ['Loaded_Language'], ['Loaded_Language'], ['Loaded_Language'], ['Doubt'], ['Doubt'], ['Exaggeration_Minimisation'], ['Name_Calling_Labeling'], ['Name_Calling_Labeling'], ['Name_Calling_Labeling'], ['Appeal_to_Authority'], ['Loaded_Language'], ['Loaded_Language'], ['Loaded_Language'], ['Loaded_Language'], ['Loaded_Language'], ['Causal_Oversimplification'], ['Name_Calling_Labeling'], ['Name_Calling_Labeling'], ['Black-and-White_Fallacy'], ['Exaggeration_Minimisation'], ['Loaded_Language'], ['Causal_Oversimplification'], ['Exaggeration_Minimisation'], ['Name_Calling_Labeling'], ['Bandwagon'], ['Loaded_Language'], ['Loaded_Language'], ['Name_Calling_Labeling'], ['Exaggeration_Minimisation'], ['Name_Calling_Labeling'], ['Loaded_Language'], ['Name_Calling_Labeling'], ['Loaded_Language'], ['Loaded_Language'], ['Loaded_Language'], ['Loaded_Language'], ['Loaded_Language'], ['Loaded_Language'], ['Causal_Oversimplification'], ['Loaded_Language'], ['Loaded_Language'], ['Loaded_Language'], ['Name_Calling_Labeling'], ['Causal_Oversimplification'], ['Name_Calling_Labeling'], ['Appeal_to_Authority'], ['Loaded_Language'], ['Loaded_Language'], ['Loaded_Language'], ['Doubt'], ['Doubt'], ['Doubt'], ['Appeal_to_Authority'], ['Doubt'], ['Loaded_Language'], ['Doubt'], ['Exaggeration_Minimisation'], ['Name_Calling_Labeling'], ['Name_Calling_Labeling'], ['Name_Calling_Labeling'], ['Loaded_Language'], ['Exaggeration_Minimisation'], ['Loaded_Language'], ['Loaded_Language'], ['Repetition'], ['Repetition'], ['Name_Calling_Labeling'], ['Exaggeration_Minimisation'], ['Exaggeration_Minimisation'], ['Causal_Oversimplification'], ['Loaded_Language'], ['Name_Calling_Labeling'], ['Doubt'], ['Loaded_Language'], ['Loaded_Language'], ['Exaggeration_Minimisation'], ['Loaded_Language'], ['Name_Calling_Labeling'], ['Exaggeration_Minimisation'], ['Loaded_Language'], ['Loaded_Language'], ['Appeal_to_Authority'], ['Loaded_Language'], ['Doubt'], ['Doubt'], ['Loaded_Language'], ['Loaded_Language'], ['Loaded_Language'], ['Name_Calling_Labeling'], ['Slogans'], ['Slogans'], ['Doubt'], ['Loaded_Language'], ['Name_Calling_Labeling'], ['Name_Calling_Labeling'], ['Exaggeration_Minimisation'], ['Name_Calling_Labeling'], ['Name_Calling_Labeling'], ['Name_Calling_Labeling'], ['Loaded_Language'], ['Repetition'], ['Name_Calling_Labeling'], ['Name_Calling_Labeling'], ['Name_Calling_Labeling'], ['Doubt'], ['Name_Calling_Labeling'], ['Exaggeration_Minimisation'], ['Appeal_to_Authority'], ['Exaggeration_Minimisation'], ['Name_Calling_Labeling'], ['Loaded_Language'], ['Causal_Oversimplification'], ['Loaded_Language'], ['Name_Calling_Labeling'], ['Name_Calling_Labeling'], ['Loaded_Language'], ['Repetition'], ['Name_Calling_Labeling'], ['Loaded_Language'], ['Slogans'], ['Flag-Waving'], ['Name_Calling_Labeling'], ['Name_Calling_Labeling'], ['Loaded_Language'], ['Loaded_Language'], ['Loaded_Language'], ['Loaded_Language'], ['Loaded_Language'], ['Loaded_Language'], ['Loaded_Language'], ['Exaggeration_Minimisation'], ['Name_Calling_Labeling'], ['Loaded_Language'], ['Loaded_Language'], ['Name_Calling_Labeling'], ['Name_Calling_Labeling'], ['Exaggeration_Minimisation'], ['Slogans'], ['Loaded_Language'], ['Loaded_Language'], ['Name_Calling_Labeling'], ['Exaggeration_Minimisation'], ['Doubt'], ['Loaded_Language'], ['Loaded_Language'], ['Name_Calling_Labeling'], ['Flag-Waving'], ['Whataboutism'], ['Red_Herring'], ['Loaded_Language'], ['Name_Calling_Labeling'], ['Appeal_to_fear-prejudice'], ['Doubt'], ['Loaded_Language'], ['Slogans'], ['Loaded_Language'], ['Appeal_to_Authority'], ['Loaded_Language'], ['Loaded_Language'], ['Loaded_Language'], ['Loaded_Language'], ['Loaded_Language'], ['Loaded_Language'], ['Name_Calling_Labeling'], ['Name_Calling_Labeling'], ['Loaded_Language'], ['Loaded_Language'], ['Causal_Oversimplification'], ['Loaded_Language'], ['Slogans'], ['Loaded_Language'], ['Slogans'], ['Name_Calling_Labeling'], ['Name_Calling_Labeling'], ['Doubt'], ['Appeal_to_Authority'], ['Loaded_Language'], ['Slogans'], ['Causal_Oversimplification'], ['Loaded_Language'], ['Doubt'], ['Loaded_Language'], ['Loaded_Language'], ['Flag-Waving'], ['Black-and-White_Fallacy'], ['Causal_Oversimplification'], ['Name_Calling_Labeling'], ['Slogans'], ['Exaggeration_Minimisation'], ['Doubt'], ['Loaded_Language'], ['Appeal_to_Authority'], ['Loaded_Language'], ['Loaded_Language'], ['Name_Calling_Labeling'], ['Loaded_Language'], ['Name_Calling_Labeling'], ['Name_Calling_Labeling'], ['Name_Calling_Labeling'], ['Exaggeration_Minimisation', 'Loaded_Language'], ['Flag-Waving'], ['Loaded_Language'], ['Name_Calling_Labeling'], ['Name_Calling_Labeling'], ['Loaded_Language'], ['Doubt'], ['Name_Calling_Labeling'], ['Name_Calling_Labeling'], ['Name_Calling_Labeling'], ['Appeal_to_fear-prejudice'], ['Name_Calling_Labeling'], ['Exaggeration_Minimisation'], ['Loaded_Language'], ['Loaded_Language'], ['Doubt', 'Reductio_ad_hitlerum'], ['Exaggeration_Minimisation'], ['Loaded_Language'], ['Appeal_to_fear-prejudice', 'Black-and-White_Fallacy'], ['Loaded_Language'], ['Name_Calling_Labeling'], ['Loaded_Language'], ['Loaded_Language'], ['Name_Calling_Labeling'], ['Name_Calling_Labeling'], ['Reductio_ad_hitlerum'], ['Reductio_ad_hitlerum'], ['Name_Calling_Labeling'], ['Whataboutism'], ['Causal_Oversimplification'], ['Reductio_ad_hitlerum'], ['Causal_Oversimplification'], ['Name_Calling_Labeling'], ['Loaded_Language'], ['Loaded_Language'], ['Exaggeration_Minimisation'], ['Name_Calling_Labeling'], ['Doubt'], ['Causal_Oversimplification'], ['Loaded_Language'], ['Name_Calling_Labeling'], ['Name_Calling_Labeling'], ['Name_Calling_Labeling'], ['Name_Calling_Labeling'], ['Loaded_Language'], ['Name_Calling_Labeling'], ['Loaded_Language'], ['Loaded_Language'], ['Name_Calling_Labeling'], ['Name_Calling_Labeling'], ['Doubt'], ['Exaggeration_Minimisation'], ['Name_Calling_Labeling'], ['Exaggeration_Minimisation'], ['Appeal_to_Authority'], ['Appeal_to_Authority'], ['Doubt'], ['Doubt'], ['Appeal_to_Authority'], ['Exaggeration_Minimisation'], ['Doubt'], ['Loaded_Language'], ['Name_Calling_Labeling'], ['Doubt'], ['Doubt'], ['Name_Calling_Labeling'], ['Loaded_Language'], ['Loaded_Language'], ['Exaggeration_Minimisation'], ['Loaded_Language'], ['Appeal_to_fear-prejudice'], ['Exaggeration_Minimisation'], ['Loaded_Language'], ['Doubt'], ['Doubt'], ['Loaded_Language'], ['Loaded_Language'], ['Exaggeration_Minimisation'], ['Name_Calling_Labeling'], ['Name_Calling_Labeling'], ['Loaded_Language'], ['Loaded_Language'], ['Exaggeration_Minimisation'], ['Name_Calling_Labeling'], ['Doubt'], ['Name_Calling_Labeling'], ['Name_Calling_Labeling'], ['Loaded_Language'], ['Exaggeration_Minimisation'], ['Exaggeration_Minimisation'], ['Loaded_Language'], ['Name_Calling_Labeling'], ['Name_Calling_Labeling'], ['Loaded_Language'], ['Name_Calling_Labeling'], ['Loaded_Language'], ['Name_Calling_Labeling'], ['Loaded_Language'], ['Flag-Waving', 'Loaded_Language'], ['Red_Herring'], ['Loaded_Language'], ['Loaded_Language'], ['Loaded_Language'], ['Loaded_Language'], ['Loaded_Language'], ['Loaded_Language'], ['Loaded_Language'], ['Loaded_Language'], ['Loaded_Language'], ['Name_Calling_Labeling'], ['Flag-Waving'], ['Exaggeration_Minimisation'], ['Name_Calling_Labeling'], ['Loaded_Language'], ['Name_Calling_Labeling'], ['Loaded_Language'], ['Name_Calling_Labeling'], ['Repetition'], ['Name_Calling_Labeling'], ['Name_Calling_Labeling'], ['Flag-Waving'], ['Loaded_Language'], ['Flag-Waving'], ['Name_Calling_Labeling'], ['Name_Calling_Labeling'], ['Name_Calling_Labeling'], ['Loaded_Language'], ['Loaded_Language'], ['Loaded_Language'], ['Loaded_Language'], ['Name_Calling_Labeling'], ['Loaded_Language'], ['Appeal_to_Authority'], ['Loaded_Language'], ['Loaded_Language'], ['Doubt'], ['Doubt'], ['Causal_Oversimplification'], ['Name_Calling_Labeling'], ['Name_Calling_Labeling'], ['Name_Calling_Labeling'], ['Loaded_Language'], ['Doubt'], ['Loaded_Language'], ['Loaded_Language'], ['Causal_Oversimplification'], ['Loaded_Language'], ['Loaded_Language'], ['Name_Calling_Labeling'], ['Appeal_to_fear-prejudice'], ['Exaggeration_Minimisation'], ['Loaded_Language'], ['Name_Calling_Labeling'], ['Flag-Waving'], ['Name_Calling_Labeling'], ['Loaded_Language'], ['Flag-Waving'], ['Loaded_Language'], ['Loaded_Language'], ['Appeal_to_fear-prejudice', 'Flag-Waving'], ['Doubt'], ['Causal_Oversimplification'], ['Doubt'], ['Black-and-White_Fallacy'], ['Loaded_Language'], ['Loaded_Language'], ['Causal_Oversimplification'], ['Doubt'], ['Name_Calling_Labeling'], ['Name_Calling_Labeling'], ['Doubt'], ['Flag-Waving'], ['Loaded_Language'], ['Whataboutism'], ['Name_Calling_Labeling'], ['Exaggeration_Minimisation'], ['Loaded_Language'], ['Whataboutism'], ['Loaded_Language'], ['Whataboutism'], ['Doubt'], ['Whataboutism'], ['Repetition'], ['Exaggeration_Minimisation'], ['Loaded_Language'], ['Loaded_Language'], ['Loaded_Language'], ['Loaded_Language'], ['Name_Calling_Labeling'], ['Loaded_Language'], ['Name_Calling_Labeling'], ['Exaggeration_Minimisation'], ['Name_Calling_Labeling'], ['Slogans'], ['Loaded_Language'], ['Name_Calling_Labeling'], ['Name_Calling_Labeling'], ['Doubt'], ['Causal_Oversimplification'], ['Loaded_Language'], ['Appeal_to_fear-prejudice'], ['Loaded_Language', 'Thought-terminating_Cliches'], ['Bandwagon', 'Exaggeration_Minimisation'], ['Name_Calling_Labeling'], ['Causal_Oversimplification'], ['Exaggeration_Minimisation'], ['Name_Calling_Labeling'], ['Red_Herring'], ['Loaded_Language'], ['Exaggeration_Minimisation'], ['Exaggeration_Minimisation'], ['Loaded_Language'], ['Loaded_Language'], ['Name_Calling_Labeling'], ['Loaded_Language'], ['Loaded_Language'], ['Name_Calling_Labeling'], ['Slogans'], ['Name_Calling_Labeling'], ['Causal_Oversimplification'], ['Name_Calling_Labeling', 'Repetition'], ['Loaded_Language'], ['Doubt'], ['Doubt'], ['Doubt'], ['Doubt'], ['Appeal_to_Authority'], ['Flag-Waving'], ['Flag-Waving'], ['Name_Calling_Labeling'], ['Loaded_Language'], ['Doubt'], ['Loaded_Language'], ['Exaggeration_Minimisation'], ['Name_Calling_Labeling'], ['Loaded_Language'], ['Name_Calling_Labeling'], ['Exaggeration_Minimisation'], ['Loaded_Language'], ['Loaded_Language'], ['Loaded_Language'], ['Name_Calling_Labeling'], ['Loaded_Language'], ['Loaded_Language'], ['Name_Calling_Labeling'], ['Loaded_Language'], ['Loaded_Language'], ['Loaded_Language'], ['Name_Calling_Labeling'], ['Loaded_Language'], ['Loaded_Language'], ['Loaded_Language'], ['Causal_Oversimplification'], ['Name_Calling_Labeling'], ['Loaded_Language'], ['Loaded_Language'], ['Loaded_Language'], ['Loaded_Language'], ['Name_Calling_Labeling'], ['Loaded_Language'], ['Name_Calling_Labeling'], ['Slogans'], ['Flag-Waving'], ['Name_Calling_Labeling'], ['Name_Calling_Labeling'], ['Causal_Oversimplification', 'Exaggeration_Minimisation'], ['Loaded_Language'], ['Name_Calling_Labeling'], ['Loaded_Language'], ['Name_Calling_Labeling'], ['Loaded_Language'], ['Loaded_Language'], ['Name_Calling_Labeling'], ['Loaded_Language'], ['Name_Calling_Labeling'], ['Name_Calling_Labeling'], ['Repetition'], ['Loaded_Language'], ['Loaded_Language'], ['Doubt'], ['Doubt'], ['Loaded_Language'], ['Name_Calling_Labeling'], ['Loaded_Language'], ['Name_Calling_Labeling'], ['Loaded_Language'], ['Name_Calling_Labeling'], ['Loaded_Language'], ['Name_Calling_Labeling'], ['Name_Calling_Labeling'], ['Name_Calling_Labeling'], ['Name_Calling_Labeling'], ['Loaded_Language'], ['Doubt'], ['Name_Calling_Labeling'], ['Loaded_Language'], ['Loaded_Language'], ['Loaded_Language'], ['Name_Calling_Labeling'], ['Loaded_Language'], ['Slogans'], ['Name_Calling_Labeling'], ['Loaded_Language'], ['Repetition'], ['Name_Calling_Labeling'], ['Doubt'], ['Whataboutism'], ['Name_Calling_Labeling'], ['Name_Calling_Labeling'], ['Name_Calling_Labeling'], ['Loaded_Language'], ['Name_Calling_Labeling'], ['Name_Calling_Labeling'], ['Name_Calling_Labeling'], ['Name_Calling_Labeling'], ['Causal_Oversimplification'], ['Appeal_to_fear-prejudice'], ['Name_Calling_Labeling'], ['Loaded_Language'], ['Causal_Oversimplification', 'Doubt'], ['Loaded_Language'], ['Loaded_Language'], ['Flag-Waving'], ['Exaggeration_Minimisation'], ['Name_Calling_Labeling'], ['Causal_Oversimplification'], ['Name_Calling_Labeling'], ['Exaggeration_Minimisation'], ['Exaggeration_Minimisation'], ['Loaded_Language'], ['Exaggeration_Minimisation'], ['Appeal_to_fear-prejudice', 'Loaded_Language'], ['Loaded_Language'], ['Exaggeration_Minimisation'], ['Exaggeration_Minimisation'], ['Loaded_Language'], ['Loaded_Language'], ['Loaded_Language'], ['Name_Calling_Labeling'], ['Doubt'], ['Doubt'], ['Doubt'], ['Flag-Waving'], ['Name_Calling_Labeling'], ['Causal_Oversimplification'], ['Name_Calling_Labeling'], ['Flag-Waving'], ['Name_Calling_Labeling'], ['Name_Calling_Labeling'], ['Loaded_Language'], ['Loaded_Language'], ['Doubt'], ['Doubt'], ['Doubt'], ['Loaded_Language'], ['Loaded_Language'], ['Loaded_Language'], ['Name_Calling_Labeling'], ['Name_Calling_Labeling'], ['Loaded_Language'], ['Doubt'], ['Doubt'], ['Reductio_ad_hitlerum'], ['Doubt'], ['Loaded_Language'], ['Appeal_to_fear-prejudice'], ['Name_Calling_Labeling'], ['Appeal_to_Authority'], ['Loaded_Language'], ['Flag-Waving'], ['Loaded_Language'], ['Loaded_Language'], ['Loaded_Language'], ['Exaggeration_Minimisation'], ['Exaggeration_Minimisation'], ['Causal_Oversimplification'], ['Exaggeration_Minimisation'], ['Loaded_Language'], ['Loaded_Language'], ['Name_Calling_Labeling'], ['Loaded_Language'], ['Exaggeration_Minimisation'], ['Name_Calling_Labeling'], ['Loaded_Language'], ['Loaded_Language'], ['Loaded_Language'], ['Flag-Waving'], ['Loaded_Language'], ['Name_Calling_Labeling'], ['Exaggeration_Minimisation'], ['Flag-Waving'], ['Name_Calling_Labeling'], ['Repetition'], ['Name_Calling_Labeling'], ['Loaded_Language'], ['Loaded_Language'], ['Doubt'], ['Loaded_Language'], ['Loaded_Language'], ['Doubt'], ['Loaded_Language'], ['Causal_Oversimplification'], ['Loaded_Language'], ['Exaggeration_Minimisation'], ['Loaded_Language'], ['Exaggeration_Minimisation'], ['Doubt'], ['Appeal_to_Authority'], ['Loaded_Language'], ['Repetition'], ['Loaded_Language'], ['Doubt'], ['Repetition'], ['Doubt'], ['Loaded_Language'], ['Appeal_to_fear-prejudice'], ['Loaded_Language'], ['Loaded_Language'], ['Exaggeration_Minimisation'], ['Whataboutism'], ['Doubt'], ['Loaded_Language'], ['Name_Calling_Labeling'], ['Appeal_to_fear-prejudice', 'Flag-Waving'], ['Loaded_Language'], ['Name_Calling_Labeling'], ['Loaded_Language'], ['Loaded_Language'], ['Loaded_Language'], ['Loaded_Language'], ['Loaded_Language'], ['Doubt'], ['Causal_Oversimplification'], ['Loaded_Language'], ['Loaded_Language'], ['Causal_Oversimplification'], ['Doubt'], ['Exaggeration_Minimisation'], ['Causal_Oversimplification'], ['Causal_Oversimplification'], ['Exaggeration_Minimisation'], ['Doubt'], ['Appeal_to_Authority'], ['Doubt'], ['Loaded_Language'], ['Loaded_Language'], ['Loaded_Language'], ['Exaggeration_Minimisation'], ['Exaggeration_Minimisation'], ['Loaded_Language'], ['Name_Calling_Labeling'], ['Loaded_Language'], ['Repetition'], ['Exaggeration_Minimisation'], ['Black-and-White_Fallacy'], ['Flag-Waving'], ['Name_Calling_Labeling'], ['Loaded_Language'], ['Loaded_Language'], ['Repetition'], ['Loaded_Language'], ['Loaded_Language'], ['Exaggeration_Minimisation'], ['Name_Calling_Labeling'], ['Loaded_Language'], ['Name_Calling_Labeling'], ['Loaded_Language'], ['Loaded_Language'], ['Name_Calling_Labeling'], ['Loaded_Language'], ['Loaded_Language'], ['Slogans'], ['Loaded_Language'], ['Black-and-White_Fallacy'], ['Doubt'], ['Doubt'], ['Loaded_Language'], ['Loaded_Language'], ['Loaded_Language'], ['Loaded_Language'], ['Appeal_to_fear-prejudice'], ['Loaded_Language'], ['Appeal_to_fear-prejudice', 'Loaded_Language'], ['Appeal_to_fear-prejudice'], ['Appeal_to_Authority'], ['Name_Calling_Labeling'], ['Flag-Waving'], ['Exaggeration_Minimisation'], ['Loaded_Language'], ['Flag-Waving'], ['Appeal_to_fear-prejudice'], ['Flag-Waving'], ['Black-and-White_Fallacy'], ['Appeal_to_fear-prejudice'], ['Loaded_Language'], ['Flag-Waving'], ['Flag-Waving'], ['Loaded_Language'], ['Black-and-White_Fallacy'], ['Name_Calling_Labeling'], ['Flag-Waving'], ['Appeal_to_fear-prejudice'], ['Appeal_to_fear-prejudice'], ['Repetition'], ['Loaded_Language'], ['Loaded_Language'], ['Loaded_Language'], ['Loaded_Language', 'Thought-terminating_Cliches'], ['Doubt'], ['Doubt'], ['Appeal_to_Authority'], ['Flag-Waving'], ['Loaded_Language'], ['Loaded_Language'], ['Loaded_Language'], ['Name_Calling_Labeling'], ['Appeal_to_fear-prejudice'], ['Loaded_Language'], ['Exaggeration_Minimisation'], ['Loaded_Language'], ['Loaded_Language'], ['Loaded_Language'], ['Name_Calling_Labeling'], ['Exaggeration_Minimisation'], ['Exaggeration_Minimisation', 'Name_Calling_Labeling'], ['Loaded_Language'], ['Loaded_Language'], ['Doubt'], ['Loaded_Language'], ['Loaded_Language'], ['Name_Calling_Labeling'], ['Name_Calling_Labeling'], ['Name_Calling_Labeling', 'Repetition'], ['Doubt'], ['Doubt'], ['Exaggeration_Minimisation'], ['Doubt'], ['Exaggeration_Minimisation'], ['Appeal_to_Authority', 'Causal_Oversimplification'], ['Appeal_to_Authority', 'Causal_Oversimplification'], ['Name_Calling_Labeling'], ['Name_Calling_Labeling'], ['Doubt'], ['Causal_Oversimplification'], ['Name_Calling_Labeling'], ['Exaggeration_Minimisation'], ['Name_Calling_Labeling'], ['Appeal_to_fear-prejudice'], ['Doubt'], ['Loaded_Language', 'Repetition'], ['Loaded_Language'], ['Loaded_Language'], ['Repetition'], ['Loaded_Language'], ['Loaded_Language'], ['Repetition'], ['Flag-Waving'], ['Flag-Waving'], ['Appeal_to_fear-prejudice'], ['Loaded_Language'], ['Loaded_Language'], ['Loaded_Language'], ['Loaded_Language'], ['Loaded_Language'], ['Loaded_Language'], ['Thought-terminating_Cliches'], ['Loaded_Language'], ['Loaded_Language'], ['Name_Calling_Labeling'], ['Slogans'], ['Exaggeration_Minimisation'], ['Loaded_Language'], ['Loaded_Language'], ['Thought-terminating_Cliches'], ['Doubt'], ['Doubt'], ['Loaded_Language'], ['Loaded_Language'], ['Exaggeration_Minimisation'], ['Appeal_to_fear-prejudice', 'Flag-Waving'], ['Loaded_Language'], ['Loaded_Language'], ['Flag-Waving'], ['Doubt'], ['Loaded_Language'], ['Repetition'], ['Flag-Waving'], ['Doubt'], ['Loaded_Language'], ['Doubt'], ['Appeal_to_Authority'], ['Loaded_Language', 'Thought-terminating_Cliches'], ['Doubt'], ['Thought-terminating_Cliches'], ['Appeal_to_fear-prejudice', 'Exaggeration_Minimisation'], ['Loaded_Language'], ['Doubt'], ['Flag-Waving'], ['Loaded_Language'], ['Exaggeration_Minimisation'], ['Flag-Waving'], ['Exaggeration_Minimisation'], ['Doubt'], ['Name_Calling_Labeling'], ['Loaded_Language'], ['Loaded_Language'], ['Appeal_to_Authority'], ['Loaded_Language'], ['Name_Calling_Labeling'], ['Loaded_Language'], ['Whataboutism'], ['Repetition'], ['Loaded_Language'], ['Loaded_Language'], ['Doubt'], ['Name_Calling_Labeling'], ['Loaded_Language'], ['Loaded_Language'], ['Doubt'], ['Appeal_to_fear-prejudice', 'Doubt'], ['Loaded_Language'], ['Name_Calling_Labeling'], ['Name_Calling_Labeling'], ['Doubt'], ['Name_Calling_Labeling'], ['Causal_Oversimplification'], ['Loaded_Language'], ['Loaded_Language'], ['Name_Calling_Labeling'], ['Exaggeration_Minimisation'], ['Doubt'], ['Doubt'], ['Name_Calling_Labeling'], ['Loaded_Language'], ['Doubt'], ['Doubt'], ['Loaded_Language'], ['Doubt'], ['Name_Calling_Labeling'], ['Doubt'], ['Exaggeration_Minimisation'], ['Doubt'], ['Appeal_to_Authority'], ['Doubt'], ['Name_Calling_Labeling'], ['Doubt'], ['Loaded_Language'], ['Name_Calling_Labeling'], ['Name_Calling_Labeling'], ['Loaded_Language'], ['Doubt'], ['Name_Calling_Labeling'], ['Loaded_Language'], ['Loaded_Language'], ['Doubt'], ['Name_Calling_Labeling'], ['Name_Calling_Labeling'], ['Doubt'], ['Name_Calling_Labeling'], ['Loaded_Language'], ['Name_Calling_Labeling'], ['Doubt'], ['Doubt'], ['Name_Calling_Labeling'], ['Name_Calling_Labeling'], ['Name_Calling_Labeling'], ['Doubt'], ['Name_Calling_Labeling'], ['Doubt'], ['Name_Calling_Labeling'], ['Name_Calling_Labeling'], ['Exaggeration_Minimisation'], ['Doubt'], ['Doubt'], ['Name_Calling_Labeling'], ['Name_Calling_Labeling'], ['Name_Calling_Labeling'], ['Doubt'], ['Name_Calling_Labeling'], ['Doubt'], ['Doubt'], ['Name_Calling_Labeling'], ['Name_Calling_Labeling'], ['Doubt'], ['Loaded_Language'], ['Doubt'], ['Name_Calling_Labeling'], ['Name_Calling_Labeling'], ['Loaded_Language'], ['Name_Calling_Labeling'], ['Name_Calling_Labeling'], ['Name_Calling_Labeling'], ['Loaded_Language', 'Repetition'], ['Causal_Oversimplification'], ['Name_Calling_Labeling'], ['Doubt'], ['Doubt'], ['Name_Calling_Labeling'], ['Doubt'], ['Doubt'], ['Name_Calling_Labeling'], ['Name_Calling_Labeling'], ['Exaggeration_Minimisation'], ['Exaggeration_Minimisation', 'Name_Calling_Labeling'], ['Loaded_Language'], ['Doubt', 'Exaggeration_Minimisation'], ['Loaded_Language'], ['Loaded_Language'], ['Doubt'], ['Doubt'], ['Doubt'], ['Name_Calling_Labeling'], ['Name_Calling_Labeling'], ['Exaggeration_Minimisation'], ['Loaded_Language'], ['Loaded_Language'], ['Name_Calling_Labeling'], ['Doubt'], ['Name_Calling_Labeling'], ['Name_Calling_Labeling'], ['Doubt'], ['Exaggeration_Minimisation'], ['Name_Calling_Labeling'], ['Doubt'], ['Doubt'], ['Loaded_Language'], ['Doubt'], ['Name_Calling_Labeling'], ['Exaggeration_Minimisation'], ['Name_Calling_Labeling'], ['Doubt'], ['Name_Calling_Labeling'], ['Doubt'], ['Name_Calling_Labeling'], ['Name_Calling_Labeling'], ['Name_Calling_Labeling'], ['Loaded_Language'], ['Doubt'], ['Name_Calling_Labeling'], ['Causal_Oversimplification'], ['Causal_Oversimplification'], ['Doubt'], ['Name_Calling_Labeling'], ['Loaded_Language'], ['Doubt'], ['Doubt'], ['Name_Calling_Labeling'], ['Name_Calling_Labeling'], ['Doubt'], ['Exaggeration_Minimisation'], ['Repetition'], ['Doubt'], ['Loaded_Language'], ['Name_Calling_Labeling'], ['Appeal_to_fear-prejudice'], ['Doubt'], ['Name_Calling_Labeling'], ['Name_Calling_Labeling'], ['Reductio_ad_hitlerum'], ['Whataboutism']]\n",
            "qty of labels: 18\n"
          ]
        }
      ],
      "source": [
        "train_labels, test_labels = train[\"label\"].str.split(\",\").to_numpy(), test[\"label\"].str.split(\",\").to_numpy()\n",
        "print(f'train labels: {len(train_labels)}')\n",
        "print(f'test labels: {len(test_labels)}')\n",
        "print(list(train_labels))\n",
        "\n",
        "labels_with_duplicates = np.hstack(np.concatenate((train_labels, test_labels.flatten()), axis=None))\n",
        "labels = [list(set(labels_with_duplicates))]\n",
        "print(f'qty of labels: {len(labels[0])}')"
      ]
    },
    {
      "cell_type": "code",
      "source": [
        "mlb = MultiLabelBinarizer()\n",
        "train_labels_binarized = mlb.fit(labels).transform(train_labels)\n",
        "test_labels_binarized = mlb.transform(test_labels)\n",
        "print(f'qty labels train: {len(train_labels_binarized[0])}')\n",
        "print(f'qty labels test: {len(test_labels_binarized[0])}')"
      ],
      "metadata": {
        "colab": {
          "base_uri": "https://localhost:8080/"
        },
        "id": "6rnxh4pPA2_u",
        "outputId": "b54f4e0b-8156-4dd6-9a0c-336f983ea3ed"
      },
      "id": "6rnxh4pPA2_u",
      "execution_count": 61,
      "outputs": [
        {
          "output_type": "stream",
          "name": "stdout",
          "text": [
            "qty labels train: 18\n",
            "qty labels test: 18\n"
          ]
        }
      ]
    },
    {
      "cell_type": "code",
      "source": [
        "ff = MLPClassifier(\n",
        "    random_state=1,\n",
        "    max_iter=400,\n",
        "    alpha=0.001,\n",
        "    shuffle=True,\n",
        "    early_stopping=True,\n",
        "    verbose=True\n",
        ").fit(train_features, train_labels_binarized)"
      ],
      "metadata": {
        "colab": {
          "base_uri": "https://localhost:8080/"
        },
        "id": "k34lZxj6umWa",
        "outputId": "83173a28-af7c-4655-e7b5-4516f328da25"
      },
      "id": "k34lZxj6umWa",
      "execution_count": 62,
      "outputs": [
        {
          "output_type": "stream",
          "name": "stdout",
          "text": [
            "Iteration 1, loss = 5.56607108\n",
            "Validation score: 0.000000\n",
            "Iteration 2, loss = 3.08054631\n",
            "Validation score: 0.156600\n",
            "Iteration 3, loss = 2.95058886\n",
            "Validation score: 0.029083\n",
            "Iteration 4, loss = 2.89283231\n",
            "Validation score: 0.230425\n",
            "Iteration 5, loss = 2.85608365\n",
            "Validation score: 0.210291\n",
            "Iteration 6, loss = 2.82725663\n",
            "Validation score: 0.194631\n",
            "Iteration 7, loss = 2.79752638\n",
            "Validation score: 0.098434\n",
            "Iteration 8, loss = 2.78026029\n",
            "Validation score: 0.051454\n",
            "Iteration 9, loss = 2.76176941\n",
            "Validation score: 0.192394\n",
            "Iteration 10, loss = 2.73816757\n",
            "Validation score: 0.223714\n",
            "Iteration 11, loss = 2.72037510\n",
            "Validation score: 0.217002\n",
            "Iteration 12, loss = 2.70746359\n",
            "Validation score: 0.071588\n",
            "Iteration 13, loss = 2.69523360\n",
            "Validation score: 0.136465\n",
            "Iteration 14, loss = 2.67749754\n",
            "Validation score: 0.190157\n",
            "Iteration 15, loss = 2.66685894\n",
            "Validation score: 0.230425\n",
            "Validation score did not improve more than tol=0.000100 for 10 consecutive epochs. Stopping.\n"
          ]
        }
      ]
    },
    {
      "cell_type": "code",
      "execution_count": 63,
      "id": "50ec2fcf-220f-418a-bb57-76cf8be1253a",
      "metadata": {
        "colab": {
          "base_uri": "https://localhost:8080/"
        },
        "id": "50ec2fcf-220f-418a-bb57-76cf8be1253a",
        "outputId": "001cadd7-1e0a-4a11-f10f-958d3c86bf9e"
      },
      "outputs": [
        {
          "output_type": "stream",
          "name": "stdout",
          "text": [
            "micro-f1: 0.2779321845469705\n",
            "accuracy: 0.20165289256198346\n",
            "micro-precision: 0.46296296296296297\n",
            "micro-recall: 0.19857029388403494\n"
          ]
        }
      ],
      "source": [
        "test_predicted_labels_binarized = ff.predict(test_features)\n",
        "micro_f1 = f1_score(test_labels_binarized, test_predicted_labels_binarized, average=\"micro\")\n",
        "acc = accuracy_score(test_labels_binarized, test_predicted_labels_binarized)\n",
        "prec = precision_score(test_labels_binarized, test_predicted_labels_binarized, average=\"micro\")\n",
        "rec = recall_score(test_labels_binarized, test_predicted_labels_binarized, average=\"micro\")\n",
        "print(f'micro-f1: {micro_f1}')\n",
        "print(f'accuracy: {acc}')\n",
        "print(f'micro-precision: {prec}')\n",
        "print(f'micro-recall: {rec}')"
      ]
    },
    {
      "cell_type": "code",
      "execution_count": 64,
      "id": "39f72ed2-28dc-4370-8e77-161652131873",
      "metadata": {
        "colab": {
          "base_uri": "https://localhost:8080/"
        },
        "id": "39f72ed2-28dc-4370-8e77-161652131873",
        "outputId": "300d3971-e12b-4ca7-cbdf-3b5143f92d2d"
      },
      "outputs": [
        {
          "output_type": "execute_result",
          "data": {
            "text/plain": [
              "(18, 2, 2)"
            ]
          },
          "metadata": {},
          "execution_count": 64
        }
      ],
      "source": [
        "cf_mtx = multilabel_confusion_matrix(test_labels_binarized, test_predicted_labels_binarized)\n",
        "cf_mtx.shape"
      ]
    },
    {
      "cell_type": "code",
      "source": [
        "cf_mtx"
      ],
      "metadata": {
        "colab": {
          "base_uri": "https://localhost:8080/"
        },
        "id": "MCFd_r0n50LT",
        "outputId": "35cc6dc9-ecf3-49ce-f7cc-7a50f288d468"
      },
      "id": "MCFd_r0n50LT",
      "execution_count": 65,
      "outputs": [
        {
          "output_type": "execute_result",
          "data": {
            "text/plain": [
              "array([[[1161,    0],\n",
              "        [  49,    0]],\n",
              "\n",
              "       [[1082,    0],\n",
              "        [ 128,    0]],\n",
              "\n",
              "       [[1206,    0],\n",
              "        [   4,    0]],\n",
              "\n",
              "       [[1185,    0],\n",
              "        [  25,    0]],\n",
              "\n",
              "       [[1179,    0],\n",
              "        [  31,    0]],\n",
              "\n",
              "       [[1139,    0],\n",
              "        [  71,    0]],\n",
              "\n",
              "       [[1125,    0],\n",
              "        [  85,    0]],\n",
              "\n",
              "       [[1132,    0],\n",
              "        [  78,    0]],\n",
              "\n",
              "       [[ 525,  290],\n",
              "        [ 146,  249]],\n",
              "\n",
              "       [[1031,    0],\n",
              "        [ 178,    1]],\n",
              "\n",
              "       [[1204,    0],\n",
              "        [   6,    0]],\n",
              "\n",
              "       [[1198,    0],\n",
              "        [  12,    0]],\n",
              "\n",
              "       [[1198,    0],\n",
              "        [  12,    0]],\n",
              "\n",
              "       [[1097,    0],\n",
              "        [ 113,    0]],\n",
              "\n",
              "       [[1176,    0],\n",
              "        [  34,    0]],\n",
              "\n",
              "       [[1208,    0],\n",
              "        [   2,    0]],\n",
              "\n",
              "       [[1194,    0],\n",
              "        [  16,    0]],\n",
              "\n",
              "       [[1191,    0],\n",
              "        [  19,    0]]])"
            ]
          },
          "metadata": {},
          "execution_count": 65
        }
      ]
    }
  ],
  "metadata": {
    "kernelspec": {
      "display_name": "Python 3",
      "name": "python3"
    },
    "language_info": {
      "codemirror_mode": {
        "name": "ipython",
        "version": 3
      },
      "file_extension": ".py",
      "mimetype": "text/x-python",
      "name": "python",
      "nbconvert_exporter": "python",
      "pygments_lexer": "ipython3",
      "version": "3.11.5"
    },
    "colab": {
      "provenance": [],
      "gpuType": "T4",
      "include_colab_link": true
    },
    "accelerator": "GPU"
  },
  "nbformat": 4,
  "nbformat_minor": 5
}