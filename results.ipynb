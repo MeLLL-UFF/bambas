{
 "cells": [
  {
   "cell_type": "code",
   "execution_count": 1,
   "id": "7e2cc96c-dc0f-477e-a2ec-e698997b1864",
   "metadata": {},
   "outputs": [],
   "source": [
    "import pandas as pd"
   ]
  },
  {
   "cell_type": "code",
   "execution_count": 3,
   "id": "417dfa30-de5e-4155-b770-ae1785428c85",
   "metadata": {},
   "outputs": [
    {
     "data": {
      "text/html": [
       "<div>\n",
       "<style scoped>\n",
       "    .dataframe tbody tr th:only-of-type {\n",
       "        vertical-align: middle;\n",
       "    }\n",
       "\n",
       "    .dataframe tbody tr th {\n",
       "        vertical-align: top;\n",
       "    }\n",
       "\n",
       "    .dataframe thead th {\n",
       "        text-align: right;\n",
       "    }\n",
       "</style>\n",
       "<table border=\"1\" class=\"dataframe\">\n",
       "  <thead>\n",
       "    <tr style=\"text-align: right;\">\n",
       "      <th></th>\n",
       "      <th>Unnamed: 0</th>\n",
       "      <th>FE Model</th>\n",
       "      <th>FE Method</th>\n",
       "      <th>FE Layers</th>\n",
       "      <th>FE Layers Agg Method</th>\n",
       "      <th>FT Dataset</th>\n",
       "      <th>Test Dataset</th>\n",
       "      <th>Classifier</th>\n",
       "      <th>F1</th>\n",
       "      <th>Precision</th>\n",
       "      <th>Recall</th>\n",
       "      <th>Timestamp</th>\n",
       "    </tr>\n",
       "  </thead>\n",
       "  <tbody>\n",
       "    <tr>\n",
       "      <th>0</th>\n",
       "      <td>0</td>\n",
       "      <td>xlm-roberta-base</td>\n",
       "      <td>cls</td>\n",
       "      <td>NaN</td>\n",
       "      <td>NaN</td>\n",
       "      <td>semeval2024</td>\n",
       "      <td>test_set</td>\n",
       "      <td>MLP</td>\n",
       "      <td>0.287531</td>\n",
       "      <td>0.710297</td>\n",
       "      <td>0.180248</td>\n",
       "      <td>1701434572</td>\n",
       "    </tr>\n",
       "  </tbody>\n",
       "</table>\n",
       "</div>"
      ],
      "text/plain": [
       "   Unnamed: 0          FE Model FE Method  FE Layers  FE Layers Agg Method  \\\n",
       "0           0  xlm-roberta-base       cls        NaN                   NaN   \n",
       "\n",
       "    FT Dataset Test Dataset Classifier        F1  Precision    Recall  \\\n",
       "0  semeval2024     test_set        MLP  0.287531   0.710297  0.180248   \n",
       "\n",
       "    Timestamp  \n",
       "0  1701434572  "
      ]
     },
     "execution_count": 3,
     "metadata": {},
     "output_type": "execute_result"
    }
   ],
   "source": [
    "df = pd.read_csv(\"./classification/results.csv\")\n",
    "df.sort_values(by=[\"F1\"], ascending=False)"
   ]
  },
  {
   "cell_type": "code",
   "execution_count": null,
   "id": "6efd3eb5-85e6-4a0f-b94f-3b63b9e9af90",
   "metadata": {},
   "outputs": [],
   "source": []
  },
  {
   "cell_type": "code",
   "execution_count": null,
   "id": "deeb8986-91b7-4197-a681-fce8b8153c6f",
   "metadata": {},
   "outputs": [],
   "source": []
  },
  {
   "cell_type": "code",
   "execution_count": null,
   "id": "f74a496e-a0b2-4cd0-8da6-f60f4b0fdebe",
   "metadata": {},
   "outputs": [],
   "source": []
  },
  {
   "cell_type": "code",
   "execution_count": null,
   "id": "ad72c69e-ae31-4111-bb42-94a87d73727a",
   "metadata": {},
   "outputs": [],
   "source": []
  },
  {
   "cell_type": "code",
   "execution_count": null,
   "id": "1b58d9b9-1fed-4464-b117-7eaf3fecf3e9",
   "metadata": {},
   "outputs": [],
   "source": []
  },
  {
   "cell_type": "code",
   "execution_count": null,
   "id": "ae30dccf-1356-4298-84b4-b6bc600b9d19",
   "metadata": {},
   "outputs": [],
   "source": []
  },
  {
   "cell_type": "code",
   "execution_count": null,
   "id": "e5a1a216-bc31-4c66-812d-cf055c1b3c0b",
   "metadata": {},
   "outputs": [],
   "source": []
  }
 ],
 "metadata": {
  "kernelspec": {
   "display_name": "Python 3 (ipykernel)",
   "language": "python",
   "name": "python3"
  },
  "language_info": {
   "codemirror_mode": {
    "name": "ipython",
    "version": 3
   },
   "file_extension": ".py",
   "mimetype": "text/x-python",
   "name": "python",
   "nbconvert_exporter": "python",
   "pygments_lexer": "ipython3",
   "version": "3.11.5"
  }
 },
 "nbformat": 4,
 "nbformat_minor": 5
}
