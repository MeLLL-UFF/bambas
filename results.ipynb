{
 "cells": [
  {
   "cell_type": "code",
   "execution_count": 1,
   "id": "7e2cc96c-dc0f-477e-a2ec-e698997b1864",
   "metadata": {},
   "outputs": [
    {
     "data": {
      "text/plain": [
       "Index(['Unnamed: 0', 'FE Model', 'FE Method', 'FE Layers',\n",
       "       'FE Layers Agg Method', 'FE Dataset', 'Test Dataset', 'Classifier',\n",
       "       'F1', 'Precision', 'Recall', 'Confusion Matrix', 'Timestamp'],\n",
       "      dtype='object')"
      ]
     },
     "execution_count": 1,
     "metadata": {},
     "output_type": "execute_result"
    }
   ],
   "source": [
    "import pandas as pd\n",
    "\n",
    "df = pd.read_csv(\"classification/results.csv\")\n",
    "df.columns"
   ]
  },
  {
   "cell_type": "code",
   "execution_count": 2,
   "id": "369d5cda",
   "metadata": {},
   "outputs": [
    {
     "data": {
      "text/plain": [
       "['0,0000', '0,8240']"
      ]
     },
     "execution_count": 2,
     "metadata": {},
     "output_type": "execute_result"
    }
   ],
   "source": [
    "string_arr = df[\"Precision\"][3]\n",
    "\n",
    "def string_to_arr(arr):\n",
    "    arr = [char for char in arr if char in \" 0.123456789\"]\n",
    "    string_arr = \"\"\n",
    "    for char in arr: string_arr += char\n",
    "    arr = string_arr.split(\" \")\n",
    "    arr = [elem for elem in arr if elem!=\"\"]\n",
    "    arr = [\"{:.4f}\".format(float(e)).replace(\".\",\",\") for e in arr]\n",
    "    return arr\n",
    "\n",
    "\n",
    "string_to_arr(string_arr)\n"
   ]
  },
  {
   "cell_type": "code",
   "execution_count": 3,
   "id": "3bb796b9",
   "metadata": {},
   "outputs": [
    {
     "name": "stdout",
     "output_type": "stream",
     "text": [
      "('0,6250', '0,9095', '0,5682', '0,9272', '0,5952', '0,9183')\n",
      "('0,0000', '0,8240', '0,0000', '1,0000', '0,0000', '0,9035')\n",
      "('0,0000', '0,8240', '0,0000', '1,0000', '0,0000', '0,9035')\n",
      "('0,0000', '0,8240', '0,0000', '1,0000', '0,0000', '0,9035')\n",
      "('0,0000', '0,8240', '0,0000', '1,0000', '0,0000', '0,9035')\n",
      "('0,9318', '0,8889', '0,9880', '0,5714', '0,9591', '0,6957')\n",
      "('0,9535', '0,9091', '0,9880', '0,7143', '0,9704', '0,8000')\n",
      "('0,9412', '0,7500', '0,9639', '0,6429', '0,9524', '0,6923')\n",
      "('0,9108', '0,9280', '0,7984', '0,9708', '0,8509', '0,9489')\n",
      "('0,0000', '0,7280', '0,0000', '1,0000', '0,0000', '0,8426')\n",
      "('0,0000', '0,7280', '0,0000', '1,0000', '0,0000', '0,8426')\n"
     ]
    }
   ],
   "source": [
    "prec = [string_to_arr(elem) for elem in df[\"Precision\"]]\n",
    "prn, prp = [], []\n",
    "for n, p in prec: prn.append(n);prp.append(p)\n",
    "\n",
    "rec = [string_to_arr(elem) for elem in df[\"Recall\"]]\n",
    "ren, rep = [], []\n",
    "for n, p in rec: ren.append(n);rep.append(p)\n",
    "\n",
    "f1 = [string_to_arr(elem) for elem in df[\"F1\"]]\n",
    "f1n, f1p = [], []\n",
    "for n, p in f1: f1n.append(n);f1p.append(p)\n",
    "\n",
    "for elem in zip(prn, prp, ren, rep, f1n, f1p):print(elem)"
   ]
  },
  {
   "cell_type": "code",
   "execution_count": 4,
   "id": "83f2297e",
   "metadata": {},
   "outputs": [
    {
     "data": {
      "text/html": [
       "<div>\n",
       "<style scoped>\n",
       "    .dataframe tbody tr th:only-of-type {\n",
       "        vertical-align: middle;\n",
       "    }\n",
       "\n",
       "    .dataframe tbody tr th {\n",
       "        vertical-align: top;\n",
       "    }\n",
       "\n",
       "    .dataframe thead th {\n",
       "        text-align: right;\n",
       "    }\n",
       "</style>\n",
       "<table border=\"1\" class=\"dataframe\">\n",
       "  <thead>\n",
       "    <tr style=\"text-align: right;\">\n",
       "      <th></th>\n",
       "      <th>FE Dataset</th>\n",
       "      <th>Prec. N</th>\n",
       "      <th>Prec. P</th>\n",
       "      <th>Rec. N</th>\n",
       "      <th>Rec. P</th>\n",
       "      <th>F1 N</th>\n",
       "      <th>F1 P</th>\n",
       "    </tr>\n",
       "  </thead>\n",
       "  <tbody>\n",
       "    <tr>\n",
       "      <th>0</th>\n",
       "      <td>semeval2024</td>\n",
       "      <td>0,6250</td>\n",
       "      <td>0,9095</td>\n",
       "      <td>0,5682</td>\n",
       "      <td>0,9272</td>\n",
       "      <td>0,5952</td>\n",
       "      <td>0,9183</td>\n",
       "    </tr>\n",
       "    <tr>\n",
       "      <th>1</th>\n",
       "      <td>paraphrase</td>\n",
       "      <td>0,0000</td>\n",
       "      <td>0,8240</td>\n",
       "      <td>0,0000</td>\n",
       "      <td>1,0000</td>\n",
       "      <td>0,0000</td>\n",
       "      <td>0,9035</td>\n",
       "    </tr>\n",
       "    <tr>\n",
       "      <th>2</th>\n",
       "      <td>paraphrase4</td>\n",
       "      <td>0,0000</td>\n",
       "      <td>0,8240</td>\n",
       "      <td>0,0000</td>\n",
       "      <td>1,0000</td>\n",
       "      <td>0,0000</td>\n",
       "      <td>0,9035</td>\n",
       "    </tr>\n",
       "    <tr>\n",
       "      <th>3</th>\n",
       "      <td>paraphrase</td>\n",
       "      <td>0,0000</td>\n",
       "      <td>0,8240</td>\n",
       "      <td>0,0000</td>\n",
       "      <td>1,0000</td>\n",
       "      <td>0,0000</td>\n",
       "      <td>0,9035</td>\n",
       "    </tr>\n",
       "    <tr>\n",
       "      <th>4</th>\n",
       "      <td>paraphrase</td>\n",
       "      <td>0,0000</td>\n",
       "      <td>0,8240</td>\n",
       "      <td>0,0000</td>\n",
       "      <td>1,0000</td>\n",
       "      <td>0,0000</td>\n",
       "      <td>0,9035</td>\n",
       "    </tr>\n",
       "    <tr>\n",
       "      <th>5</th>\n",
       "      <td>semeval2015_2</td>\n",
       "      <td>0,9318</td>\n",
       "      <td>0,8889</td>\n",
       "      <td>0,9880</td>\n",
       "      <td>0,5714</td>\n",
       "      <td>0,9591</td>\n",
       "      <td>0,6957</td>\n",
       "    </tr>\n",
       "    <tr>\n",
       "      <th>6</th>\n",
       "      <td>semeval2015_paraphrased2</td>\n",
       "      <td>0,9535</td>\n",
       "      <td>0,9091</td>\n",
       "      <td>0,9880</td>\n",
       "      <td>0,7143</td>\n",
       "      <td>0,9704</td>\n",
       "      <td>0,8000</td>\n",
       "    </tr>\n",
       "    <tr>\n",
       "      <th>7</th>\n",
       "      <td>semeval2015_paraphrased2_1to4_selected</td>\n",
       "      <td>0,9412</td>\n",
       "      <td>0,7500</td>\n",
       "      <td>0,9639</td>\n",
       "      <td>0,6429</td>\n",
       "      <td>0,9524</td>\n",
       "      <td>0,6923</td>\n",
       "    </tr>\n",
       "    <tr>\n",
       "      <th>8</th>\n",
       "      <td>semeval2016</td>\n",
       "      <td>0,9108</td>\n",
       "      <td>0,9280</td>\n",
       "      <td>0,7984</td>\n",
       "      <td>0,9708</td>\n",
       "      <td>0,8509</td>\n",
       "      <td>0,9489</td>\n",
       "    </tr>\n",
       "    <tr>\n",
       "      <th>9</th>\n",
       "      <td>semeval2016_paraphrased</td>\n",
       "      <td>0,0000</td>\n",
       "      <td>0,7280</td>\n",
       "      <td>0,0000</td>\n",
       "      <td>1,0000</td>\n",
       "      <td>0,0000</td>\n",
       "      <td>0,8426</td>\n",
       "    </tr>\n",
       "    <tr>\n",
       "      <th>10</th>\n",
       "      <td>semeval2016_paraphrased_1to4</td>\n",
       "      <td>0,0000</td>\n",
       "      <td>0,7280</td>\n",
       "      <td>0,0000</td>\n",
       "      <td>1,0000</td>\n",
       "      <td>0,0000</td>\n",
       "      <td>0,8426</td>\n",
       "    </tr>\n",
       "  </tbody>\n",
       "</table>\n",
       "</div>"
      ],
      "text/plain": [
       "                                FE Dataset Prec. N Prec. P  Rec. N  Rec. P  \\\n",
       "0                              semeval2024  0,6250  0,9095  0,5682  0,9272   \n",
       "1                               paraphrase  0,0000  0,8240  0,0000  1,0000   \n",
       "2                              paraphrase4  0,0000  0,8240  0,0000  1,0000   \n",
       "3                               paraphrase  0,0000  0,8240  0,0000  1,0000   \n",
       "4                               paraphrase  0,0000  0,8240  0,0000  1,0000   \n",
       "5                            semeval2015_2  0,9318  0,8889  0,9880  0,5714   \n",
       "6                 semeval2015_paraphrased2  0,9535  0,9091  0,9880  0,7143   \n",
       "7   semeval2015_paraphrased2_1to4_selected  0,9412  0,7500  0,9639  0,6429   \n",
       "8                              semeval2016  0,9108  0,9280  0,7984  0,9708   \n",
       "9                  semeval2016_paraphrased  0,0000  0,7280  0,0000  1,0000   \n",
       "10            semeval2016_paraphrased_1to4  0,0000  0,7280  0,0000  1,0000   \n",
       "\n",
       "      F1 N    F1 P  \n",
       "0   0,5952  0,9183  \n",
       "1   0,0000  0,9035  \n",
       "2   0,0000  0,9035  \n",
       "3   0,0000  0,9035  \n",
       "4   0,0000  0,9035  \n",
       "5   0,9591  0,6957  \n",
       "6   0,9704  0,8000  \n",
       "7   0,9524  0,6923  \n",
       "8   0,8509  0,9489  \n",
       "9   0,0000  0,8426  \n",
       "10  0,0000  0,8426  "
      ]
     },
     "execution_count": 4,
     "metadata": {},
     "output_type": "execute_result"
    }
   ],
   "source": [
    "df[\"Prec. N\"]=prn; df[\"Prec. P\"]=prp\n",
    "df[\"Rec. N\"]=ren; df[\"Rec. P\"]=rep\n",
    "df[\"F1 N\"]=f1n; df[\"F1 P\"]=f1p\n",
    "\n",
    "results_csv = df[[\"FE Dataset\", \"Prec. N\", \"Prec. P\", \"Rec. N\", \"Rec. P\", \"F1 N\", \"F1 P\"]]\n",
    "results_csv"
   ]
  },
  {
   "cell_type": "code",
   "execution_count": 5,
   "id": "c19cba49",
   "metadata": {},
   "outputs": [],
   "source": [
    "results_csv.to_csv(\"plots/results_bernice_clean.csv\", index=False)"
   ]
  }
 ],
 "metadata": {
  "kernelspec": {
   "display_name": "Python 3 (ipykernel)",
   "language": "python",
   "name": "python3"
  },
  "language_info": {
   "codemirror_mode": {
    "name": "ipython",
    "version": 3
   },
   "file_extension": ".py",
   "mimetype": "text/x-python",
   "name": "python",
   "nbconvert_exporter": "python",
   "pygments_lexer": "ipython3",
   "version": "3.12.4"
  }
 },
 "nbformat": 4,
 "nbformat_minor": 5
}
