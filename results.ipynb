{
 "cells": [
  {
   "cell_type": "code",
   "execution_count": 50,
   "id": "7e2cc96c-dc0f-477e-a2ec-e698997b1864",
   "metadata": {},
   "outputs": [
    {
     "data": {
      "text/plain": [
       "Index(['Unnamed: 0', 'FE Model', 'FE Method', 'FE Layers',\n",
       "       'FE Layers Agg Method', 'FE Dataset', 'Test Dataset', 'Classifier',\n",
       "       'F1', 'Precision', 'Recall', 'Confusion Matrix', 'Timestamp'],\n",
       "      dtype='object')"
      ]
     },
     "execution_count": 50,
     "metadata": {},
     "output_type": "execute_result"
    }
   ],
   "source": [
    "import pandas as pd\n",
    "\n",
    "df = pd.read_csv(\"classification/results_semeval2016_paraphrasing.csv\")\n",
    "df.columns"
   ]
  },
  {
   "cell_type": "code",
   "execution_count": 55,
   "id": "369d5cda",
   "metadata": {},
   "outputs": [
    {
     "data": {
      "text/plain": [
       "['0,8541', '0,9467']"
      ]
     },
     "execution_count": 55,
     "metadata": {},
     "output_type": "execute_result"
    }
   ],
   "source": [
    "string_arr = df[\"Precision\"][3]\n",
    "\n",
    "def string_to_arr(arr):\n",
    "    arr = [char for char in arr if char in \" 0.123456789\"]\n",
    "    string_arr = \"\"\n",
    "    for char in arr: string_arr += char\n",
    "    arr = string_arr.split(\" \")\n",
    "    arr = [elem for elem in arr if elem!=\"\"]\n",
    "    arr = [\"{:.4f}\".format(float(e)).replace(\".\",\",\") for e in arr]\n",
    "    return arr\n",
    "\n",
    "\n",
    "string_to_arr(string_arr)\n"
   ]
  },
  {
   "cell_type": "code",
   "execution_count": 56,
   "id": "3bb796b9",
   "metadata": {},
   "outputs": [
    {
     "name": "stdout",
     "output_type": "stream",
     "text": [
      "('0,8422', '0,9152', '0,7653', '0,9464', '0,8019', '0,9305')\n",
      "('0,7980', '0,9308', '0,8164', '0,9228', '0,8071', '0,9268')\n",
      "('0,8078', '0,9287', '0,8094', '0,9280', '0,8086', '0,9284')\n",
      "('0,8541', '0,9467', '0,8576', '0,9453', '0,8559', '0,9460')\n",
      "('0,7832', '0,9387', '0,8405', '0,9130', '0,8108', '0,9257')\n",
      "('0,7841', '0,9352', '0,8305', '0,9145', '0,8066', '0,9248')\n",
      "('0,7918', '0,9214', '0,7894', '0,9224', '0,7906', '0,9219')\n"
     ]
    }
   ],
   "source": [
    "prec = [string_to_arr(elem) for elem in df[\"Precision\"]]\n",
    "prn, prp = [], []\n",
    "for n, p in prec: prn.append(n);prp.append(p)\n",
    "\n",
    "rec = [string_to_arr(elem) for elem in df[\"Recall\"]]\n",
    "ren, rep = [], []\n",
    "for n, p in rec: ren.append(n);rep.append(p)\n",
    "\n",
    "f1 = [string_to_arr(elem) for elem in df[\"F1\"]]\n",
    "f1n, f1p = [], []\n",
    "for n, p in f1: f1n.append(n);f1p.append(p)\n",
    "\n",
    "for elem in zip(prn, prp, ren, rep, f1n, f1p):print(elem)"
   ]
  },
  {
   "cell_type": "code",
   "execution_count": 57,
   "id": "83f2297e",
   "metadata": {},
   "outputs": [
    {
     "data": {
      "text/html": [
       "<div>\n",
       "<style scoped>\n",
       "    .dataframe tbody tr th:only-of-type {\n",
       "        vertical-align: middle;\n",
       "    }\n",
       "\n",
       "    .dataframe tbody tr th {\n",
       "        vertical-align: top;\n",
       "    }\n",
       "\n",
       "    .dataframe thead th {\n",
       "        text-align: right;\n",
       "    }\n",
       "</style>\n",
       "<table border=\"1\" class=\"dataframe\">\n",
       "  <thead>\n",
       "    <tr style=\"text-align: right;\">\n",
       "      <th></th>\n",
       "      <th>FE Dataset</th>\n",
       "      <th>Prec. N</th>\n",
       "      <th>Prec. P</th>\n",
       "      <th>Rec. N</th>\n",
       "      <th>Rec. P</th>\n",
       "      <th>F1 N</th>\n",
       "      <th>F1 P</th>\n",
       "    </tr>\n",
       "  </thead>\n",
       "  <tbody>\n",
       "    <tr>\n",
       "      <th>0</th>\n",
       "      <td>semeval2016</td>\n",
       "      <td>0,8422</td>\n",
       "      <td>0,9152</td>\n",
       "      <td>0,7653</td>\n",
       "      <td>0,9464</td>\n",
       "      <td>0,8019</td>\n",
       "      <td>0,9305</td>\n",
       "    </tr>\n",
       "    <tr>\n",
       "      <th>1</th>\n",
       "      <td>semeval2016</td>\n",
       "      <td>0,7980</td>\n",
       "      <td>0,9308</td>\n",
       "      <td>0,8164</td>\n",
       "      <td>0,9228</td>\n",
       "      <td>0,8071</td>\n",
       "      <td>0,9268</td>\n",
       "    </tr>\n",
       "    <tr>\n",
       "      <th>2</th>\n",
       "      <td>semeval2016</td>\n",
       "      <td>0,8078</td>\n",
       "      <td>0,9287</td>\n",
       "      <td>0,8094</td>\n",
       "      <td>0,9280</td>\n",
       "      <td>0,8086</td>\n",
       "      <td>0,9284</td>\n",
       "    </tr>\n",
       "    <tr>\n",
       "      <th>3</th>\n",
       "      <td>semeval2016_paraphrased</td>\n",
       "      <td>0,8541</td>\n",
       "      <td>0,9467</td>\n",
       "      <td>0,8576</td>\n",
       "      <td>0,9453</td>\n",
       "      <td>0,8559</td>\n",
       "      <td>0,9460</td>\n",
       "    </tr>\n",
       "    <tr>\n",
       "      <th>4</th>\n",
       "      <td>semeval2016</td>\n",
       "      <td>0,7832</td>\n",
       "      <td>0,9387</td>\n",
       "      <td>0,8405</td>\n",
       "      <td>0,9130</td>\n",
       "      <td>0,8108</td>\n",
       "      <td>0,9257</td>\n",
       "    </tr>\n",
       "    <tr>\n",
       "      <th>5</th>\n",
       "      <td>semeval2016</td>\n",
       "      <td>0,7841</td>\n",
       "      <td>0,9352</td>\n",
       "      <td>0,8305</td>\n",
       "      <td>0,9145</td>\n",
       "      <td>0,8066</td>\n",
       "      <td>0,9248</td>\n",
       "    </tr>\n",
       "    <tr>\n",
       "      <th>6</th>\n",
       "      <td>semeval2016_paraphrased_1to4</td>\n",
       "      <td>0,7918</td>\n",
       "      <td>0,9214</td>\n",
       "      <td>0,7894</td>\n",
       "      <td>0,9224</td>\n",
       "      <td>0,7906</td>\n",
       "      <td>0,9219</td>\n",
       "    </tr>\n",
       "  </tbody>\n",
       "</table>\n",
       "</div>"
      ],
      "text/plain": [
       "                     FE Dataset Prec. N Prec. P  Rec. N  Rec. P    F1 N  \\\n",
       "0                   semeval2016  0,8422  0,9152  0,7653  0,9464  0,8019   \n",
       "1                   semeval2016  0,7980  0,9308  0,8164  0,9228  0,8071   \n",
       "2                   semeval2016  0,8078  0,9287  0,8094  0,9280  0,8086   \n",
       "3       semeval2016_paraphrased  0,8541  0,9467  0,8576  0,9453  0,8559   \n",
       "4                   semeval2016  0,7832  0,9387  0,8405  0,9130  0,8108   \n",
       "5                   semeval2016  0,7841  0,9352  0,8305  0,9145  0,8066   \n",
       "6  semeval2016_paraphrased_1to4  0,7918  0,9214  0,7894  0,9224  0,7906   \n",
       "\n",
       "     F1 P  \n",
       "0  0,9305  \n",
       "1  0,9268  \n",
       "2  0,9284  \n",
       "3  0,9460  \n",
       "4  0,9257  \n",
       "5  0,9248  \n",
       "6  0,9219  "
      ]
     },
     "execution_count": 57,
     "metadata": {},
     "output_type": "execute_result"
    }
   ],
   "source": [
    "df[\"Prec. N\"]=prn; df[\"Prec. P\"]=prp\n",
    "df[\"Rec. N\"]=ren; df[\"Rec. P\"]=rep\n",
    "df[\"F1 N\"]=f1n; df[\"F1 P\"]=f1p\n",
    "\n",
    "results_csv = df[[\"FE Dataset\", \"Prec. N\", \"Prec. P\", \"Rec. N\", \"Rec. P\", \"F1 N\", \"F1 P\"]]\n",
    "results_csv"
   ]
  },
  {
   "cell_type": "code",
   "execution_count": 58,
   "id": "c19cba49",
   "metadata": {},
   "outputs": [],
   "source": [
    "results_csv.to_csv(\"plots/results_semeval2016_clean.csv\", index=False)"
   ]
  }
 ],
 "metadata": {
  "kernelspec": {
   "display_name": "Python 3 (ipykernel)",
   "language": "python",
   "name": "python3"
  },
  "language_info": {
   "codemirror_mode": {
    "name": "ipython",
    "version": 3
   },
   "file_extension": ".py",
   "mimetype": "text/x-python",
   "name": "python",
   "nbconvert_exporter": "python",
   "pygments_lexer": "ipython3",
   "version": "3.8.19"
  }
 },
 "nbformat": 4,
 "nbformat_minor": 5
}
