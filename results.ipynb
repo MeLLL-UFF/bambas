{
 "cells": [
  {
   "cell_type": "code",
   "execution_count": 2,
   "id": "7e2cc96c-dc0f-477e-a2ec-e698997b1864",
   "metadata": {},
   "outputs": [
    {
     "data": {
      "text/plain": [
       "Index(['Unnamed: 0', 'FE Model', 'FE Method', 'FE Layers',\n",
       "       'FE Layers Agg Method', 'FE Dataset', 'Test Dataset', 'Classifier',\n",
       "       'F1', 'Precision', 'Recall', 'Confusion Matrix', 'Timestamp'],\n",
       "      dtype='object')"
      ]
     },
     "execution_count": 2,
     "metadata": {},
     "output_type": "execute_result"
    }
   ],
   "source": [
    "import pandas as pd\n",
    "\n",
    "df = pd.read_csv(\"classification/results.csv\")\n",
    "df.columns"
   ]
  },
  {
   "cell_type": "code",
   "execution_count": 3,
   "id": "369d5cda",
   "metadata": {},
   "outputs": [
    {
     "data": {
      "text/plain": [
       "['0,5422', '0,8969']"
      ]
     },
     "execution_count": 3,
     "metadata": {},
     "output_type": "execute_result"
    }
   ],
   "source": [
    "string_arr = df[\"Precision\"][3]\n",
    "\n",
    "def string_to_arr(arr):\n",
    "    arr = [char for char in arr if char in \" 0.123456789\"]\n",
    "    string_arr = \"\"\n",
    "    for char in arr: string_arr += char\n",
    "    arr = string_arr.split(\" \")\n",
    "    arr = [elem for elem in arr if elem!=\"\"]\n",
    "    arr = [\"{:.4f}\".format(float(e)).replace(\".\",\",\") for e in arr]\n",
    "    return arr\n",
    "\n",
    "\n",
    "string_to_arr(string_arr)\n"
   ]
  },
  {
   "cell_type": "code",
   "execution_count": 4,
   "id": "3bb796b9",
   "metadata": {},
   "outputs": [
    {
     "name": "stdout",
     "output_type": "stream",
     "text": [
      "('0,5645', '0,8790', '0,3977', '0,9345', '0,4667', '0,9059')\n",
      "('0,5679', '0,8998', '0,5227', '0,9150', '0,5444', '0,9073')\n",
      "('0,5465', '0,9010', '0,5341', '0,9053', '0,5402', '0,9031')\n",
      "('0,5422', '0,8969', '0,5114', '0,9078', '0,5263', '0,9023')\n",
      "('0,5238', '0,8942', '0,5000', '0,9029', '0,5116', '0,8986')\n",
      "('0,5325', '0,8889', '0,4659', '0,9126', '0,4970', '0,9006')\n",
      "('0,5000', '0,8876', '0,4659', '0,9005', '0,4824', '0,8940')\n",
      "('0,5060', '0,8897', '0,4773', '0,9005', '0,4912', '0,8951')\n"
     ]
    }
   ],
   "source": [
    "prec = [string_to_arr(elem) for elem in df[\"Precision\"]]\n",
    "prn, prp = [], []\n",
    "for n, p in prec: prn.append(n);prp.append(p)\n",
    "\n",
    "rec = [string_to_arr(elem) for elem in df[\"Recall\"]]\n",
    "ren, rep = [], []\n",
    "for n, p in rec: ren.append(n);rep.append(p)\n",
    "\n",
    "f1 = [string_to_arr(elem) for elem in df[\"F1\"]]\n",
    "f1n, f1p = [], []\n",
    "for n, p in f1: f1n.append(n);f1p.append(p)\n",
    "\n",
    "for elem in zip(prn, prp, ren, rep, f1n, f1p):print(elem)"
   ]
  },
  {
   "cell_type": "code",
   "execution_count": 5,
   "id": "83f2297e",
   "metadata": {},
   "outputs": [
    {
     "data": {
      "text/html": [
       "<div>\n",
       "<style scoped>\n",
       "    .dataframe tbody tr th:only-of-type {\n",
       "        vertical-align: middle;\n",
       "    }\n",
       "\n",
       "    .dataframe tbody tr th {\n",
       "        vertical-align: top;\n",
       "    }\n",
       "\n",
       "    .dataframe thead th {\n",
       "        text-align: right;\n",
       "    }\n",
       "</style>\n",
       "<table border=\"1\" class=\"dataframe\">\n",
       "  <thead>\n",
       "    <tr style=\"text-align: right;\">\n",
       "      <th></th>\n",
       "      <th>FE Dataset</th>\n",
       "      <th>Prec. N</th>\n",
       "      <th>Prec. P</th>\n",
       "      <th>Rec. N</th>\n",
       "      <th>Rec. P</th>\n",
       "      <th>F1 N</th>\n",
       "      <th>F1 P</th>\n",
       "    </tr>\n",
       "  </thead>\n",
       "  <tbody>\n",
       "    <tr>\n",
       "      <th>0</th>\n",
       "      <td>semeval2024</td>\n",
       "      <td>0,5645</td>\n",
       "      <td>0,8790</td>\n",
       "      <td>0,3977</td>\n",
       "      <td>0,9345</td>\n",
       "      <td>0,4667</td>\n",
       "      <td>0,9059</td>\n",
       "    </tr>\n",
       "    <tr>\n",
       "      <th>1</th>\n",
       "      <td>semeval2024_paraphrased_select_low</td>\n",
       "      <td>0,5679</td>\n",
       "      <td>0,8998</td>\n",
       "      <td>0,5227</td>\n",
       "      <td>0,9150</td>\n",
       "      <td>0,5444</td>\n",
       "      <td>0,9073</td>\n",
       "    </tr>\n",
       "    <tr>\n",
       "      <th>2</th>\n",
       "      <td>semeval2024_paraphrased_select_mid</td>\n",
       "      <td>0,5465</td>\n",
       "      <td>0,9010</td>\n",
       "      <td>0,5341</td>\n",
       "      <td>0,9053</td>\n",
       "      <td>0,5402</td>\n",
       "      <td>0,9031</td>\n",
       "    </tr>\n",
       "    <tr>\n",
       "      <th>3</th>\n",
       "      <td>semeval2024_paraphrased_select_high</td>\n",
       "      <td>0,5422</td>\n",
       "      <td>0,8969</td>\n",
       "      <td>0,5114</td>\n",
       "      <td>0,9078</td>\n",
       "      <td>0,5263</td>\n",
       "      <td>0,9023</td>\n",
       "    </tr>\n",
       "    <tr>\n",
       "      <th>4</th>\n",
       "      <td>paraphrase4</td>\n",
       "      <td>0,5238</td>\n",
       "      <td>0,8942</td>\n",
       "      <td>0,5000</td>\n",
       "      <td>0,9029</td>\n",
       "      <td>0,5116</td>\n",
       "      <td>0,8986</td>\n",
       "    </tr>\n",
       "    <tr>\n",
       "      <th>5</th>\n",
       "      <td>semeval2024_paraphrased_select_low</td>\n",
       "      <td>0,5325</td>\n",
       "      <td>0,8889</td>\n",
       "      <td>0,4659</td>\n",
       "      <td>0,9126</td>\n",
       "      <td>0,4970</td>\n",
       "      <td>0,9006</td>\n",
       "    </tr>\n",
       "    <tr>\n",
       "      <th>6</th>\n",
       "      <td>semeval2024_paraphrased_select_mid</td>\n",
       "      <td>0,5000</td>\n",
       "      <td>0,8876</td>\n",
       "      <td>0,4659</td>\n",
       "      <td>0,9005</td>\n",
       "      <td>0,4824</td>\n",
       "      <td>0,8940</td>\n",
       "    </tr>\n",
       "    <tr>\n",
       "      <th>7</th>\n",
       "      <td>semeval2024_paraphrased_select_high</td>\n",
       "      <td>0,5060</td>\n",
       "      <td>0,8897</td>\n",
       "      <td>0,4773</td>\n",
       "      <td>0,9005</td>\n",
       "      <td>0,4912</td>\n",
       "      <td>0,8951</td>\n",
       "    </tr>\n",
       "  </tbody>\n",
       "</table>\n",
       "</div>"
      ],
      "text/plain": [
       "                            FE Dataset Prec. N Prec. P  Rec. N  Rec. P  \\\n",
       "0                          semeval2024  0,5645  0,8790  0,3977  0,9345   \n",
       "1   semeval2024_paraphrased_select_low  0,5679  0,8998  0,5227  0,9150   \n",
       "2   semeval2024_paraphrased_select_mid  0,5465  0,9010  0,5341  0,9053   \n",
       "3  semeval2024_paraphrased_select_high  0,5422  0,8969  0,5114  0,9078   \n",
       "4                          paraphrase4  0,5238  0,8942  0,5000  0,9029   \n",
       "5   semeval2024_paraphrased_select_low  0,5325  0,8889  0,4659  0,9126   \n",
       "6   semeval2024_paraphrased_select_mid  0,5000  0,8876  0,4659  0,9005   \n",
       "7  semeval2024_paraphrased_select_high  0,5060  0,8897  0,4773  0,9005   \n",
       "\n",
       "     F1 N    F1 P  \n",
       "0  0,4667  0,9059  \n",
       "1  0,5444  0,9073  \n",
       "2  0,5402  0,9031  \n",
       "3  0,5263  0,9023  \n",
       "4  0,5116  0,8986  \n",
       "5  0,4970  0,9006  \n",
       "6  0,4824  0,8940  \n",
       "7  0,4912  0,8951  "
      ]
     },
     "execution_count": 5,
     "metadata": {},
     "output_type": "execute_result"
    }
   ],
   "source": [
    "df[\"Prec. N\"]=prn; df[\"Prec. P\"]=prp\n",
    "df[\"Rec. N\"]=ren; df[\"Rec. P\"]=rep\n",
    "df[\"F1 N\"]=f1n; df[\"F1 P\"]=f1p\n",
    "\n",
    "results_csv = df[[\"FE Dataset\", \"Prec. N\", \"Prec. P\", \"Rec. N\", \"Rec. P\", \"F1 N\", \"F1 P\"]]\n",
    "results_csv"
   ]
  },
  {
   "cell_type": "code",
   "execution_count": 6,
   "id": "c19cba49",
   "metadata": {},
   "outputs": [],
   "source": [
    "results_csv.to_csv(\"plots/results_select12_clean.csv\", index=False)"
   ]
  }
 ],
 "metadata": {
  "kernelspec": {
   "display_name": "bambas",
   "language": "python",
   "name": "python3"
  },
  "language_info": {
   "codemirror_mode": {
    "name": "ipython",
    "version": 3
   },
   "file_extension": ".py",
   "mimetype": "text/x-python",
   "name": "python",
   "nbconvert_exporter": "python",
   "pygments_lexer": "ipython3",
   "version": "3.12.7"
  }
 },
 "nbformat": 4,
 "nbformat_minor": 5
}
